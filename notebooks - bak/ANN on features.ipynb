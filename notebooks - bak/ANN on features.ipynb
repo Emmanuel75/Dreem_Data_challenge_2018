{
 "cells": [
  {
   "cell_type": "code",
   "execution_count": 23,
   "metadata": {},
   "outputs": [],
   "source": [
    "import h5py\n",
    "import pandas as pd\n",
    "import numpy as np\n",
    "#from plotnine import *\n",
    "from sklearn.decomposition import PCA\n",
    "from sklearn.cluster import KMeans\n",
    "from sklearn.metrics import accuracy_score\n",
    "from sklearn.linear_model import LogisticRegression\n",
    "from sklearn.metrics import confusion_matrix\n",
    "from sklearn.metrics import precision_score, recall_score\n",
    "from sklearn.metrics import cohen_kappa_score\n",
    "from sklearn import preprocessing\n",
    "from sklearn.preprocessing import StandardScaler\n",
    "from sklearn.preprocessing import PolynomialFeatures\n",
    "from sklearn.model_selection import train_test_split\n",
    "from sklearn.svm import LinearSVC\n",
    "from sklearn.svm import SVC\n",
    "from sklearn.tree import DecisionTreeClassifier\n",
    "from sklearn.tree import export_graphviz\n",
    "from sklearn.ensemble import BaggingClassifier\n",
    "from sklearn.tree import DecisionTreeClassifier\n",
    "from sklearn.ensemble import RandomForestClassifier\n",
    "from sklearn.model_selection import GridSearchCV\n",
    "from sklearn.metrics import make_scorer\n",
    "from sklearn.ensemble import GradientBoostingClassifier\n",
    "    \n",
    "import statsmodels.api as sm\n",
    "\n",
    "from scipy.stats import mode\n",
    "\n",
    "import random\n",
    " \n",
    "import matplotlib.pyplot as plt\n",
    "plt.style.use('classic')\n",
    "%matplotlib inline\n",
    "import seaborn as sns\n",
    "sns.set()\n",
    "\n",
    "import tensorflow as tf\n",
    "\n",
    "import keras\n",
    "from keras.models import Sequential\n",
    "from keras.layers import Dense, Dropout, Activation\n",
    "from keras.optimizers import SGD\n",
    "from keras.utils import to_categorical\n",
    "\n",
    "\n",
    "#best milti\n",
    "#kappa for n_estimators  = 1400: 0.6623353257350921\n",
    "#accurancy for n_estimators  = 1400: 0.7608943645904631\n",
    " \n",
    "#best binary \n",
    "#kappa for n_estimators  = 500: 0.6527900873930736\n",
    "#accurancy for n_estimators  = 500: 0.9405658224960073"
   ]
  },
  {
   "cell_type": "code",
   "execution_count": 24,
   "metadata": {},
   "outputs": [],
   "source": [
    "# %load \"C:\\\\Users\\\\i053131\\Desktop\\\\Epilepsie\\\\Dreem\\\\src\\\\utils\\\\error.py\"\n",
    "\n",
    "def AnalyzeError(y_true, y_pred):\n",
    "    fig, ax = plt.subplots(figsize=(20,10))\n",
    "    plt.subplot(1,2, 1)\n",
    "    sns.countplot(x=0, data=pd.DataFrame(y_true))\n",
    "    plt.ylim(0, 4000)\n",
    "    plt.subplot(1,2, 2)\n",
    "    sns.countplot(x=0, data=pd.DataFrame(y_pred))\n",
    "    plt.ylim(0, 4000)\n",
    "    fig.suptitle(\"Actual and predicted distribution\", size =  'x-large')\n",
    "    plt.show()\n",
    "    \n",
    "    df_ = pd.DataFrame()\n",
    "    df_[\"Test\"]= y_true\n",
    "    df_[\"Pred\"] = y_pred\n",
    "    df_['error'] = df_.Test != df_.Pred\n",
    "    #sns.countplot(x=\"Test\", data=df_[df_.error])\n",
    "    \n",
    "    error0 = df_[(df_.error) & (df_.Test==0)].count()[0] / df_[df_.Test==0].count()[0]\n",
    "    error1 = df_[(df_.error) & (df_.Test==1)].count()[0] / df_[df_.Test==1].count()[0]\n",
    "    error2 = df_[(df_.error) & (df_.Test==2)].count()[0] / df_[df_.Test==2].count()[0]\n",
    "    error3 = df_[(df_.error) & (df_.Test==3)].count()[0] / df_[df_.Test==3].count()[0]\n",
    "    error4 = df_[(df_.error) & (df_.Test==4)].count()[0] / df_[df_.Test==4].count()[0]\n",
    "\n",
    "    Lerror = [error0, error1, error2, error3, error4]\n",
    "    sns.barplot(x=[0, 1, 2, 3, 4], y=Lerror)\n",
    "    plt.title('Wrongly classified in a phase in percent of the test population for this phase')\n",
    "    plt.show()"
   ]
  },
  {
   "cell_type": "code",
   "execution_count": 25,
   "metadata": {},
   "outputs": [],
   "source": [
    "df = pd.read_excel('C:\\\\Users\\\\i053131\\\\Desktop\\\\Epilepsie\\\\Dreem\\\\data\\\\interim\\\\featuresTrain.xlsx')\n"
   ]
  },
  {
   "cell_type": "code",
   "execution_count": 36,
   "metadata": {},
   "outputs": [],
   "source": [
    "df.columns = ['mean_eeg_1', 'std_eeg_1', 'min_eeg_1', 'max_eeg_1', '25_eeg_1',\n",
    "       '50_eeg_1', '75_eeg_1', 'mean_eeg_2', 'std_eeg_2', 'min_eeg_2',\n",
    "       'max_eeg_2', '25_eeg_2', '50_eeg_2', '75_eeg_2', 'mean_eeg_3',\n",
    "       'std_eeg_3', 'min_eeg_3', 'max_eeg_3', '25_eeg_3', '50_eeg_3',\n",
    "       '75_eeg_3', 'mean_eeg_4', 'std_eeg_4', 'min_eeg_4', 'max_eeg_4',\n",
    "       '25_eeg_4', '50_eeg_4', '75_eeg_4', 'mean_po_ir', 'std_po_ir',\n",
    "       'min_po_ir', 'max_po_ir', '25_po_ir', '50_po_ir', '75_po_ir',\n",
    "       'mean_po_r', 'std_po_r', 'min_po_r', 'max_po_r', '25_po_r', '50_po_r',\n",
    "       '75_po_r', 'mean_accelerometer_x', 'std_accelerometer_x',\n",
    "       'min_accelerometer_x', 'max_accelerometer_x', '25_accelerometer_x',\n",
    "       '50_accelerometer_x', '75_accelerometer_x', 'mean_accelerometer_y',\n",
    "       'std_accelerometer_y', 'min_accelerometer_y', 'max_accelerometer_y',\n",
    "       '25_accelerometer_y', '50_accelerometer_y', '75_accelerometer_y',\n",
    "       'mean_accelerometer_z', 'std_accelerometer_z', 'min_accelerometer_z',\n",
    "       'max_accelerometer_z', '25_accelerometer_z', '50_accelerometer_z',\n",
    "       '75_accelerometer_z', 'Y']\n"
   ]
  },
  {
   "cell_type": "code",
   "execution_count": 26,
   "metadata": {},
   "outputs": [],
   "source": [
    "training, test  = train_test_split(df, test_size=0.2, random_state=42)\n",
    "X = training.iloc[:,:-1]\n",
    "X_train = X.values\n",
    "y = training.iloc[:,-1]\n",
    "y_train = to_categorical(y.values, num_classes=5)\n",
    "X_test = test.iloc[:,:-1].values\n",
    "y_true = test.iloc[:,-1].values\n",
    "y_test = to_categorical(y_true, num_classes=5)"
   ]
  },
  {
   "cell_type": "code",
   "execution_count": 27,
   "metadata": {},
   "outputs": [
    {
     "data": {
      "text/plain": [
       "<matplotlib.axes._subplots.AxesSubplot at 0x1cd5cdc7780>"
      ]
     },
     "execution_count": 27,
     "metadata": {},
     "output_type": "execute_result"
    },
    {
     "data": {
      "image/png": "[encoded data removed]",
      "text/plain": [
       "<Figure size 432x288 with 1 Axes>"
      ]
     },
     "metadata": {},
     "output_type": "display_data"
    }
   ],
   "source": [
    "sns.countplot(x=\"Y\", data=test)"
   ]
  },
  {
   "cell_type": "code",
   "execution_count": 28,
   "metadata": {
    "scrolled": true
   },
   "outputs": [
    {
     "data": {
      "text/plain": [
       "<matplotlib.axes._subplots.AxesSubplot at 0x1cd5fd88898>"
      ]
     },
     "execution_count": 28,
     "metadata": {},
     "output_type": "execute_result"
    },
    {
     "data": {
      "image/png": "[encoded data removed]",
      "text/plain": [
       "<Figure size 432x288 with 1 Axes>"
      ]
     },
     "metadata": {},
     "output_type": "display_data"
    }
   ],
   "source": [
    "sns.countplot(x=\"Y\", data=training)"
   ]
  },
  {
   "cell_type": "code",
   "execution_count": 29,
   "metadata": {},
   "outputs": [
    {
     "name": "stdout",
     "output_type": "stream",
     "text": [
      "Epoch 1/50\n",
      "35064/35064 [==============================] - 1s 15us/step - loss: 12.4212 - acc: 0.2066\n",
      "Epoch 2/50\n",
      "35064/35064 [==============================] - 0s 6us/step - loss: 11.3895 - acc: 0.2724\n",
      "Epoch 3/50\n",
      "35064/35064 [==============================] - 0s 6us/step - loss: 10.2740 - acc: 0.3463\n",
      "Epoch 4/50\n",
      "35064/35064 [==============================] - 0s 6us/step - loss: 10.0849 - acc: 0.3648\n",
      "Epoch 5/50\n",
      "35064/35064 [==============================] - 0s 6us/step - loss: 10.1315 - acc: 0.3649\n",
      "Epoch 6/50\n",
      "35064/35064 [==============================] - 0s 6us/step - loss: 10.1208 - acc: 0.3653\n",
      "Epoch 7/50\n",
      "35064/35064 [==============================] - 0s 6us/step - loss: 10.0946 - acc: 0.3639\n",
      "Epoch 8/50\n",
      "35064/35064 [==============================] - 0s 6us/step - loss: 9.9604 - acc: 0.3656\n",
      "Epoch 9/50\n",
      "35064/35064 [==============================] - 0s 6us/step - loss: 9.8990 - acc: 0.3626\n",
      "Epoch 10/50\n",
      "35064/35064 [==============================] - 0s 6us/step - loss: 9.6335 - acc: 0.3666\n",
      "Epoch 11/50\n",
      "35064/35064 [==============================] - 0s 6us/step - loss: 8.7365 - acc: 0.3710\n",
      "Epoch 12/50\n",
      "35064/35064 [==============================] - 0s 6us/step - loss: 5.8935 - acc: 0.3677\n",
      "Epoch 13/50\n",
      "35064/35064 [==============================] - 0s 6us/step - loss: 6.7366 - acc: 0.3323\n",
      "Epoch 14/50\n",
      "35064/35064 [==============================] - 0s 6us/step - loss: 5.1185 - acc: 0.3214\n",
      "Epoch 15/50\n",
      "35064/35064 [==============================] - 0s 6us/step - loss: 3.7128 - acc: 0.3239\n",
      "Epoch 16/50\n",
      "35064/35064 [==============================] - 0s 6us/step - loss: 3.0577 - acc: 0.3307\n",
      "Epoch 17/50\n",
      "35064/35064 [==============================] - 0s 6us/step - loss: 2.7844 - acc: 0.3382\n",
      "Epoch 18/50\n",
      "35064/35064 [==============================] - 0s 6us/step - loss: 2.5674 - acc: 0.3441\n",
      "Epoch 19/50\n",
      "35064/35064 [==============================] - 0s 6us/step - loss: 2.4726 - acc: 0.3520\n",
      "Epoch 20/50\n",
      "35064/35064 [==============================] - 0s 6us/step - loss: 2.3334 - acc: 0.3570\n",
      "Epoch 21/50\n",
      "35064/35064 [==============================] - 0s 6us/step - loss: 2.2426 - acc: 0.3573\n",
      "Epoch 22/50\n",
      "35064/35064 [==============================] - 0s 6us/step - loss: 2.1709 - acc: 0.3553\n",
      "Epoch 23/50\n",
      "35064/35064 [==============================] - 0s 6us/step - loss: 2.0796 - acc: 0.3590\n",
      "Epoch 24/50\n",
      "35064/35064 [==============================] - 0s 6us/step - loss: 2.0297 - acc: 0.3566\n",
      "Epoch 25/50\n",
      "35064/35064 [==============================] - 0s 6us/step - loss: 2.0368 - acc: 0.3579\n",
      "Epoch 26/50\n",
      "35064/35064 [==============================] - 0s 6us/step - loss: 1.9813 - acc: 0.3540\n",
      "Epoch 27/50\n",
      "35064/35064 [==============================] - 0s 6us/step - loss: 1.9518 - acc: 0.3542\n",
      "Epoch 28/50\n",
      "35064/35064 [==============================] - 0s 6us/step - loss: 1.9275 - acc: 0.3548\n",
      "Epoch 29/50\n",
      "35064/35064 [==============================] - 0s 6us/step - loss: 1.8827 - acc: 0.3520\n",
      "Epoch 30/50\n",
      "35064/35064 [==============================] - 0s 6us/step - loss: 1.8817 - acc: 0.3528\n",
      "Epoch 31/50\n",
      "35064/35064 [==============================] - 0s 6us/step - loss: 1.8690 - acc: 0.3523\n",
      "Epoch 32/50\n",
      "35064/35064 [==============================] - 0s 6us/step - loss: 1.8257 - acc: 0.3555\n",
      "Epoch 33/50\n",
      "35064/35064 [==============================] - 0s 7us/step - loss: 1.8118 - acc: 0.3546\n",
      "Epoch 34/50\n",
      "35064/35064 [==============================] - 0s 6us/step - loss: 1.7940 - acc: 0.3516\n",
      "Epoch 35/50\n",
      "35064/35064 [==============================] - 0s 6us/step - loss: 1.7786 - acc: 0.3557\n",
      "Epoch 36/50\n",
      "35064/35064 [==============================] - 0s 6us/step - loss: 1.7589 - acc: 0.3549\n",
      "Epoch 37/50\n",
      "35064/35064 [==============================] - 0s 6us/step - loss: 1.7609 - acc: 0.3572\n",
      "Epoch 38/50\n",
      "35064/35064 [==============================] - 0s 6us/step - loss: 1.7467 - acc: 0.3537\n",
      "Epoch 39/50\n",
      "35064/35064 [==============================] - 0s 6us/step - loss: 1.7517 - acc: 0.3553\n",
      "Epoch 40/50\n",
      "35064/35064 [==============================] - 0s 6us/step - loss: 1.7302 - acc: 0.3542\n",
      "Epoch 41/50\n",
      "35064/35064 [==============================] - 0s 6us/step - loss: 1.7290 - acc: 0.3583\n",
      "Epoch 42/50\n",
      "35064/35064 [==============================] - 0s 6us/step - loss: 1.7380 - acc: 0.3562\n",
      "Epoch 43/50\n",
      "35064/35064 [==============================] - 0s 6us/step - loss: 1.7303 - acc: 0.3580\n",
      "Epoch 44/50\n",
      "35064/35064 [==============================] - 0s 6us/step - loss: 1.6980 - acc: 0.3565\n",
      "Epoch 45/50\n",
      "35064/35064 [==============================] - 0s 6us/step - loss: 1.6833 - acc: 0.3541\n",
      "Epoch 46/50\n",
      "35064/35064 [==============================] - 0s 6us/step - loss: 1.6769 - acc: 0.3558\n",
      "Epoch 47/50\n",
      "35064/35064 [==============================] - 0s 6us/step - loss: 1.6823 - acc: 0.3535\n",
      "Epoch 48/50\n",
      "35064/35064 [==============================] - 0s 6us/step - loss: 1.6742 - acc: 0.3585\n",
      "Epoch 49/50\n",
      "35064/35064 [==============================] - 0s 6us/step - loss: 1.6423 - acc: 0.3621\n",
      "Epoch 50/50\n",
      "35064/35064 [==============================] - 0s 6us/step - loss: 1.6516 - acc: 0.3550\n"
     ]
    },
    {
     "data": {
      "text/plain": [
       "<keras.callbacks.History at 0x1cd5f9f8d30>"
      ]
     },
     "execution_count": 29,
     "metadata": {},
     "output_type": "execute_result"
    }
   ],
   "source": [
    "model = Sequential()\n",
    "# Dense(64) is a fully-connected layer with 64 hidden units.\n",
    "# in the first layer, you must specify the expected input data shape:\n",
    "# here, 20-dimensional vectors.\n",
    "model.add(Dense(64, activation='relu', input_dim=63))\n",
    "model.add(Dropout(0.5))\n",
    "model.add(Dense(64, activation='relu'))\n",
    "model.add(Dropout(0.5))\n",
    "model.add(Dense(64, activation='relu'))\n",
    "model.add(Dropout(0.5))\n",
    "model.add(Dense(64, activation='relu'))\n",
    "model.add(Dropout(0.5))\n",
    "model.add(Dense(5, activation='softmax'))\n",
    "\n",
    "sgd = SGD(lr=0.01, decay=1e-6, momentum=0.9, nesterov=True)\n",
    "model.compile(loss='categorical_crossentropy',\n",
    "              optimizer=sgd,\n",
    "              metrics=['accuracy'])\n",
    "\n",
    "model.fit(X_train, y_train, epochs=50, batch_size=10000)"
   ]
  },
  {
   "cell_type": "code",
   "execution_count": 12,
   "metadata": {},
   "outputs": [
    {
     "name": "stdout",
     "output_type": "stream",
     "text": [
      "8766/8766 [==============================] - 0s 9us/step\n"
     ]
    }
   ],
   "source": [
    "score = model.evaluate(X_test, y_test, batch_size=128)\n",
    "y_pred = pd.DataFrame(model.predict_classes(X_test, batch_size=128))"
   ]
  },
  {
   "cell_type": "code",
   "execution_count": 14,
   "metadata": {},
   "outputs": [
    {
     "name": "stdout",
     "output_type": "stream",
     "text": [
      "accurancy:  0.3742870180445829\n",
      "kappa:  0.0\n"
     ]
    }
   ],
   "source": [
    "print(\"accurancy: \", score[1])\n",
    "print(\"kappa: \", cohen_kappa_score(y_true, y_pred))"
   ]
  },
  {
   "cell_type": "code",
   "execution_count": 17,
   "metadata": {},
   "outputs": [
    {
     "data": {
      "image/png": "[encoded data removed]",
      "text/plain": [
       "<Figure size 1440x720 with 2 Axes>"
      ]
     },
     "metadata": {},
     "output_type": "display_data"
    },
    {
     "data": {
      "image/png": "[encoded data removed]",
      "text/plain": [
       "<Figure size 432x288 with 1 Axes>"
      ]
     },
     "metadata": {},
     "output_type": "display_data"
    }
   ],
   "source": [
    "AnalyzeError(y_true, y_pred)"
   ]
  },
  {
   "cell_type": "code",
   "execution_count": null,
   "metadata": {},
   "outputs": [],
   "source": []
  },
  {
   "cell_type": "code",
   "execution_count": 22,
   "metadata": {},
   "outputs": [
    {
     "name": "stdout",
     "output_type": "stream",
     "text": [
      "WARNING:tensorflow:float64 is not supported by many models, consider casting to float32.\n",
      "INFO:tensorflow:Graph was finalized.\n",
      "INFO:tensorflow:Restoring parameters from C:\\Users\\i053131\\AppData\\Local\\Temp\\tmp2nn2f0aj\\model.ckpt-40000\n",
      "INFO:tensorflow:Running local_init_op.\n",
      "INFO:tensorflow:Done running local_init_op.\n",
      "kappa: 0.0007775586281241198\n",
      "accurancy for depth 0.37474332648870634\n"
     ]
    }
   ],
   "source": [
    "y_pred = list(dnn_clf.predict(X_test))\n",
    "kappa = cohen_kappa_score(y_true, y_pred)\n",
    "\n",
    "print(\"kappa:\",  kappa)\n",
    "print(\"accurancy f\" , accuracy_score(y_true, y_pred))\n",
    "                          "
   ]
  },
  {
   "cell_type": "code",
   "execution_count": null,
   "metadata": {},
   "outputs": [],
   "source": [
    "AnalyzeError(y_true, y_pred)"
   ]
  },
  {
   "cell_type": "code",
   "execution_count": 12,
   "metadata": {},
   "outputs": [
    {
     "name": "stdout",
     "output_type": "stream",
     "text": [
      "WARNING:tensorflow:float64 is not supported by many models, consider casting to float32.\n",
      "INFO:tensorflow:Graph was finalized.\n",
      "INFO:tensorflow:Restoring parameters from C:\\Users\\i053131\\AppData\\Local\\Temp\\tmp46r6897j\\model.ckpt-40000\n",
      "INFO:tensorflow:Running local_init_op.\n",
      "INFO:tensorflow:Done running local_init_op.\n"
     ]
    },
    {
     "data": {
      "text/plain": [
       "<generator object DNNClassifier.predict_classes.<locals>.<genexpr> at 0x000002D458BBDDB0>"
      ]
     },
     "execution_count": 12,
     "metadata": {},
     "output_type": "execute_result"
    }
   ],
   "source": [
    "dnn_clf.predict(X_test)"
   ]
  },
  {
   "cell_type": "code",
   "execution_count": 12,
   "metadata": {},
   "outputs": [
    {
     "name": "stdout",
     "output_type": "stream",
     "text": [
      "kappa for depth  = 1: 0.5679421553050088\n",
      "accurancy for depth  = 1: 0.6966689482089893\n",
      "kappa for depth  = 2: 0.6129166683518279\n",
      "accurancy for depth  = 2: 0.7259867670545289\n",
      "kappa for depth  = 3: 0.6243403545159225\n",
      "accurancy for depth  = 3: 0.7331736253707506\n",
      "kappa for depth  = 4: 0.6080804692650161\n",
      "accurancy for depth  = 4: 0.7211955281770477\n",
      "kappa for depth  = 5: 0.6129814685803089\n",
      "accurancy for depth  = 5: 0.7242756103125713\n",
      "kappa for depth  = 6: 0.613103270666634\n",
      "accurancy for depth  = 6: 0.7241615331964408\n",
      "kappa for depth  = 7: 0.6117866812040376\n",
      "accurancy for depth  = 7: 0.7230207620351358\n",
      "kappa for depth  = 8: 0.6012119765930318\n",
      "accurancy for depth  = 8: 0.715833903718914\n",
      "kappa for depth  = 9: 0.6003573111561398\n",
      "accurancy for depth  = 9: 0.7144649783253479\n",
      "kappa for depth  = 10: 0.6030903929404829\n",
      "accurancy for depth  = 10: 0.716974674880219\n",
      "kappa for depth  = 11: 0.6231892663020291\n",
      "accurancy for depth  = 11: 0.7319187770933151\n",
      "kappa for depth  = 12: 0.6049096170715111\n",
      "accurancy for depth  = 12: 0.7177732146931326\n",
      "kappa for depth  = 13: 0.5884841051492186\n",
      "accurancy for depth  = 13: 0.7063655030800822\n",
      "kappa for depth  = 14: 0.6095224314160419\n",
      "accurancy for depth  = 14: 0.7217659137577002\n"
     ]
    }
   ],
   "source": [
    "Lk = []\n",
    "La = []\n",
    "rx = list(range(1, 15))\n",
    "for i in rx:\n",
    "    gbc = GradientBoostingClassifier(n_estimators=100, learning_rate=1.0,max_depth=i, random_state=42, \n",
    "                                 min_samples_leaf=5, min_samples_split=64)\n",
    "    gbc.fit(X, y)\n",
    "    y_pred = gbc.predict(X_test)\n",
    "    kappa = cohen_kappa_score(y_true, y_pred)\n",
    "\n",
    "    print(\"kappa for depth  = \" + str(i) + \":\",  kappa)\n",
    "    print(\"accurancy for depth  = \" + str(i) + \":\" , accuracy_score(y_true, y_pred))\n",
    "    Lk.append(kappa)\n",
    "    La.append(accuracy_score(y_true, y_pred))\n",
    "\n"
   ]
  },
  {
   "cell_type": "code",
   "execution_count": 13,
   "metadata": {},
   "outputs": [
    {
     "data": {
      "text/plain": [
       "<matplotlib.legend.Legend at 0x2a991ba2630>"
      ]
     },
     "execution_count": 13,
     "metadata": {},
     "output_type": "execute_result"
    },
    {
     "data": {
      "image/png": "[encoded data removed]",
      "text/plain": [
       "<Figure size 432x288 with 1 Axes>"
      ]
     },
     "metadata": {},
     "output_type": "display_data"
    }
   ],
   "source": [
    "plt.plot(rx, Lk, label = \"kappa\")\n",
    "plt.plot(rx, La, label = \"accuracy\")\n",
    "plt.legend(loc='lower right')"
   ]
  },
  {
   "cell_type": "code",
   "execution_count": 14,
   "metadata": {},
   "outputs": [
    {
     "name": "stdout",
     "output_type": "stream",
     "text": [
      "kappa for n_estimators  = 100: 0.6059576581119929\n",
      "accurancy for n_estimators  = 100: 0.7240474560803103\n",
      "kappa for n_estimators  = 200: 0.6293289905600271\n",
      "accurancy for n_estimators  = 200: 0.7393337896417979\n",
      "kappa for n_estimators  = 300: 0.6405080477260987\n",
      "accurancy for n_estimators  = 300: 0.7468628793064112\n",
      "kappa for n_estimators  = 400: 0.6514042753272041\n",
      "accurancy for n_estimators  = 400: 0.7541638147387634\n",
      "kappa for n_estimators  = 500: 0.655065243491326\n",
      "accurancy for n_estimators  = 500: 0.7564453570613735\n",
      "kappa for n_estimators  = 600: 0.6608373293465769\n",
      "accurancy for n_estimators  = 600: 0.7603239790098106\n",
      "kappa for n_estimators  = 700: 0.6632069352509192\n",
      "accurancy for n_estimators  = 700: 0.7620351357517682\n",
      "kappa for n_estimators  = 800: 0.6692058178454168\n",
      "accurancy for n_estimators  = 800: 0.7661419119324664\n",
      "kappa for n_estimators  = 900: 0.6707375932577659\n",
      "accurancy for n_estimators  = 900: 0.7671686059776409\n",
      "kappa for n_estimators  = 1000: 0.6731835632269043\n",
      "accurancy for n_estimators  = 1000: 0.7688797627195985\n"
     ]
    }
   ],
   "source": [
    "Lk = []\n",
    "La = []\n",
    "rx = list(range(100, 1002, 100))\n",
    "for i in rx:\n",
    "    gbc = GradientBoostingClassifier(n_estimators=i, learning_rate=0.1, random_state=42)\n",
    "    gbc.fit(X, y)\n",
    "    y_pred = gbc.predict(X_test)\n",
    "    kappa = cohen_kappa_score(y_true, y_pred)\n",
    "\n",
    "    print(\"kappa for n_estimators  = \" + str(i) + \":\",  kappa)\n",
    "    print(\"accurancy for n_estimators  = \" + str(i) + \":\" , accuracy_score(y_true, y_pred))\n",
    "    Lk.append(kappa)\n",
    "    La.append(accuracy_score(y_true, y_pred))"
   ]
  },
  {
   "cell_type": "code",
   "execution_count": 15,
   "metadata": {},
   "outputs": [
    {
     "data": {
      "text/plain": [
       "<matplotlib.legend.Legend at 0x2a99a9e2dd8>"
      ]
     },
     "execution_count": 15,
     "metadata": {},
     "output_type": "execute_result"
    },
    {
     "data": {
      "image/png": "[encoded data removed]",
      "text/plain": [
       "<Figure size 432x288 with 1 Axes>"
      ]
     },
     "metadata": {},
     "output_type": "display_data"
    }
   ],
   "source": [
    "plt.plot(rx, Lk, label = \"kappa\")\n",
    "plt.plot(rx, La, label = \"accuracy\")\n",
    "plt.legend(loc='lower right')"
   ]
  },
  {
   "cell_type": "code",
   "execution_count": 16,
   "metadata": {},
   "outputs": [
    {
     "name": "stdout",
     "output_type": "stream",
     "text": [
      "kappa for n_estimators  = 100: 0.606123631094913\n",
      "accurancy for n_estimators  = 100: 0.7239333789641798\n",
      "kappa for n_estimators  = 200: 0.6298737228718084\n",
      "accurancy for n_estimators  = 200: 0.7397900981063199\n",
      "kappa for n_estimators  = 300: 0.6438546935383189\n",
      "accurancy for n_estimators  = 300: 0.7492584987451517\n",
      "kappa for n_estimators  = 400: 0.6469627037165925\n",
      "accurancy for n_estimators  = 400: 0.7509696554871093\n",
      "kappa for n_estimators  = 500: 0.650887140166355\n",
      "accurancy for n_estimators  = 500: 0.7534793520419804\n",
      "kappa for n_estimators  = 600: 0.6515502280291572\n",
      "accurancy for n_estimators  = 600: 0.7538215833903719\n",
      "kappa for n_estimators  = 700: 0.6558943168692958\n",
      "accurancy for n_estimators  = 700: 0.7566735112936345\n",
      "kappa for n_estimators  = 800: 0.6559115537126434\n",
      "accurancy for n_estimators  = 800: 0.7566735112936345\n",
      "kappa for n_estimators  = 900: 0.6590189814052587\n",
      "accurancy for n_estimators  = 900: 0.7587268993839835\n",
      "kappa for n_estimators  = 1000: 0.6603045270427855\n",
      "accurancy for n_estimators  = 1000: 0.7596395163130276\n",
      "kappa for n_estimators  = 1100: 0.6627394003118521\n",
      "accurancy for n_estimators  = 1100: 0.7612365959388546\n",
      "kappa for n_estimators  = 1200: 0.6643543293250387\n",
      "accurancy for n_estimators  = 1200: 0.7622632899840293\n",
      "kappa for n_estimators  = 1300: 0.6637770036503009\n",
      "accurancy for n_estimators  = 1300: 0.7619210586356376\n",
      "kappa for n_estimators  = 1400: 0.6623353257350921\n",
      "accurancy for n_estimators  = 1400: 0.7608943645904631\n",
      "kappa for n_estimators  = 1500: 0.6622136660433192\n",
      "accurancy for n_estimators  = 1500: 0.7608943645904631\n",
      "kappa for n_estimators  = 1600: 0.661805692310028\n",
      "accurancy for n_estimators  = 1600: 0.7605521332420716\n",
      "kappa for n_estimators  = 1700: 0.6630128188817626\n",
      "accurancy for n_estimators  = 1700: 0.7614647501711157\n",
      "kappa for n_estimators  = 1800: 0.663218732842408\n",
      "accurancy for n_estimators  = 1800: 0.7615788272872461\n",
      "kappa for n_estimators  = 1900: 0.6638412239674891\n",
      "accurancy for n_estimators  = 1900: 0.7619210586356376\n",
      "kappa for n_estimators  = 2000: 0.6627755336466139\n",
      "accurancy for n_estimators  = 2000: 0.7612365959388546\n"
     ]
    }
   ],
   "source": [
    "Lk = []\n",
    "La = []\n",
    "rx = list(range(100, 2002, 100))\n",
    "for i in rx:\n",
    "    gbc = GradientBoostingClassifier(n_estimators=i, learning_rate=0.1, subsample=0.5, random_state=42)\n",
    "    gbc.fit(X, y)\n",
    "    y_pred = gbc.predict(X_test)\n",
    "    kappa = cohen_kappa_score(y_true, y_pred)\n",
    "\n",
    "    print(\"kappa for n_estimators  = \" + str(i) + \":\",  kappa)\n",
    "    print(\"accurancy for n_estimators  = \" + str(i) + \":\" , accuracy_score(y_true, y_pred))\n",
    "    Lk.append(kappa)\n",
    "    La.append(accuracy_score(y_true, y_pred))"
   ]
  },
  {
   "cell_type": "code",
   "execution_count": 17,
   "metadata": {},
   "outputs": [
    {
     "data": {
      "text/plain": [
       "<matplotlib.legend.Legend at 0x2a991ccc940>"
      ]
     },
     "execution_count": 17,
     "metadata": {},
     "output_type": "execute_result"
    },
    {
     "data": {
      "image/png": "[encoded data removed]",
      "text/plain": [
       "<Figure size 432x288 with 1 Axes>"
      ]
     },
     "metadata": {},
     "output_type": "display_data"
    }
   ],
   "source": [
    "plt.plot(rx, Lk, label = \"kappa\")\n",
    "plt.plot(rx, La, label = \"accuracy\")\n",
    "plt.legend(loc='lower right')"
   ]
  },
  {
   "cell_type": "code",
   "execution_count": 19,
   "metadata": {},
   "outputs": [
    {
     "data": {
      "image/png": "[encoded data removed]",
      "text/plain": [
       "<Figure size 432x288 with 1 Axes>"
      ]
     },
     "metadata": {},
     "output_type": "display_data"
    },
    {
     "data": {
      "text/html": [
       "<div>\n",
       "<style scoped>\n",
       "    .dataframe tbody tr th:only-of-type {\n",
       "        vertical-align: middle;\n",
       "    }\n",
       "\n",
       "    .dataframe tbody tr th {\n",
       "        vertical-align: top;\n",
       "    }\n",
       "\n",
       "    .dataframe thead th {\n",
       "        text-align: right;\n",
       "    }\n",
       "</style>\n",
       "<table border=\"1\" class=\"dataframe\">\n",
       "  <thead>\n",
       "    <tr style=\"text-align: right;\">\n",
       "      <th></th>\n",
       "      <th>importance</th>\n",
       "    </tr>\n",
       "  </thead>\n",
       "  <tbody>\n",
       "    <tr>\n",
       "      <th>75%_eeg_3</th>\n",
       "      <td>0.089635</td>\n",
       "    </tr>\n",
       "    <tr>\n",
       "      <th>std_eeg_4</th>\n",
       "      <td>0.062134</td>\n",
       "    </tr>\n",
       "    <tr>\n",
       "      <th>75%_eeg_1</th>\n",
       "      <td>0.050740</td>\n",
       "    </tr>\n",
       "    <tr>\n",
       "      <th>75%_eeg_2</th>\n",
       "      <td>0.049520</td>\n",
       "    </tr>\n",
       "    <tr>\n",
       "      <th>25%_eeg_4</th>\n",
       "      <td>0.022978</td>\n",
       "    </tr>\n",
       "    <tr>\n",
       "      <th>25%_eeg_2</th>\n",
       "      <td>0.020190</td>\n",
       "    </tr>\n",
       "    <tr>\n",
       "      <th>75%_eeg_4</th>\n",
       "      <td>0.019820</td>\n",
       "    </tr>\n",
       "    <tr>\n",
       "      <th>25%_eeg_1</th>\n",
       "      <td>0.019811</td>\n",
       "    </tr>\n",
       "    <tr>\n",
       "      <th>max_eeg_4</th>\n",
       "      <td>0.019613</td>\n",
       "    </tr>\n",
       "    <tr>\n",
       "      <th>std_eeg_3</th>\n",
       "      <td>0.019608</td>\n",
       "    </tr>\n",
       "  </tbody>\n",
       "</table>\n",
       "</div>"
      ],
      "text/plain": [
       "           importance\n",
       "75%_eeg_3    0.089635\n",
       "std_eeg_4    0.062134\n",
       "75%_eeg_1    0.050740\n",
       "75%_eeg_2    0.049520\n",
       "25%_eeg_4    0.022978\n",
       "25%_eeg_2    0.020190\n",
       "75%_eeg_4    0.019820\n",
       "25%_eeg_1    0.019811\n",
       "max_eeg_4    0.019613\n",
       "std_eeg_3    0.019608"
      ]
     },
     "execution_count": 19,
     "metadata": {},
     "output_type": "execute_result"
    }
   ],
   "source": [
    "importances = gbc.feature_importances_\n",
    "feature_importances = pd.DataFrame(importances, index = X.columns, \n",
    "                                   columns=['importance']).sort_values('importance', ascending=False)\n",
    "plt.bar(feature_importances.index, feature_importances[\"importance\"])\n",
    "plt.show()\n",
    "\n",
    "feature_importances.head(10)"
   ]
  },
  {
   "cell_type": "code",
   "execution_count": 20,
   "metadata": {},
   "outputs": [],
   "source": [
    "df2 = pd.read_excel('C:\\\\Users\\\\i053131\\\\Desktop\\\\Epilepsie\\\\Dreem\\\\data\\\\interim\\\\binomial_target.xlsx')"
   ]
  },
  {
   "cell_type": "code",
   "execution_count": 21,
   "metadata": {},
   "outputs": [],
   "source": [
    "training2, test2  = train_test_split(df2, test_size=0.2, random_state=42)\n",
    "X2 = training2.iloc[:,:-1]\n",
    "y2 = training2.iloc[:,-1]\n",
    "X2_test = test2.iloc[:,:-1]\n",
    "y2_true = test2.iloc[:,-1]"
   ]
  },
  {
   "cell_type": "code",
   "execution_count": 23,
   "metadata": {},
   "outputs": [
    {
     "data": {
      "text/plain": [
       "<matplotlib.axes._subplots.AxesSubplot at 0x2a999f97668>"
      ]
     },
     "execution_count": 23,
     "metadata": {},
     "output_type": "execute_result"
    },
    {
     "data": {
      "image/png": "[encoded data removed]",
      "text/plain": [
       "<Figure size 432x288 with 1 Axes>"
      ]
     },
     "metadata": {},
     "output_type": "display_data"
    }
   ],
   "source": [
    "sns.countplot(x=\"Y\", data=training2)"
   ]
  },
  {
   "cell_type": "code",
   "execution_count": 26,
   "metadata": {},
   "outputs": [
    {
     "name": "stdout",
     "output_type": "stream",
     "text": [
      "kappa for depth  = 1: 0.496720817147987\n",
      "accurancy for depth  = 1: 0.9203741729409081\n",
      "kappa for depth  = 2: 0.5701900469531074\n",
      "accurancy for depth  = 2: 0.9283595710700433\n",
      "kappa for depth  = 3: 0.6168028795604938\n",
      "accurancy for depth  = 3: 0.93440565822496\n",
      "kappa for depth  = 4: 0.6215632255487942\n",
      "accurancy for depth  = 4: 0.9345197353410906\n",
      "kappa for depth  = 5: 0.6343042737662253\n",
      "accurancy for depth  = 5: 0.9371435090120922\n",
      "kappa for depth  = 6: 0.6391803746713307\n",
      "accurancy for depth  = 6: 0.9375998174766141\n",
      "kappa for depth  = 7: 0.6340292038820095\n",
      "accurancy for depth  = 7: 0.9372575861282226\n",
      "kappa for depth  = 8: 0.6372259220487424\n",
      "accurancy for depth  = 8: 0.9374857403604837\n",
      "kappa for depth  = 9: 0.6490396032400779\n",
      "accurancy for depth  = 9: 0.9401095140314852\n",
      "kappa for depth  = 10: 0.6535400460330276\n",
      "accurancy for depth  = 10: 0.9409080538443988\n",
      "kappa for depth  = 11: 0.6529201317013958\n",
      "accurancy for depth  = 11: 0.9406798996121378\n",
      "kappa for depth  = 12: 0.6361922618803327\n",
      "accurancy for depth  = 12: 0.9383983572895277\n",
      "kappa for depth  = 13: 0.632249125359382\n",
      "accurancy for depth  = 13: 0.9378279717088752\n",
      "kappa for depth  = 14: 0.6319525370528456\n",
      "accurancy for depth  = 14: 0.9374857403604837\n"
     ]
    }
   ],
   "source": [
    "Lk = []\n",
    "La = []\n",
    "rx = list(range(1, 15))\n",
    "for i in rx:\n",
    "    gbc = GradientBoostingClassifier(n_estimators=1500, learning_rate=0.1,subsample=0.5, max_depth=i, random_state=42, \n",
    "                                 min_samples_leaf=5, min_samples_split=64)\n",
    "    gbc.fit(X2, y2)\n",
    "    y_pred = gbc.predict(X2_test)\n",
    "    kappa = cohen_kappa_score(y2_true, y_pred)\n",
    "\n",
    "    print(\"kappa for depth  = \" + str(i) + \":\",  kappa)\n",
    "    print(\"accurancy for depth  = \" + str(i) + \":\" , accuracy_score(y2_true, y_pred))\n",
    "    Lk.append(kappa)\n",
    "    La.append(accuracy_score(y2_true, y_pred))"
   ]
  },
  {
   "cell_type": "code",
   "execution_count": 27,
   "metadata": {},
   "outputs": [
    {
     "data": {
      "text/plain": [
       "<matplotlib.legend.Legend at 0x2a99102bb00>"
      ]
     },
     "execution_count": 27,
     "metadata": {},
     "output_type": "execute_result"
    },
    {
     "data": {
      "image/png": "[encoded data removed]",
      "text/plain": [
       "<Figure size 432x288 with 1 Axes>"
      ]
     },
     "metadata": {},
     "output_type": "display_data"
    }
   ],
   "source": [
    "plt.plot(rx, Lk, label = \"kappa\")\n",
    "plt.plot(rx, La, label = \"accuracy\")\n",
    "plt.legend(loc='lower right')"
   ]
  },
  {
   "cell_type": "code",
   "execution_count": 24,
   "metadata": {},
   "outputs": [
    {
     "name": "stdout",
     "output_type": "stream",
     "text": [
      "kappa for n_estimators  = 100: 0.5139254283324319\n",
      "accurancy for n_estimators  = 100: 0.9239105635409537\n",
      "kappa for n_estimators  = 200: 0.5367960474299248\n",
      "accurancy for n_estimators  = 200: 0.9263061829796942\n",
      "kappa for n_estimators  = 300: 0.5538332010534723\n",
      "accurancy for n_estimators  = 300: 0.9275610312571299\n",
      "kappa for n_estimators  = 400: 0.559975172521495\n",
      "accurancy for n_estimators  = 400: 0.9281314168377823\n",
      "kappa for n_estimators  = 500: 0.5591168824513815\n",
      "accurancy for n_estimators  = 500: 0.9274469541409993\n",
      "kappa for n_estimators  = 600: 0.5638074662777413\n",
      "accurancy for n_estimators  = 600: 0.9272187999087383\n",
      "kappa for n_estimators  = 700: 0.5679190579781803\n",
      "accurancy for n_estimators  = 700: 0.9271047227926078\n",
      "kappa for n_estimators  = 800: 0.5751051954063533\n",
      "accurancy for n_estimators  = 800: 0.9280173397216518\n",
      "kappa for n_estimators  = 900: 0.5777845917952719\n",
      "accurancy for n_estimators  = 900: 0.9283595710700433\n",
      "kappa for n_estimators  = 1000: 0.5879045442069575\n",
      "accurancy for n_estimators  = 1000: 0.9293862651152179\n",
      "kappa for n_estimators  = 1100: 0.5934206366114184\n",
      "accurancy for n_estimators  = 1100: 0.9296144193474789\n",
      "kappa for n_estimators  = 1200: 0.5955217975370815\n",
      "accurancy for n_estimators  = 1200: 0.9297284964636094\n",
      "kappa for n_estimators  = 1300: 0.5904337520109766\n",
      "accurancy for n_estimators  = 1300: 0.9293862651152179\n",
      "kappa for n_estimators  = 1400: 0.5872797546925873\n",
      "accurancy for n_estimators  = 1400: 0.9285877253023044\n",
      "kappa for n_estimators  = 1500: 0.596835038454169\n",
      "accurancy for n_estimators  = 1500: 0.9299566506958704\n",
      "kappa for n_estimators  = 1600: 0.6027908311992498\n",
      "accurancy for n_estimators  = 1600: 0.9306411133926534\n",
      "kappa for n_estimators  = 1700: 0.6045510448684461\n",
      "accurancy for n_estimators  = 1700: 0.9309833447410449\n",
      "kappa for n_estimators  = 1800: 0.6092625343180438\n",
      "accurancy for n_estimators  = 1800: 0.931667807437828\n",
      "kappa for n_estimators  = 1900: 0.6086867732022474\n",
      "accurancy for n_estimators  = 1900: 0.9313255760894364\n",
      "kappa for n_estimators  = 2000: 0.6094716699023637\n",
      "accurancy for n_estimators  = 2000: 0.9313255760894364\n"
     ]
    }
   ],
   "source": [
    "Lk = []\n",
    "La = []\n",
    "rx = list(range(100, 2002, 100))\n",
    "for i in rx:\n",
    "    gbc = GradientBoostingClassifier(n_estimators=i, learning_rate=0.1, subsample=0.5, random_state=42)\n",
    "    gbc.fit(X2, y2)\n",
    "    y_pred = gbc.predict(X2_test)\n",
    "    kappa = cohen_kappa_score(y2_true, y_pred)\n",
    "\n",
    "    print(\"kappa for n_estimators  = \" + str(i) + \":\",  kappa)\n",
    "    print(\"accurancy for n_estimators  = \" + str(i) + \":\" , accuracy_score(y2_true, y_pred))\n",
    "    Lk.append(kappa)\n",
    "    La.append(accuracy_score(y2_true, y_pred))"
   ]
  },
  {
   "cell_type": "code",
   "execution_count": 25,
   "metadata": {},
   "outputs": [
    {
     "data": {
      "text/plain": [
       "<matplotlib.legend.Legend at 0x2a98c03c780>"
      ]
     },
     "execution_count": 25,
     "metadata": {},
     "output_type": "execute_result"
    },
    {
     "data": {
      "image/png": "[encoded data removed]",
      "text/plain": [
       "<Figure size 432x288 with 1 Axes>"
      ]
     },
     "metadata": {},
     "output_type": "display_data"
    }
   ],
   "source": [
    "plt.plot(rx, Lk, label = \"kappa\")\n",
    "plt.plot(rx, La, label = \"accuracy\")\n",
    "plt.legend(loc='lower right')"
   ]
  },
  {
   "cell_type": "code",
   "execution_count": 28,
   "metadata": {},
   "outputs": [
    {
     "name": "stdout",
     "output_type": "stream",
     "text": [
      "kappa for n_estimators  = 100: 0.6194682785925539\n",
      "accurancy for n_estimators  = 100: 0.9354323522701347\n",
      "kappa for n_estimators  = 200: 0.6233827807222133\n",
      "accurancy for n_estimators  = 200: 0.9354323522701347\n",
      "kappa for n_estimators  = 300: 0.6435959982077368\n",
      "accurancy for n_estimators  = 300: 0.9387405886379192\n",
      "kappa for n_estimators  = 400: 0.6445586854353347\n",
      "accurancy for n_estimators  = 400: 0.9389687428701803\n",
      "kappa for n_estimators  = 500: 0.6527900873930736\n",
      "accurancy for n_estimators  = 500: 0.9405658224960073\n",
      "kappa for n_estimators  = 600: 0.6425834902674818\n",
      "accurancy for n_estimators  = 600: 0.9391968971024413\n",
      "kappa for n_estimators  = 700: 0.650992204289284\n",
      "accurancy for n_estimators  = 700: 0.9405658224960073\n",
      "kappa for n_estimators  = 800: 0.650992204289284\n",
      "accurancy for n_estimators  = 800: 0.9405658224960073\n",
      "kappa for n_estimators  = 900: 0.6524319941626113\n",
      "accurancy for n_estimators  = 900: 0.9405658224960073\n",
      "kappa for n_estimators  = 1000: 0.6520731615342013\n",
      "accurancy for n_estimators  = 1000: 0.9405658224960073\n",
      "kappa for n_estimators  = 1100: 0.6529201317013958\n",
      "accurancy for n_estimators  = 1100: 0.9406798996121378\n",
      "kappa for n_estimators  = 1200: 0.6529201317013958\n",
      "accurancy for n_estimators  = 1200: 0.9406798996121378\n",
      "kappa for n_estimators  = 1300: 0.6529201317013958\n",
      "accurancy for n_estimators  = 1300: 0.9406798996121378\n",
      "kappa for n_estimators  = 1400: 0.6529201317013958\n",
      "accurancy for n_estimators  = 1400: 0.9406798996121378\n",
      "kappa for n_estimators  = 1500: 0.6529201317013958\n",
      "accurancy for n_estimators  = 1500: 0.9406798996121378\n",
      "kappa for n_estimators  = 1600: 0.6529201317013958\n",
      "accurancy for n_estimators  = 1600: 0.9406798996121378\n",
      "kappa for n_estimators  = 1700: 0.6520731615342013\n",
      "accurancy for n_estimators  = 1700: 0.9405658224960073\n",
      "kappa for n_estimators  = 1800: 0.6524319941626113\n",
      "accurancy for n_estimators  = 1800: 0.9405658224960073\n",
      "kappa for n_estimators  = 1900: 0.6524319941626113\n",
      "accurancy for n_estimators  = 1900: 0.9405658224960073\n",
      "kappa for n_estimators  = 2000: 0.6524319941626113\n",
      "accurancy for n_estimators  = 2000: 0.9405658224960073\n"
     ]
    }
   ],
   "source": [
    "Lk = []\n",
    "La = []\n",
    "rx = list(range(100, 2002, 100))\n",
    "for i in rx:\n",
    "    gbc = GradientBoostingClassifier(n_estimators=i, learning_rate=0.1,subsample=0.5, max_depth=11, random_state=42, \n",
    "                                 min_samples_leaf=5, min_samples_split=64)\n",
    "    gbc.fit(X2, y2)\n",
    "    y_pred = gbc.predict(X2_test)\n",
    "    kappa = cohen_kappa_score(y2_true, y_pred)\n",
    "\n",
    "    print(\"kappa for n_estimators  = \" + str(i) + \":\",  kappa)\n",
    "    print(\"accurancy for n_estimators  = \" + str(i) + \":\" , accuracy_score(y2_true, y_pred))\n",
    "    Lk.append(kappa)\n",
    "    La.append(accuracy_score(y2_true, y_pred))"
   ]
  },
  {
   "cell_type": "code",
   "execution_count": 29,
   "metadata": {},
   "outputs": [
    {
     "data": {
      "text/plain": [
       "<matplotlib.legend.Legend at 0x2a98fad2588>"
      ]
     },
     "execution_count": 29,
     "metadata": {},
     "output_type": "execute_result"
    },
    {
     "data": {
      "image/png": "[encoded data removed]",
      "text/plain": [
       "<Figure size 432x288 with 1 Axes>"
      ]
     },
     "metadata": {},
     "output_type": "display_data"
    }
   ],
   "source": [
    "plt.plot(rx, Lk, label = \"kappa\")\n",
    "plt.plot(rx, La, label = \"accuracy\")\n",
    "plt.legend(loc='lower right')"
   ]
  },
  {
   "cell_type": "code",
   "execution_count": null,
   "metadata": {},
   "outputs": [],
   "source": []
  },
  {
   "cell_type": "code",
   "execution_count": 30,
   "metadata": {},
   "outputs": [
    {
     "data": {
      "image/png": "[encoded data removed]",
      "text/plain": [
       "<Figure size 432x288 with 1 Axes>"
      ]
     },
     "metadata": {},
     "output_type": "display_data"
    },
    {
     "data": {
      "text/html": [
       "<div>\n",
       "<style scoped>\n",
       "    .dataframe tbody tr th:only-of-type {\n",
       "        vertical-align: middle;\n",
       "    }\n",
       "\n",
       "    .dataframe tbody tr th {\n",
       "        vertical-align: top;\n",
       "    }\n",
       "\n",
       "    .dataframe thead th {\n",
       "        text-align: right;\n",
       "    }\n",
       "</style>\n",
       "<table border=\"1\" class=\"dataframe\">\n",
       "  <thead>\n",
       "    <tr style=\"text-align: right;\">\n",
       "      <th></th>\n",
       "      <th>importance</th>\n",
       "    </tr>\n",
       "  </thead>\n",
       "  <tbody>\n",
       "    <tr>\n",
       "      <th>50%_eeg_1</th>\n",
       "      <td>0.010874</td>\n",
       "    </tr>\n",
       "    <tr>\n",
       "      <th>50%_accelerometer_z</th>\n",
       "      <td>0.010497</td>\n",
       "    </tr>\n",
       "    <tr>\n",
       "      <th>50%_eeg_2</th>\n",
       "      <td>0.010214</td>\n",
       "    </tr>\n",
       "    <tr>\n",
       "      <th>mean_accelerometer_x</th>\n",
       "      <td>0.009730</td>\n",
       "    </tr>\n",
       "    <tr>\n",
       "      <th>50%_po_ir</th>\n",
       "      <td>0.009190</td>\n",
       "    </tr>\n",
       "    <tr>\n",
       "      <th>50%_po_r</th>\n",
       "      <td>0.008983</td>\n",
       "    </tr>\n",
       "    <tr>\n",
       "      <th>min_accelerometer_x</th>\n",
       "      <td>0.008857</td>\n",
       "    </tr>\n",
       "    <tr>\n",
       "      <th>max_accelerometer_x</th>\n",
       "      <td>0.008776</td>\n",
       "    </tr>\n",
       "    <tr>\n",
       "      <th>min_eeg_2</th>\n",
       "      <td>0.008571</td>\n",
       "    </tr>\n",
       "    <tr>\n",
       "      <th>25%_po_ir</th>\n",
       "      <td>0.008315</td>\n",
       "    </tr>\n",
       "  </tbody>\n",
       "</table>\n",
       "</div>"
      ],
      "text/plain": [
       "                      importance\n",
       "50%_eeg_1               0.010874\n",
       "50%_accelerometer_z     0.010497\n",
       "50%_eeg_2               0.010214\n",
       "mean_accelerometer_x    0.009730\n",
       "50%_po_ir               0.009190\n",
       "50%_po_r                0.008983\n",
       "min_accelerometer_x     0.008857\n",
       "max_accelerometer_x     0.008776\n",
       "min_eeg_2               0.008571\n",
       "25%_po_ir               0.008315"
      ]
     },
     "execution_count": 30,
     "metadata": {},
     "output_type": "execute_result"
    },
    {
     "data": {
      "image/png": "[encoded data removed]",
      "text/plain": [
       "<Figure size 432x288 with 1 Axes>"
      ]
     },
     "metadata": {},
     "output_type": "display_data"
    }
   ],
   "source": [
    "importances2 = gbc.feature_importances_\n",
    "feature_importances2 = pd.DataFrame(importances2, index = X2.columns, \n",
    "                                   columns=['importance']).sort_values('importance', ascending=False)\n",
    "plt.bar(feature_importances2.index, feature_importances2[\"importance\"])\n",
    "plt.show()\n",
    "\n",
    "plt.bar(feature_importances2.index, feature_importances2[\"importance\"])\n",
    "\n",
    "feature_importances2.head(10)\n"
   ]
  },
  {
   "cell_type": "code",
   "execution_count": 57,
   "metadata": {},
   "outputs": [
    {
     "data": {
      "text/plain": [
       "<BarContainer object of 63 artists>"
      ]
     },
     "execution_count": 57,
     "metadata": {},
     "output_type": "execute_result"
    },
    {
     "data": {
      "image/png": "[encoded data removed]",
      "text/plain": [
       "<Figure size 432x288 with 1 Axes>"
      ]
     },
     "metadata": {},
     "output_type": "display_data"
    }
   ],
   "source": [
    "feature_importances2.index\n",
    "plt.bar(feature_importances2.index, feature_importances2[\"importance\"])"
   ]
  }
 ],
 "metadata": {
  "kernelspec": {
   "display_name": "Python 3",
   "language": "python",
   "name": "python3"
  },
  "language_info": {
   "codemirror_mode": {
    "name": "ipython",
    "version": 3
   },
   "file_extension": ".py",
   "mimetype": "text/x-python",
   "name": "python",
   "nbconvert_exporter": "python",
   "pygments_lexer": "ipython3",
   "version": "3.6.5"
  }
 },
 "nbformat": 4,
 "nbformat_minor": 2
}
