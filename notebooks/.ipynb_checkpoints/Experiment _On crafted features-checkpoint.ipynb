{
 "cells": [
  {
   "cell_type": "code",
   "execution_count": 1,
   "metadata": {},
   "outputs": [
    {
     "name": "stderr",
     "output_type": "stream",
     "text": [
      "C:\\Anaconda3\\lib\\site-packages\\sklearn\\ensemble\\weight_boosting.py:29: DeprecationWarning: numpy.core.umath_tests is an internal NumPy module and should not be imported. It will be removed in a future NumPy release.\n",
      "  from numpy.core.umath_tests import inner1d\n"
     ]
    }
   ],
   "source": [
    "import pandas as pd\n",
    "import numpy as np\n",
    "#from plotnine import *\n",
    "from sklearn.decomposition import PCA\n",
    "from sklearn.cluster import KMeans\n",
    "from sklearn.metrics import accuracy_score\n",
    "from sklearn.linear_model import LogisticRegression\n",
    "from sklearn.metrics import confusion_matrix\n",
    "from sklearn.metrics import precision_score, recall_score\n",
    "from sklearn.metrics import cohen_kappa_score\n",
    "from sklearn import preprocessing\n",
    "from sklearn.preprocessing import StandardScaler\n",
    "from sklearn.preprocessing import PolynomialFeatures\n",
    "from sklearn.model_selection import train_test_split\n",
    "from sklearn.svm import LinearSVC\n",
    "from sklearn.svm import SVC\n",
    "\n",
    "from sklearn.tree import DecisionTreeClassifier\n",
    "from sklearn.tree import export_graphviz\n",
    "from sklearn.ensemble import BaggingClassifier\n",
    "from sklearn.tree import DecisionTreeClassifier\n",
    "from sklearn.ensemble import RandomForestClassifier\n",
    "from sklearn.model_selection import GridSearchCV\n",
    "from sklearn.metrics import make_scorer\n",
    "from sklearn.ensemble import GradientBoostingClassifier\n",
    "from sklearn.metrics import log_loss\n",
    "from sklearn.pipeline import Pipeline\n",
    "from sklearn.ensemble import VotingClassifier \n",
    "    \n",
    "import statsmodels.api as sm\n",
    "import itertools\n",
    "\n",
    "from scipy.stats import mode\n",
    "\n",
    "import random\n",
    " \n",
    "import matplotlib.pyplot as plt\n",
    "plt.style.use('classic')\n",
    "%matplotlib inline\n",
    "import seaborn as sns\n",
    "sns.set()\n",
    "\n",
    "import xgboost as xgb\n"
   ]
  },
  {
   "cell_type": "code",
   "execution_count": 2,
   "metadata": {},
   "outputs": [],
   "source": [
    "naif = pd.read_excel('C:\\\\Users\\\\i053131\\\\Desktop\\\\Epilepsie\\\\Dreem\\\\data\\\\interim\\\\featuresTrain.xlsx')"
   ]
  },
  {
   "cell_type": "code",
   "execution_count": 3,
   "metadata": {},
   "outputs": [],
   "source": [
    "eeg = pd.read_excel('C:\\\\Users\\\\i053131\\\\Desktop\\\\Epilepsie\\\\Dreem\\\\data\\\\interim\\\\spectrogram_eeg_features30Train.xlsx')\n",
    "acc = pd.read_excel('C:\\\\Users\\\\i053131\\\\Desktop\\\\Epilepsie\\\\Dreem\\\\data\\\\interim\\\\acc_featuresTrain.xlsx')\n",
    "pulse = pd.read_csv('C:\\\\Users\\\\i053131\\\\Desktop\\\\Epilepsie\\\\Dreem\\\\data\\\\interim\\\\pulse_featuresTrain.csv')\n",
    "                    "
   ]
  },
  {
   "cell_type": "code",
   "execution_count": 4,
   "metadata": {},
   "outputs": [
    {
     "data": {
      "text/plain": [
       "Index(['BPM_ir', 'IBI_ir', 'SDNN_ir', 'SDSD_ir', 'RMSSD_ir', 'pNN60_ir',\n",
       "       'pNN20_ir', 'MAD_ir', 'BPMlessthan30_ir', 'max_ir', 'min_ir', 'BPM_r',\n",
       "       'IBI_r', 'SDNN_r', 'SDSD_r', 'RMSSD_r', 'pNN60_r', 'pNN20_r', 'MAD_r',\n",
       "       'BPMlessthan30_r', 'max_r', 'min_r'],\n",
       "      dtype='object')"
      ]
     },
     "execution_count": 4,
     "metadata": {},
     "output_type": "execute_result"
    }
   ],
   "source": [
    "#Pulse coliumn 0 is index (pd.write_csv / pd.read_csv) cause overfitting. So removing it.\n",
    "pulse = pulse.iloc[:, 1:]\n",
    "pulse.columns"
   ]
  },
  {
   "cell_type": "code",
   "execution_count": 5,
   "metadata": {},
   "outputs": [
    {
     "name": "stdout",
     "output_type": "stream",
     "text": [
      "(0, 24)\n",
      "(0, 24)\n",
      "(0, 24)\n",
      "(0, 24)\n"
     ]
    }
   ],
   "source": [
    "print(eeg[eeg.eeg1_Above100Hz0!=0].shape)\n",
    "print(eeg[eeg.eeg2_Above100Hz0!=0].shape)\n",
    "print(eeg[eeg.eeg3_Above100Hz0!=0].shape)\n",
    "print(eeg[eeg.eeg4_Above100Hz0!=0].shape)"
   ]
  },
  {
   "cell_type": "markdown",
   "metadata": {},
   "source": [
    "Frequency aboive 100Hz are always null, we don't need the columns"
   ]
  },
  {
   "cell_type": "code",
   "execution_count": 6,
   "metadata": {},
   "outputs": [
    {
     "data": {
      "text/html": [
       "<div>\n",
       "<style scoped>\n",
       "    .dataframe tbody tr th:only-of-type {\n",
       "        vertical-align: middle;\n",
       "    }\n",
       "\n",
       "    .dataframe tbody tr th {\n",
       "        vertical-align: top;\n",
       "    }\n",
       "\n",
       "    .dataframe thead th {\n",
       "        text-align: right;\n",
       "    }\n",
       "</style>\n",
       "<table border=\"1\" class=\"dataframe\">\n",
       "  <thead>\n",
       "    <tr style=\"text-align: right;\">\n",
       "      <th></th>\n",
       "      <th>eeg1_Delta0</th>\n",
       "      <th>eeg1_Theta0</th>\n",
       "      <th>eeg1_Alpha0</th>\n",
       "      <th>eeg1_Beta0</th>\n",
       "      <th>eeg1_Gamma0</th>\n",
       "      <th>eeg2_Delta0</th>\n",
       "      <th>eeg2_Theta0</th>\n",
       "      <th>eeg2_Alpha0</th>\n",
       "      <th>eeg2_Beta0</th>\n",
       "      <th>eeg2_Gamma0</th>\n",
       "      <th>eeg3_Delta0</th>\n",
       "      <th>eeg3_Theta0</th>\n",
       "      <th>eeg3_Alpha0</th>\n",
       "      <th>eeg3_Beta0</th>\n",
       "      <th>eeg3_Gamma0</th>\n",
       "      <th>eeg4_Delta0</th>\n",
       "      <th>eeg4_Theta0</th>\n",
       "      <th>eeg4_Alpha0</th>\n",
       "      <th>eeg4_Beta0</th>\n",
       "      <th>eeg4_Gamma0</th>\n",
       "    </tr>\n",
       "  </thead>\n",
       "  <tbody>\n",
       "    <tr>\n",
       "      <th>0</th>\n",
       "      <td>15067.384836</td>\n",
       "      <td>791.799053</td>\n",
       "      <td>526.234402</td>\n",
       "      <td>238.067846</td>\n",
       "      <td>8.873436</td>\n",
       "      <td>1.553901e+04</td>\n",
       "      <td>1.211022e+03</td>\n",
       "      <td>592.088885</td>\n",
       "      <td>258.187675</td>\n",
       "      <td>9.665757</td>\n",
       "      <td>623.102309</td>\n",
       "      <td>99.594628</td>\n",
       "      <td>90.717905</td>\n",
       "      <td>26.032327</td>\n",
       "      <td>2.202641</td>\n",
       "      <td>1302.905092</td>\n",
       "      <td>127.154376</td>\n",
       "      <td>116.598434</td>\n",
       "      <td>52.068872</td>\n",
       "      <td>5.611631</td>\n",
       "    </tr>\n",
       "    <tr>\n",
       "      <th>1</th>\n",
       "      <td>6194.997941</td>\n",
       "      <td>870.974146</td>\n",
       "      <td>724.313661</td>\n",
       "      <td>222.860622</td>\n",
       "      <td>12.592876</td>\n",
       "      <td>1.498578e+04</td>\n",
       "      <td>1.431564e+03</td>\n",
       "      <td>912.804498</td>\n",
       "      <td>225.851998</td>\n",
       "      <td>10.602561</td>\n",
       "      <td>1053.627732</td>\n",
       "      <td>135.797888</td>\n",
       "      <td>104.835473</td>\n",
       "      <td>30.226305</td>\n",
       "      <td>2.492318</td>\n",
       "      <td>1579.926843</td>\n",
       "      <td>234.639812</td>\n",
       "      <td>180.622176</td>\n",
       "      <td>53.639204</td>\n",
       "      <td>5.471912</td>\n",
       "    </tr>\n",
       "    <tr>\n",
       "      <th>2</th>\n",
       "      <td>4574.792936</td>\n",
       "      <td>498.015318</td>\n",
       "      <td>548.223114</td>\n",
       "      <td>169.697156</td>\n",
       "      <td>11.446063</td>\n",
       "      <td>1.347092e+04</td>\n",
       "      <td>1.351802e+03</td>\n",
       "      <td>653.645947</td>\n",
       "      <td>206.578801</td>\n",
       "      <td>9.582789</td>\n",
       "      <td>1642.675627</td>\n",
       "      <td>191.532727</td>\n",
       "      <td>165.547494</td>\n",
       "      <td>53.291114</td>\n",
       "      <td>2.734685</td>\n",
       "      <td>2080.340276</td>\n",
       "      <td>245.280552</td>\n",
       "      <td>165.941398</td>\n",
       "      <td>71.199429</td>\n",
       "      <td>5.265627</td>\n",
       "    </tr>\n",
       "    <tr>\n",
       "      <th>3</th>\n",
       "      <td>317175.991019</td>\n",
       "      <td>14574.874852</td>\n",
       "      <td>19000.159158</td>\n",
       "      <td>892.029313</td>\n",
       "      <td>18.739333</td>\n",
       "      <td>3.123085e+07</td>\n",
       "      <td>6.766067e+05</td>\n",
       "      <td>165130.691286</td>\n",
       "      <td>14969.208303</td>\n",
       "      <td>384.833126</td>\n",
       "      <td>28682.710736</td>\n",
       "      <td>974.360326</td>\n",
       "      <td>497.277649</td>\n",
       "      <td>54.487313</td>\n",
       "      <td>2.280768</td>\n",
       "      <td>37190.483732</td>\n",
       "      <td>1953.718173</td>\n",
       "      <td>763.837164</td>\n",
       "      <td>107.348233</td>\n",
       "      <td>4.440513</td>\n",
       "    </tr>\n",
       "    <tr>\n",
       "      <th>4</th>\n",
       "      <td>58746.615386</td>\n",
       "      <td>7275.947515</td>\n",
       "      <td>15771.361858</td>\n",
       "      <td>664.287392</td>\n",
       "      <td>16.583832</td>\n",
       "      <td>6.828195e+06</td>\n",
       "      <td>1.185932e+06</td>\n",
       "      <td>203716.821691</td>\n",
       "      <td>23404.834724</td>\n",
       "      <td>326.066719</td>\n",
       "      <td>16677.309052</td>\n",
       "      <td>891.227977</td>\n",
       "      <td>439.471046</td>\n",
       "      <td>55.398520</td>\n",
       "      <td>2.564934</td>\n",
       "      <td>29622.811770</td>\n",
       "      <td>2236.368108</td>\n",
       "      <td>982.018666</td>\n",
       "      <td>130.172671</td>\n",
       "      <td>6.372862</td>\n",
       "    </tr>\n",
       "  </tbody>\n",
       "</table>\n",
       "</div>"
      ],
      "text/plain": [
       "     eeg1_Delta0   eeg1_Theta0   eeg1_Alpha0  eeg1_Beta0  eeg1_Gamma0  \\\n",
       "0   15067.384836    791.799053    526.234402  238.067846     8.873436   \n",
       "1    6194.997941    870.974146    724.313661  222.860622    12.592876   \n",
       "2    4574.792936    498.015318    548.223114  169.697156    11.446063   \n",
       "3  317175.991019  14574.874852  19000.159158  892.029313    18.739333   \n",
       "4   58746.615386   7275.947515  15771.361858  664.287392    16.583832   \n",
       "\n",
       "    eeg2_Delta0   eeg2_Theta0    eeg2_Alpha0    eeg2_Beta0  eeg2_Gamma0  \\\n",
       "0  1.553901e+04  1.211022e+03     592.088885    258.187675     9.665757   \n",
       "1  1.498578e+04  1.431564e+03     912.804498    225.851998    10.602561   \n",
       "2  1.347092e+04  1.351802e+03     653.645947    206.578801     9.582789   \n",
       "3  3.123085e+07  6.766067e+05  165130.691286  14969.208303   384.833126   \n",
       "4  6.828195e+06  1.185932e+06  203716.821691  23404.834724   326.066719   \n",
       "\n",
       "    eeg3_Delta0  eeg3_Theta0  eeg3_Alpha0  eeg3_Beta0  eeg3_Gamma0  \\\n",
       "0    623.102309    99.594628    90.717905   26.032327     2.202641   \n",
       "1   1053.627732   135.797888   104.835473   30.226305     2.492318   \n",
       "2   1642.675627   191.532727   165.547494   53.291114     2.734685   \n",
       "3  28682.710736   974.360326   497.277649   54.487313     2.280768   \n",
       "4  16677.309052   891.227977   439.471046   55.398520     2.564934   \n",
       "\n",
       "    eeg4_Delta0  eeg4_Theta0  eeg4_Alpha0  eeg4_Beta0  eeg4_Gamma0  \n",
       "0   1302.905092   127.154376   116.598434   52.068872     5.611631  \n",
       "1   1579.926843   234.639812   180.622176   53.639204     5.471912  \n",
       "2   2080.340276   245.280552   165.941398   71.199429     5.265627  \n",
       "3  37190.483732  1953.718173   763.837164  107.348233     4.440513  \n",
       "4  29622.811770  2236.368108   982.018666  130.172671     6.372862  "
      ]
     },
     "execution_count": 6,
     "metadata": {},
     "output_type": "execute_result"
    }
   ],
   "source": [
    "eeg.drop(columns=[\"eeg1_Above100Hz0\", \"eeg2_Above100Hz0\", \"eeg3_Above100Hz0\", \"eeg4_Above100Hz0\"], inplace=True)\n",
    "eeg.head()"
   ]
  },
  {
   "cell_type": "code",
   "execution_count": 7,
   "metadata": {},
   "outputs": [],
   "source": [
    "df = pd.concat([eeg, acc, pulse, naif], axis=1)\n"
   ]
  },
  {
   "cell_type": "code",
   "execution_count": 8,
   "metadata": {},
   "outputs": [
    {
     "data": {
      "text/html": [
       "<div>\n",
       "<style scoped>\n",
       "    .dataframe tbody tr th:only-of-type {\n",
       "        vertical-align: middle;\n",
       "    }\n",
       "\n",
       "    .dataframe tbody tr th {\n",
       "        vertical-align: top;\n",
       "    }\n",
       "\n",
       "    .dataframe thead th {\n",
       "        text-align: right;\n",
       "    }\n",
       "</style>\n",
       "<table border=\"1\" class=\"dataframe\">\n",
       "  <thead>\n",
       "    <tr style=\"text-align: right;\">\n",
       "      <th></th>\n",
       "      <th>eeg1_Delta0</th>\n",
       "      <th>eeg1_Theta0</th>\n",
       "      <th>eeg1_Alpha0</th>\n",
       "      <th>eeg1_Beta0</th>\n",
       "      <th>eeg1_Gamma0</th>\n",
       "      <th>eeg2_Delta0</th>\n",
       "      <th>eeg2_Theta0</th>\n",
       "      <th>eeg2_Alpha0</th>\n",
       "      <th>eeg2_Beta0</th>\n",
       "      <th>eeg2_Gamma0</th>\n",
       "      <th>...</th>\n",
       "      <th>50%_accelerometer_y</th>\n",
       "      <th>75%_accelerometer_y</th>\n",
       "      <th>mean_accelerometer_z</th>\n",
       "      <th>std_accelerometer_z</th>\n",
       "      <th>min_accelerometer_z</th>\n",
       "      <th>max_accelerometer_z</th>\n",
       "      <th>25%_accelerometer_z</th>\n",
       "      <th>50%_accelerometer_z</th>\n",
       "      <th>75%_accelerometer_z</th>\n",
       "      <th>Y</th>\n",
       "    </tr>\n",
       "  </thead>\n",
       "  <tbody>\n",
       "    <tr>\n",
       "      <th>0</th>\n",
       "      <td>15067.384836</td>\n",
       "      <td>791.799053</td>\n",
       "      <td>526.234402</td>\n",
       "      <td>238.067846</td>\n",
       "      <td>8.873436</td>\n",
       "      <td>1.553901e+04</td>\n",
       "      <td>1.211022e+03</td>\n",
       "      <td>592.088885</td>\n",
       "      <td>258.187675</td>\n",
       "      <td>9.665757</td>\n",
       "      <td>...</td>\n",
       "      <td>0.000004</td>\n",
       "      <td>0.000070</td>\n",
       "      <td>0.000010</td>\n",
       "      <td>0.000201</td>\n",
       "      <td>-0.000413</td>\n",
       "      <td>0.000492</td>\n",
       "      <td>-0.000143</td>\n",
       "      <td>-0.000015</td>\n",
       "      <td>0.000159</td>\n",
       "      <td>0</td>\n",
       "    </tr>\n",
       "    <tr>\n",
       "      <th>1</th>\n",
       "      <td>6194.997941</td>\n",
       "      <td>870.974146</td>\n",
       "      <td>724.313661</td>\n",
       "      <td>222.860622</td>\n",
       "      <td>12.592876</td>\n",
       "      <td>1.498578e+04</td>\n",
       "      <td>1.431564e+03</td>\n",
       "      <td>912.804498</td>\n",
       "      <td>225.851998</td>\n",
       "      <td>10.602561</td>\n",
       "      <td>...</td>\n",
       "      <td>0.000030</td>\n",
       "      <td>0.000102</td>\n",
       "      <td>-0.000005</td>\n",
       "      <td>0.000173</td>\n",
       "      <td>-0.000391</td>\n",
       "      <td>0.000415</td>\n",
       "      <td>-0.000126</td>\n",
       "      <td>-0.000004</td>\n",
       "      <td>0.000112</td>\n",
       "      <td>0</td>\n",
       "    </tr>\n",
       "    <tr>\n",
       "      <th>2</th>\n",
       "      <td>4574.792936</td>\n",
       "      <td>498.015318</td>\n",
       "      <td>548.223114</td>\n",
       "      <td>169.697156</td>\n",
       "      <td>11.446063</td>\n",
       "      <td>1.347092e+04</td>\n",
       "      <td>1.351802e+03</td>\n",
       "      <td>653.645947</td>\n",
       "      <td>206.578801</td>\n",
       "      <td>9.582789</td>\n",
       "      <td>...</td>\n",
       "      <td>-0.000003</td>\n",
       "      <td>0.000073</td>\n",
       "      <td>0.000008</td>\n",
       "      <td>0.000157</td>\n",
       "      <td>-0.000435</td>\n",
       "      <td>0.000349</td>\n",
       "      <td>-0.000078</td>\n",
       "      <td>0.000021</td>\n",
       "      <td>0.000098</td>\n",
       "      <td>0</td>\n",
       "    </tr>\n",
       "    <tr>\n",
       "      <th>3</th>\n",
       "      <td>317175.991019</td>\n",
       "      <td>14574.874852</td>\n",
       "      <td>19000.159158</td>\n",
       "      <td>892.029313</td>\n",
       "      <td>18.739333</td>\n",
       "      <td>3.123085e+07</td>\n",
       "      <td>6.766067e+05</td>\n",
       "      <td>165130.691286</td>\n",
       "      <td>14969.208303</td>\n",
       "      <td>384.833126</td>\n",
       "      <td>...</td>\n",
       "      <td>0.000064</td>\n",
       "      <td>0.001495</td>\n",
       "      <td>0.000416</td>\n",
       "      <td>0.007419</td>\n",
       "      <td>-0.023272</td>\n",
       "      <td>0.020516</td>\n",
       "      <td>-0.001916</td>\n",
       "      <td>0.000038</td>\n",
       "      <td>0.001771</td>\n",
       "      <td>0</td>\n",
       "    </tr>\n",
       "    <tr>\n",
       "      <th>4</th>\n",
       "      <td>58746.615386</td>\n",
       "      <td>7275.947515</td>\n",
       "      <td>15771.361858</td>\n",
       "      <td>664.287392</td>\n",
       "      <td>16.583832</td>\n",
       "      <td>6.828195e+06</td>\n",
       "      <td>1.185932e+06</td>\n",
       "      <td>203716.821691</td>\n",
       "      <td>23404.834724</td>\n",
       "      <td>326.066719</td>\n",
       "      <td>...</td>\n",
       "      <td>0.000063</td>\n",
       "      <td>0.000225</td>\n",
       "      <td>0.000006</td>\n",
       "      <td>0.000765</td>\n",
       "      <td>-0.003356</td>\n",
       "      <td>0.002612</td>\n",
       "      <td>-0.000229</td>\n",
       "      <td>0.000043</td>\n",
       "      <td>0.000288</td>\n",
       "      <td>0</td>\n",
       "    </tr>\n",
       "  </tbody>\n",
       "</table>\n",
       "<p>5 rows × 114 columns</p>\n",
       "</div>"
      ],
      "text/plain": [
       "     eeg1_Delta0   eeg1_Theta0   eeg1_Alpha0  eeg1_Beta0  eeg1_Gamma0  \\\n",
       "0   15067.384836    791.799053    526.234402  238.067846     8.873436   \n",
       "1    6194.997941    870.974146    724.313661  222.860622    12.592876   \n",
       "2    4574.792936    498.015318    548.223114  169.697156    11.446063   \n",
       "3  317175.991019  14574.874852  19000.159158  892.029313    18.739333   \n",
       "4   58746.615386   7275.947515  15771.361858  664.287392    16.583832   \n",
       "\n",
       "    eeg2_Delta0   eeg2_Theta0    eeg2_Alpha0    eeg2_Beta0  eeg2_Gamma0 ...  \\\n",
       "0  1.553901e+04  1.211022e+03     592.088885    258.187675     9.665757 ...   \n",
       "1  1.498578e+04  1.431564e+03     912.804498    225.851998    10.602561 ...   \n",
       "2  1.347092e+04  1.351802e+03     653.645947    206.578801     9.582789 ...   \n",
       "3  3.123085e+07  6.766067e+05  165130.691286  14969.208303   384.833126 ...   \n",
       "4  6.828195e+06  1.185932e+06  203716.821691  23404.834724   326.066719 ...   \n",
       "\n",
       "   50%_accelerometer_y  75%_accelerometer_y  mean_accelerometer_z  \\\n",
       "0             0.000004             0.000070              0.000010   \n",
       "1             0.000030             0.000102             -0.000005   \n",
       "2            -0.000003             0.000073              0.000008   \n",
       "3             0.000064             0.001495              0.000416   \n",
       "4             0.000063             0.000225              0.000006   \n",
       "\n",
       "   std_accelerometer_z  min_accelerometer_z  max_accelerometer_z  \\\n",
       "0             0.000201            -0.000413             0.000492   \n",
       "1             0.000173            -0.000391             0.000415   \n",
       "2             0.000157            -0.000435             0.000349   \n",
       "3             0.007419            -0.023272             0.020516   \n",
       "4             0.000765            -0.003356             0.002612   \n",
       "\n",
       "   25%_accelerometer_z  50%_accelerometer_z  75%_accelerometer_z  Y  \n",
       "0            -0.000143            -0.000015             0.000159  0  \n",
       "1            -0.000126            -0.000004             0.000112  0  \n",
       "2            -0.000078             0.000021             0.000098  0  \n",
       "3            -0.001916             0.000038             0.001771  0  \n",
       "4            -0.000229             0.000043             0.000288  0  \n",
       "\n",
       "[5 rows x 114 columns]"
      ]
     },
     "execution_count": 8,
     "metadata": {},
     "output_type": "execute_result"
    }
   ],
   "source": [
    "df.head()"
   ]
  },
  {
   "cell_type": "code",
   "execution_count": 9,
   "metadata": {},
   "outputs": [],
   "source": [
    "#training, test = np.split(df.sample(frac=1, random_state=42), [int(.8*len(df))])\n",
    "\n",
    "training, test  = train_test_split(df, test_size=0.2, random_state=42)\n",
    "X = training.iloc[:,:-1]\n",
    "y = training.iloc[:,-1]\n",
    "X_test = test.iloc[:,:-1]\n",
    "y_true = test.iloc[:,-1]"
   ]
  },
  {
   "cell_type": "markdown",
   "metadata": {},
   "source": [
    "Subdatat set:\n",
    "    - naif\n",
    "    - all but"
   ]
  },
  {
   "cell_type": "code",
   "execution_count": 10,
   "metadata": {},
   "outputs": [
    {
     "data": {
      "text/plain": [
       "Index(['mean_eeg_1', 'std_eeg_1', 'min_eeg_1', 'max_eeg_1', '25%_eeg_1',\n",
       "       '50%_eeg_1', '75%_eeg_1', 'mean_eeg_2', 'std_eeg_2', 'min_eeg_2',\n",
       "       'max_eeg_2', '25%_eeg_2', '50%_eeg_2', '75%_eeg_2', 'mean_eeg_3',\n",
       "       'std_eeg_3', 'min_eeg_3', 'max_eeg_3', '25%_eeg_3', '50%_eeg_3',\n",
       "       '75%_eeg_3', 'mean_eeg_4', 'std_eeg_4', 'min_eeg_4', 'max_eeg_4',\n",
       "       '25%_eeg_4', '50%_eeg_4', '75%_eeg_4', 'mean_po_ir', 'std_po_ir',\n",
       "       'min_po_ir', 'max_po_ir', '25%_po_ir', '50%_po_ir', '75%_po_ir',\n",
       "       'mean_po_r', 'std_po_r', 'min_po_r', 'max_po_r', '25%_po_r', '50%_po_r',\n",
       "       '75%_po_r', 'mean_accelerometer_x', 'std_accelerometer_x',\n",
       "       'min_accelerometer_x', 'max_accelerometer_x', '25%_accelerometer_x',\n",
       "       '50%_accelerometer_x', '75%_accelerometer_x', 'mean_accelerometer_y',\n",
       "       'std_accelerometer_y', 'min_accelerometer_y', 'max_accelerometer_y',\n",
       "       '25%_accelerometer_y', '50%_accelerometer_y', '75%_accelerometer_y',\n",
       "       'mean_accelerometer_z', 'std_accelerometer_z', 'min_accelerometer_z',\n",
       "       'max_accelerometer_z', '25%_accelerometer_z', '50%_accelerometer_z',\n",
       "       '75%_accelerometer_z'],\n",
       "      dtype='object')"
      ]
     },
     "execution_count": 10,
     "metadata": {},
     "output_type": "execute_result"
    }
   ],
   "source": [
    "naif.columns[:-1]"
   ]
  },
  {
   "cell_type": "code",
   "execution_count": 11,
   "metadata": {},
   "outputs": [],
   "source": [
    "Xbaseline = X.drop(columns=naif.columns[:-1], inplace=False)\n",
    "X_testbaseline = X_test.drop(columns=naif.columns[:-1], inplace=False)\n",
    "\n"
   ]
  },
  {
   "cell_type": "code",
   "execution_count": 12,
   "metadata": {},
   "outputs": [
    {
     "data": {
      "text/html": [
       "<div>\n",
       "<style scoped>\n",
       "    .dataframe tbody tr th:only-of-type {\n",
       "        vertical-align: middle;\n",
       "    }\n",
       "\n",
       "    .dataframe tbody tr th {\n",
       "        vertical-align: top;\n",
       "    }\n",
       "\n",
       "    .dataframe thead th {\n",
       "        text-align: right;\n",
       "    }\n",
       "</style>\n",
       "<table border=\"1\" class=\"dataframe\">\n",
       "  <thead>\n",
       "    <tr style=\"text-align: right;\">\n",
       "      <th></th>\n",
       "      <th>eeg1_Delta0</th>\n",
       "      <th>eeg1_Theta0</th>\n",
       "      <th>eeg1_Alpha0</th>\n",
       "      <th>eeg1_Beta0</th>\n",
       "      <th>eeg1_Gamma0</th>\n",
       "      <th>eeg2_Delta0</th>\n",
       "      <th>eeg2_Theta0</th>\n",
       "      <th>eeg2_Alpha0</th>\n",
       "      <th>eeg2_Beta0</th>\n",
       "      <th>eeg2_Gamma0</th>\n",
       "      <th>...</th>\n",
       "      <th>IBI_r</th>\n",
       "      <th>SDNN_r</th>\n",
       "      <th>SDSD_r</th>\n",
       "      <th>RMSSD_r</th>\n",
       "      <th>pNN60_r</th>\n",
       "      <th>pNN20_r</th>\n",
       "      <th>MAD_r</th>\n",
       "      <th>BPMlessthan30_r</th>\n",
       "      <th>max_r</th>\n",
       "      <th>min_r</th>\n",
       "    </tr>\n",
       "  </thead>\n",
       "  <tbody>\n",
       "    <tr>\n",
       "      <th>39162</th>\n",
       "      <td>40285.462396</td>\n",
       "      <td>1376.071709</td>\n",
       "      <td>1114.581833</td>\n",
       "      <td>137.578679</td>\n",
       "      <td>2.901573</td>\n",
       "      <td>246917.227412</td>\n",
       "      <td>2446.880773</td>\n",
       "      <td>1343.974868</td>\n",
       "      <td>132.810575</td>\n",
       "      <td>2.412203</td>\n",
       "      <td>...</td>\n",
       "      <td>0.937500</td>\n",
       "      <td>0.176711</td>\n",
       "      <td>0.310616</td>\n",
       "      <td>0.305396</td>\n",
       "      <td>0.419355</td>\n",
       "      <td>0.483871</td>\n",
       "      <td>5.0</td>\n",
       "      <td>0</td>\n",
       "      <td>71.218035</td>\n",
       "      <td>-110.005374</td>\n",
       "    </tr>\n",
       "    <tr>\n",
       "      <th>34834</th>\n",
       "      <td>205390.070310</td>\n",
       "      <td>2649.082458</td>\n",
       "      <td>1252.175258</td>\n",
       "      <td>182.217804</td>\n",
       "      <td>5.340327</td>\n",
       "      <td>16265.726082</td>\n",
       "      <td>1137.623889</td>\n",
       "      <td>560.823366</td>\n",
       "      <td>54.533571</td>\n",
       "      <td>2.211999</td>\n",
       "      <td>...</td>\n",
       "      <td>1.363636</td>\n",
       "      <td>0.311292</td>\n",
       "      <td>0.504906</td>\n",
       "      <td>0.492382</td>\n",
       "      <td>0.380952</td>\n",
       "      <td>0.428571</td>\n",
       "      <td>12.0</td>\n",
       "      <td>0</td>\n",
       "      <td>18.646024</td>\n",
       "      <td>-19.200908</td>\n",
       "    </tr>\n",
       "    <tr>\n",
       "      <th>17202</th>\n",
       "      <td>12961.803378</td>\n",
       "      <td>1026.339084</td>\n",
       "      <td>903.627232</td>\n",
       "      <td>37.154247</td>\n",
       "      <td>1.771569</td>\n",
       "      <td>14314.985743</td>\n",
       "      <td>1198.944991</td>\n",
       "      <td>835.142443</td>\n",
       "      <td>44.100467</td>\n",
       "      <td>2.289774</td>\n",
       "      <td>...</td>\n",
       "      <td>1.304348</td>\n",
       "      <td>0.121206</td>\n",
       "      <td>0.182746</td>\n",
       "      <td>0.178406</td>\n",
       "      <td>0.318182</td>\n",
       "      <td>0.454545</td>\n",
       "      <td>3.5</td>\n",
       "      <td>0</td>\n",
       "      <td>55.690834</td>\n",
       "      <td>-71.053743</td>\n",
       "    </tr>\n",
       "    <tr>\n",
       "      <th>36243</th>\n",
       "      <td>5602.535253</td>\n",
       "      <td>856.704209</td>\n",
       "      <td>326.675211</td>\n",
       "      <td>41.474327</td>\n",
       "      <td>2.707766</td>\n",
       "      <td>3071.472483</td>\n",
       "      <td>748.025161</td>\n",
       "      <td>252.729224</td>\n",
       "      <td>44.531423</td>\n",
       "      <td>3.007998</td>\n",
       "      <td>...</td>\n",
       "      <td>0.857143</td>\n",
       "      <td>0.348894</td>\n",
       "      <td>0.508355</td>\n",
       "      <td>0.500993</td>\n",
       "      <td>0.411765</td>\n",
       "      <td>0.441176</td>\n",
       "      <td>11.5</td>\n",
       "      <td>0</td>\n",
       "      <td>11.227485</td>\n",
       "      <td>-14.936124</td>\n",
       "    </tr>\n",
       "    <tr>\n",
       "      <th>30406</th>\n",
       "      <td>4973.910829</td>\n",
       "      <td>773.885084</td>\n",
       "      <td>453.880167</td>\n",
       "      <td>95.534723</td>\n",
       "      <td>3.177433</td>\n",
       "      <td>4005.175378</td>\n",
       "      <td>757.357239</td>\n",
       "      <td>379.179166</td>\n",
       "      <td>85.365137</td>\n",
       "      <td>2.868846</td>\n",
       "      <td>...</td>\n",
       "      <td>1.000000</td>\n",
       "      <td>0.094577</td>\n",
       "      <td>0.110267</td>\n",
       "      <td>0.108364</td>\n",
       "      <td>0.137931</td>\n",
       "      <td>0.206897</td>\n",
       "      <td>2.0</td>\n",
       "      <td>0</td>\n",
       "      <td>100.155542</td>\n",
       "      <td>-178.603391</td>\n",
       "    </tr>\n",
       "  </tbody>\n",
       "</table>\n",
       "<p>5 rows × 50 columns</p>\n",
       "</div>"
      ],
      "text/plain": [
       "         eeg1_Delta0  eeg1_Theta0  eeg1_Alpha0  eeg1_Beta0  eeg1_Gamma0  \\\n",
       "39162   40285.462396  1376.071709  1114.581833  137.578679     2.901573   \n",
       "34834  205390.070310  2649.082458  1252.175258  182.217804     5.340327   \n",
       "17202   12961.803378  1026.339084   903.627232   37.154247     1.771569   \n",
       "36243    5602.535253   856.704209   326.675211   41.474327     2.707766   \n",
       "30406    4973.910829   773.885084   453.880167   95.534723     3.177433   \n",
       "\n",
       "         eeg2_Delta0  eeg2_Theta0  eeg2_Alpha0  eeg2_Beta0  eeg2_Gamma0  \\\n",
       "39162  246917.227412  2446.880773  1343.974868  132.810575     2.412203   \n",
       "34834   16265.726082  1137.623889   560.823366   54.533571     2.211999   \n",
       "17202   14314.985743  1198.944991   835.142443   44.100467     2.289774   \n",
       "36243    3071.472483   748.025161   252.729224   44.531423     3.007998   \n",
       "30406    4005.175378   757.357239   379.179166   85.365137     2.868846   \n",
       "\n",
       "          ...         IBI_r    SDNN_r    SDSD_r   RMSSD_r   pNN60_r   pNN20_r  \\\n",
       "39162     ...      0.937500  0.176711  0.310616  0.305396  0.419355  0.483871   \n",
       "34834     ...      1.363636  0.311292  0.504906  0.492382  0.380952  0.428571   \n",
       "17202     ...      1.304348  0.121206  0.182746  0.178406  0.318182  0.454545   \n",
       "36243     ...      0.857143  0.348894  0.508355  0.500993  0.411765  0.441176   \n",
       "30406     ...      1.000000  0.094577  0.110267  0.108364  0.137931  0.206897   \n",
       "\n",
       "       MAD_r  BPMlessthan30_r       max_r       min_r  \n",
       "39162    5.0                0   71.218035 -110.005374  \n",
       "34834   12.0                0   18.646024  -19.200908  \n",
       "17202    3.5                0   55.690834  -71.053743  \n",
       "36243   11.5                0   11.227485  -14.936124  \n",
       "30406    2.0                0  100.155542 -178.603391  \n",
       "\n",
       "[5 rows x 50 columns]"
      ]
     },
     "execution_count": 12,
     "metadata": {},
     "output_type": "execute_result"
    }
   ],
   "source": [
    "Xbaseline.head()"
   ]
  },
  {
   "cell_type": "code",
   "execution_count": 13,
   "metadata": {},
   "outputs": [
    {
     "data": {
      "text/html": [
       "<div>\n",
       "<style scoped>\n",
       "    .dataframe tbody tr th:only-of-type {\n",
       "        vertical-align: middle;\n",
       "    }\n",
       "\n",
       "    .dataframe tbody tr th {\n",
       "        vertical-align: top;\n",
       "    }\n",
       "\n",
       "    .dataframe thead th {\n",
       "        text-align: right;\n",
       "    }\n",
       "</style>\n",
       "<table border=\"1\" class=\"dataframe\">\n",
       "  <thead>\n",
       "    <tr style=\"text-align: right;\">\n",
       "      <th></th>\n",
       "      <th>mean_eeg_1</th>\n",
       "      <th>std_eeg_1</th>\n",
       "      <th>min_eeg_1</th>\n",
       "      <th>max_eeg_1</th>\n",
       "      <th>25%_eeg_1</th>\n",
       "      <th>50%_eeg_1</th>\n",
       "      <th>75%_eeg_1</th>\n",
       "      <th>mean_eeg_2</th>\n",
       "      <th>std_eeg_2</th>\n",
       "      <th>min_eeg_2</th>\n",
       "      <th>...</th>\n",
       "      <th>25%_accelerometer_y</th>\n",
       "      <th>50%_accelerometer_y</th>\n",
       "      <th>75%_accelerometer_y</th>\n",
       "      <th>mean_accelerometer_z</th>\n",
       "      <th>std_accelerometer_z</th>\n",
       "      <th>min_accelerometer_z</th>\n",
       "      <th>max_accelerometer_z</th>\n",
       "      <th>25%_accelerometer_z</th>\n",
       "      <th>50%_accelerometer_z</th>\n",
       "      <th>75%_accelerometer_z</th>\n",
       "    </tr>\n",
       "  </thead>\n",
       "  <tbody>\n",
       "    <tr>\n",
       "      <th>39162</th>\n",
       "      <td>0.076835</td>\n",
       "      <td>32.417446</td>\n",
       "      <td>-122.286140</td>\n",
       "      <td>149.046906</td>\n",
       "      <td>-18.086931</td>\n",
       "      <td>-0.108086</td>\n",
       "      <td>15.207180</td>\n",
       "      <td>0.335526</td>\n",
       "      <td>76.267288</td>\n",
       "      <td>-326.762573</td>\n",
       "      <td>...</td>\n",
       "      <td>-0.000286</td>\n",
       "      <td>0.000083</td>\n",
       "      <td>0.000317</td>\n",
       "      <td>0.000020</td>\n",
       "      <td>0.001472</td>\n",
       "      <td>-0.002662</td>\n",
       "      <td>0.002513</td>\n",
       "      <td>-0.001274</td>\n",
       "      <td>-0.000031</td>\n",
       "      <td>0.001405</td>\n",
       "    </tr>\n",
       "    <tr>\n",
       "      <th>34834</th>\n",
       "      <td>-6.126316</td>\n",
       "      <td>134.654724</td>\n",
       "      <td>-660.703552</td>\n",
       "      <td>300.267548</td>\n",
       "      <td>-39.717262</td>\n",
       "      <td>9.099180</td>\n",
       "      <td>58.278394</td>\n",
       "      <td>-0.211475</td>\n",
       "      <td>26.672749</td>\n",
       "      <td>-169.483994</td>\n",
       "      <td>...</td>\n",
       "      <td>-0.000437</td>\n",
       "      <td>-0.000024</td>\n",
       "      <td>0.000504</td>\n",
       "      <td>0.000061</td>\n",
       "      <td>0.001281</td>\n",
       "      <td>-0.002203</td>\n",
       "      <td>0.002485</td>\n",
       "      <td>-0.001130</td>\n",
       "      <td>-0.000109</td>\n",
       "      <td>0.001208</td>\n",
       "    </tr>\n",
       "    <tr>\n",
       "      <th>17202</th>\n",
       "      <td>-0.349705</td>\n",
       "      <td>25.052259</td>\n",
       "      <td>-84.417496</td>\n",
       "      <td>153.223053</td>\n",
       "      <td>-14.338790</td>\n",
       "      <td>-1.384574</td>\n",
       "      <td>13.177164</td>\n",
       "      <td>-0.276397</td>\n",
       "      <td>26.579996</td>\n",
       "      <td>-102.332413</td>\n",
       "      <td>...</td>\n",
       "      <td>-0.000734</td>\n",
       "      <td>-0.000177</td>\n",
       "      <td>0.000795</td>\n",
       "      <td>0.000010</td>\n",
       "      <td>0.000681</td>\n",
       "      <td>-0.001053</td>\n",
       "      <td>0.001583</td>\n",
       "      <td>-0.000548</td>\n",
       "      <td>-0.000222</td>\n",
       "      <td>0.000600</td>\n",
       "    </tr>\n",
       "    <tr>\n",
       "      <th>36243</th>\n",
       "      <td>-0.222517</td>\n",
       "      <td>16.483498</td>\n",
       "      <td>-79.448227</td>\n",
       "      <td>76.587830</td>\n",
       "      <td>-9.949595</td>\n",
       "      <td>-0.629870</td>\n",
       "      <td>9.327966</td>\n",
       "      <td>-0.099979</td>\n",
       "      <td>11.868994</td>\n",
       "      <td>-59.959675</td>\n",
       "      <td>...</td>\n",
       "      <td>-0.000113</td>\n",
       "      <td>-0.000024</td>\n",
       "      <td>0.000104</td>\n",
       "      <td>0.000018</td>\n",
       "      <td>0.000251</td>\n",
       "      <td>-0.000602</td>\n",
       "      <td>0.000529</td>\n",
       "      <td>-0.000180</td>\n",
       "      <td>0.000038</td>\n",
       "      <td>0.000215</td>\n",
       "    </tr>\n",
       "    <tr>\n",
       "      <th>30406</th>\n",
       "      <td>-0.383686</td>\n",
       "      <td>17.262428</td>\n",
       "      <td>-63.992603</td>\n",
       "      <td>54.792847</td>\n",
       "      <td>-11.618362</td>\n",
       "      <td>-0.827503</td>\n",
       "      <td>11.180586</td>\n",
       "      <td>-0.564495</td>\n",
       "      <td>16.451038</td>\n",
       "      <td>-65.157051</td>\n",
       "      <td>...</td>\n",
       "      <td>-0.000343</td>\n",
       "      <td>0.000026</td>\n",
       "      <td>0.000271</td>\n",
       "      <td>-0.000049</td>\n",
       "      <td>0.000765</td>\n",
       "      <td>-0.001497</td>\n",
       "      <td>0.001075</td>\n",
       "      <td>-0.000807</td>\n",
       "      <td>0.000168</td>\n",
       "      <td>0.000620</td>\n",
       "    </tr>\n",
       "  </tbody>\n",
       "</table>\n",
       "<p>5 rows × 63 columns</p>\n",
       "</div>"
      ],
      "text/plain": [
       "       mean_eeg_1   std_eeg_1   min_eeg_1   max_eeg_1  25%_eeg_1  50%_eeg_1  \\\n",
       "39162    0.076835   32.417446 -122.286140  149.046906 -18.086931  -0.108086   \n",
       "34834   -6.126316  134.654724 -660.703552  300.267548 -39.717262   9.099180   \n",
       "17202   -0.349705   25.052259  -84.417496  153.223053 -14.338790  -1.384574   \n",
       "36243   -0.222517   16.483498  -79.448227   76.587830  -9.949595  -0.629870   \n",
       "30406   -0.383686   17.262428  -63.992603   54.792847 -11.618362  -0.827503   \n",
       "\n",
       "       75%_eeg_1  mean_eeg_2  std_eeg_2   min_eeg_2         ...           \\\n",
       "39162  15.207180    0.335526  76.267288 -326.762573         ...            \n",
       "34834  58.278394   -0.211475  26.672749 -169.483994         ...            \n",
       "17202  13.177164   -0.276397  26.579996 -102.332413         ...            \n",
       "36243   9.327966   -0.099979  11.868994  -59.959675         ...            \n",
       "30406  11.180586   -0.564495  16.451038  -65.157051         ...            \n",
       "\n",
       "       25%_accelerometer_y  50%_accelerometer_y  75%_accelerometer_y  \\\n",
       "39162            -0.000286             0.000083             0.000317   \n",
       "34834            -0.000437            -0.000024             0.000504   \n",
       "17202            -0.000734            -0.000177             0.000795   \n",
       "36243            -0.000113            -0.000024             0.000104   \n",
       "30406            -0.000343             0.000026             0.000271   \n",
       "\n",
       "       mean_accelerometer_z  std_accelerometer_z  min_accelerometer_z  \\\n",
       "39162              0.000020             0.001472            -0.002662   \n",
       "34834              0.000061             0.001281            -0.002203   \n",
       "17202              0.000010             0.000681            -0.001053   \n",
       "36243              0.000018             0.000251            -0.000602   \n",
       "30406             -0.000049             0.000765            -0.001497   \n",
       "\n",
       "       max_accelerometer_z  25%_accelerometer_z  50%_accelerometer_z  \\\n",
       "39162             0.002513            -0.001274            -0.000031   \n",
       "34834             0.002485            -0.001130            -0.000109   \n",
       "17202             0.001583            -0.000548            -0.000222   \n",
       "36243             0.000529            -0.000180             0.000038   \n",
       "30406             0.001075            -0.000807             0.000168   \n",
       "\n",
       "       75%_accelerometer_z  \n",
       "39162             0.001405  \n",
       "34834             0.001208  \n",
       "17202             0.000600  \n",
       "36243             0.000215  \n",
       "30406             0.000620  \n",
       "\n",
       "[5 rows x 63 columns]"
      ]
     },
     "execution_count": 13,
     "metadata": {},
     "output_type": "execute_result"
    }
   ],
   "source": [
    "L= list(eeg.columns) + list(acc.columns) + list(pulse.columns)#eeg.columns + acc.columns + pulse.columns\n",
    "Xnaif = X.drop(columns=L, inplace=False)\n",
    "X_testnaif = X_test.drop(columns=L, inplace=False)\n",
    "\n",
    "Xnaif.head()"
   ]
  },
  {
   "cell_type": "code",
   "execution_count": 14,
   "metadata": {},
   "outputs": [
    {
     "data": {
      "text/html": [
       "<div>\n",
       "<style scoped>\n",
       "    .dataframe tbody tr th:only-of-type {\n",
       "        vertical-align: middle;\n",
       "    }\n",
       "\n",
       "    .dataframe tbody tr th {\n",
       "        vertical-align: top;\n",
       "    }\n",
       "\n",
       "    .dataframe thead th {\n",
       "        text-align: right;\n",
       "    }\n",
       "</style>\n",
       "<table border=\"1\" class=\"dataframe\">\n",
       "  <thead>\n",
       "    <tr style=\"text-align: right;\">\n",
       "      <th></th>\n",
       "      <th>eeg1_Delta0</th>\n",
       "      <th>eeg1_Theta0</th>\n",
       "      <th>eeg1_Alpha0</th>\n",
       "      <th>eeg1_Beta0</th>\n",
       "      <th>eeg1_Gamma0</th>\n",
       "      <th>eeg2_Delta0</th>\n",
       "      <th>eeg2_Theta0</th>\n",
       "      <th>eeg2_Alpha0</th>\n",
       "      <th>eeg2_Beta0</th>\n",
       "      <th>eeg2_Gamma0</th>\n",
       "      <th>eeg3_Delta0</th>\n",
       "      <th>eeg3_Theta0</th>\n",
       "      <th>eeg3_Alpha0</th>\n",
       "      <th>eeg3_Beta0</th>\n",
       "      <th>eeg3_Gamma0</th>\n",
       "      <th>eeg4_Delta0</th>\n",
       "      <th>eeg4_Theta0</th>\n",
       "      <th>eeg4_Alpha0</th>\n",
       "      <th>eeg4_Beta0</th>\n",
       "      <th>eeg4_Gamma0</th>\n",
       "    </tr>\n",
       "  </thead>\n",
       "  <tbody>\n",
       "    <tr>\n",
       "      <th>39162</th>\n",
       "      <td>40285.462396</td>\n",
       "      <td>1376.071709</td>\n",
       "      <td>1114.581833</td>\n",
       "      <td>137.578679</td>\n",
       "      <td>2.901573</td>\n",
       "      <td>246917.227412</td>\n",
       "      <td>2446.880773</td>\n",
       "      <td>1343.974868</td>\n",
       "      <td>132.810575</td>\n",
       "      <td>2.412203</td>\n",
       "      <td>8.687111e+06</td>\n",
       "      <td>100978.937696</td>\n",
       "      <td>12210.653861</td>\n",
       "      <td>466.162738</td>\n",
       "      <td>23.904798</td>\n",
       "      <td>8.831180e+06</td>\n",
       "      <td>100419.925543</td>\n",
       "      <td>12022.809355</td>\n",
       "      <td>472.082584</td>\n",
       "      <td>23.880356</td>\n",
       "    </tr>\n",
       "    <tr>\n",
       "      <th>34834</th>\n",
       "      <td>205390.070310</td>\n",
       "      <td>2649.082458</td>\n",
       "      <td>1252.175258</td>\n",
       "      <td>182.217804</td>\n",
       "      <td>5.340327</td>\n",
       "      <td>16265.726082</td>\n",
       "      <td>1137.623889</td>\n",
       "      <td>560.823366</td>\n",
       "      <td>54.533571</td>\n",
       "      <td>2.211999</td>\n",
       "      <td>7.628987e+03</td>\n",
       "      <td>129.792270</td>\n",
       "      <td>62.552174</td>\n",
       "      <td>14.989770</td>\n",
       "      <td>1.167515</td>\n",
       "      <td>1.319090e+04</td>\n",
       "      <td>208.417650</td>\n",
       "      <td>106.498447</td>\n",
       "      <td>18.938689</td>\n",
       "      <td>1.013795</td>\n",
       "    </tr>\n",
       "    <tr>\n",
       "      <th>17202</th>\n",
       "      <td>12961.803378</td>\n",
       "      <td>1026.339084</td>\n",
       "      <td>903.627232</td>\n",
       "      <td>37.154247</td>\n",
       "      <td>1.771569</td>\n",
       "      <td>14314.985743</td>\n",
       "      <td>1198.944991</td>\n",
       "      <td>835.142443</td>\n",
       "      <td>44.100467</td>\n",
       "      <td>2.289774</td>\n",
       "      <td>2.333306e+03</td>\n",
       "      <td>518.779139</td>\n",
       "      <td>197.356443</td>\n",
       "      <td>50.518748</td>\n",
       "      <td>2.493520</td>\n",
       "      <td>4.313846e+03</td>\n",
       "      <td>565.448439</td>\n",
       "      <td>260.640598</td>\n",
       "      <td>48.282600</td>\n",
       "      <td>3.145496</td>\n",
       "    </tr>\n",
       "    <tr>\n",
       "      <th>36243</th>\n",
       "      <td>5602.535253</td>\n",
       "      <td>856.704209</td>\n",
       "      <td>326.675211</td>\n",
       "      <td>41.474327</td>\n",
       "      <td>2.707766</td>\n",
       "      <td>3071.472483</td>\n",
       "      <td>748.025161</td>\n",
       "      <td>252.729224</td>\n",
       "      <td>44.531423</td>\n",
       "      <td>3.007998</td>\n",
       "      <td>1.512680e+04</td>\n",
       "      <td>1580.204819</td>\n",
       "      <td>784.473041</td>\n",
       "      <td>153.459829</td>\n",
       "      <td>13.318023</td>\n",
       "      <td>1.547022e+04</td>\n",
       "      <td>1811.189013</td>\n",
       "      <td>772.422733</td>\n",
       "      <td>173.181795</td>\n",
       "      <td>13.493971</td>\n",
       "    </tr>\n",
       "    <tr>\n",
       "      <th>30406</th>\n",
       "      <td>4973.910829</td>\n",
       "      <td>773.885084</td>\n",
       "      <td>453.880167</td>\n",
       "      <td>95.534723</td>\n",
       "      <td>3.177433</td>\n",
       "      <td>4005.175378</td>\n",
       "      <td>757.357239</td>\n",
       "      <td>379.179166</td>\n",
       "      <td>85.365137</td>\n",
       "      <td>2.868846</td>\n",
       "      <td>2.449847e+03</td>\n",
       "      <td>167.703425</td>\n",
       "      <td>97.186634</td>\n",
       "      <td>30.237726</td>\n",
       "      <td>1.612092</td>\n",
       "      <td>1.475166e+03</td>\n",
       "      <td>107.225411</td>\n",
       "      <td>68.677761</td>\n",
       "      <td>33.678046</td>\n",
       "      <td>1.540730</td>\n",
       "    </tr>\n",
       "  </tbody>\n",
       "</table>\n",
       "</div>"
      ],
      "text/plain": [
       "         eeg1_Delta0  eeg1_Theta0  eeg1_Alpha0  eeg1_Beta0  eeg1_Gamma0  \\\n",
       "39162   40285.462396  1376.071709  1114.581833  137.578679     2.901573   \n",
       "34834  205390.070310  2649.082458  1252.175258  182.217804     5.340327   \n",
       "17202   12961.803378  1026.339084   903.627232   37.154247     1.771569   \n",
       "36243    5602.535253   856.704209   326.675211   41.474327     2.707766   \n",
       "30406    4973.910829   773.885084   453.880167   95.534723     3.177433   \n",
       "\n",
       "         eeg2_Delta0  eeg2_Theta0  eeg2_Alpha0  eeg2_Beta0  eeg2_Gamma0  \\\n",
       "39162  246917.227412  2446.880773  1343.974868  132.810575     2.412203   \n",
       "34834   16265.726082  1137.623889   560.823366   54.533571     2.211999   \n",
       "17202   14314.985743  1198.944991   835.142443   44.100467     2.289774   \n",
       "36243    3071.472483   748.025161   252.729224   44.531423     3.007998   \n",
       "30406    4005.175378   757.357239   379.179166   85.365137     2.868846   \n",
       "\n",
       "        eeg3_Delta0    eeg3_Theta0   eeg3_Alpha0  eeg3_Beta0  eeg3_Gamma0  \\\n",
       "39162  8.687111e+06  100978.937696  12210.653861  466.162738    23.904798   \n",
       "34834  7.628987e+03     129.792270     62.552174   14.989770     1.167515   \n",
       "17202  2.333306e+03     518.779139    197.356443   50.518748     2.493520   \n",
       "36243  1.512680e+04    1580.204819    784.473041  153.459829    13.318023   \n",
       "30406  2.449847e+03     167.703425     97.186634   30.237726     1.612092   \n",
       "\n",
       "        eeg4_Delta0    eeg4_Theta0   eeg4_Alpha0  eeg4_Beta0  eeg4_Gamma0  \n",
       "39162  8.831180e+06  100419.925543  12022.809355  472.082584    23.880356  \n",
       "34834  1.319090e+04     208.417650    106.498447   18.938689     1.013795  \n",
       "17202  4.313846e+03     565.448439    260.640598   48.282600     3.145496  \n",
       "36243  1.547022e+04    1811.189013    772.422733  173.181795    13.493971  \n",
       "30406  1.475166e+03     107.225411     68.677761   33.678046     1.540730  "
      ]
     },
     "execution_count": 14,
     "metadata": {},
     "output_type": "execute_result"
    }
   ],
   "source": [
    "L= list(naif.columns[:-1]) + list(acc.columns) + list(pulse.columns)\n",
    "Xeeg = X.drop(columns=L, inplace=False)\n",
    "X_testeeg = X_test.drop(columns=L, inplace=False)\n",
    "\n",
    "Xeeg.head()"
   ]
  },
  {
   "cell_type": "code",
   "execution_count": 15,
   "metadata": {},
   "outputs": [
    {
     "data": {
      "text/html": [
       "<div>\n",
       "<style scoped>\n",
       "    .dataframe tbody tr th:only-of-type {\n",
       "        vertical-align: middle;\n",
       "    }\n",
       "\n",
       "    .dataframe tbody tr th {\n",
       "        vertical-align: top;\n",
       "    }\n",
       "\n",
       "    .dataframe thead th {\n",
       "        text-align: right;\n",
       "    }\n",
       "</style>\n",
       "<table border=\"1\" class=\"dataframe\">\n",
       "  <thead>\n",
       "    <tr style=\"text-align: right;\">\n",
       "      <th></th>\n",
       "      <th>BPM_ir</th>\n",
       "      <th>IBI_ir</th>\n",
       "      <th>SDNN_ir</th>\n",
       "      <th>SDSD_ir</th>\n",
       "      <th>RMSSD_ir</th>\n",
       "      <th>pNN60_ir</th>\n",
       "      <th>pNN20_ir</th>\n",
       "      <th>MAD_ir</th>\n",
       "      <th>BPMlessthan30_ir</th>\n",
       "      <th>max_ir</th>\n",
       "      <th>...</th>\n",
       "      <th>IBI_r</th>\n",
       "      <th>SDNN_r</th>\n",
       "      <th>SDSD_r</th>\n",
       "      <th>RMSSD_r</th>\n",
       "      <th>pNN60_r</th>\n",
       "      <th>pNN20_r</th>\n",
       "      <th>MAD_r</th>\n",
       "      <th>BPMlessthan30_r</th>\n",
       "      <th>max_r</th>\n",
       "      <th>min_r</th>\n",
       "    </tr>\n",
       "  </thead>\n",
       "  <tbody>\n",
       "    <tr>\n",
       "      <th>39162</th>\n",
       "      <td>64</td>\n",
       "      <td>0.937500</td>\n",
       "      <td>0.109175</td>\n",
       "      <td>0.181164</td>\n",
       "      <td>0.178139</td>\n",
       "      <td>0.322581</td>\n",
       "      <td>0.419355</td>\n",
       "      <td>3.0</td>\n",
       "      <td>0</td>\n",
       "      <td>159.165650</td>\n",
       "      <td>...</td>\n",
       "      <td>0.937500</td>\n",
       "      <td>0.176711</td>\n",
       "      <td>0.310616</td>\n",
       "      <td>0.305396</td>\n",
       "      <td>0.419355</td>\n",
       "      <td>0.483871</td>\n",
       "      <td>5.0</td>\n",
       "      <td>0</td>\n",
       "      <td>71.218035</td>\n",
       "      <td>-110.005374</td>\n",
       "    </tr>\n",
       "    <tr>\n",
       "      <th>34834</th>\n",
       "      <td>42</td>\n",
       "      <td>1.428571</td>\n",
       "      <td>0.149230</td>\n",
       "      <td>0.185624</td>\n",
       "      <td>0.180700</td>\n",
       "      <td>0.450000</td>\n",
       "      <td>0.500000</td>\n",
       "      <td>7.0</td>\n",
       "      <td>0</td>\n",
       "      <td>463.333994</td>\n",
       "      <td>...</td>\n",
       "      <td>1.363636</td>\n",
       "      <td>0.311292</td>\n",
       "      <td>0.504906</td>\n",
       "      <td>0.492382</td>\n",
       "      <td>0.380952</td>\n",
       "      <td>0.428571</td>\n",
       "      <td>12.0</td>\n",
       "      <td>0</td>\n",
       "      <td>18.646024</td>\n",
       "      <td>-19.200908</td>\n",
       "    </tr>\n",
       "    <tr>\n",
       "      <th>17202</th>\n",
       "      <td>46</td>\n",
       "      <td>1.304348</td>\n",
       "      <td>0.077208</td>\n",
       "      <td>0.097140</td>\n",
       "      <td>0.094919</td>\n",
       "      <td>0.272727</td>\n",
       "      <td>0.272727</td>\n",
       "      <td>2.0</td>\n",
       "      <td>0</td>\n",
       "      <td>173.766202</td>\n",
       "      <td>...</td>\n",
       "      <td>1.304348</td>\n",
       "      <td>0.121206</td>\n",
       "      <td>0.182746</td>\n",
       "      <td>0.178406</td>\n",
       "      <td>0.318182</td>\n",
       "      <td>0.454545</td>\n",
       "      <td>3.5</td>\n",
       "      <td>0</td>\n",
       "      <td>55.690834</td>\n",
       "      <td>-71.053743</td>\n",
       "    </tr>\n",
       "    <tr>\n",
       "      <th>36243</th>\n",
       "      <td>66</td>\n",
       "      <td>0.909091</td>\n",
       "      <td>0.285420</td>\n",
       "      <td>0.448515</td>\n",
       "      <td>0.441245</td>\n",
       "      <td>0.406250</td>\n",
       "      <td>0.468750</td>\n",
       "      <td>4.5</td>\n",
       "      <td>0</td>\n",
       "      <td>50.048443</td>\n",
       "      <td>...</td>\n",
       "      <td>0.857143</td>\n",
       "      <td>0.348894</td>\n",
       "      <td>0.508355</td>\n",
       "      <td>0.500993</td>\n",
       "      <td>0.411765</td>\n",
       "      <td>0.441176</td>\n",
       "      <td>11.5</td>\n",
       "      <td>0</td>\n",
       "      <td>11.227485</td>\n",
       "      <td>-14.936124</td>\n",
       "    </tr>\n",
       "    <tr>\n",
       "      <th>30406</th>\n",
       "      <td>60</td>\n",
       "      <td>1.000000</td>\n",
       "      <td>0.076622</td>\n",
       "      <td>0.089853</td>\n",
       "      <td>0.088237</td>\n",
       "      <td>0.103448</td>\n",
       "      <td>0.172414</td>\n",
       "      <td>2.0</td>\n",
       "      <td>0</td>\n",
       "      <td>190.410723</td>\n",
       "      <td>...</td>\n",
       "      <td>1.000000</td>\n",
       "      <td>0.094577</td>\n",
       "      <td>0.110267</td>\n",
       "      <td>0.108364</td>\n",
       "      <td>0.137931</td>\n",
       "      <td>0.206897</td>\n",
       "      <td>2.0</td>\n",
       "      <td>0</td>\n",
       "      <td>100.155542</td>\n",
       "      <td>-178.603391</td>\n",
       "    </tr>\n",
       "  </tbody>\n",
       "</table>\n",
       "<p>5 rows × 22 columns</p>\n",
       "</div>"
      ],
      "text/plain": [
       "       BPM_ir    IBI_ir   SDNN_ir   SDSD_ir  RMSSD_ir  pNN60_ir  pNN20_ir  \\\n",
       "39162      64  0.937500  0.109175  0.181164  0.178139  0.322581  0.419355   \n",
       "34834      42  1.428571  0.149230  0.185624  0.180700  0.450000  0.500000   \n",
       "17202      46  1.304348  0.077208  0.097140  0.094919  0.272727  0.272727   \n",
       "36243      66  0.909091  0.285420  0.448515  0.441245  0.406250  0.468750   \n",
       "30406      60  1.000000  0.076622  0.089853  0.088237  0.103448  0.172414   \n",
       "\n",
       "       MAD_ir  BPMlessthan30_ir      max_ir     ...         IBI_r    SDNN_r  \\\n",
       "39162     3.0                 0  159.165650     ...      0.937500  0.176711   \n",
       "34834     7.0                 0  463.333994     ...      1.363636  0.311292   \n",
       "17202     2.0                 0  173.766202     ...      1.304348  0.121206   \n",
       "36243     4.5                 0   50.048443     ...      0.857143  0.348894   \n",
       "30406     2.0                 0  190.410723     ...      1.000000  0.094577   \n",
       "\n",
       "         SDSD_r   RMSSD_r   pNN60_r   pNN20_r  MAD_r  BPMlessthan30_r  \\\n",
       "39162  0.310616  0.305396  0.419355  0.483871    5.0                0   \n",
       "34834  0.504906  0.492382  0.380952  0.428571   12.0                0   \n",
       "17202  0.182746  0.178406  0.318182  0.454545    3.5                0   \n",
       "36243  0.508355  0.500993  0.411765  0.441176   11.5                0   \n",
       "30406  0.110267  0.108364  0.137931  0.206897    2.0                0   \n",
       "\n",
       "            max_r       min_r  \n",
       "39162   71.218035 -110.005374  \n",
       "34834   18.646024  -19.200908  \n",
       "17202   55.690834  -71.053743  \n",
       "36243   11.227485  -14.936124  \n",
       "30406  100.155542 -178.603391  \n",
       "\n",
       "[5 rows x 22 columns]"
      ]
     },
     "execution_count": 15,
     "metadata": {},
     "output_type": "execute_result"
    }
   ],
   "source": [
    "L= list(naif.columns[:-1]) + list(acc.columns) + list(eeg.columns)\n",
    "Xpulse= X.drop(columns=L, inplace=False)\n",
    "X_testpulse = X_test.drop(columns=L, inplace=False)\n",
    "\n",
    "Xpulse.head()"
   ]
  },
  {
   "cell_type": "code",
   "execution_count": 16,
   "metadata": {},
   "outputs": [
    {
     "data": {
      "text/html": [
       "<div>\n",
       "<style scoped>\n",
       "    .dataframe tbody tr th:only-of-type {\n",
       "        vertical-align: middle;\n",
       "    }\n",
       "\n",
       "    .dataframe tbody tr th {\n",
       "        vertical-align: top;\n",
       "    }\n",
       "\n",
       "    .dataframe thead th {\n",
       "        text-align: right;\n",
       "    }\n",
       "</style>\n",
       "<table border=\"1\" class=\"dataframe\">\n",
       "  <thead>\n",
       "    <tr style=\"text-align: right;\">\n",
       "      <th></th>\n",
       "      <th>di</th>\n",
       "      <th>zc</th>\n",
       "      <th>tat</th>\n",
       "      <th>Ax</th>\n",
       "      <th>Ay</th>\n",
       "      <th>Az</th>\n",
       "      <th>phi</th>\n",
       "      <th>theta</th>\n",
       "    </tr>\n",
       "  </thead>\n",
       "  <tbody>\n",
       "    <tr>\n",
       "      <th>39162</th>\n",
       "      <td>0.001473</td>\n",
       "      <td>0</td>\n",
       "      <td>0.0</td>\n",
       "      <td>8</td>\n",
       "      <td>7</td>\n",
       "      <td>8</td>\n",
       "      <td>8</td>\n",
       "      <td>23</td>\n",
       "    </tr>\n",
       "    <tr>\n",
       "      <th>34834</th>\n",
       "      <td>0.001254</td>\n",
       "      <td>0</td>\n",
       "      <td>0.0</td>\n",
       "      <td>9</td>\n",
       "      <td>8</td>\n",
       "      <td>8</td>\n",
       "      <td>9</td>\n",
       "      <td>17</td>\n",
       "    </tr>\n",
       "    <tr>\n",
       "      <th>17202</th>\n",
       "      <td>0.001287</td>\n",
       "      <td>0</td>\n",
       "      <td>0.0</td>\n",
       "      <td>7</td>\n",
       "      <td>6</td>\n",
       "      <td>6</td>\n",
       "      <td>8</td>\n",
       "      <td>14</td>\n",
       "    </tr>\n",
       "    <tr>\n",
       "      <th>36243</th>\n",
       "      <td>0.000382</td>\n",
       "      <td>0</td>\n",
       "      <td>0.0</td>\n",
       "      <td>10</td>\n",
       "      <td>9</td>\n",
       "      <td>9</td>\n",
       "      <td>12</td>\n",
       "      <td>20</td>\n",
       "    </tr>\n",
       "    <tr>\n",
       "      <th>30406</th>\n",
       "      <td>0.001564</td>\n",
       "      <td>2</td>\n",
       "      <td>0.0</td>\n",
       "      <td>6</td>\n",
       "      <td>7</td>\n",
       "      <td>5</td>\n",
       "      <td>6</td>\n",
       "      <td>13</td>\n",
       "    </tr>\n",
       "  </tbody>\n",
       "</table>\n",
       "</div>"
      ],
      "text/plain": [
       "             di  zc  tat  Ax  Ay  Az  phi  theta\n",
       "39162  0.001473   0  0.0   8   7   8    8     23\n",
       "34834  0.001254   0  0.0   9   8   8    9     17\n",
       "17202  0.001287   0  0.0   7   6   6    8     14\n",
       "36243  0.000382   0  0.0  10   9   9   12     20\n",
       "30406  0.001564   2  0.0   6   7   5    6     13"
      ]
     },
     "execution_count": 16,
     "metadata": {},
     "output_type": "execute_result"
    }
   ],
   "source": [
    "L= list(naif.columns[:-1]) + list(pulse.columns) + list(eeg.columns)\n",
    "Xacc= X.drop(columns=L, inplace=False)\n",
    "X_testacc = X_test.drop(columns=L, inplace=False)\n",
    "\n",
    "Xacc.head()"
   ]
  },
  {
   "cell_type": "code",
   "execution_count": 17,
   "metadata": {},
   "outputs": [],
   "source": [
    "def plot_confusion_matrix(cm, classes,\n",
    "                          normalize=False,\n",
    "                          title='Confusion matrix',\n",
    "                          cmap=plt.cm.Blues):\n",
    "    \"\"\"\n",
    "    This function prints and plots the confusion matrix.\n",
    "    Normalization can be applied by setting `normalize=True`.\n",
    "    \"\"\"\n",
    "    if normalize:\n",
    "        cm = cm.astype('float') / cm.sum(axis=1)[:, np.newaxis]\n",
    "        print(\"Normalized confusion matrix\")\n",
    "    else:\n",
    "        print('Confusion matrix, without normalization')\n",
    "\n",
    "    print(cm)\n",
    "\n",
    "    plt.imshow(cm, interpolation='nearest', cmap=cmap)\n",
    "    plt.title(title)\n",
    "    plt.colorbar()\n",
    "    tick_marks = np.arange(len(classes))\n",
    "    plt.xticks(tick_marks, classes, rotation=45)\n",
    "    plt.yticks(tick_marks, classes)\n",
    "\n",
    "    fmt = '.2f' if normalize else 'd'\n",
    "    thresh = cm.max() / 2.\n",
    "    for i, j in itertools.product(range(cm.shape[0]), range(cm.shape[1])):\n",
    "        plt.text(j, i, format(cm[i, j], fmt),\n",
    "                 horizontalalignment=\"center\",\n",
    "                 color=\"white\" if cm[i, j] > thresh else \"black\")\n",
    "\n",
    "    plt.tight_layout()\n",
    "    plt.ylabel('True label')\n",
    "    plt.xlabel('Predicted label')\n"
   ]
  },
  {
   "cell_type": "code",
   "execution_count": 18,
   "metadata": {},
   "outputs": [],
   "source": [
    "# %load \"C:\\\\Users\\\\i053131\\Desktop\\\\Epilepsie\\\\Dreem\\\\src\\\\utils\\\\error.py\"\n",
    "\n",
    "def AnalyzeError(y_true, y_pred):\n",
    "    fig, ax = plt.subplots(figsize=(20,10))\n",
    "    plt.subplot(1,2, 1)\n",
    "    sns.countplot(x=0, data=pd.DataFrame(y_true))\n",
    "    plt.ylim(0, 4000)\n",
    "    plt.subplot(1,2, 2)\n",
    "    sns.countplot(x=0, data=pd.DataFrame(y_pred))\n",
    "    plt.ylim(0, 4000)\n",
    "    fig.suptitle(\"Actual and predicted distribution\", size =  'x-large')\n",
    "    plt.show()\n",
    "    \n",
    "    df_ = pd.DataFrame()\n",
    "    df_[\"Test\"]= y_true\n",
    "    df_[\"Pred\"] = y_pred\n",
    "    df_['error'] = df_.Test != df_.Pred\n",
    "    #sns.countplot(x=\"Test\", data=df_[df_.error])\n",
    "    \n",
    "    error0 = df_[(df_.error) & (df_.Test==0)].count()[0] / df_[df_.Test==0].count()[0]\n",
    "    error1 = df_[(df_.error) & (df_.Test==1)].count()[0] / df_[df_.Test==1].count()[0]\n",
    "    error2 = df_[(df_.error) & (df_.Test==2)].count()[0] / df_[df_.Test==2].count()[0]\n",
    "    error3 = df_[(df_.error) & (df_.Test==3)].count()[0] / df_[df_.Test==3].count()[0]\n",
    "    error4 = df_[(df_.error) & (df_.Test==4)].count()[0] / df_[df_.Test==4].count()[0]\n",
    "\n",
    "    Lerror = [error0, error1, error2, error3, error4]\n",
    "    sns.barplot(x=[0, 1, 2, 3, 4], y=Lerror)\n",
    "    plt.title('Wrongly classified in a phase in percent of the test population for this phase')\n",
    "    plt.show()"
   ]
  },
  {
   "cell_type": "code",
   "execution_count": null,
   "metadata": {},
   "outputs": [],
   "source": []
  },
  {
   "cell_type": "markdown",
   "metadata": {},
   "source": [
    "## for comparaison only on naif features\n",
    "Only naive features with gradient boosting\n",
    "n_estimators = 100\n",
    "kappa:  0.683\n",
    "accurancy: 0.777\n",
    "\n",
    "\n",
    "{'learning_rate': 0.1, 'max_depth': 15, 'min_samples_leaf': 1, 'min_samples_split': 2, 'subsample': 0.8}\n",
    "- kappa:  0.6790102154750923\n",
    "- accurancy for n_estimators  =  0.7741273100616016\n",
    "\n",
    "\n",
    "{'learning_rate': 0.1, 'max_depth': 10, 'min_samples_leaf': 1, 'min_samples_split': 2, 'subsample': 0.8}\n",
    "- kappa:  0.6832914749130093\n",
    "- accurancy for n_estimators  =  0.7767510837326033\n",
    "\n",
    "\"Seleccted)\n",
    "i=110\n",
    "gbc = GradientBoostingClassifier(n_estimators = i, random_state=42, learning_rate= 0.1, max_depth= 10, \n",
    "                             min_samples_leaf= 1, min_samples_split= 2, subsample= 0.8)\n",
    "- for n_estimators=  110\n",
    "- log loss =  0.5953633123652049\n",
    "- kappa =  0.685\n",
    "- accuracy =  0.778\n"
   ]
  },
  {
   "cell_type": "code",
   "execution_count": 18,
   "metadata": {},
   "outputs": [
    {
     "name": "stdout",
     "output_type": "stream",
     "text": [
      "Fitting 3 folds for each of 8 candidates, totalling 24 fits\n"
     ]
    },
    {
     "name": "stderr",
     "output_type": "stream",
     "text": [
      "[Parallel(n_jobs=-1)]: Done  22 out of  24 | elapsed: 216.3min remaining: 19.7min\n",
      "[Parallel(n_jobs=-1)]: Done  24 out of  24 | elapsed: 217.4min finished\n"
     ]
    },
    {
     "name": "stdout",
     "output_type": "stream",
     "text": [
      "{'learning_rate': 0.1, 'max_depth': 15, 'min_samples_leaf': 1, 'min_samples_split': 2, 'subsample': 0.8}\n",
      "kappa:  0.6790102154750923\n",
      "accurancy for n_estimators  =  0.7741273100616016\n"
     ]
    }
   ],
   "source": [
    "gbc = GradientBoostingClassifier(n_estimators = 100, random_state=42)\n",
    "\n",
    "r1 = [1]\n",
    "r2 = [2]\n",
    "parametres = {'max_depth': [15, 20] ,'learning_rate': [0.01, 0.1], \"min_samples_leaf\" : r1,  \n",
    "              \"min_samples_split\" : r2, 'subsample': [0.8, 1.0]}\n",
    "    \n",
    "ck_score = make_scorer(cohen_kappa_score)\n",
    "grid = GridSearchCV(estimator=gbc, param_grid=parametres, scoring=ck_score, n_jobs=-1, verbose=2)\n",
    "\n",
    "grid_fitted = grid.fit(Xnaif,y)\n",
    "print(grid_fitted.best_params_)\n",
    "\n",
    "y_pred = grid.predict(X_testnaif)\n",
    "\n",
    "print(\"kappa: \", cohen_kappa_score(y_true, y_pred))\n",
    "print(\"accurancy for n_estimators  = \" , accuracy_score(y_true, y_pred))"
   ]
  },
  {
   "cell_type": "code",
   "execution_count": 19,
   "metadata": {},
   "outputs": [
    {
     "name": "stdout",
     "output_type": "stream",
     "text": [
      "Fitting 3 folds for each of 4 candidates, totalling 12 fits\n"
     ]
    },
    {
     "name": "stderr",
     "output_type": "stream",
     "text": [
      "[Parallel(n_jobs=-1)]: Done   4 out of  12 | elapsed: 13.4min remaining: 26.9min\n",
      "[Parallel(n_jobs=-1)]: Done  12 out of  12 | elapsed: 40.5min finished\n"
     ]
    },
    {
     "name": "stdout",
     "output_type": "stream",
     "text": [
      "{'learning_rate': 0.1, 'max_depth': 10, 'min_samples_leaf': 1, 'min_samples_split': 2, 'subsample': 0.8}\n",
      "kappa:  0.6832914749130093\n",
      "accurancy for n_estimators  =  0.7767510837326033\n"
     ]
    }
   ],
   "source": [
    "gbc = GradientBoostingClassifier(n_estimators = 100, random_state=42)\n",
    "\n",
    "r1 = [1]\n",
    "r2 = [2]\n",
    "parametres = {'max_depth': [10, 15] ,'learning_rate': [0.1], \"min_samples_leaf\" : r1,  \n",
    "              \"min_samples_split\" : r2, 'subsample': [0.6, 0.8]}\n",
    "    \n",
    "ck_score = make_scorer(cohen_kappa_score)\n",
    "grid = GridSearchCV(estimator=gbc, param_grid=parametres, scoring=ck_score, n_jobs=-1, verbose=2)\n",
    "\n",
    "grid_fitted = grid.fit(Xnaif,y)\n",
    "print(grid_fitted.best_params_)\n",
    "\n",
    "y_pred = grid.predict(X_testnaif)\n",
    "\n",
    "print(\"kappa: \", cohen_kappa_score(y_true, y_pred))\n",
    "print(\"accurancy for n_estimators  = \" , accuracy_score(y_true, y_pred))"
   ]
  },
  {
   "cell_type": "code",
   "execution_count": 62,
   "metadata": {},
   "outputs": [
    {
     "name": "stdout",
     "output_type": "stream",
     "text": [
      "for n_estimators=  10\n",
      "log loss =  0.841330950323561\n",
      "kappa =  0.6152791092921746\n",
      "accuracy =  0.731462468628793\n",
      "for n_estimators=  20\n",
      "log loss =  0.6991318064712615\n",
      "kappa =  0.646545834696387\n",
      "accuracy =  0.7521104266484143\n",
      "for n_estimators=  30\n",
      "log loss =  0.6506838951999258\n",
      "kappa =  0.6591627834776435\n",
      "accuracy =  0.7604380561259412\n",
      "for n_estimators=  40\n",
      "log loss =  0.6279082604462354\n",
      "kappa =  0.6671227021184822\n",
      "accuracy =  0.7656856034679443\n",
      "for n_estimators=  50\n",
      "log loss =  0.6157174243446724\n",
      "kappa =  0.6736238795371268\n",
      "accuracy =  0.770134610997034\n",
      "for n_estimators=  60\n",
      "log loss =  0.6081613320675608\n",
      "kappa =  0.6790041704396759\n",
      "accuracy =  0.7737850787132101\n",
      "for n_estimators=  70\n",
      "log loss =  0.6014348290500459\n",
      "kappa =  0.6823830986931975\n",
      "accuracy =  0.7761806981519507\n",
      "for n_estimators=  80\n",
      "log loss =  0.5979212136425107\n",
      "kappa =  0.6841113563353737\n",
      "accuracy =  0.7773214693132557\n",
      "for n_estimators=  90\n",
      "log loss =  0.5955819215342624\n",
      "kappa =  0.6843653987943485\n",
      "accuracy =  0.7775496235455168\n",
      "for n_estimators=  100\n",
      "log loss =  0.5962801152550214\n",
      "kappa =  0.6832914749130093\n",
      "accuracy =  0.7767510837326033\n",
      "for n_estimators=  110\n",
      "log loss =  0.5953633123652049\n",
      "kappa =  0.6849453542410661\n",
      "accuracy =  0.7780059320100388\n",
      "for n_estimators=  120\n",
      "log loss =  0.5972150846106977\n",
      "kappa =  0.6879328935570722\n",
      "accuracy =  0.7801733972165183\n",
      "for n_estimators=  130\n",
      "log loss =  0.5993535238070012\n",
      "kappa =  0.6884182961593368\n",
      "accuracy =  0.7804015514487794\n",
      "for n_estimators=  140\n",
      "log loss =  0.6004938056581751\n",
      "kappa =  0.6897833208263991\n",
      "accuracy =  0.7813141683778234\n",
      "for n_estimators=  150\n",
      "log loss =  0.6032476060417435\n",
      "kappa =  0.6938005831504165\n",
      "accuracy =  0.7840520191649555\n",
      "for n_estimators=  160\n",
      "log loss =  0.6063502568148286\n",
      "kappa =  0.6944297683115588\n",
      "accuracy =  0.7845083276294775\n",
      "for n_estimators=  170\n",
      "log loss =  0.6107263320641769\n",
      "kappa =  0.6942376324674236\n",
      "accuracy =  0.784394250513347\n",
      "for n_estimators=  180\n",
      "log loss =  0.6153156235482602\n",
      "kappa =  0.6961658020995205\n",
      "accuracy =  0.7856490987907826\n",
      "for n_estimators=  190\n",
      "log loss =  0.6202436605672167\n",
      "kappa =  0.6954545557698666\n",
      "accuracy =  0.7851927903262605\n"
     ]
    }
   ],
   "source": [
    "r = range(10, 200 , 10)\n",
    "errors = []\n",
    "Lk = []\n",
    "La = []\n",
    "for i in r:\n",
    "    gbc = GradientBoostingClassifier(n_estimators = i, random_state=42, learning_rate= 0.1, max_depth= 10, \n",
    "                                 min_samples_leaf= 1, min_samples_split= 2, subsample= 0.8)\n",
    "    gbc.fit(Xnaif, y)\n",
    "    ll = log_loss(y_true, gbc.predict_proba(X_testnaif))\n",
    "    errors.append(ll)\n",
    "    y_pred = gbc.predict(X_testnaif)\n",
    "    k=cohen_kappa_score(y_true, y_pred)\n",
    "    a= accuracy_score(y_true, y_pred)\n",
    "    print(\"for n_estimators= \", i)\n",
    "    print(\"log loss = \", ll)\n",
    "    print(\"kappa = \", k)\n",
    "    print(\"accuracy = \", a)\n",
    "    Lk.append(k)\n",
    "    La.append(a)"
   ]
  },
  {
   "cell_type": "code",
   "execution_count": 65,
   "metadata": {},
   "outputs": [
    {
     "data": {
      "text/plain": [
       "[<matplotlib.lines.Line2D at 0x19dceb75b38>]"
      ]
     },
     "execution_count": 65,
     "metadata": {},
     "output_type": "execute_result"
    },
    {
     "data": {
      "image/png": "[encoded data removed]",
      "text/plain": [
       "<Figure size 432x288 with 1 Axes>"
      ]
     },
     "metadata": {},
     "output_type": "display_data"
    }
   ],
   "source": [
    "plt.plot(r, errors, label = \"log loss\")"
   ]
  },
  {
   "cell_type": "code",
   "execution_count": 66,
   "metadata": {},
   "outputs": [
    {
     "data": {
      "text/plain": [
       "<matplotlib.legend.Legend at 0x19dd769c160>"
      ]
     },
     "execution_count": 66,
     "metadata": {},
     "output_type": "execute_result"
    },
    {
     "data": {
      "image/png": "[encoded data removed]",
      "text/plain": [
       "<Figure size 432x288 with 1 Axes>"
      ]
     },
     "metadata": {},
     "output_type": "display_data"
    }
   ],
   "source": [
    "plt.plot(r, La, label = \"accuracy\")\n",
    "plt.plot(r, Lk, label = \"kappa\")\n",
    "plt.legend(loc='lower right')"
   ]
  },
  {
   "cell_type": "markdown",
   "metadata": {},
   "source": [
    "go for 110\n",
    "- for n_estimators=  110\n",
    "- log loss =  0.5953633123652049\n",
    "- kappa =  0.685\n",
    "- accuracy =  0.778"
   ]
  },
  {
   "cell_type": "code",
   "execution_count": 67,
   "metadata": {},
   "outputs": [
    {
     "name": "stdout",
     "output_type": "stream",
     "text": [
      "for n_estimators=  110\n",
      "log loss =  0.5953633123652049\n",
      "kappa =  0.6849453542410661\n",
      "accuracy =  0.7780059320100388\n"
     ]
    }
   ],
   "source": [
    "errors = []\n",
    "Lk = []\n",
    "La = []\n",
    "\n",
    "i=110\n",
    "gbc = GradientBoostingClassifier(n_estimators = i, random_state=42, learning_rate= 0.1, max_depth= 10, \n",
    "                             min_samples_leaf= 1, min_samples_split= 2, subsample= 0.8)\n",
    "gbc.fit(Xnaif, y)\n",
    "ll = log_loss(y_true, gbc.predict_proba(X_testnaif))\n",
    "\n",
    "y_pred = gbc.predict(X_testnaif)\n",
    "k=cohen_kappa_score(y_true, y_pred)\n",
    "a= accuracy_score(y_true, y_pred)\n",
    "print(\"for n_estimators= \", i)\n",
    "print(\"log loss = \", ll)\n",
    "print(\"kappa = \", k)\n",
    "print(\"accuracy = \", a)"
   ]
  },
  {
   "cell_type": "markdown",
   "metadata": {},
   "source": [
    "confusion matrix has to be (re) computed on best hyparameters"
   ]
  },
  {
   "cell_type": "code",
   "execution_count": 68,
   "metadata": {},
   "outputs": [
    {
     "name": "stdout",
     "output_type": "stream",
     "text": [
      "Confusion matrix, without normalization\n",
      "[[ 593    4  233   76   89]\n",
      " [  18   18  143    8   80]\n",
      " [  69    4 2702  267  239]\n",
      " [  41    0  225 2431    3]\n",
      " [  39    4  395    9 1076]]\n",
      "Normalized confusion matrix\n",
      "[[0.6  0.   0.23 0.08 0.09]\n",
      " [0.07 0.07 0.54 0.03 0.3 ]\n",
      " [0.02 0.   0.82 0.08 0.07]\n",
      " [0.02 0.   0.08 0.9  0.  ]\n",
      " [0.03 0.   0.26 0.01 0.71]]\n"
     ]
    },
    {
     "data": {
      "image/png": "[encoded data removed]",
      "text/plain": [
       "<Figure size 432x288 with 2 Axes>"
      ]
     },
     "metadata": {},
     "output_type": "display_data"
    },
    {
     "data": {
      "image/png": "[encoded data removed]",
      "text/plain": [
       "<Figure size 432x288 with 2 Axes>"
      ]
     },
     "metadata": {},
     "output_type": "display_data"
    }
   ],
   "source": [
    "cnf_matrix = confusion_matrix(y_true, y_pred)\n",
    "np.set_printoptions(precision=2)\n",
    "\n",
    "plt.figure()\n",
    "plot_confusion_matrix(cnf_matrix, classes=[0, 1, 2, 3, 4], title='Confusion matrix, without normalization')\n",
    "\n",
    "plt.figure()\n",
    "plot_confusion_matrix(cnf_matrix, classes=[0, 1, 2, 3, 4], normalize=True,\n",
    "                      title='Normalized confusion matrix')\n",
    "\n",
    "plt.show()"
   ]
  },
  {
   "cell_type": "code",
   "execution_count": 69,
   "metadata": {},
   "outputs": [
    {
     "data": {
      "image/png": "[encoded data removed]",
      "text/plain": [
       "<Figure size 432x288 with 1 Axes>"
      ]
     },
     "metadata": {},
     "output_type": "display_data"
    },
    {
     "data": {
      "text/html": [
       "<div>\n",
       "<style scoped>\n",
       "    .dataframe tbody tr th:only-of-type {\n",
       "        vertical-align: middle;\n",
       "    }\n",
       "\n",
       "    .dataframe tbody tr th {\n",
       "        vertical-align: top;\n",
       "    }\n",
       "\n",
       "    .dataframe thead th {\n",
       "        text-align: right;\n",
       "    }\n",
       "</style>\n",
       "<table border=\"1\" class=\"dataframe\">\n",
       "  <thead>\n",
       "    <tr style=\"text-align: right;\">\n",
       "      <th></th>\n",
       "      <th>importance</th>\n",
       "    </tr>\n",
       "  </thead>\n",
       "  <tbody>\n",
       "    <tr>\n",
       "      <th>75%_eeg_1</th>\n",
       "      <td>0.046087</td>\n",
       "    </tr>\n",
       "    <tr>\n",
       "      <th>75%_eeg_2</th>\n",
       "      <td>0.029155</td>\n",
       "    </tr>\n",
       "    <tr>\n",
       "      <th>25%_eeg_1</th>\n",
       "      <td>0.026081</td>\n",
       "    </tr>\n",
       "    <tr>\n",
       "      <th>25%_eeg_2</th>\n",
       "      <td>0.024603</td>\n",
       "    </tr>\n",
       "    <tr>\n",
       "      <th>50%_po_ir</th>\n",
       "      <td>0.020956</td>\n",
       "    </tr>\n",
       "    <tr>\n",
       "      <th>min_eeg_1</th>\n",
       "      <td>0.020810</td>\n",
       "    </tr>\n",
       "    <tr>\n",
       "      <th>50%_po_r</th>\n",
       "      <td>0.020513</td>\n",
       "    </tr>\n",
       "    <tr>\n",
       "      <th>50%_accelerometer_z</th>\n",
       "      <td>0.019843</td>\n",
       "    </tr>\n",
       "    <tr>\n",
       "      <th>50%_eeg_1</th>\n",
       "      <td>0.019094</td>\n",
       "    </tr>\n",
       "    <tr>\n",
       "      <th>25%_po_ir</th>\n",
       "      <td>0.018168</td>\n",
       "    </tr>\n",
       "    <tr>\n",
       "      <th>min_accelerometer_x</th>\n",
       "      <td>0.017841</td>\n",
       "    </tr>\n",
       "    <tr>\n",
       "      <th>min_eeg_2</th>\n",
       "      <td>0.017572</td>\n",
       "    </tr>\n",
       "    <tr>\n",
       "      <th>50%_eeg_2</th>\n",
       "      <td>0.017202</td>\n",
       "    </tr>\n",
       "    <tr>\n",
       "      <th>50%_eeg_4</th>\n",
       "      <td>0.016913</td>\n",
       "    </tr>\n",
       "    <tr>\n",
       "      <th>75%_accelerometer_z</th>\n",
       "      <td>0.016893</td>\n",
       "    </tr>\n",
       "    <tr>\n",
       "      <th>std_eeg_1</th>\n",
       "      <td>0.016863</td>\n",
       "    </tr>\n",
       "    <tr>\n",
       "      <th>max_po_ir</th>\n",
       "      <td>0.016765</td>\n",
       "    </tr>\n",
       "    <tr>\n",
       "      <th>max_eeg_1</th>\n",
       "      <td>0.016707</td>\n",
       "    </tr>\n",
       "    <tr>\n",
       "      <th>25%_accelerometer_z</th>\n",
       "      <td>0.016701</td>\n",
       "    </tr>\n",
       "    <tr>\n",
       "      <th>75%_eeg_4</th>\n",
       "      <td>0.016515</td>\n",
       "    </tr>\n",
       "    <tr>\n",
       "      <th>50%_eeg_3</th>\n",
       "      <td>0.016149</td>\n",
       "    </tr>\n",
       "    <tr>\n",
       "      <th>std_po_ir</th>\n",
       "      <td>0.016090</td>\n",
       "    </tr>\n",
       "    <tr>\n",
       "      <th>max_eeg_2</th>\n",
       "      <td>0.015747</td>\n",
       "    </tr>\n",
       "    <tr>\n",
       "      <th>75%_accelerometer_x</th>\n",
       "      <td>0.015691</td>\n",
       "    </tr>\n",
       "    <tr>\n",
       "      <th>25%_po_r</th>\n",
       "      <td>0.015688</td>\n",
       "    </tr>\n",
       "    <tr>\n",
       "      <th>max_accelerometer_x</th>\n",
       "      <td>0.015487</td>\n",
       "    </tr>\n",
       "    <tr>\n",
       "      <th>min_po_ir</th>\n",
       "      <td>0.015273</td>\n",
       "    </tr>\n",
       "    <tr>\n",
       "      <th>75%_eeg_3</th>\n",
       "      <td>0.015225</td>\n",
       "    </tr>\n",
       "    <tr>\n",
       "      <th>std_eeg_2</th>\n",
       "      <td>0.015107</td>\n",
       "    </tr>\n",
       "    <tr>\n",
       "      <th>50%_accelerometer_y</th>\n",
       "      <td>0.015094</td>\n",
       "    </tr>\n",
       "    <tr>\n",
       "      <th>50%_accelerometer_x</th>\n",
       "      <td>0.015002</td>\n",
       "    </tr>\n",
       "    <tr>\n",
       "      <th>25%_eeg_3</th>\n",
       "      <td>0.014729</td>\n",
       "    </tr>\n",
       "    <tr>\n",
       "      <th>25%_eeg_4</th>\n",
       "      <td>0.014601</td>\n",
       "    </tr>\n",
       "    <tr>\n",
       "      <th>max_accelerometer_z</th>\n",
       "      <td>0.014548</td>\n",
       "    </tr>\n",
       "    <tr>\n",
       "      <th>75%_po_r</th>\n",
       "      <td>0.014486</td>\n",
       "    </tr>\n",
       "    <tr>\n",
       "      <th>75%_po_ir</th>\n",
       "      <td>0.014438</td>\n",
       "    </tr>\n",
       "    <tr>\n",
       "      <th>mean_eeg_1</th>\n",
       "      <td>0.014388</td>\n",
       "    </tr>\n",
       "    <tr>\n",
       "      <th>min_accelerometer_z</th>\n",
       "      <td>0.014039</td>\n",
       "    </tr>\n",
       "    <tr>\n",
       "      <th>min_po_r</th>\n",
       "      <td>0.013955</td>\n",
       "    </tr>\n",
       "    <tr>\n",
       "      <th>min_eeg_4</th>\n",
       "      <td>0.013875</td>\n",
       "    </tr>\n",
       "    <tr>\n",
       "      <th>25%_accelerometer_x</th>\n",
       "      <td>0.013855</td>\n",
       "    </tr>\n",
       "    <tr>\n",
       "      <th>mean_po_ir</th>\n",
       "      <td>0.013695</td>\n",
       "    </tr>\n",
       "    <tr>\n",
       "      <th>max_po_r</th>\n",
       "      <td>0.013598</td>\n",
       "    </tr>\n",
       "    <tr>\n",
       "      <th>min_accelerometer_y</th>\n",
       "      <td>0.013585</td>\n",
       "    </tr>\n",
       "    <tr>\n",
       "      <th>std_accelerometer_z</th>\n",
       "      <td>0.013554</td>\n",
       "    </tr>\n",
       "    <tr>\n",
       "      <th>mean_eeg_2</th>\n",
       "      <td>0.013241</td>\n",
       "    </tr>\n",
       "    <tr>\n",
       "      <th>75%_accelerometer_y</th>\n",
       "      <td>0.013194</td>\n",
       "    </tr>\n",
       "    <tr>\n",
       "      <th>min_eeg_3</th>\n",
       "      <td>0.013139</td>\n",
       "    </tr>\n",
       "    <tr>\n",
       "      <th>mean_accelerometer_y</th>\n",
       "      <td>0.012945</td>\n",
       "    </tr>\n",
       "    <tr>\n",
       "      <th>std_po_r</th>\n",
       "      <td>0.012858</td>\n",
       "    </tr>\n",
       "  </tbody>\n",
       "</table>\n",
       "</div>"
      ],
      "text/plain": [
       "                      importance\n",
       "75%_eeg_1               0.046087\n",
       "75%_eeg_2               0.029155\n",
       "25%_eeg_1               0.026081\n",
       "25%_eeg_2               0.024603\n",
       "50%_po_ir               0.020956\n",
       "min_eeg_1               0.020810\n",
       "50%_po_r                0.020513\n",
       "50%_accelerometer_z     0.019843\n",
       "50%_eeg_1               0.019094\n",
       "25%_po_ir               0.018168\n",
       "min_accelerometer_x     0.017841\n",
       "min_eeg_2               0.017572\n",
       "50%_eeg_2               0.017202\n",
       "50%_eeg_4               0.016913\n",
       "75%_accelerometer_z     0.016893\n",
       "std_eeg_1               0.016863\n",
       "max_po_ir               0.016765\n",
       "max_eeg_1               0.016707\n",
       "25%_accelerometer_z     0.016701\n",
       "75%_eeg_4               0.016515\n",
       "50%_eeg_3               0.016149\n",
       "std_po_ir               0.016090\n",
       "max_eeg_2               0.015747\n",
       "75%_accelerometer_x     0.015691\n",
       "25%_po_r                0.015688\n",
       "max_accelerometer_x     0.015487\n",
       "min_po_ir               0.015273\n",
       "75%_eeg_3               0.015225\n",
       "std_eeg_2               0.015107\n",
       "50%_accelerometer_y     0.015094\n",
       "50%_accelerometer_x     0.015002\n",
       "25%_eeg_3               0.014729\n",
       "25%_eeg_4               0.014601\n",
       "max_accelerometer_z     0.014548\n",
       "75%_po_r                0.014486\n",
       "75%_po_ir               0.014438\n",
       "mean_eeg_1              0.014388\n",
       "min_accelerometer_z     0.014039\n",
       "min_po_r                0.013955\n",
       "min_eeg_4               0.013875\n",
       "25%_accelerometer_x     0.013855\n",
       "mean_po_ir              0.013695\n",
       "max_po_r                0.013598\n",
       "min_accelerometer_y     0.013585\n",
       "std_accelerometer_z     0.013554\n",
       "mean_eeg_2              0.013241\n",
       "75%_accelerometer_y     0.013194\n",
       "min_eeg_3               0.013139\n",
       "mean_accelerometer_y    0.012945\n",
       "std_po_r                0.012858"
      ]
     },
     "execution_count": 69,
     "metadata": {},
     "output_type": "execute_result"
    }
   ],
   "source": [
    "importances = gbc.feature_importances_\n",
    "feature_importances = pd.DataFrame(importances, index = Xnaif.columns, \n",
    "                                   columns=['importance']).sort_values('importance', ascending=False)\n",
    "plt.bar(feature_importances.index, feature_importances[\"importance\"])\n",
    "plt.show()\n",
    "\n",
    "feature_importances.head(50)"
   ]
  },
  {
   "cell_type": "markdown",
   "metadata": {},
   "source": [
    "## Features when naive are dropped\n",
    "\n",
    "- original with \"index features\" was\n",
    "\n",
    "{'learning_rate': 0.1, 'max_depth': 15, 'min_samples_leaf': 1, 'min_samples_split': 2, 'subsample': 0.8}\n",
    "kappa:  0.747\n",
    "accurancy : 0.821\n",
    "\n",
    "- when index features is dropped, this drop to \n",
    "{'learning_rate': 0.1, 'max_depth': 15, 'min_samples_leaf': 1, 'min_samples_split': 2, 'subsample': 0.8}\n",
    "kappa:  0.697\n",
    "accurancy for n_estimators  =  0.784\n",
    "\n",
    "- when correcting the bug on pulse data generation (now ir captor is relevant)\n",
    "{'learning_rate': 0.1, 'max_depth': 15, 'min_samples_leaf': 1, 'min_samples_split': 2, 'subsample': 0.8}\n",
    "kappa:  0.720\n",
    "accurancy for n_estimators  =  0.800\n",
    "\n",
    "- when correcting the second bug on pulse (both ir and r captors are relevant\n",
    "    for n_estimators=  50 (being more conservative on parcimonie). performance are comparable \n",
    "\n",
    "kappa =  0.712\n",
    "accuracy =  0.795\n",
    "\n",
    "- as a comparaison, only on naive\n",
    "Only naive features\n",
    "kappa:  0.683\n",
    "accurancy for n_estimators  =  0.777\n",
    "\n"
   ]
  },
  {
   "cell_type": "code",
   "execution_count": 18,
   "metadata": {},
   "outputs": [
    {
     "name": "stdout",
     "output_type": "stream",
     "text": [
      "Fitting 3 folds for each of 6 candidates, totalling 18 fits\n"
     ]
    },
    {
     "name": "stderr",
     "output_type": "stream",
     "text": [
      "[Parallel(n_jobs=-1)]: Done  13 out of  18 | elapsed: 10.7min remaining:  4.1min\n",
      "[Parallel(n_jobs=-1)]: Done  18 out of  18 | elapsed: 13.8min finished\n"
     ]
    },
    {
     "name": "stdout",
     "output_type": "stream",
     "text": [
      "{'learning_rate': 0.1, 'max_depth': 15, 'min_samples_leaf': 1, 'min_samples_split': 2, 'subsample': 0.8}\n",
      "kappa:  0.6989984672872945\n",
      "accurancy for n_estimators  =  0.785763175906913\n"
     ]
    }
   ],
   "source": [
    "gbc = GradientBoostingClassifier(n_estimators = 30, random_state=42)\n",
    "\n",
    "r1 = [1]\n",
    "r2 = [2]\n",
    "parametres = {'max_depth': [5, 10, 15] ,'learning_rate': [0.1], \"min_samples_leaf\" : r1,  \n",
    "              \"min_samples_split\" : r2, 'subsample': [0.6, 0.8]}\n",
    "    \n",
    "ck_score = make_scorer(cohen_kappa_score)\n",
    "grid = GridSearchCV(estimator=gbc, param_grid=parametres, scoring=ck_score, n_jobs=-1, verbose=2)\n",
    "\n",
    "grid_fitted = grid.fit(Xbaseline,y)\n",
    "print(grid_fitted.best_params_)\n",
    "\n",
    "y_pred = grid.predict(X_testbaseline)\n",
    "\n",
    "print(\"kappa: \", cohen_kappa_score(y_true, y_pred))\n",
    "print(\"accurancy for n_estimators  = \" , accuracy_score(y_true, y_pred))"
   ]
  },
  {
   "cell_type": "code",
   "execution_count": 19,
   "metadata": {
    "scrolled": true
   },
   "outputs": [
    {
     "name": "stdout",
     "output_type": "stream",
     "text": [
      "for n_estimators=  10\n",
      "log loss =  0.7745972829864172\n",
      "kappa =  0.6737168269151774\n",
      "accuracy =  0.7681953000228154\n",
      "for n_estimators=  20\n",
      "log loss =  0.6249141999068958\n",
      "kappa =  0.6913123166109882\n",
      "accuracy =  0.7802874743326489\n",
      "for n_estimators=  30\n",
      "log loss =  0.5838732413001252\n",
      "kappa =  0.6989984672872945\n",
      "accuracy =  0.785763175906913\n",
      "for n_estimators=  40\n",
      "log loss =  0.578807626940439\n",
      "kappa =  0.707046682316167\n",
      "accuracy =  0.7913529545973078\n",
      "for n_estimators=  50\n",
      "log loss =  0.5848165098523312\n",
      "kappa =  0.7117956644804364\n",
      "accuracy =  0.7947752680812229\n",
      "for n_estimators=  60\n",
      "log loss =  0.6008935442235342\n",
      "kappa =  0.7143680302917893\n",
      "accuracy =  0.7964864248231804\n",
      "for n_estimators=  70\n",
      "log loss =  0.6171604358868599\n",
      "kappa =  0.716676265809026\n",
      "accuracy =  0.7980835044490076\n",
      "for n_estimators=  80\n",
      "log loss =  0.634649664353186\n",
      "kappa =  0.7193454114590618\n",
      "accuracy =  0.8000228154232261\n",
      "for n_estimators=  90\n",
      "log loss =  0.6523685537977041\n",
      "kappa =  0.722325554834872\n",
      "accuracy =  0.8021902806297057\n"
     ]
    }
   ],
   "source": [
    "errors = []\n",
    "Lk = []\n",
    "La = []\n",
    "\n",
    "r = range(10, 100 , 10)\n",
    "\n",
    "for i in r:\n",
    "    gbc = GradientBoostingClassifier(n_estimators = i, random_state=42, learning_rate= 0.1, max_depth= 15, \n",
    "                                 min_samples_leaf= 1, min_samples_split= 2, subsample= 0.8)\n",
    "    gbc.fit(Xbaseline, y)\n",
    "    ll = log_loss(y_true, gbc.predict_proba(X_testbaseline))\n",
    "    errors.append(ll)\n",
    "    y_pred = gbc.predict(X_testbaseline)\n",
    "    k=cohen_kappa_score(y_true, y_pred)\n",
    "    a= accuracy_score(y_true, y_pred)\n",
    "    print(\"for n_estimators= \", i)\n",
    "    print(\"log loss = \", ll)\n",
    "    print(\"kappa = \", k)\n",
    "    print(\"accuracy = \", a)\n",
    "    Lk.append(k)\n",
    "    La.append(a)"
   ]
  },
  {
   "cell_type": "code",
   "execution_count": 22,
   "metadata": {},
   "outputs": [
    {
     "data": {
      "text/plain": [
       "[<matplotlib.lines.Line2D at 0x19dd306a978>]"
      ]
     },
     "execution_count": 22,
     "metadata": {},
     "output_type": "execute_result"
    },
    {
     "data": {
      "image/png": "[encoded data removed]",
      "text/plain": [
       "<Figure size 432x288 with 1 Axes>"
      ]
     },
     "metadata": {},
     "output_type": "display_data"
    }
   ],
   "source": [
    "plt.plot(r, errors, label = \"log loss\")\n"
   ]
  },
  {
   "cell_type": "code",
   "execution_count": 23,
   "metadata": {},
   "outputs": [
    {
     "data": {
      "text/plain": [
       "<matplotlib.legend.Legend at 0x19dd2ba4940>"
      ]
     },
     "execution_count": 23,
     "metadata": {},
     "output_type": "execute_result"
    },
    {
     "data": {
      "image/png": "[encoded data removed]",
      "text/plain": [
       "<Figure size 432x288 with 1 Axes>"
      ]
     },
     "metadata": {},
     "output_type": "display_data"
    }
   ],
   "source": [
    "plt.plot(r, La, label = \"accuracy\")\n",
    "plt.plot(r, Lk, label = \"kappa\")\n",
    "plt.legend(loc='lower right')"
   ]
  },
  {
   "cell_type": "markdown",
   "metadata": {},
   "source": [
    "Go for 50"
   ]
  },
  {
   "cell_type": "code",
   "execution_count": 24,
   "metadata": {},
   "outputs": [
    {
     "name": "stdout",
     "output_type": "stream",
     "text": [
      "for n_estimators=  50\n",
      "log loss =  0.5848165098523312\n",
      "kappa =  0.7117956644804364\n",
      "accuracy =  0.7947752680812229\n"
     ]
    }
   ],
   "source": [
    "errors = []\n",
    "Lk = []\n",
    "La = []\n",
    "\n",
    "i=50\n",
    "gbc = GradientBoostingClassifier(n_estimators = i, random_state=42, learning_rate= 0.1, max_depth= 15, \n",
    "                             min_samples_leaf= 1, min_samples_split= 2, subsample= 0.8)\n",
    "gbc.fit(Xbaseline, y)\n",
    "ll = log_loss(y_true, gbc.predict_proba(X_testbaseline))\n",
    "\n",
    "y_pred = gbc.predict(X_testbaseline)\n",
    "k=cohen_kappa_score(y_true, y_pred)\n",
    "a= accuracy_score(y_true, y_pred)\n",
    "print(\"for n_estimators= \", i)\n",
    "print(\"log loss = \", ll)\n",
    "print(\"kappa = \", k)\n",
    "print(\"accuracy = \", a)\n"
   ]
  },
  {
   "cell_type": "code",
   "execution_count": 25,
   "metadata": {},
   "outputs": [
    {
     "name": "stdout",
     "output_type": "stream",
     "text": [
      "Confusion matrix, without normalization\n",
      "[[ 825    8  107   30   25]\n",
      " [  30   55   98    7   77]\n",
      " [  70    6 2659  329  217]\n",
      " [  52    0  308 2336    4]\n",
      " [  46    2  337   46 1092]]\n",
      "Normalized confusion matrix\n",
      "[[0.83 0.01 0.11 0.03 0.03]\n",
      " [0.11 0.21 0.37 0.03 0.29]\n",
      " [0.02 0.   0.81 0.1  0.07]\n",
      " [0.02 0.   0.11 0.87 0.  ]\n",
      " [0.03 0.   0.22 0.03 0.72]]\n"
     ]
    },
    {
     "data": {
      "image/png": "[encoded data removed]",
      "text/plain": [
       "<Figure size 432x288 with 2 Axes>"
      ]
     },
     "metadata": {},
     "output_type": "display_data"
    },
    {
     "data": {
      "image/png": "[encoded data removed]",
      "text/plain": [
       "<Figure size 432x288 with 2 Axes>"
      ]
     },
     "metadata": {},
     "output_type": "display_data"
    }
   ],
   "source": [
    "cnf_matrix = confusion_matrix(y_true, y_pred)\n",
    "np.set_printoptions(precision=2)\n",
    "\n",
    "plt.figure()\n",
    "plot_confusion_matrix(cnf_matrix, classes=[0, 1, 2, 3, 4], title='Confusion matrix, without normalization')\n",
    "\n",
    "plt.figure()\n",
    "plot_confusion_matrix(cnf_matrix, classes=[0, 1, 2, 3, 4], normalize=True,\n",
    "                      title='Normalized confusion matrix')\n",
    "\n",
    "plt.show()"
   ]
  },
  {
   "cell_type": "code",
   "execution_count": 26,
   "metadata": {},
   "outputs": [
    {
     "data": {
      "image/png": "[encoded data removed]",
      "text/plain": [
       "<Figure size 432x288 with 1 Axes>"
      ]
     },
     "metadata": {},
     "output_type": "display_data"
    },
    {
     "data": {
      "text/html": [
       "<div>\n",
       "<style scoped>\n",
       "    .dataframe tbody tr th:only-of-type {\n",
       "        vertical-align: middle;\n",
       "    }\n",
       "\n",
       "    .dataframe tbody tr th {\n",
       "        vertical-align: top;\n",
       "    }\n",
       "\n",
       "    .dataframe thead th {\n",
       "        text-align: right;\n",
       "    }\n",
       "</style>\n",
       "<table border=\"1\" class=\"dataframe\">\n",
       "  <thead>\n",
       "    <tr style=\"text-align: right;\">\n",
       "      <th></th>\n",
       "      <th>importance</th>\n",
       "    </tr>\n",
       "  </thead>\n",
       "  <tbody>\n",
       "    <tr>\n",
       "      <th>eeg1_Delta0</th>\n",
       "      <td>0.062210</td>\n",
       "    </tr>\n",
       "    <tr>\n",
       "      <th>eeg2_Delta0</th>\n",
       "      <td>0.043696</td>\n",
       "    </tr>\n",
       "    <tr>\n",
       "      <th>eeg1_Beta0</th>\n",
       "      <td>0.041023</td>\n",
       "    </tr>\n",
       "    <tr>\n",
       "      <th>eeg1_Alpha0</th>\n",
       "      <td>0.036906</td>\n",
       "    </tr>\n",
       "    <tr>\n",
       "      <th>eeg2_Beta0</th>\n",
       "      <td>0.035846</td>\n",
       "    </tr>\n",
       "    <tr>\n",
       "      <th>eeg1_Theta0</th>\n",
       "      <td>0.034586</td>\n",
       "    </tr>\n",
       "    <tr>\n",
       "      <th>eeg1_Gamma0</th>\n",
       "      <td>0.031865</td>\n",
       "    </tr>\n",
       "    <tr>\n",
       "      <th>eeg2_Theta0</th>\n",
       "      <td>0.031485</td>\n",
       "    </tr>\n",
       "    <tr>\n",
       "      <th>eeg2_Alpha0</th>\n",
       "      <td>0.029773</td>\n",
       "    </tr>\n",
       "    <tr>\n",
       "      <th>di</th>\n",
       "      <td>0.029390</td>\n",
       "    </tr>\n",
       "    <tr>\n",
       "      <th>eeg2_Gamma0</th>\n",
       "      <td>0.028157</td>\n",
       "    </tr>\n",
       "    <tr>\n",
       "      <th>eeg4_Alpha0</th>\n",
       "      <td>0.026477</td>\n",
       "    </tr>\n",
       "    <tr>\n",
       "      <th>eeg4_Delta0</th>\n",
       "      <td>0.026203</td>\n",
       "    </tr>\n",
       "    <tr>\n",
       "      <th>eeg3_Delta0</th>\n",
       "      <td>0.024985</td>\n",
       "    </tr>\n",
       "    <tr>\n",
       "      <th>eeg4_Theta0</th>\n",
       "      <td>0.024707</td>\n",
       "    </tr>\n",
       "    <tr>\n",
       "      <th>eeg4_Beta0</th>\n",
       "      <td>0.024542</td>\n",
       "    </tr>\n",
       "    <tr>\n",
       "      <th>eeg4_Gamma0</th>\n",
       "      <td>0.023802</td>\n",
       "    </tr>\n",
       "    <tr>\n",
       "      <th>eeg3_Alpha0</th>\n",
       "      <td>0.023069</td>\n",
       "    </tr>\n",
       "    <tr>\n",
       "      <th>eeg3_Gamma0</th>\n",
       "      <td>0.022688</td>\n",
       "    </tr>\n",
       "    <tr>\n",
       "      <th>min_r</th>\n",
       "      <td>0.022460</td>\n",
       "    </tr>\n",
       "    <tr>\n",
       "      <th>min_ir</th>\n",
       "      <td>0.022333</td>\n",
       "    </tr>\n",
       "    <tr>\n",
       "      <th>max_ir</th>\n",
       "      <td>0.022073</td>\n",
       "    </tr>\n",
       "    <tr>\n",
       "      <th>max_r</th>\n",
       "      <td>0.021979</td>\n",
       "    </tr>\n",
       "    <tr>\n",
       "      <th>eeg3_Theta0</th>\n",
       "      <td>0.021846</td>\n",
       "    </tr>\n",
       "    <tr>\n",
       "      <th>eeg3_Beta0</th>\n",
       "      <td>0.018275</td>\n",
       "    </tr>\n",
       "    <tr>\n",
       "      <th>SDNN_ir</th>\n",
       "      <td>0.017420</td>\n",
       "    </tr>\n",
       "    <tr>\n",
       "      <th>BPM_ir</th>\n",
       "      <td>0.015887</td>\n",
       "    </tr>\n",
       "    <tr>\n",
       "      <th>pNN20_r</th>\n",
       "      <td>0.015461</td>\n",
       "    </tr>\n",
       "    <tr>\n",
       "      <th>SDNN_r</th>\n",
       "      <td>0.015321</td>\n",
       "    </tr>\n",
       "    <tr>\n",
       "      <th>pNN20_ir</th>\n",
       "      <td>0.015128</td>\n",
       "    </tr>\n",
       "    <tr>\n",
       "      <th>pNN60_r</th>\n",
       "      <td>0.014361</td>\n",
       "    </tr>\n",
       "    <tr>\n",
       "      <th>pNN60_ir</th>\n",
       "      <td>0.013447</td>\n",
       "    </tr>\n",
       "    <tr>\n",
       "      <th>theta</th>\n",
       "      <td>0.012430</td>\n",
       "    </tr>\n",
       "    <tr>\n",
       "      <th>MAD_ir</th>\n",
       "      <td>0.011413</td>\n",
       "    </tr>\n",
       "    <tr>\n",
       "      <th>MAD_r</th>\n",
       "      <td>0.011383</td>\n",
       "    </tr>\n",
       "    <tr>\n",
       "      <th>tat</th>\n",
       "      <td>0.011356</td>\n",
       "    </tr>\n",
       "    <tr>\n",
       "      <th>phi</th>\n",
       "      <td>0.010919</td>\n",
       "    </tr>\n",
       "    <tr>\n",
       "      <th>IBI_ir</th>\n",
       "      <td>0.010395</td>\n",
       "    </tr>\n",
       "    <tr>\n",
       "      <th>SDSD_ir</th>\n",
       "      <td>0.010341</td>\n",
       "    </tr>\n",
       "    <tr>\n",
       "      <th>Ay</th>\n",
       "      <td>0.010029</td>\n",
       "    </tr>\n",
       "    <tr>\n",
       "      <th>RMSSD_ir</th>\n",
       "      <td>0.009997</td>\n",
       "    </tr>\n",
       "    <tr>\n",
       "      <th>RMSSD_r</th>\n",
       "      <td>0.009851</td>\n",
       "    </tr>\n",
       "    <tr>\n",
       "      <th>BPM_r</th>\n",
       "      <td>0.009695</td>\n",
       "    </tr>\n",
       "    <tr>\n",
       "      <th>SDSD_r</th>\n",
       "      <td>0.009584</td>\n",
       "    </tr>\n",
       "    <tr>\n",
       "      <th>Az</th>\n",
       "      <td>0.009196</td>\n",
       "    </tr>\n",
       "    <tr>\n",
       "      <th>IBI_r</th>\n",
       "      <td>0.009168</td>\n",
       "    </tr>\n",
       "    <tr>\n",
       "      <th>Ax</th>\n",
       "      <td>0.008577</td>\n",
       "    </tr>\n",
       "    <tr>\n",
       "      <th>zc</th>\n",
       "      <td>0.008002</td>\n",
       "    </tr>\n",
       "    <tr>\n",
       "      <th>BPMlessthan30_r</th>\n",
       "      <td>0.000145</td>\n",
       "    </tr>\n",
       "    <tr>\n",
       "      <th>BPMlessthan30_ir</th>\n",
       "      <td>0.000116</td>\n",
       "    </tr>\n",
       "  </tbody>\n",
       "</table>\n",
       "</div>"
      ],
      "text/plain": [
       "                  importance\n",
       "eeg1_Delta0         0.062210\n",
       "eeg2_Delta0         0.043696\n",
       "eeg1_Beta0          0.041023\n",
       "eeg1_Alpha0         0.036906\n",
       "eeg2_Beta0          0.035846\n",
       "eeg1_Theta0         0.034586\n",
       "eeg1_Gamma0         0.031865\n",
       "eeg2_Theta0         0.031485\n",
       "eeg2_Alpha0         0.029773\n",
       "di                  0.029390\n",
       "eeg2_Gamma0         0.028157\n",
       "eeg4_Alpha0         0.026477\n",
       "eeg4_Delta0         0.026203\n",
       "eeg3_Delta0         0.024985\n",
       "eeg4_Theta0         0.024707\n",
       "eeg4_Beta0          0.024542\n",
       "eeg4_Gamma0         0.023802\n",
       "eeg3_Alpha0         0.023069\n",
       "eeg3_Gamma0         0.022688\n",
       "min_r               0.022460\n",
       "min_ir              0.022333\n",
       "max_ir              0.022073\n",
       "max_r               0.021979\n",
       "eeg3_Theta0         0.021846\n",
       "eeg3_Beta0          0.018275\n",
       "SDNN_ir             0.017420\n",
       "BPM_ir              0.015887\n",
       "pNN20_r             0.015461\n",
       "SDNN_r              0.015321\n",
       "pNN20_ir            0.015128\n",
       "pNN60_r             0.014361\n",
       "pNN60_ir            0.013447\n",
       "theta               0.012430\n",
       "MAD_ir              0.011413\n",
       "MAD_r               0.011383\n",
       "tat                 0.011356\n",
       "phi                 0.010919\n",
       "IBI_ir              0.010395\n",
       "SDSD_ir             0.010341\n",
       "Ay                  0.010029\n",
       "RMSSD_ir            0.009997\n",
       "RMSSD_r             0.009851\n",
       "BPM_r               0.009695\n",
       "SDSD_r              0.009584\n",
       "Az                  0.009196\n",
       "IBI_r               0.009168\n",
       "Ax                  0.008577\n",
       "zc                  0.008002\n",
       "BPMlessthan30_r     0.000145\n",
       "BPMlessthan30_ir    0.000116"
      ]
     },
     "execution_count": 26,
     "metadata": {},
     "output_type": "execute_result"
    }
   ],
   "source": [
    "importances = gbc.feature_importances_\n",
    "feature_importances = pd.DataFrame(importances, index = Xbaseline.columns, \n",
    "                                   columns=['importance']).sort_values('importance', ascending=False)\n",
    "plt.bar(feature_importances.index, feature_importances[\"importance\"])\n",
    "plt.show()\n",
    "\n",
    "feature_importances.head(50)"
   ]
  },
  {
   "cell_type": "markdown",
   "metadata": {},
   "source": []
  },
  {
   "cell_type": "markdown",
   "metadata": {},
   "source": [
    "### with all features (naive + baseline), \n",
    "starting with Random forest "
   ]
  },
  {
   "cell_type": "code",
   "execution_count": 27,
   "metadata": {},
   "outputs": [],
   "source": [
    "rnd_clf = RandomForestClassifier(max_depth=12,  max_features= None, random_state=42, n_estimators=100, n_jobs=-2)"
   ]
  },
  {
   "cell_type": "code",
   "execution_count": 29,
   "metadata": {},
   "outputs": [
    {
     "data": {
      "text/plain": [
       "RandomForestClassifier(bootstrap=True, class_weight=None, criterion='gini',\n",
       "            max_depth=12, max_features=None, max_leaf_nodes=None,\n",
       "            min_impurity_decrease=0.0, min_impurity_split=None,\n",
       "            min_samples_leaf=1, min_samples_split=2,\n",
       "            min_weight_fraction_leaf=0.0, n_estimators=100, n_jobs=-2,\n",
       "            oob_score=False, random_state=42, verbose=0, warm_start=False)"
      ]
     },
     "execution_count": 29,
     "metadata": {},
     "output_type": "execute_result"
    }
   ],
   "source": [
    "rnd_clf.fit(X, y)"
   ]
  },
  {
   "cell_type": "code",
   "execution_count": 30,
   "metadata": {},
   "outputs": [
    {
     "name": "stdout",
     "output_type": "stream",
     "text": [
      "kappa:  0.7031907454408224\n",
      "accurancy:  0.7890714122746977\n"
     ]
    }
   ],
   "source": [
    "y_pred_rf = rnd_clf.predict(X_test)\n",
    "kappa_rf = cohen_kappa_score(y_true, y_pred_rf)\n",
    "\n",
    "print(\"kappa: \",  kappa_rf)\n",
    "print(\"accurancy: \", accuracy_score(y_true, y_pred_rf))"
   ]
  },
  {
   "cell_type": "markdown",
   "metadata": {},
   "source": [
    "with GridSearchCV\n",
    "parametres = {\"max_depth\": [7, 8, 9, 10, 11, 12], \"min_samples_leaf\" : r1,  \"class_weight\": [None, \"balanced\"],\n",
    "                                      \"min_samples_split\" : r2, \"n_estimators\" :[100]}\n",
    "\n",
    "- original\n",
    "{'class_weight': None, 'max_depth': 12, 'min_samples_leaf': 1, 'min_samples_split': 2, 'n_estimators': 100}\n",
    "kappa:  0.707\n",
    "accurancy:  0.792\n",
    "\n",
    "- dropping \"index feature\" this decreased to \n",
    "{'class_weight': None, 'max_depth': 12, 'min_samples_leaf': 1, 'min_samples_split': 2, 'n_estimators': 100}\n",
    "kappa:  0.6959086083496023\n",
    "accurancy:  0.783937942048825\n",
    "\n",
    "- first pulse feature correction\n",
    "{'class_weight': None, 'max_depth': 12, 'min_samples_leaf': 1, 'min_samples_split': 2, 'n_estimators': 100}\n",
    "kappa:  0.6988175987857627\n",
    "accurancy:  0.7859913301391741\n",
    "\n",
    "\n"
   ]
  },
  {
   "cell_type": "code",
   "execution_count": 32,
   "metadata": {},
   "outputs": [
    {
     "name": "stdout",
     "output_type": "stream",
     "text": [
      "Fitting 3 folds for each of 24 candidates, totalling 72 fits\n"
     ]
    },
    {
     "name": "stderr",
     "output_type": "stream",
     "text": [
      "[Parallel(n_jobs=-1)]: Done  25 tasks      | elapsed: 14.3min\n",
      "[Parallel(n_jobs=-1)]: Done  72 out of  72 | elapsed: 33.4min finished\n"
     ]
    },
    {
     "name": "stdout",
     "output_type": "stream",
     "text": [
      "{'class_weight': 'balanced', 'max_depth': 15, 'min_samples_leaf': 1, 'min_samples_split': 2, 'n_estimators': 100}\n",
      "kappa:  0.7146082490800214\n",
      "accurancy:  0.7942048825005704\n"
     ]
    }
   ],
   "source": [
    "rfc = RandomForestClassifier(random_state=42, max_features= None)\n",
    "\n",
    "#RandomForestClassifier(max_depth=9, min_samples_leaf=5, random_state=42, min_samples_split=64, n_estimators=n\n",
    "\n",
    "r1 = [1, 10]\n",
    "r2 = [2, 10]\n",
    "parametres = {\"max_depth\": [10, 12, 15], \"min_samples_leaf\" : r1,  \"class_weight\": [None, \"balanced\"],\n",
    "                                      \"min_samples_split\" : r2, \"n_estimators\" :[100]}\n",
    "    \n",
    "ck_score = make_scorer(cohen_kappa_score)\n",
    "grid = GridSearchCV(estimator=rfc,param_grid=parametres,scoring=ck_score, n_jobs=-1, verbose = 2)\n",
    "\n",
    "grid_fitted = grid.fit(X,y)\n",
    "print(grid_fitted.best_params_)\n",
    "\n",
    "y_pred = grid.predict(X_test)\n",
    "\n",
    "print(\"kappa: \", cohen_kappa_score(y_true, y_pred))\n",
    "print(\"accurancy: \", accuracy_score(y_true, y_pred))"
   ]
  },
  {
   "cell_type": "markdown",
   "metadata": {},
   "source": [
    "{'class_weight': 'balanced', 'max_depth': 20, 'min_samples_leaf': 1, 'min_samples_split': 10, 'n_estimators': 100}\n",
    "kappa:  0.725\n",
    "accurancy:  0.802\n",
    "\n",
    "with index feature dropped\n",
    "{'class_weight': 'balanced', 'max_depth': 20, 'min_samples_leaf': 1, 'min_samples_split': 10, 'n_estimators': 100}\n",
    "kappa:  0.720\n",
    "accurancy:  0.799\n",
    "\n",
    "{'class_weight': 'balanced', 'max_depth': 15, 'min_samples_leaf': 1, 'min_samples_split': 2, 'n_estimators': 100}\n",
    "{'class_weight': 'balanced', 'max_depth': 15, 'min_samples_leaf': 1, 'min_samples_split': 2, 'n_estimators': 100}\n",
    "kappa:  0.7146082490800214\n",
    "accurancy:  0.7942048825005704"
   ]
  },
  {
   "cell_type": "code",
   "execution_count": 30,
   "metadata": {},
   "outputs": [
    {
     "name": "stdout",
     "output_type": "stream",
     "text": [
      "accurancy:  0.7987679671457906\n"
     ]
    }
   ],
   "source": [
    "print(\"accurancy: \", accuracy_score(y_true, y_pred))"
   ]
  },
  {
   "cell_type": "code",
   "execution_count": 33,
   "metadata": {},
   "outputs": [
    {
     "name": "stdout",
     "output_type": "stream",
     "text": [
      "Confusion matrix, without normalization\n",
      "[[ 837   20   80   18   40]\n",
      " [  24   67   74    9   93]\n",
      " [ 133   25 2547  269  307]\n",
      " [  91    0  234 2373    2]\n",
      " [  55   17  302   11 1138]]\n",
      "Normalized confusion matrix\n",
      "[[8.41e-01 2.01e-02 8.04e-02 1.81e-02 4.02e-02]\n",
      " [8.99e-02 2.51e-01 2.77e-01 3.37e-02 3.48e-01]\n",
      " [4.05e-02 7.62e-03 7.76e-01 8.20e-02 9.36e-02]\n",
      " [3.37e-02 0.00e+00 8.67e-02 8.79e-01 7.41e-04]\n",
      " [3.61e-02 1.12e-02 1.98e-01 7.22e-03 7.47e-01]]\n"
     ]
    },
    {
     "data": {
      "image/png": "[encoded data removed]",
      "text/plain": [
       "<Figure size 432x288 with 2 Axes>"
      ]
     },
     "metadata": {},
     "output_type": "display_data"
    },
    {
     "data": {
      "image/png": "[encoded data removed]",
      "text/plain": [
       "<Figure size 432x288 with 2 Axes>"
      ]
     },
     "metadata": {},
     "output_type": "display_data"
    }
   ],
   "source": [
    "\n",
    "\n",
    "# Compute confusion matrix\n",
    "cnf_matrix = confusion_matrix(y_true, y_pred)\n",
    "np.set_printoptions(precision=2)\n",
    "\n",
    "# Plot non-normalized confusion matrix\n",
    "plt.figure()\n",
    "plot_confusion_matrix(cnf_matrix, classes=[0, 1, 2, 3, 4], title='Confusion matrix, without normalization')\n",
    "\n",
    "# Plot normalized confusion matrix\n",
    "plt.figure()\n",
    "plot_confusion_matrix(cnf_matrix, classes=[0, 1, 2, 3, 4], normalize=True,\n",
    "                      title='Normalized confusion matrix')\n",
    "\n",
    "plt.show()"
   ]
  },
  {
   "cell_type": "markdown",
   "metadata": {},
   "source": [
    "Random forrest with\n",
    "{'class_weight': None, 'max_depth': 30, 'min_samples_leaf': 1, 'min_samples_split': 2, 'n_estimators': 100}\n",
    "kappa:  0.733\n",
    "accurancy:  0.810\n",
    "\n",
    "Class_weigth = None correcrly predicted 1 drop from 22% to 11%\n",
    "improvement in kappa and accuracy probably does not work the extra tree depth\n",
    "\n",
    "After discarding index 'features'\n",
    "{'class_weight': 'balanced', 'max_depth': 30, 'min_samples_leaf': 1, 'min_samples_split': 10, 'n_estimators': 100}\n",
    "kappa:  0.723\n",
    "accurancy:  0.802\n"
   ]
  },
  {
   "cell_type": "code",
   "execution_count": 32,
   "metadata": {},
   "outputs": [
    {
     "name": "stdout",
     "output_type": "stream",
     "text": [
      "{'class_weight': 'balanced', 'max_depth': 30, 'min_samples_leaf': 1, 'min_samples_split': 10, 'n_estimators': 100}\n",
      "kappa:  0.7239274751990503\n",
      "accurancy:  0.8019621263974447\n"
     ]
    }
   ],
   "source": [
    "rfc = RandomForestClassifier(random_state=42, max_features= None)\n",
    "r1 = [1, 10]\n",
    "r2 = [2, 10]\n",
    "parametres = {\"max_depth\": [20, 25, 30], \"min_samples_leaf\" : r1,  \"class_weight\": [None, \"balanced\"],\n",
    "                                      \"min_samples_split\" : r2, \"n_estimators\" :[100]}\n",
    "    \n",
    "ck_score = make_scorer(cohen_kappa_score)\n",
    "grid = GridSearchCV(estimator=rfc,param_grid=parametres,scoring=ck_score, n_jobs=-1)\n",
    "\n",
    "grid_fitted = grid.fit(X,y)\n",
    "print(grid_fitted.best_params_)\n",
    "\n",
    "y_pred = grid.predict(X_test)\n",
    "\n",
    "print(\"kappa: \", cohen_kappa_score(y_true, y_pred))\n",
    "print(\"accurancy: \", accuracy_score(y_true, y_pred))"
   ]
  },
  {
   "cell_type": "code",
   "execution_count": 33,
   "metadata": {},
   "outputs": [
    {
     "name": "stdout",
     "output_type": "stream",
     "text": [
      "Confusion matrix, without normalization\n",
      "[[ 844   10   84   21   36]\n",
      " [  30   50   82   10   95]\n",
      " [ 112   16 2622  246  285]\n",
      " [  68    0  246 2386    0]\n",
      " [  48    8  327   12 1128]]\n",
      "Normalized confusion matrix\n",
      "[[0.85 0.01 0.08 0.02 0.04]\n",
      " [0.11 0.19 0.31 0.04 0.36]\n",
      " [0.03 0.   0.8  0.07 0.09]\n",
      " [0.03 0.   0.09 0.88 0.  ]\n",
      " [0.03 0.01 0.21 0.01 0.74]]\n"
     ]
    },
    {
     "data": {
      "image/png": "[encoded data removed]",
      "text/plain": [
       "<Figure size 432x288 with 2 Axes>"
      ]
     },
     "metadata": {},
     "output_type": "display_data"
    },
    {
     "data": {
      "image/png": "[encoded data removed]",
      "text/plain": [
       "<Figure size 432x288 with 2 Axes>"
      ]
     },
     "metadata": {},
     "output_type": "display_data"
    }
   ],
   "source": [
    "cnf_matrix = confusion_matrix(y_true, y_pred)\n",
    "np.set_printoptions(precision=2)\n",
    "\n",
    "plt.figure()\n",
    "plot_confusion_matrix(cnf_matrix, classes=[0, 1, 2, 3, 4], title='Confusion matrix, without normalization')\n",
    "\n",
    "plt.figure()\n",
    "plot_confusion_matrix(cnf_matrix, classes=[0, 1, 2, 3, 4], normalize=True,\n",
    "                      title='Normalized confusion matrix')\n",
    "\n",
    "plt.show()"
   ]
  },
  {
   "cell_type": "code",
   "execution_count": null,
   "metadata": {},
   "outputs": [],
   "source": []
  },
  {
   "cell_type": "markdown",
   "metadata": {},
   "source": [
    "Trying best parameters with different growing values for n_estimators\n",
    "{'class_weight': None, 'max_depth': 30, 'min_samples_leaf': 1, 'min_samples_split': 2, 'n_estimators': 100}\n",
    "from gridcv with n_estimators=100\n",
    "kappa:  0.733\n",
    "accurancy:  0.809719370294319\n",
    "\n",
    "for n_estimators=  800\n",
    "kappa =  0.738\n",
    "accuracy =  0.813\n",
    "\n",
    "- After discaeding index \"features\"\n",
    "for n_estimators=  1400\n",
    "log loss =  0.5523685672967809\n",
    "kappa =  0.7233808409352107\n",
    "accuracy =  0.8028747433264887\n",
    "- after first correction of pulse features\n",
    "for n_estimators = 1500\n",
    "kappa =  0.730\n",
    "accuracy =  0.810\n",
    "- after second correction \n",
    "kappa =  0.730\n",
    "accuracy =  0.805\n",
    "\n",
    "Analysis of with n-estimators = 1500\n",
    "(with pulse bugs corrected)\n",
    "rnd_clf = RandomForestClassifier(n_estimators=1500, n_jobs=-1, max_depth=30,  class_weight= \"balanced\", min_samples_leaf= 1, \n",
    "                                    min_samples_split= 10,  random_state=42, max_features= None)\n",
    "\n",
    "- kappa =  0.730\n",
    "- accuracy =  0.81\n"
   ]
  },
  {
   "cell_type": "code",
   "execution_count": 34,
   "metadata": {},
   "outputs": [
    {
     "name": "stdout",
     "output_type": "stream",
     "text": [
      "for n_estimators=  200\n",
      "log loss =  0.5597166846972813\n",
      "kappa =  0.7238969921994232\n",
      "accuracy =  0.8033310517910107\n"
     ]
    },
    {
     "name": "stderr",
     "output_type": "stream",
     "text": [
      "C:\\Anaconda3\\lib\\site-packages\\sklearn\\ensemble\\forest.py:305: UserWarning: Warm-start fitting without increasing n_estimators does not fit new trees.\n",
      "  warn(\"Warm-start fitting without increasing n_estimators does not \"\n"
     ]
    },
    {
     "name": "stdout",
     "output_type": "stream",
     "text": [
      "for n_estimators=  300\n",
      "log loss =  0.5524828200841314\n",
      "kappa =  0.7250314630724675\n",
      "accuracy =  0.8041295916039243\n"
     ]
    },
    {
     "name": "stderr",
     "output_type": "stream",
     "text": [
      "C:\\Anaconda3\\lib\\site-packages\\sklearn\\ensemble\\forest.py:305: UserWarning: Warm-start fitting without increasing n_estimators does not fit new trees.\n",
      "  warn(\"Warm-start fitting without increasing n_estimators does not \"\n"
     ]
    },
    {
     "name": "stdout",
     "output_type": "stream",
     "text": [
      "for n_estimators=  400\n",
      "log loss =  0.5507718748992644\n",
      "kappa =  0.7247694933532328\n",
      "accuracy =  0.8040155144877937\n"
     ]
    },
    {
     "name": "stderr",
     "output_type": "stream",
     "text": [
      "C:\\Anaconda3\\lib\\site-packages\\sklearn\\ensemble\\forest.py:305: UserWarning: Warm-start fitting without increasing n_estimators does not fit new trees.\n",
      "  warn(\"Warm-start fitting without increasing n_estimators does not \"\n"
     ]
    },
    {
     "name": "stdout",
     "output_type": "stream",
     "text": [
      "for n_estimators=  500\n",
      "log loss =  0.5512251858725119\n",
      "kappa =  0.7241363203044253\n",
      "accuracy =  0.8035592060232717\n"
     ]
    },
    {
     "name": "stderr",
     "output_type": "stream",
     "text": [
      "C:\\Anaconda3\\lib\\site-packages\\sklearn\\ensemble\\forest.py:305: UserWarning: Warm-start fitting without increasing n_estimators does not fit new trees.\n",
      "  warn(\"Warm-start fitting without increasing n_estimators does not \"\n"
     ]
    },
    {
     "name": "stdout",
     "output_type": "stream",
     "text": [
      "for n_estimators=  600\n",
      "log loss =  0.5510047398272269\n",
      "kappa =  0.7251076714229101\n",
      "accuracy =  0.8041295916039243\n"
     ]
    },
    {
     "name": "stderr",
     "output_type": "stream",
     "text": [
      "C:\\Anaconda3\\lib\\site-packages\\sklearn\\ensemble\\forest.py:305: UserWarning: Warm-start fitting without increasing n_estimators does not fit new trees.\n",
      "  warn(\"Warm-start fitting without increasing n_estimators does not \"\n"
     ]
    },
    {
     "name": "stdout",
     "output_type": "stream",
     "text": [
      "for n_estimators=  700\n",
      "log loss =  0.5507478839161714\n",
      "kappa =  0.7250718499719249\n",
      "accuracy =  0.8041295916039243\n"
     ]
    },
    {
     "name": "stderr",
     "output_type": "stream",
     "text": [
      "C:\\Anaconda3\\lib\\site-packages\\sklearn\\ensemble\\forest.py:305: UserWarning: Warm-start fitting without increasing n_estimators does not fit new trees.\n",
      "  warn(\"Warm-start fitting without increasing n_estimators does not \"\n"
     ]
    },
    {
     "name": "stdout",
     "output_type": "stream",
     "text": [
      "for n_estimators=  800\n",
      "log loss =  0.5506596943494888\n",
      "kappa =  0.7252053480630396\n",
      "accuracy =  0.8042436687200547\n"
     ]
    },
    {
     "name": "stderr",
     "output_type": "stream",
     "text": [
      "C:\\Anaconda3\\lib\\site-packages\\sklearn\\ensemble\\forest.py:305: UserWarning: Warm-start fitting without increasing n_estimators does not fit new trees.\n",
      "  warn(\"Warm-start fitting without increasing n_estimators does not \"\n"
     ]
    },
    {
     "name": "stdout",
     "output_type": "stream",
     "text": [
      "for n_estimators=  900\n",
      "log loss =  0.5502586672082034\n",
      "kappa =  0.7257651521012166\n",
      "accuracy =  0.8045859000684463\n"
     ]
    },
    {
     "name": "stderr",
     "output_type": "stream",
     "text": [
      "C:\\Anaconda3\\lib\\site-packages\\sklearn\\ensemble\\forest.py:305: UserWarning: Warm-start fitting without increasing n_estimators does not fit new trees.\n",
      "  warn(\"Warm-start fitting without increasing n_estimators does not \"\n"
     ]
    },
    {
     "name": "stdout",
     "output_type": "stream",
     "text": [
      "for n_estimators=  1000\n",
      "log loss =  0.5502690376417566\n",
      "kappa =  0.7254627351257732\n",
      "accuracy =  0.8043577458361852\n"
     ]
    },
    {
     "name": "stderr",
     "output_type": "stream",
     "text": [
      "C:\\Anaconda3\\lib\\site-packages\\sklearn\\ensemble\\forest.py:305: UserWarning: Warm-start fitting without increasing n_estimators does not fit new trees.\n",
      "  warn(\"Warm-start fitting without increasing n_estimators does not \"\n"
     ]
    },
    {
     "name": "stdout",
     "output_type": "stream",
     "text": [
      "for n_estimators=  1100\n",
      "log loss =  0.5502753867824693\n",
      "kappa =  0.7258037102443301\n",
      "accuracy =  0.8045859000684463\n"
     ]
    },
    {
     "name": "stderr",
     "output_type": "stream",
     "text": [
      "C:\\Anaconda3\\lib\\site-packages\\sklearn\\ensemble\\forest.py:305: UserWarning: Warm-start fitting without increasing n_estimators does not fit new trees.\n",
      "  warn(\"Warm-start fitting without increasing n_estimators does not \"\n"
     ]
    },
    {
     "name": "stdout",
     "output_type": "stream",
     "text": [
      "for n_estimators=  1200\n",
      "log loss =  0.5502086126834699\n",
      "kappa =  0.7257786837391136\n",
      "accuracy =  0.8045859000684463\n"
     ]
    },
    {
     "name": "stderr",
     "output_type": "stream",
     "text": [
      "C:\\Anaconda3\\lib\\site-packages\\sklearn\\ensemble\\forest.py:305: UserWarning: Warm-start fitting without increasing n_estimators does not fit new trees.\n",
      "  warn(\"Warm-start fitting without increasing n_estimators does not \"\n"
     ]
    },
    {
     "name": "stdout",
     "output_type": "stream",
     "text": [
      "for n_estimators=  1300\n",
      "log loss =  0.5503105408613145\n",
      "kappa =  0.7265905849626253\n",
      "accuracy =  0.8051562856490988\n"
     ]
    },
    {
     "name": "stderr",
     "output_type": "stream",
     "text": [
      "C:\\Anaconda3\\lib\\site-packages\\sklearn\\ensemble\\forest.py:305: UserWarning: Warm-start fitting without increasing n_estimators does not fit new trees.\n",
      "  warn(\"Warm-start fitting without increasing n_estimators does not \"\n"
     ]
    },
    {
     "name": "stdout",
     "output_type": "stream",
     "text": [
      "for n_estimators=  1400\n",
      "log loss =  0.5501388577864857\n",
      "kappa =  0.7257931704263157\n",
      "accuracy =  0.8045859000684463\n"
     ]
    },
    {
     "name": "stderr",
     "output_type": "stream",
     "text": [
      "C:\\Anaconda3\\lib\\site-packages\\sklearn\\ensemble\\forest.py:305: UserWarning: Warm-start fitting without increasing n_estimators does not fit new trees.\n",
      "  warn(\"Warm-start fitting without increasing n_estimators does not \"\n"
     ]
    },
    {
     "name": "stdout",
     "output_type": "stream",
     "text": [
      "for n_estimators=  1500\n",
      "log loss =  0.5500409378292418\n",
      "kappa =  0.7261067715347735\n",
      "accuracy =  0.8048140543007073\n"
     ]
    },
    {
     "name": "stderr",
     "output_type": "stream",
     "text": [
      "C:\\Anaconda3\\lib\\site-packages\\sklearn\\ensemble\\forest.py:305: UserWarning: Warm-start fitting without increasing n_estimators does not fit new trees.\n",
      "  warn(\"Warm-start fitting without increasing n_estimators does not \"\n"
     ]
    }
   ],
   "source": [
    "errors = []\n",
    "Lk = []\n",
    "La = []\n",
    "\n",
    "r = range(200, 1600 , 100)\n",
    "\n",
    "rnd_clf = RandomForestClassifier(n_estimators=100, n_jobs=-1, max_depth=30,  class_weight= None, min_samples_leaf= 1, \n",
    "                                    min_samples_split= 10, warm_start=True, random_state=42, max_features= None)\n",
    "for i in r:\n",
    "    rnd_clf.fit(X, y)\n",
    "    ll = log_loss(y_true, rnd_clf.predict_proba(X_test))\n",
    "    errors.append(ll)\n",
    "    y_pred = rnd_clf.predict(X_test)\n",
    "    k=cohen_kappa_score(y_true, y_pred)\n",
    "    a= accuracy_score(y_true, y_pred)\n",
    "    print(\"for n_estimators= \", i)\n",
    "    print(\"log loss = \", ll)\n",
    "    print(\"kappa = \", k)\n",
    "    print(\"accuracy = \", a)\n",
    "    \n",
    "    Lk.append(k)\n",
    "    La.append(a)\n",
    "    rnd_clf.fit(X, y).n_estimators += 100\n",
    "    \n"
   ]
  },
  {
   "cell_type": "code",
   "execution_count": 35,
   "metadata": {},
   "outputs": [
    {
     "data": {
      "text/plain": [
       "[<matplotlib.lines.Line2D at 0x19dcde41780>]"
      ]
     },
     "execution_count": 35,
     "metadata": {},
     "output_type": "execute_result"
    },
    {
     "data": {
      "image/png": "[encoded data removed]",
      "text/plain": [
       "<Figure size 432x288 with 1 Axes>"
      ]
     },
     "metadata": {},
     "output_type": "display_data"
    }
   ],
   "source": [
    "plt.plot(r, errors, label = \"log loss\")"
   ]
  },
  {
   "cell_type": "code",
   "execution_count": 36,
   "metadata": {},
   "outputs": [
    {
     "data": {
      "text/plain": [
       "<matplotlib.legend.Legend at 0x19dd2dda470>"
      ]
     },
     "execution_count": 36,
     "metadata": {},
     "output_type": "execute_result"
    },
    {
     "data": {
      "image/png": "[encoded data removed]",
      "text/plain": [
       "<Figure size 432x288 with 1 Axes>"
      ]
     },
     "metadata": {},
     "output_type": "display_data"
    }
   ],
   "source": [
    "plt.plot(r, La, label = \"accuracy\")\n",
    "plt.plot(r, Lk, label = \"kappa\")\n",
    "plt.legend(loc='lower right')"
   ]
  },
  {
   "cell_type": "markdown",
   "metadata": {},
   "source": [
    "Analysis of with n-estimators = 1500\n",
    "(with pulse bugs corrected)\n",
    "rnd_clf = RandomForestClassifier(n_estimators=1500, n_jobs=-1, max_depth=30,  class_weight= \"balanced\", min_samples_leaf= 1, \n",
    "                                    min_samples_split= 10,  random_state=42, max_features= None)\n",
    "\n",
    "- kappa =  0.730\n",
    "- accuracy =  0.81\n",
    "\n"
   ]
  },
  {
   "cell_type": "code",
   "execution_count": 37,
   "metadata": {},
   "outputs": [
    {
     "name": "stdout",
     "output_type": "stream",
     "text": [
      "for n_estimators= 1400\n",
      "kappa =  0.730518391911547\n",
      "accuracy =  0.8067533652749258\n"
     ]
    }
   ],
   "source": [
    "rnd_clf = RandomForestClassifier(n_estimators=1500, n_jobs=-1, max_depth=30,  class_weight= \"balanced\", min_samples_leaf= 1, \n",
    "                                    min_samples_split= 10,  random_state=42, max_features= None)\n",
    "\n",
    "rnd_clf.fit(X, y)\n",
    "\n",
    "y_pred = rnd_clf.predict(X_test)\n",
    "k=cohen_kappa_score(y_true, y_pred)\n",
    "a= accuracy_score(y_true, y_pred)\n",
    "print(\"for n_estimators= 1500\")\n",
    "\n",
    "print(\"kappa = \", k)\n",
    "print(\"accuracy = \", a)"
   ]
  },
  {
   "cell_type": "code",
   "execution_count": 42,
   "metadata": {},
   "outputs": [
    {
     "name": "stdout",
     "output_type": "stream",
     "text": [
      "Confusion matrix, without normalization\n",
      "[[ 808   10  106   35   36]\n",
      " [  31   39  118    6   73]\n",
      " [  71    4 2752  226  228]\n",
      " [  38    0  218 2444    0]\n",
      " [  36    4  343   17 1123]]\n",
      "Normalized confusion matrix\n",
      "[[0.81 0.01 0.11 0.04 0.04]\n",
      " [0.12 0.15 0.44 0.02 0.27]\n",
      " [0.02 0.   0.84 0.07 0.07]\n",
      " [0.01 0.   0.08 0.91 0.  ]\n",
      " [0.02 0.   0.23 0.01 0.74]]\n"
     ]
    },
    {
     "data": {
      "image/png": "[encoded data removed]",
      "text/plain": [
       "<Figure size 432x288 with 2 Axes>"
      ]
     },
     "metadata": {},
     "output_type": "display_data"
    },
    {
     "data": {
      "image/png": "[encoded data removed]",
      "text/plain": [
       "<Figure size 432x288 with 2 Axes>"
      ]
     },
     "metadata": {},
     "output_type": "display_data"
    }
   ],
   "source": [
    "cnf_matrix = confusion_matrix(y_true, y_pred)\n",
    "np.set_printoptions(precision=2)\n",
    "\n",
    "plt.figure()\n",
    "plot_confusion_matrix(cnf_matrix, classes=[0, 1, 2, 3, 4], title='Confusion matrix, without normalization')\n",
    "\n",
    "plt.figure()\n",
    "plot_confusion_matrix(cnf_matrix, classes=[0, 1, 2, 3, 4], normalize=True,\n",
    "                      title='Normalized confusion matrix')\n",
    "\n",
    "plt.show()"
   ]
  },
  {
   "cell_type": "code",
   "execution_count": 39,
   "metadata": {},
   "outputs": [
    {
     "data": {
      "image/png": "[encoded data removed]",
      "text/plain": [
       "<Figure size 432x288 with 1 Axes>"
      ]
     },
     "metadata": {},
     "output_type": "display_data"
    },
    {
     "data": {
      "text/html": [
       "<div>\n",
       "<style scoped>\n",
       "    .dataframe tbody tr th:only-of-type {\n",
       "        vertical-align: middle;\n",
       "    }\n",
       "\n",
       "    .dataframe tbody tr th {\n",
       "        vertical-align: top;\n",
       "    }\n",
       "\n",
       "    .dataframe thead th {\n",
       "        text-align: right;\n",
       "    }\n",
       "</style>\n",
       "<table border=\"1\" class=\"dataframe\">\n",
       "  <thead>\n",
       "    <tr style=\"text-align: right;\">\n",
       "      <th></th>\n",
       "      <th>importance</th>\n",
       "    </tr>\n",
       "  </thead>\n",
       "  <tbody>\n",
       "    <tr>\n",
       "      <th>75%_eeg_1</th>\n",
       "      <td>0.123494</td>\n",
       "    </tr>\n",
       "    <tr>\n",
       "      <th>eeg1_Beta0</th>\n",
       "      <td>0.092826</td>\n",
       "    </tr>\n",
       "    <tr>\n",
       "      <th>eeg2_Beta0</th>\n",
       "      <td>0.051077</td>\n",
       "    </tr>\n",
       "    <tr>\n",
       "      <th>eeg1_Gamma0</th>\n",
       "      <td>0.045998</td>\n",
       "    </tr>\n",
       "    <tr>\n",
       "      <th>eeg1_Alpha0</th>\n",
       "      <td>0.044507</td>\n",
       "    </tr>\n",
       "    <tr>\n",
       "      <th>75%_eeg_2</th>\n",
       "      <td>0.029427</td>\n",
       "    </tr>\n",
       "    <tr>\n",
       "      <th>eeg1_Theta0</th>\n",
       "      <td>0.026150</td>\n",
       "    </tr>\n",
       "    <tr>\n",
       "      <th>eeg2_Alpha0</th>\n",
       "      <td>0.022751</td>\n",
       "    </tr>\n",
       "    <tr>\n",
       "      <th>25%_eeg_2</th>\n",
       "      <td>0.020595</td>\n",
       "    </tr>\n",
       "    <tr>\n",
       "      <th>eeg2_Gamma0</th>\n",
       "      <td>0.016956</td>\n",
       "    </tr>\n",
       "    <tr>\n",
       "      <th>BPM_ir</th>\n",
       "      <td>0.015629</td>\n",
       "    </tr>\n",
       "    <tr>\n",
       "      <th>std_eeg_1</th>\n",
       "      <td>0.015023</td>\n",
       "    </tr>\n",
       "    <tr>\n",
       "      <th>eeg4_Gamma0</th>\n",
       "      <td>0.013846</td>\n",
       "    </tr>\n",
       "    <tr>\n",
       "      <th>eeg2_Theta0</th>\n",
       "      <td>0.013594</td>\n",
       "    </tr>\n",
       "    <tr>\n",
       "      <th>25%_eeg_1</th>\n",
       "      <td>0.013208</td>\n",
       "    </tr>\n",
       "    <tr>\n",
       "      <th>eeg3_Alpha0</th>\n",
       "      <td>0.012578</td>\n",
       "    </tr>\n",
       "    <tr>\n",
       "      <th>eeg4_Alpha0</th>\n",
       "      <td>0.012315</td>\n",
       "    </tr>\n",
       "    <tr>\n",
       "      <th>eeg4_Beta0</th>\n",
       "      <td>0.011760</td>\n",
       "    </tr>\n",
       "    <tr>\n",
       "      <th>min_eeg_1</th>\n",
       "      <td>0.011527</td>\n",
       "    </tr>\n",
       "    <tr>\n",
       "      <th>eeg1_Delta0</th>\n",
       "      <td>0.010183</td>\n",
       "    </tr>\n",
       "    <tr>\n",
       "      <th>eeg3_Gamma0</th>\n",
       "      <td>0.008327</td>\n",
       "    </tr>\n",
       "    <tr>\n",
       "      <th>50%_accelerometer_z</th>\n",
       "      <td>0.008304</td>\n",
       "    </tr>\n",
       "    <tr>\n",
       "      <th>75%_accelerometer_z</th>\n",
       "      <td>0.008231</td>\n",
       "    </tr>\n",
       "    <tr>\n",
       "      <th>max_eeg_1</th>\n",
       "      <td>0.007341</td>\n",
       "    </tr>\n",
       "    <tr>\n",
       "      <th>50%_eeg_1</th>\n",
       "      <td>0.007004</td>\n",
       "    </tr>\n",
       "    <tr>\n",
       "      <th>50%_po_r</th>\n",
       "      <td>0.006830</td>\n",
       "    </tr>\n",
       "    <tr>\n",
       "      <th>25%_accelerometer_z</th>\n",
       "      <td>0.006812</td>\n",
       "    </tr>\n",
       "    <tr>\n",
       "      <th>eeg2_Delta0</th>\n",
       "      <td>0.006732</td>\n",
       "    </tr>\n",
       "    <tr>\n",
       "      <th>50%_po_ir</th>\n",
       "      <td>0.006700</td>\n",
       "    </tr>\n",
       "    <tr>\n",
       "      <th>50%_accelerometer_x</th>\n",
       "      <td>0.006489</td>\n",
       "    </tr>\n",
       "    <tr>\n",
       "      <th>std_eeg_2</th>\n",
       "      <td>0.006139</td>\n",
       "    </tr>\n",
       "    <tr>\n",
       "      <th>min_eeg_2</th>\n",
       "      <td>0.006123</td>\n",
       "    </tr>\n",
       "    <tr>\n",
       "      <th>50%_eeg_2</th>\n",
       "      <td>0.006060</td>\n",
       "    </tr>\n",
       "    <tr>\n",
       "      <th>25%_eeg_4</th>\n",
       "      <td>0.006052</td>\n",
       "    </tr>\n",
       "    <tr>\n",
       "      <th>eeg4_Theta0</th>\n",
       "      <td>0.005983</td>\n",
       "    </tr>\n",
       "    <tr>\n",
       "      <th>50%_accelerometer_y</th>\n",
       "      <td>0.005969</td>\n",
       "    </tr>\n",
       "    <tr>\n",
       "      <th>IBI_ir</th>\n",
       "      <td>0.005959</td>\n",
       "    </tr>\n",
       "    <tr>\n",
       "      <th>75%_eeg_4</th>\n",
       "      <td>0.005935</td>\n",
       "    </tr>\n",
       "    <tr>\n",
       "      <th>min_accelerometer_x</th>\n",
       "      <td>0.005814</td>\n",
       "    </tr>\n",
       "    <tr>\n",
       "      <th>eeg3_Beta0</th>\n",
       "      <td>0.005756</td>\n",
       "    </tr>\n",
       "    <tr>\n",
       "      <th>25%_po_r</th>\n",
       "      <td>0.005393</td>\n",
       "    </tr>\n",
       "    <tr>\n",
       "      <th>75%_po_r</th>\n",
       "      <td>0.005343</td>\n",
       "    </tr>\n",
       "    <tr>\n",
       "      <th>50%_eeg_4</th>\n",
       "      <td>0.005275</td>\n",
       "    </tr>\n",
       "    <tr>\n",
       "      <th>25%_po_ir</th>\n",
       "      <td>0.005239</td>\n",
       "    </tr>\n",
       "    <tr>\n",
       "      <th>50%_eeg_3</th>\n",
       "      <td>0.005143</td>\n",
       "    </tr>\n",
       "    <tr>\n",
       "      <th>max_po_r</th>\n",
       "      <td>0.004992</td>\n",
       "    </tr>\n",
       "    <tr>\n",
       "      <th>mean_eeg_1</th>\n",
       "      <td>0.004967</td>\n",
       "    </tr>\n",
       "    <tr>\n",
       "      <th>min_po_ir</th>\n",
       "      <td>0.004891</td>\n",
       "    </tr>\n",
       "    <tr>\n",
       "      <th>eeg3_Theta0</th>\n",
       "      <td>0.004820</td>\n",
       "    </tr>\n",
       "    <tr>\n",
       "      <th>mean_eeg_2</th>\n",
       "      <td>0.004792</td>\n",
       "    </tr>\n",
       "  </tbody>\n",
       "</table>\n",
       "</div>"
      ],
      "text/plain": [
       "                     importance\n",
       "75%_eeg_1              0.123494\n",
       "eeg1_Beta0             0.092826\n",
       "eeg2_Beta0             0.051077\n",
       "eeg1_Gamma0            0.045998\n",
       "eeg1_Alpha0            0.044507\n",
       "75%_eeg_2              0.029427\n",
       "eeg1_Theta0            0.026150\n",
       "eeg2_Alpha0            0.022751\n",
       "25%_eeg_2              0.020595\n",
       "eeg2_Gamma0            0.016956\n",
       "BPM_ir                 0.015629\n",
       "std_eeg_1              0.015023\n",
       "eeg4_Gamma0            0.013846\n",
       "eeg2_Theta0            0.013594\n",
       "25%_eeg_1              0.013208\n",
       "eeg3_Alpha0            0.012578\n",
       "eeg4_Alpha0            0.012315\n",
       "eeg4_Beta0             0.011760\n",
       "min_eeg_1              0.011527\n",
       "eeg1_Delta0            0.010183\n",
       "eeg3_Gamma0            0.008327\n",
       "50%_accelerometer_z    0.008304\n",
       "75%_accelerometer_z    0.008231\n",
       "max_eeg_1              0.007341\n",
       "50%_eeg_1              0.007004\n",
       "50%_po_r               0.006830\n",
       "25%_accelerometer_z    0.006812\n",
       "eeg2_Delta0            0.006732\n",
       "50%_po_ir              0.006700\n",
       "50%_accelerometer_x    0.006489\n",
       "std_eeg_2              0.006139\n",
       "min_eeg_2              0.006123\n",
       "50%_eeg_2              0.006060\n",
       "25%_eeg_4              0.006052\n",
       "eeg4_Theta0            0.005983\n",
       "50%_accelerometer_y    0.005969\n",
       "IBI_ir                 0.005959\n",
       "75%_eeg_4              0.005935\n",
       "min_accelerometer_x    0.005814\n",
       "eeg3_Beta0             0.005756\n",
       "25%_po_r               0.005393\n",
       "75%_po_r               0.005343\n",
       "50%_eeg_4              0.005275\n",
       "25%_po_ir              0.005239\n",
       "50%_eeg_3              0.005143\n",
       "max_po_r               0.004992\n",
       "mean_eeg_1             0.004967\n",
       "min_po_ir              0.004891\n",
       "eeg3_Theta0            0.004820\n",
       "mean_eeg_2             0.004792"
      ]
     },
     "execution_count": 39,
     "metadata": {},
     "output_type": "execute_result"
    }
   ],
   "source": [
    "importances = rnd_clf.feature_importances_\n",
    "feature_importances = pd.DataFrame(importances, index = X.columns, \n",
    "                                   columns=['importance']).sort_values('importance', ascending=False)\n",
    "plt.bar(feature_importances.index, feature_importances[\"importance\"])\n",
    "plt.show()\n",
    "\n",
    "feature_importances.head(50)"
   ]
  },
  {
   "cell_type": "code",
   "execution_count": null,
   "metadata": {},
   "outputs": [],
   "source": []
  },
  {
   "cell_type": "code",
   "execution_count": null,
   "metadata": {},
   "outputs": [],
   "source": []
  },
  {
   "cell_type": "markdown",
   "metadata": {},
   "source": [
    "### Boosting"
   ]
  },
  {
   "cell_type": "markdown",
   "metadata": {},
   "source": [
    "for n_estimators =  70\n",
    "log loss =  0.48672557810125716\n",
    "kappa =  0.7634687814405141\n",
    "accuracy =  0.8316221765913757"
   ]
  },
  {
   "cell_type": "code",
   "execution_count": 40,
   "metadata": {},
   "outputs": [
    {
     "name": "stdout",
     "output_type": "stream",
     "text": [
      "kappa for n_estimators  =  0.7568515701129089\n",
      "accurancy for n_estimators  =  0.8267168605977641\n"
     ]
    }
   ],
   "source": [
    "gbc = GradientBoostingClassifier(n_estimators=100, learning_rate=0.1, max_depth=15, random_state=42)\n",
    "gbc.fit(X, y)\n",
    "y_pred = gbc.predict(X_test)\n",
    "kappa = cohen_kappa_score(y_true, y_pred)\n",
    "\n",
    "print(\"kappa for n_estimators  = \" ,  kappa)\n",
    "print(\"accurancy for n_estimators  = \" , accuracy_score(y_true, y_pred))\n"
   ]
  },
  {
   "cell_type": "markdown",
   "metadata": {},
   "source": [
    "{'learning_rate': 0.1, 'max_depth': 15,  'subsample': 0.8}\n",
    "- kappa:  0.785\n",
    "- accurancy   =  0.847\n",
    "\n",
    "after dropping index \n",
    "- kappa:  0.766\n",
    "- accurancy for n_estimators  =  0.834\n",
    "\n",
    "after fixing pulse bug with n estimators = 30\n",
    "{'learning_rate': 0.1, 'max_depth': 13, 'min_samples_leaf': 1, 'min_samples_split': 2, 'subsample': 0.7}\n",
    "- kappa:  0.744\n",
    "- accurancy for n_estimators  =  0.82\n",
    "\n",
    "as a comparaison\n",
    "Features when naive are dropped\n",
    "{'learning_rate': 0.1, 'max_depth': 15, 'min_samples_leaf': 1, 'min_samples_split': 2, 'subsample': 0.8}\n",
    "kappa:  0.747\n",
    "accurancy : 0.821\n",
    "\n",
    "Only naive features\n",
    "kappa:  0.683\n",
    "accurancy for n_estimators  =  0.777"
   ]
  },
  {
   "cell_type": "code",
   "execution_count": 41,
   "metadata": {},
   "outputs": [
    {
     "name": "stdout",
     "output_type": "stream",
     "text": [
      "Fitting 3 folds for each of 4 candidates, totalling 12 fits\n"
     ]
    },
    {
     "name": "stderr",
     "output_type": "stream",
     "text": [
      "[Parallel(n_jobs=-1)]: Done   4 out of  12 | elapsed: 18.5min remaining: 37.0min\n",
      "[Parallel(n_jobs=-1)]: Done  12 out of  12 | elapsed: 33.2min finished\n"
     ]
    },
    {
     "name": "stdout",
     "output_type": "stream",
     "text": [
      "{'learning_rate': 0.1, 'max_depth': 13, 'min_samples_leaf': 1, 'min_samples_split': 2, 'subsample': 0.7}\n",
      "kappa:  0.7433764686380122\n",
      "accurancy for n_estimators  =  0.8174766141911932\n"
     ]
    }
   ],
   "source": [
    "gbc = GradientBoostingClassifier(n_estimators = 30, random_state=42)\n",
    "\n",
    "r1 = [1]\n",
    "r2 = [2]\n",
    "parametres = {'max_depth': [13, 15] ,'learning_rate': [0.1], \"min_samples_leaf\" : r1,  \n",
    "              \"min_samples_split\" : r2, 'subsample': [0.7, 0.8]}\n",
    "    \n",
    "ck_score = make_scorer(cohen_kappa_score)\n",
    "grid = GridSearchCV(estimator=gbc, param_grid=parametres, scoring=ck_score, n_jobs=-1, verbose=2)\n",
    "\n",
    "grid_fitted = grid.fit(X,y)\n",
    "print(grid_fitted.best_params_)\n",
    "\n",
    "y_pred = grid.predict(X_test)\n",
    "\n",
    "print(\"kappa: \", cohen_kappa_score(y_true, y_pred))\n",
    "print(\"accurancy for n_estimators  = \" , accuracy_score(y_true, y_pred))"
   ]
  },
  {
   "cell_type": "code",
   "execution_count": 44,
   "metadata": {},
   "outputs": [
    {
     "name": "stdout",
     "output_type": "stream",
     "text": [
      "Confusion matrix, without normalization\n",
      "[[ 808   10  106   35   36]\n",
      " [  31   39  118    6   73]\n",
      " [  71    4 2752  226  228]\n",
      " [  38    0  218 2444    0]\n",
      " [  36    4  343   17 1123]]\n",
      "Normalized confusion matrix\n",
      "[[0.81 0.01 0.11 0.04 0.04]\n",
      " [0.12 0.15 0.44 0.02 0.27]\n",
      " [0.02 0.   0.84 0.07 0.07]\n",
      " [0.01 0.   0.08 0.91 0.  ]\n",
      " [0.02 0.   0.23 0.01 0.74]]\n"
     ]
    },
    {
     "data": {
      "image/png": "[encoded data removed]",
      "text/plain": [
       "<Figure size 432x288 with 2 Axes>"
      ]
     },
     "metadata": {},
     "output_type": "display_data"
    },
    {
     "data": {
      "image/png": "[encoded data removed]",
      "text/plain": [
       "<Figure size 432x288 with 2 Axes>"
      ]
     },
     "metadata": {},
     "output_type": "display_data"
    }
   ],
   "source": [
    "# Compute confusion matrix\n",
    "cnf_matrix = confusion_matrix(y_true, y_pred)\n",
    "np.set_printoptions(precision=2)\n",
    "\n",
    "# Plot non-normalized confusion matrix\n",
    "plt.figure()\n",
    "plot_confusion_matrix(cnf_matrix, classes=[0, 1, 2, 3, 4], title='Confusion matrix, without normalization')\n",
    "\n",
    "# Plot normalized confusion matrix\n",
    "plt.figure()\n",
    "plot_confusion_matrix(cnf_matrix, classes=[0, 1, 2, 3, 4], normalize=True,\n",
    "                      title='Normalized confusion matrix')\n",
    "\n",
    "plt.show()"
   ]
  },
  {
   "cell_type": "markdown",
   "metadata": {},
   "source": [
    "trying with parameter from gridCV\n",
    "\n",
    "\n",
    "{'learning_rate': 0.1, 'max_depth': 13, 'min_samples_leaf': 1, 'min_samples_split': 2, 'subsample': 0.7}\n",
    "kappa:  0.7433764686380122\n",
    "accurancy for n_estimators  =  0.8174766141911932"
   ]
  },
  {
   "cell_type": "markdown",
   "metadata": {},
   "source": [
    "Overfitting after 100 n_estimators. (from 200 on)\n",
    "for 100:\n",
    "\n",
    "kappa =  0.786\n",
    "accuracy =  0.847\n",
    "\n",
    "as a comparaison\n",
    "Features when naive are dropped\n",
    "{'learning_rate': 0.1, 'max_depth': 15, 'min_samples_leaf': 1, 'min_samples_split': 2, 'subsample': 0.8}\n",
    "kappa:  0.747\n",
    "accurancy : 0.821\n",
    "\n",
    "Only naive features\n",
    "kappa:  0.683\n",
    "accurancy for n_estimators  =  0.777"
   ]
  },
  {
   "cell_type": "code",
   "execution_count": 51,
   "metadata": {
    "scrolled": true
   },
   "outputs": [
    {
     "name": "stdout",
     "output_type": "stream",
     "text": [
      "for n_estimators =  10\n",
      "log loss =  0.7154292027769167\n",
      "kappa =  0.7174530347533783\n",
      "accuracy =  0.799338352726443\n",
      "for n_estimators =  20\n",
      "log loss =  0.5543744986152506\n",
      "kappa =  0.7370936859949307\n",
      "accuracy =  0.813141683778234\n",
      "for n_estimators =  30\n",
      "log loss =  0.5073160640255615\n",
      "kappa =  0.7433764686380122\n",
      "accuracy =  0.8174766141911932\n",
      "for n_estimators =  40\n",
      "log loss =  0.49029300199685166\n",
      "kappa =  0.7518843172391512\n",
      "accuracy =  0.8234086242299795\n",
      "for n_estimators =  50\n",
      "log loss =  0.4857512636168815\n",
      "kappa =  0.7586408515510799\n",
      "accuracy =  0.8281998631074606\n",
      "for n_estimators =  60\n",
      "log loss =  0.48624886370109666\n",
      "kappa =  0.7606436902272786\n",
      "accuracy =  0.8296828656171572\n",
      "for n_estimators =  70\n",
      "log loss =  0.48672557810125716\n",
      "kappa =  0.7634687814405141\n",
      "accuracy =  0.8316221765913757\n",
      "for n_estimators =  80\n",
      "log loss =  0.4918413328653055\n",
      "kappa =  0.7657476834533615\n",
      "accuracy =  0.8332192562172028\n",
      "for n_estimators =  90\n",
      "log loss =  0.49977869239430067\n",
      "kappa =  0.7690103170418359\n",
      "accuracy =  0.835500798539813\n"
     ]
    }
   ],
   "source": [
    "\n",
    "errors = []\n",
    "Lk = []\n",
    "La = []\n",
    "\n",
    "r = range(10, 100 , 10)\n",
    "\n",
    "for i in r:\n",
    "    gbc = GradientBoostingClassifier(n_estimators = i, random_state=42, learning_rate= 0.1, max_depth= 13, \n",
    "                                 min_samples_leaf= 1, min_samples_split= 2, subsample= 0.7)\n",
    "    gbc.fit(X, y)\n",
    "    ll = log_loss(y_true, gbc.predict_proba(X_test))\n",
    "    errors.append(ll)\n",
    "    y_pred = gbc.predict(X_test)\n",
    "    k=cohen_kappa_score(y_true, y_pred)\n",
    "    a= accuracy_score(y_true, y_pred)\n",
    "    print(\"for n_estimators = \", i)\n",
    "    print(\"log loss = \", ll)\n",
    "    print(\"kappa = \", k)\n",
    "    print(\"accuracy = \", a)\n",
    "    Lk.append(k)\n",
    "    La.append(a)\n",
    "    "
   ]
  },
  {
   "cell_type": "code",
   "execution_count": 52,
   "metadata": {},
   "outputs": [
    {
     "data": {
      "text/plain": [
       "[<matplotlib.lines.Line2D at 0x19d811254a8>]"
      ]
     },
     "execution_count": 52,
     "metadata": {},
     "output_type": "execute_result"
    },
    {
     "data": {
      "image/png": "[encoded data removed]",
      "text/plain": [
       "<Figure size 432x288 with 1 Axes>"
      ]
     },
     "metadata": {},
     "output_type": "display_data"
    }
   ],
   "source": [
    "plt.plot(r, errors, label = \"log loss\")"
   ]
  },
  {
   "cell_type": "code",
   "execution_count": 53,
   "metadata": {},
   "outputs": [
    {
     "data": {
      "text/plain": [
       "<matplotlib.legend.Legend at 0x19d811ebcc0>"
      ]
     },
     "execution_count": 53,
     "metadata": {},
     "output_type": "execute_result"
    },
    {
     "data": {
      "image/png": "[encoded data removed]",
      "text/plain": [
       "<Figure size 432x288 with 1 Axes>"
      ]
     },
     "metadata": {},
     "output_type": "display_data"
    }
   ],
   "source": [
    "plt.plot(r, La, label = \"accuracy\")\n",
    "plt.plot(r, Lk, label = \"kappa\")\n",
    "plt.legend(loc='lower right')"
   ]
  },
  {
   "cell_type": "markdown",
   "metadata": {},
   "source": [
    "go for 50\n",
    "- log loss =  0.4857512636168815\n",
    "- kappa =  0.7586408515510799\n",
    "- accuracy =  0.8281998631074606"
   ]
  },
  {
   "cell_type": "code",
   "execution_count": 70,
   "metadata": {},
   "outputs": [
    {
     "name": "stdout",
     "output_type": "stream",
     "text": [
      "for n_estimators=  50\n",
      "log loss =  0.4857512636168815\n",
      "kappa =  0.7586408515510799\n",
      "accuracy =  0.8281998631074606\n"
     ]
    }
   ],
   "source": [
    "errors = []\n",
    "Lk = []\n",
    "La = []\n",
    "\n",
    "i=50\n",
    "\n",
    "gbc = GradientBoostingClassifier(n_estimators = i, random_state=42, learning_rate= 0.1, max_depth= 13, \n",
    "                                 min_samples_leaf= 1, min_samples_split= 2, subsample= 0.7)\n",
    "gbc.fit(X, y)\n",
    "ll = log_loss(y_true, gbc.predict_proba(X_test))\n",
    "\n",
    "y_pred = gbc.predict(X_test)\n",
    "k=cohen_kappa_score(y_true, y_pred)\n",
    "a= accuracy_score(y_true, y_pred)\n",
    "print(\"for n_estimators= \", i)\n",
    "print(\"log loss = \", ll)\n",
    "print(\"kappa = \", k)\n",
    "print(\"accuracy = \", a)"
   ]
  },
  {
   "cell_type": "code",
   "execution_count": 71,
   "metadata": {},
   "outputs": [
    {
     "name": "stdout",
     "output_type": "stream",
     "text": [
      "Confusion matrix, without normalization\n",
      "[[ 823   10   97   29   36]\n",
      " [  28   44  111    6   78]\n",
      " [  62    4 2787  213  215]\n",
      " [  38    0  204 2457    1]\n",
      " [  34    3  323   14 1149]]\n",
      "Normalized confusion matrix\n",
      "[[8.27e-01 1.01e-02 9.75e-02 2.91e-02 3.62e-02]\n",
      " [1.05e-01 1.65e-01 4.16e-01 2.25e-02 2.92e-01]\n",
      " [1.89e-02 1.22e-03 8.49e-01 6.49e-02 6.55e-02]\n",
      " [1.41e-02 0.00e+00 7.56e-02 9.10e-01 3.70e-04]\n",
      " [2.23e-02 1.97e-03 2.12e-01 9.19e-03 7.54e-01]]\n"
     ]
    },
    {
     "data": {
      "image/png": "[encoded data removed]",
      "text/plain": [
       "<Figure size 432x288 with 2 Axes>"
      ]
     },
     "metadata": {},
     "output_type": "display_data"
    },
    {
     "data": {
      "image/png": "[encoded data removed]",
      "text/plain": [
       "<Figure size 432x288 with 2 Axes>"
      ]
     },
     "metadata": {},
     "output_type": "display_data"
    }
   ],
   "source": [
    "cnf_matrix = confusion_matrix(y_true, y_pred)\n",
    "np.set_printoptions(precision=2)\n",
    "\n",
    "plt.figure()\n",
    "plot_confusion_matrix(cnf_matrix, classes=[0, 1, 2, 3, 4], title='Confusion matrix, without normalization')\n",
    "\n",
    "plt.figure()\n",
    "plot_confusion_matrix(cnf_matrix, classes=[0, 1, 2, 3, 4], normalize=True,\n",
    "                      title='Normalized confusion matrix')\n",
    "\n",
    "plt.show()"
   ]
  },
  {
   "cell_type": "code",
   "execution_count": 73,
   "metadata": {},
   "outputs": [
    {
     "data": {
      "image/png": "[encoded data removed]",
      "text/plain": [
       "<Figure size 432x288 with 1 Axes>"
      ]
     },
     "metadata": {},
     "output_type": "display_data"
    },
    {
     "data": {
      "text/html": [
       "<div>\n",
       "<style scoped>\n",
       "    .dataframe tbody tr th:only-of-type {\n",
       "        vertical-align: middle;\n",
       "    }\n",
       "\n",
       "    .dataframe tbody tr th {\n",
       "        vertical-align: top;\n",
       "    }\n",
       "\n",
       "    .dataframe thead th {\n",
       "        text-align: right;\n",
       "    }\n",
       "</style>\n",
       "<table border=\"1\" class=\"dataframe\">\n",
       "  <thead>\n",
       "    <tr style=\"text-align: right;\">\n",
       "      <th></th>\n",
       "      <th>importance</th>\n",
       "    </tr>\n",
       "  </thead>\n",
       "  <tbody>\n",
       "    <tr>\n",
       "      <th>75%_eeg_1</th>\n",
       "      <td>0.055049</td>\n",
       "    </tr>\n",
       "    <tr>\n",
       "      <th>eeg1_Beta0</th>\n",
       "      <td>0.027656</td>\n",
       "    </tr>\n",
       "    <tr>\n",
       "      <th>eeg1_Alpha0</th>\n",
       "      <td>0.023381</td>\n",
       "    </tr>\n",
       "    <tr>\n",
       "      <th>eeg2_Beta0</th>\n",
       "      <td>0.023334</td>\n",
       "    </tr>\n",
       "    <tr>\n",
       "      <th>75%_eeg_2</th>\n",
       "      <td>0.022402</td>\n",
       "    </tr>\n",
       "    <tr>\n",
       "      <th>eeg1_Gamma0</th>\n",
       "      <td>0.019648</td>\n",
       "    </tr>\n",
       "    <tr>\n",
       "      <th>25%_eeg_1</th>\n",
       "      <td>0.019155</td>\n",
       "    </tr>\n",
       "    <tr>\n",
       "      <th>eeg1_Theta0</th>\n",
       "      <td>0.018534</td>\n",
       "    </tr>\n",
       "    <tr>\n",
       "      <th>eeg2_Alpha0</th>\n",
       "      <td>0.017279</td>\n",
       "    </tr>\n",
       "    <tr>\n",
       "      <th>25%_eeg_2</th>\n",
       "      <td>0.017075</td>\n",
       "    </tr>\n",
       "    <tr>\n",
       "      <th>eeg2_Gamma0</th>\n",
       "      <td>0.016147</td>\n",
       "    </tr>\n",
       "    <tr>\n",
       "      <th>eeg2_Theta0</th>\n",
       "      <td>0.015826</td>\n",
       "    </tr>\n",
       "    <tr>\n",
       "      <th>eeg4_Alpha0</th>\n",
       "      <td>0.015112</td>\n",
       "    </tr>\n",
       "    <tr>\n",
       "      <th>min_eeg_1</th>\n",
       "      <td>0.012434</td>\n",
       "    </tr>\n",
       "    <tr>\n",
       "      <th>eeg4_Gamma0</th>\n",
       "      <td>0.011781</td>\n",
       "    </tr>\n",
       "    <tr>\n",
       "      <th>50%_accelerometer_z</th>\n",
       "      <td>0.011770</td>\n",
       "    </tr>\n",
       "    <tr>\n",
       "      <th>50%_po_r</th>\n",
       "      <td>0.011603</td>\n",
       "    </tr>\n",
       "    <tr>\n",
       "      <th>eeg1_Delta0</th>\n",
       "      <td>0.011525</td>\n",
       "    </tr>\n",
       "    <tr>\n",
       "      <th>eeg4_Beta0</th>\n",
       "      <td>0.011367</td>\n",
       "    </tr>\n",
       "    <tr>\n",
       "      <th>eeg3_Alpha0</th>\n",
       "      <td>0.011306</td>\n",
       "    </tr>\n",
       "    <tr>\n",
       "      <th>50%_eeg_1</th>\n",
       "      <td>0.011080</td>\n",
       "    </tr>\n",
       "    <tr>\n",
       "      <th>BPM_ir</th>\n",
       "      <td>0.010710</td>\n",
       "    </tr>\n",
       "    <tr>\n",
       "      <th>50%_po_ir</th>\n",
       "      <td>0.010437</td>\n",
       "    </tr>\n",
       "    <tr>\n",
       "      <th>50%_eeg_2</th>\n",
       "      <td>0.010304</td>\n",
       "    </tr>\n",
       "    <tr>\n",
       "      <th>50%_accelerometer_x</th>\n",
       "      <td>0.010169</td>\n",
       "    </tr>\n",
       "    <tr>\n",
       "      <th>50%_eeg_3</th>\n",
       "      <td>0.010038</td>\n",
       "    </tr>\n",
       "    <tr>\n",
       "      <th>eeg3_Gamma0</th>\n",
       "      <td>0.010036</td>\n",
       "    </tr>\n",
       "    <tr>\n",
       "      <th>50%_eeg_4</th>\n",
       "      <td>0.009723</td>\n",
       "    </tr>\n",
       "    <tr>\n",
       "      <th>eeg4_Theta0</th>\n",
       "      <td>0.009336</td>\n",
       "    </tr>\n",
       "    <tr>\n",
       "      <th>eeg2_Delta0</th>\n",
       "      <td>0.009286</td>\n",
       "    </tr>\n",
       "    <tr>\n",
       "      <th>75%_accelerometer_z</th>\n",
       "      <td>0.009259</td>\n",
       "    </tr>\n",
       "    <tr>\n",
       "      <th>75%_eeg_4</th>\n",
       "      <td>0.009087</td>\n",
       "    </tr>\n",
       "    <tr>\n",
       "      <th>mean_eeg_2</th>\n",
       "      <td>0.009030</td>\n",
       "    </tr>\n",
       "    <tr>\n",
       "      <th>25%_po_ir</th>\n",
       "      <td>0.008972</td>\n",
       "    </tr>\n",
       "    <tr>\n",
       "      <th>25%_eeg_3</th>\n",
       "      <td>0.008924</td>\n",
       "    </tr>\n",
       "    <tr>\n",
       "      <th>50%_accelerometer_y</th>\n",
       "      <td>0.008867</td>\n",
       "    </tr>\n",
       "    <tr>\n",
       "      <th>min_eeg_2</th>\n",
       "      <td>0.008787</td>\n",
       "    </tr>\n",
       "    <tr>\n",
       "      <th>std_eeg_1</th>\n",
       "      <td>0.008676</td>\n",
       "    </tr>\n",
       "    <tr>\n",
       "      <th>max_eeg_1</th>\n",
       "      <td>0.008615</td>\n",
       "    </tr>\n",
       "    <tr>\n",
       "      <th>25%_accelerometer_z</th>\n",
       "      <td>0.008518</td>\n",
       "    </tr>\n",
       "    <tr>\n",
       "      <th>eeg3_Beta0</th>\n",
       "      <td>0.008513</td>\n",
       "    </tr>\n",
       "    <tr>\n",
       "      <th>25%_eeg_4</th>\n",
       "      <td>0.008420</td>\n",
       "    </tr>\n",
       "    <tr>\n",
       "      <th>max_eeg_2</th>\n",
       "      <td>0.008408</td>\n",
       "    </tr>\n",
       "    <tr>\n",
       "      <th>mean_eeg_3</th>\n",
       "      <td>0.008072</td>\n",
       "    </tr>\n",
       "    <tr>\n",
       "      <th>25%_accelerometer_x</th>\n",
       "      <td>0.008068</td>\n",
       "    </tr>\n",
       "    <tr>\n",
       "      <th>mean_eeg_1</th>\n",
       "      <td>0.007985</td>\n",
       "    </tr>\n",
       "    <tr>\n",
       "      <th>SDNN_ir</th>\n",
       "      <td>0.007957</td>\n",
       "    </tr>\n",
       "    <tr>\n",
       "      <th>mean_accelerometer_y</th>\n",
       "      <td>0.007923</td>\n",
       "    </tr>\n",
       "    <tr>\n",
       "      <th>eeg3_Theta0</th>\n",
       "      <td>0.007906</td>\n",
       "    </tr>\n",
       "    <tr>\n",
       "      <th>min_accelerometer_x</th>\n",
       "      <td>0.007848</td>\n",
       "    </tr>\n",
       "  </tbody>\n",
       "</table>\n",
       "</div>"
      ],
      "text/plain": [
       "                      importance\n",
       "75%_eeg_1               0.055049\n",
       "eeg1_Beta0              0.027656\n",
       "eeg1_Alpha0             0.023381\n",
       "eeg2_Beta0              0.023334\n",
       "75%_eeg_2               0.022402\n",
       "eeg1_Gamma0             0.019648\n",
       "25%_eeg_1               0.019155\n",
       "eeg1_Theta0             0.018534\n",
       "eeg2_Alpha0             0.017279\n",
       "25%_eeg_2               0.017075\n",
       "eeg2_Gamma0             0.016147\n",
       "eeg2_Theta0             0.015826\n",
       "eeg4_Alpha0             0.015112\n",
       "min_eeg_1               0.012434\n",
       "eeg4_Gamma0             0.011781\n",
       "50%_accelerometer_z     0.011770\n",
       "50%_po_r                0.011603\n",
       "eeg1_Delta0             0.011525\n",
       "eeg4_Beta0              0.011367\n",
       "eeg3_Alpha0             0.011306\n",
       "50%_eeg_1               0.011080\n",
       "BPM_ir                  0.010710\n",
       "50%_po_ir               0.010437\n",
       "50%_eeg_2               0.010304\n",
       "50%_accelerometer_x     0.010169\n",
       "50%_eeg_3               0.010038\n",
       "eeg3_Gamma0             0.010036\n",
       "50%_eeg_4               0.009723\n",
       "eeg4_Theta0             0.009336\n",
       "eeg2_Delta0             0.009286\n",
       "75%_accelerometer_z     0.009259\n",
       "75%_eeg_4               0.009087\n",
       "mean_eeg_2              0.009030\n",
       "25%_po_ir               0.008972\n",
       "25%_eeg_3               0.008924\n",
       "50%_accelerometer_y     0.008867\n",
       "min_eeg_2               0.008787\n",
       "std_eeg_1               0.008676\n",
       "max_eeg_1               0.008615\n",
       "25%_accelerometer_z     0.008518\n",
       "eeg3_Beta0              0.008513\n",
       "25%_eeg_4               0.008420\n",
       "max_eeg_2               0.008408\n",
       "mean_eeg_3              0.008072\n",
       "25%_accelerometer_x     0.008068\n",
       "mean_eeg_1              0.007985\n",
       "SDNN_ir                 0.007957\n",
       "mean_accelerometer_y    0.007923\n",
       "eeg3_Theta0             0.007906\n",
       "min_accelerometer_x     0.007848"
      ]
     },
     "execution_count": 73,
     "metadata": {},
     "output_type": "execute_result"
    }
   ],
   "source": [
    "importances = gbc.feature_importances_\n",
    "feature_importances = pd.DataFrame(importances, index = X.columns, \n",
    "                                   columns=['importance']).sort_values('importance', ascending=False)\n",
    "plt.bar(feature_importances.index, feature_importances[\"importance\"])\n",
    "plt.show()\n",
    "\n",
    "feature_importances.head(50)"
   ]
  },
  {
   "cell_type": "markdown",
   "metadata": {},
   "source": [
    "## Xgboost\n",
    "\n",
    "Performance à battre (regular gradien boosting)\n",
    "- kappa =  0.7586408515510799\n",
    "- accuracy =  0.8281998631074606\n",
    "\n",
    " nouveau record a battre for n_estimators =  115\n",
    "- log loss =  0.4354704374970457\n",
    "- kappa =  0.7797652198456537\n",
    "- accuracy =  0.8428017339721652"
   ]
  },
  {
   "cell_type": "code",
   "execution_count": 78,
   "metadata": {},
   "outputs": [
    {
     "data": {
      "text/plain": [
       "XGBClassifier(base_score=0.5, booster='gbtree', colsample_bylevel=1,\n",
       "       colsample_bytree=1, gamma=0, learning_rate=0.1, max_delta_step=0,\n",
       "       max_depth=3, min_child_weight=1, missing=None, n_estimators=100,\n",
       "       n_jobs=1, nthread=None, objective='multi:softprob', random_state=0,\n",
       "       reg_alpha=0, reg_lambda=1, scale_pos_weight=1, seed=None,\n",
       "       silent=True, subsample=1)"
      ]
     },
     "execution_count": 78,
     "metadata": {},
     "output_type": "execute_result"
    }
   ],
   "source": [
    "model = xgb.XGBClassifier()\n",
    "model.fit(X, y)"
   ]
  },
  {
   "cell_type": "code",
   "execution_count": null,
   "metadata": {
    "collapsed": true
   },
   "outputs": [],
   "source": []
  },
  {
   "cell_type": "code",
   "execution_count": 103,
   "metadata": {},
   "outputs": [
    {
     "name": "stderr",
     "output_type": "stream",
     "text": [
      "C:\\Anaconda3\\lib\\site-packages\\sklearn\\preprocessing\\label.py:151: DeprecationWarning: The truth value of an empty array is ambiguous. Returning False, but in future this will result in an error. Use `array.size > 0` to check that an array is not empty.\n",
      "  if diff:\n"
     ]
    }
   ],
   "source": [
    "#y_pred = gbc.predict(X_test)\n",
    "#k=cohen_kappa_score(y_true, y_pred)\n",
    "#a= accuracy_score(y_true, y_pred)\n",
    "\n",
    "y_pred = model.predict(X_test)\n"
   ]
  },
  {
   "cell_type": "code",
   "execution_count": 106,
   "metadata": {},
   "outputs": [
    {
     "data": {
      "text/plain": [
       "0.7652292950034223"
      ]
     },
     "execution_count": 106,
     "metadata": {},
     "output_type": "execute_result"
    }
   ],
   "source": [
    "accuracy_score(y_true, y_pred)"
   ]
  },
  {
   "cell_type": "code",
   "execution_count": 107,
   "metadata": {},
   "outputs": [
    {
     "data": {
      "text/plain": [
       "0.6701575987633325"
      ]
     },
     "execution_count": 107,
     "metadata": {},
     "output_type": "execute_result"
    }
   ],
   "source": [
    "cohen_kappa_score(y_true, y_pred)"
   ]
  },
  {
   "cell_type": "code",
   "execution_count": 20,
   "metadata": {},
   "outputs": [
    {
     "name": "stdout",
     "output_type": "stream",
     "text": [
      "Fitting 3 folds for each of 9 candidates, totalling 27 fits\n"
     ]
    },
    {
     "name": "stderr",
     "output_type": "stream",
     "text": [
      "[Parallel(n_jobs=-1)]: Done  27 out of  27 | elapsed:  9.0min finished\n"
     ]
    },
    {
     "name": "stdout",
     "output_type": "stream",
     "text": [
      "{'learning_rate': 0.1, 'max_depth': 13, 'subsample': 0.7}\n",
      "kappa:  0.744821217208472\n",
      "accurancy for n_estimators  =  0.8181610768879762\n"
     ]
    },
    {
     "name": "stderr",
     "output_type": "stream",
     "text": [
      "C:\\Anaconda3\\lib\\site-packages\\sklearn\\preprocessing\\label.py:151: DeprecationWarning: The truth value of an empty array is ambiguous. Returning False, but in future this will result in an error. Use `array.size > 0` to check that an array is not empty.\n",
      "  if diff:\n"
     ]
    }
   ],
   "source": [
    "xbc = xgb.XGBClassifier(n_estimators = 30, random_state=42)\n",
    "\n",
    "parametres = {'max_depth': [10, 13, 15] ,'learning_rate': [0.1],  'subsample': [0.7, 0.8, 1]}\n",
    "    \n",
    "ck_score = make_scorer(cohen_kappa_score)\n",
    "grid = GridSearchCV(estimator=xbc, param_grid=parametres, scoring=ck_score, n_jobs=-1, verbose=2)\n",
    "\n",
    "grid_fitted = grid.fit(X,y)\n",
    "print(grid_fitted.best_params_)\n",
    "\n",
    "y_pred = grid.predict(X_test)\n",
    "\n",
    "print(\"kappa: \", cohen_kappa_score(y_true, y_pred))\n",
    "print(\"accurancy for n_estimators  = \" , accuracy_score(y_true, y_pred))"
   ]
  },
  {
   "cell_type": "code",
   "execution_count": 22,
   "metadata": {},
   "outputs": [
    {
     "name": "stderr",
     "output_type": "stream",
     "text": [
      "C:\\Anaconda3\\lib\\site-packages\\sklearn\\preprocessing\\label.py:151: DeprecationWarning: The truth value of an empty array is ambiguous. Returning False, but in future this will result in an error. Use `array.size > 0` to check that an array is not empty.\n",
      "  if diff:\n"
     ]
    },
    {
     "name": "stdout",
     "output_type": "stream",
     "text": [
      "for n_estimators =  10\n",
      "log loss =  0.8771659892537729\n",
      "kappa =  0.7190188162409004\n",
      "accuracy =  0.8000228154232261\n"
     ]
    },
    {
     "name": "stderr",
     "output_type": "stream",
     "text": [
      "C:\\Anaconda3\\lib\\site-packages\\sklearn\\preprocessing\\label.py:151: DeprecationWarning: The truth value of an empty array is ambiguous. Returning False, but in future this will result in an error. Use `array.size > 0` to check that an array is not empty.\n",
      "  if diff:\n"
     ]
    },
    {
     "name": "stdout",
     "output_type": "stream",
     "text": [
      "for n_estimators =  20\n",
      "log loss =  0.644975095829231\n",
      "kappa =  0.7301276129909774\n",
      "accuracy =  0.8077800593201004\n"
     ]
    },
    {
     "name": "stderr",
     "output_type": "stream",
     "text": [
      "C:\\Anaconda3\\lib\\site-packages\\sklearn\\preprocessing\\label.py:151: DeprecationWarning: The truth value of an empty array is ambiguous. Returning False, but in future this will result in an error. Use `array.size > 0` to check that an array is not empty.\n",
      "  if diff:\n"
     ]
    },
    {
     "name": "stdout",
     "output_type": "stream",
     "text": [
      "for n_estimators =  30\n",
      "log loss =  0.5450985423698699\n",
      "kappa =  0.744821217208472\n",
      "accuracy =  0.8181610768879762\n"
     ]
    },
    {
     "name": "stderr",
     "output_type": "stream",
     "text": [
      "C:\\Anaconda3\\lib\\site-packages\\sklearn\\preprocessing\\label.py:151: DeprecationWarning: The truth value of an empty array is ambiguous. Returning False, but in future this will result in an error. Use `array.size > 0` to check that an array is not empty.\n",
      "  if diff:\n"
     ]
    },
    {
     "name": "stdout",
     "output_type": "stream",
     "text": [
      "for n_estimators =  40\n",
      "log loss =  0.49696930251529425\n",
      "kappa =  0.754164464670172\n",
      "accuracy =  0.824663472507415\n"
     ]
    },
    {
     "name": "stderr",
     "output_type": "stream",
     "text": [
      "C:\\Anaconda3\\lib\\site-packages\\sklearn\\preprocessing\\label.py:151: DeprecationWarning: The truth value of an empty array is ambiguous. Returning False, but in future this will result in an error. Use `array.size > 0` to check that an array is not empty.\n",
      "  if diff:\n"
     ]
    },
    {
     "name": "stdout",
     "output_type": "stream",
     "text": [
      "for n_estimators =  50\n",
      "log loss =  0.4715870514015059\n",
      "kappa =  0.7591967563259168\n",
      "accuracy =  0.8283139402235912\n"
     ]
    },
    {
     "name": "stderr",
     "output_type": "stream",
     "text": [
      "C:\\Anaconda3\\lib\\site-packages\\sklearn\\preprocessing\\label.py:151: DeprecationWarning: The truth value of an empty array is ambiguous. Returning False, but in future this will result in an error. Use `array.size > 0` to check that an array is not empty.\n",
      "  if diff:\n"
     ]
    },
    {
     "name": "stdout",
     "output_type": "stream",
     "text": [
      "for n_estimators =  60\n",
      "log loss =  0.4572820218346678\n",
      "kappa =  0.7646960477586447\n",
      "accuracy =  0.8321925621720283\n"
     ]
    },
    {
     "name": "stderr",
     "output_type": "stream",
     "text": [
      "C:\\Anaconda3\\lib\\site-packages\\sklearn\\preprocessing\\label.py:151: DeprecationWarning: The truth value of an empty array is ambiguous. Returning False, but in future this will result in an error. Use `array.size > 0` to check that an array is not empty.\n",
      "  if diff:\n"
     ]
    },
    {
     "name": "stdout",
     "output_type": "stream",
     "text": [
      "for n_estimators =  70\n",
      "log loss =  0.44764081480251877\n",
      "kappa =  0.7703060772241273\n",
      "accuracy =  0.836185261236596\n"
     ]
    },
    {
     "name": "stderr",
     "output_type": "stream",
     "text": [
      "C:\\Anaconda3\\lib\\site-packages\\sklearn\\preprocessing\\label.py:151: DeprecationWarning: The truth value of an empty array is ambiguous. Returning False, but in future this will result in an error. Use `array.size > 0` to check that an array is not empty.\n",
      "  if diff:\n"
     ]
    },
    {
     "name": "stdout",
     "output_type": "stream",
     "text": [
      "for n_estimators =  80\n",
      "log loss =  0.44220406875751256\n",
      "kappa =  0.77308686841062\n",
      "accuracy =  0.8381245722108145\n",
      "for n_estimators =  90\n",
      "log loss =  0.43871607114961836\n",
      "kappa =  0.7756792590255384\n",
      "accuracy =  0.8399498060689026\n"
     ]
    },
    {
     "name": "stderr",
     "output_type": "stream",
     "text": [
      "C:\\Anaconda3\\lib\\site-packages\\sklearn\\preprocessing\\label.py:151: DeprecationWarning: The truth value of an empty array is ambiguous. Returning False, but in future this will result in an error. Use `array.size > 0` to check that an array is not empty.\n",
      "  if diff:\n"
     ]
    }
   ],
   "source": [
    "errors = []\n",
    "Lk = []\n",
    "La = []\n",
    "\n",
    "r = range(10, 100 , 10)\n",
    "\n",
    "for i in r:\n",
    "    xbc = xgb.XGBClassifier(n_estimators = i, random_state=42, learning_rate= 0.1, max_depth= 13,  subsample= 0.7, \n",
    "                            n_jobs=-2)\n",
    "    xbc.fit(X, y)\n",
    "    ll = log_loss(y_true, xbc.predict_proba(X_test))\n",
    "    errors.append(ll)\n",
    "    y_pred = xbc.predict(X_test)\n",
    "    k=cohen_kappa_score(y_true, y_pred)\n",
    "    a= accuracy_score(y_true, y_pred)\n",
    "    print(\"for n_estimators = \", i)\n",
    "    print(\"log loss = \", ll)\n",
    "    print(\"kappa = \", k)\n",
    "    print(\"accuracy = \", a)\n",
    "    Lk.append(k)\n",
    "    La.append(a)"
   ]
  },
  {
   "cell_type": "code",
   "execution_count": 23,
   "metadata": {},
   "outputs": [
    {
     "data": {
      "text/plain": [
       "[<matplotlib.lines.Line2D at 0x1eb4365ccf8>]"
      ]
     },
     "execution_count": 23,
     "metadata": {},
     "output_type": "execute_result"
    },
    {
     "data": {
      "image/png": "[encoded data removed]",
      "text/plain": [
       "<Figure size 432x288 with 1 Axes>"
      ]
     },
     "metadata": {},
     "output_type": "display_data"
    }
   ],
   "source": [
    "plt.plot(r, errors, label = \"log loss\")"
   ]
  },
  {
   "cell_type": "code",
   "execution_count": 24,
   "metadata": {},
   "outputs": [
    {
     "data": {
      "text/plain": [
       "<matplotlib.legend.Legend at 0x1eb423923c8>"
      ]
     },
     "execution_count": 24,
     "metadata": {},
     "output_type": "execute_result"
    },
    {
     "data": {
      "image/png": "[encoded data removed]",
      "text/plain": [
       "<Figure size 432x288 with 1 Axes>"
      ]
     },
     "metadata": {},
     "output_type": "display_data"
    }
   ],
   "source": [
    "plt.plot(r, La, label = \"accuracy\")\n",
    "plt.plot(r, Lk, label = \"kappa\")\n",
    "plt.legend(loc='lower right')"
   ]
  },
  {
   "cell_type": "code",
   "execution_count": 27,
   "metadata": {},
   "outputs": [
    {
     "name": "stderr",
     "output_type": "stream",
     "text": [
      "C:\\Anaconda3\\lib\\site-packages\\sklearn\\preprocessing\\label.py:151: DeprecationWarning: The truth value of an empty array is ambiguous. Returning False, but in future this will result in an error. Use `array.size > 0` to check that an array is not empty.\n",
      "  if diff:\n"
     ]
    },
    {
     "name": "stdout",
     "output_type": "stream",
     "text": [
      "for n_estimators =  100\n",
      "log loss =  0.4372689055259229\n",
      "kappa =  0.7782747256819363\n",
      "accuracy =  0.8417750399269907\n"
     ]
    },
    {
     "name": "stderr",
     "output_type": "stream",
     "text": [
      "C:\\Anaconda3\\lib\\site-packages\\sklearn\\preprocessing\\label.py:151: DeprecationWarning: The truth value of an empty array is ambiguous. Returning False, but in future this will result in an error. Use `array.size > 0` to check that an array is not empty.\n",
      "  if diff:\n"
     ]
    },
    {
     "name": "stdout",
     "output_type": "stream",
     "text": [
      "for n_estimators =  120\n",
      "log loss =  0.43546898385335797\n",
      "kappa =  0.7796064706647022\n",
      "accuracy =  0.8426876568560346\n"
     ]
    },
    {
     "name": "stderr",
     "output_type": "stream",
     "text": [
      "C:\\Anaconda3\\lib\\site-packages\\sklearn\\preprocessing\\label.py:151: DeprecationWarning: The truth value of an empty array is ambiguous. Returning False, but in future this will result in an error. Use `array.size > 0` to check that an array is not empty.\n",
      "  if diff:\n"
     ]
    },
    {
     "name": "stdout",
     "output_type": "stream",
     "text": [
      "for n_estimators =  140\n",
      "log loss =  0.4363387823320697\n",
      "kappa =  0.7821971974230998\n",
      "accuracy =  0.8445128907141227\n"
     ]
    },
    {
     "name": "stderr",
     "output_type": "stream",
     "text": [
      "C:\\Anaconda3\\lib\\site-packages\\sklearn\\preprocessing\\label.py:151: DeprecationWarning: The truth value of an empty array is ambiguous. Returning False, but in future this will result in an error. Use `array.size > 0` to check that an array is not empty.\n",
      "  if diff:\n"
     ]
    },
    {
     "name": "stdout",
     "output_type": "stream",
     "text": [
      "for n_estimators =  160\n",
      "log loss =  0.43754274071719174\n",
      "kappa =  0.7830348415421925\n",
      "accuracy =  0.8450832762947753\n",
      "for n_estimators =  180\n",
      "log loss =  0.4401717293547428\n",
      "kappa =  0.7846537724044487\n",
      "accuracy =  0.8462240474560803\n"
     ]
    },
    {
     "name": "stderr",
     "output_type": "stream",
     "text": [
      "C:\\Anaconda3\\lib\\site-packages\\sklearn\\preprocessing\\label.py:151: DeprecationWarning: The truth value of an empty array is ambiguous. Returning False, but in future this will result in an error. Use `array.size > 0` to check that an array is not empty.\n",
      "  if diff:\n"
     ]
    }
   ],
   "source": [
    "errors = []\n",
    "Lk = []\n",
    "La = []\n",
    "\n",
    "r = range(100, 200, 20)\n",
    "\n",
    "for i in r:\n",
    "    xbc = xgb.XGBClassifier(n_estimators = i, random_state=42, learning_rate= 0.1, max_depth= 13,  subsample= 0.7, \n",
    "                            n_jobs=-2)\n",
    "    xbc.fit(X, y)\n",
    "    ll = log_loss(y_true, xbc.predict_proba(X_test))\n",
    "    errors.append(ll)\n",
    "    y_pred = xbc.predict(X_test)\n",
    "    k=cohen_kappa_score(y_true, y_pred)\n",
    "    a= accuracy_score(y_true, y_pred)\n",
    "    print(\"for n_estimators = \", i)\n",
    "    print(\"log loss = \", ll)\n",
    "    print(\"kappa = \", k)\n",
    "    print(\"accuracy = \", a)\n",
    "    Lk.append(k)\n",
    "    La.append(a)"
   ]
  },
  {
   "cell_type": "code",
   "execution_count": 28,
   "metadata": {},
   "outputs": [
    {
     "data": {
      "text/plain": [
       "[<matplotlib.lines.Line2D at 0x1eb3dd783c8>]"
      ]
     },
     "execution_count": 28,
     "metadata": {},
     "output_type": "execute_result"
    },
    {
     "data": {
      "image/png": "[encoded data removed]",
      "text/plain": [
       "<Figure size 432x288 with 1 Axes>"
      ]
     },
     "metadata": {},
     "output_type": "display_data"
    }
   ],
   "source": [
    "plt.plot(r, errors, label = \"log loss\")"
   ]
  },
  {
   "cell_type": "code",
   "execution_count": 29,
   "metadata": {},
   "outputs": [
    {
     "data": {
      "text/plain": [
       "<matplotlib.legend.Legend at 0x1eb44969a90>"
      ]
     },
     "execution_count": 29,
     "metadata": {},
     "output_type": "execute_result"
    },
    {
     "data": {
      "image/png": "[encoded data removed]",
      "text/plain": [
       "<Figure size 432x288 with 1 Axes>"
      ]
     },
     "metadata": {},
     "output_type": "display_data"
    }
   ],
   "source": [
    "plt.plot(r, La, label = \"accuracy\")\n",
    "plt.plot(r, Lk, label = \"kappa\")\n",
    "plt.legend(loc='lower right')"
   ]
  },
  {
   "cell_type": "code",
   "execution_count": 30,
   "metadata": {},
   "outputs": [
    {
     "name": "stdout",
     "output_type": "stream",
     "text": [
      "Fitting 3 folds for each of 3 candidates, totalling 9 fits\n"
     ]
    },
    {
     "name": "stderr",
     "output_type": "stream",
     "text": [
      "[Parallel(n_jobs=-1)]: Done   4 out of   9 | elapsed:  8.7min remaining: 10.9min\n",
      "[Parallel(n_jobs=-1)]: Done   9 out of   9 | elapsed: 13.7min remaining:    0.0s\n",
      "[Parallel(n_jobs=-1)]: Done   9 out of   9 | elapsed: 13.7min finished\n"
     ]
    },
    {
     "name": "stdout",
     "output_type": "stream",
     "text": [
      "{'learning_rate': 0.1, 'max_depth': 13, 'subsample': 0.7}\n",
      "kappa:  0.7796064706647022\n"
     ]
    },
    {
     "name": "stderr",
     "output_type": "stream",
     "text": [
      "C:\\Anaconda3\\lib\\site-packages\\sklearn\\preprocessing\\label.py:151: DeprecationWarning: The truth value of an empty array is ambiguous. Returning False, but in future this will result in an error. Use `array.size > 0` to check that an array is not empty.\n",
      "  if diff:\n"
     ]
    }
   ],
   "source": [
    "xbc = xgb.XGBClassifier(n_estimators = 120, random_state=42)\n",
    "\n",
    "\n",
    "parametres = {'max_depth': [12, 13, 14] ,'learning_rate': [0.1],  'subsample': [0.7]}\n",
    "    \n",
    "ck_score = make_scorer(cohen_kappa_score)\n",
    "grid = GridSearchCV(estimator=xbc, param_grid=parametres, scoring=ck_score, n_jobs=-1, verbose=2)\n",
    "\n",
    "grid_fitted = grid.fit(X,y)\n",
    "print(grid_fitted.best_params_)\n",
    "\n",
    "y_pred = grid.predict(X_test)\n",
    "\n",
    "print(\"kappa: \", cohen_kappa_score(y_true, y_pred))"
   ]
  },
  {
   "cell_type": "code",
   "execution_count": 31,
   "metadata": {},
   "outputs": [
    {
     "name": "stderr",
     "output_type": "stream",
     "text": [
      "C:\\Anaconda3\\lib\\site-packages\\sklearn\\preprocessing\\label.py:151: DeprecationWarning: The truth value of an empty array is ambiguous. Returning False, but in future this will result in an error. Use `array.size > 0` to check that an array is not empty.\n",
      "  if diff:\n"
     ]
    },
    {
     "name": "stdout",
     "output_type": "stream",
     "text": [
      "for n_estimators =  110\n",
      "log loss =  0.43572299462128183\n",
      "kappa =  0.7786598592841638\n",
      "accuracy =  0.8420031941592516\n"
     ]
    },
    {
     "name": "stderr",
     "output_type": "stream",
     "text": [
      "C:\\Anaconda3\\lib\\site-packages\\sklearn\\preprocessing\\label.py:151: DeprecationWarning: The truth value of an empty array is ambiguous. Returning False, but in future this will result in an error. Use `array.size > 0` to check that an array is not empty.\n",
      "  if diff:\n"
     ]
    },
    {
     "name": "stdout",
     "output_type": "stream",
     "text": [
      "for n_estimators =  115\n",
      "log loss =  0.4354704374970457\n",
      "kappa =  0.7797652198456537\n",
      "accuracy =  0.8428017339721652\n"
     ]
    },
    {
     "name": "stderr",
     "output_type": "stream",
     "text": [
      "C:\\Anaconda3\\lib\\site-packages\\sklearn\\preprocessing\\label.py:151: DeprecationWarning: The truth value of an empty array is ambiguous. Returning False, but in future this will result in an error. Use `array.size > 0` to check that an array is not empty.\n",
      "  if diff:\n"
     ]
    },
    {
     "name": "stdout",
     "output_type": "stream",
     "text": [
      "for n_estimators =  120\n",
      "log loss =  0.43546898385335797\n",
      "kappa =  0.7796064706647022\n",
      "accuracy =  0.8426876568560346\n"
     ]
    },
    {
     "name": "stderr",
     "output_type": "stream",
     "text": [
      "C:\\Anaconda3\\lib\\site-packages\\sklearn\\preprocessing\\label.py:151: DeprecationWarning: The truth value of an empty array is ambiguous. Returning False, but in future this will result in an error. Use `array.size > 0` to check that an array is not empty.\n",
      "  if diff:\n"
     ]
    },
    {
     "name": "stdout",
     "output_type": "stream",
     "text": [
      "for n_estimators =  125\n",
      "log loss =  0.4356669994535416\n",
      "kappa =  0.780554379738357\n",
      "accuracy =  0.8433721195528177\n"
     ]
    },
    {
     "name": "stderr",
     "output_type": "stream",
     "text": [
      "C:\\Anaconda3\\lib\\site-packages\\sklearn\\preprocessing\\label.py:151: DeprecationWarning: The truth value of an empty array is ambiguous. Returning False, but in future this will result in an error. Use `array.size > 0` to check that an array is not empty.\n",
      "  if diff:\n"
     ]
    },
    {
     "name": "stdout",
     "output_type": "stream",
     "text": [
      "for n_estimators =  130\n",
      "log loss =  0.4357271456087931\n",
      "kappa =  0.7815279027760023\n",
      "accuracy =  0.8440565822496008\n",
      "for n_estimators =  135\n",
      "log loss =  0.4361682981891371\n",
      "kappa =  0.7827650087700033\n",
      "accuracy =  0.8449691991786448\n"
     ]
    },
    {
     "name": "stderr",
     "output_type": "stream",
     "text": [
      "C:\\Anaconda3\\lib\\site-packages\\sklearn\\preprocessing\\label.py:151: DeprecationWarning: The truth value of an empty array is ambiguous. Returning False, but in future this will result in an error. Use `array.size > 0` to check that an array is not empty.\n",
      "  if diff:\n"
     ]
    }
   ],
   "source": [
    "errors = []\n",
    "Lk = []\n",
    "La = []\n",
    "\n",
    "r = range(110, 140, 5)\n",
    "\n",
    "for i in r:\n",
    "    xbc = xgb.XGBClassifier(n_estimators = i, random_state=42, learning_rate= 0.1, max_depth= 13,  subsample= 0.7, \n",
    "                            n_jobs=-2)\n",
    "    xbc.fit(X, y)\n",
    "    ll = log_loss(y_true, xbc.predict_proba(X_test))\n",
    "    errors.append(ll)\n",
    "    y_pred = xbc.predict(X_test)\n",
    "    k=cohen_kappa_score(y_true, y_pred)\n",
    "    a= accuracy_score(y_true, y_pred)\n",
    "    print(\"for n_estimators = \", i)\n",
    "    print(\"log loss = \", ll)\n",
    "    print(\"kappa = \", k)\n",
    "    print(\"accuracy = \", a)\n",
    "    Lk.append(k)\n",
    "    La.append(a)"
   ]
  },
  {
   "cell_type": "code",
   "execution_count": 32,
   "metadata": {},
   "outputs": [
    {
     "data": {
      "text/plain": [
       "[<matplotlib.lines.Line2D at 0x1eb42d25940>]"
      ]
     },
     "execution_count": 32,
     "metadata": {},
     "output_type": "execute_result"
    },
    {
     "data": {
      "image/png": "[encoded data removed]",
      "text/plain": [
       "<Figure size 432x288 with 1 Axes>"
      ]
     },
     "metadata": {},
     "output_type": "display_data"
    }
   ],
   "source": [
    "plt.plot(r, errors, label = \"log loss\")"
   ]
  },
  {
   "cell_type": "code",
   "execution_count": 33,
   "metadata": {},
   "outputs": [
    {
     "data": {
      "text/plain": [
       "<matplotlib.legend.Legend at 0x1eb3f85e780>"
      ]
     },
     "execution_count": 33,
     "metadata": {},
     "output_type": "execute_result"
    },
    {
     "data": {
      "image/png": "[encoded data removed]",
      "text/plain": [
       "<Figure size 432x288 with 1 Axes>"
      ]
     },
     "metadata": {},
     "output_type": "display_data"
    }
   ],
   "source": [
    "plt.plot(r, La, label = \"accuracy\")\n",
    "plt.plot(r, Lk, label = \"kappa\")\n",
    "plt.legend(loc='lower right')"
   ]
  },
  {
   "cell_type": "markdown",
   "metadata": {},
   "source": [
    "Go for 115"
   ]
  },
  {
   "cell_type": "code",
   "execution_count": 34,
   "metadata": {},
   "outputs": [
    {
     "name": "stdout",
     "output_type": "stream",
     "text": [
      "for n_estimators =  115\n",
      "log loss =  0.4354704374970457\n",
      "kappa =  0.7797652198456537\n",
      "accuracy =  0.8428017339721652\n"
     ]
    },
    {
     "name": "stderr",
     "output_type": "stream",
     "text": [
      "C:\\Anaconda3\\lib\\site-packages\\sklearn\\preprocessing\\label.py:151: DeprecationWarning: The truth value of an empty array is ambiguous. Returning False, but in future this will result in an error. Use `array.size > 0` to check that an array is not empty.\n",
      "  if diff:\n"
     ]
    }
   ],
   "source": [
    "i = 115\n",
    "xbc = xgb.XGBClassifier(n_estimators = i, random_state=42, learning_rate= 0.1, max_depth= 13,  subsample= 0.7, \n",
    "                        n_jobs=-2)\n",
    "xbc.fit(X, y)\n",
    "ll = log_loss(y_true, xbc.predict_proba(X_test))\n",
    "\n",
    "y_pred = xbc.predict(X_test)\n",
    "k=cohen_kappa_score(y_true, y_pred)\n",
    "a= accuracy_score(y_true, y_pred)\n",
    "print(\"for n_estimators = \", i)\n",
    "print(\"log loss = \", ll)\n",
    "print(\"kappa = \", k)\n",
    "print(\"accuracy = \", a)\n",
    "    "
   ]
  },
  {
   "cell_type": "code",
   "execution_count": 35,
   "metadata": {},
   "outputs": [
    {
     "name": "stdout",
     "output_type": "stream",
     "text": [
      "Confusion matrix, without normalization\n",
      "[[ 844    5   89   24   33]\n",
      " [  35   60   99    5   68]\n",
      " [  63    4 2807  193  214]\n",
      " [  38    0  182 2478    2]\n",
      " [  31    1  273   19 1199]]\n",
      "Normalized confusion matrix\n",
      "[[8.48e-01 5.03e-03 8.94e-02 2.41e-02 3.32e-02]\n",
      " [1.31e-01 2.25e-01 3.71e-01 1.87e-02 2.55e-01]\n",
      " [1.92e-02 1.22e-03 8.56e-01 5.88e-02 6.52e-02]\n",
      " [1.41e-02 0.00e+00 6.74e-02 9.18e-01 7.41e-04]\n",
      " [2.04e-02 6.57e-04 1.79e-01 1.25e-02 7.87e-01]]\n"
     ]
    },
    {
     "data": {
      "image/png": "[encoded data removed]",
      "text/plain": [
       "<Figure size 432x288 with 2 Axes>"
      ]
     },
     "metadata": {},
     "output_type": "display_data"
    },
    {
     "data": {
      "image/png": "[encoded data removed]",
      "text/plain": [
       "<Figure size 432x288 with 2 Axes>"
      ]
     },
     "metadata": {},
     "output_type": "display_data"
    }
   ],
   "source": [
    "cnf_matrix = confusion_matrix(y_true, y_pred)\n",
    "np.set_printoptions(precision=2)\n",
    "\n",
    "plt.figure()\n",
    "plot_confusion_matrix(cnf_matrix, classes=[0, 1, 2, 3, 4], title='Confusion matrix, without normalization')\n",
    "\n",
    "plt.figure()\n",
    "plot_confusion_matrix(cnf_matrix, classes=[0, 1, 2, 3, 4], normalize=True,\n",
    "                      title='Normalized confusion matrix')\n",
    "\n",
    "plt.show()"
   ]
  },
  {
   "cell_type": "code",
   "execution_count": 37,
   "metadata": {},
   "outputs": [
    {
     "data": {
      "image/png": "[encoded data removed]",
      "text/plain": [
       "<Figure size 432x288 with 1 Axes>"
      ]
     },
     "metadata": {},
     "output_type": "display_data"
    },
    {
     "data": {
      "text/html": [
       "<div>\n",
       "<style scoped>\n",
       "    .dataframe tbody tr th:only-of-type {\n",
       "        vertical-align: middle;\n",
       "    }\n",
       "\n",
       "    .dataframe tbody tr th {\n",
       "        vertical-align: top;\n",
       "    }\n",
       "\n",
       "    .dataframe thead th {\n",
       "        text-align: right;\n",
       "    }\n",
       "</style>\n",
       "<table border=\"1\" class=\"dataframe\">\n",
       "  <thead>\n",
       "    <tr style=\"text-align: right;\">\n",
       "      <th></th>\n",
       "      <th>importance</th>\n",
       "    </tr>\n",
       "  </thead>\n",
       "  <tbody>\n",
       "    <tr>\n",
       "      <th>eeg1_Alpha0</th>\n",
       "      <td>0.019075</td>\n",
       "    </tr>\n",
       "    <tr>\n",
       "      <th>eeg1_Theta0</th>\n",
       "      <td>0.018297</td>\n",
       "    </tr>\n",
       "    <tr>\n",
       "      <th>eeg2_Alpha0</th>\n",
       "      <td>0.017622</td>\n",
       "    </tr>\n",
       "    <tr>\n",
       "      <th>eeg2_Beta0</th>\n",
       "      <td>0.017588</td>\n",
       "    </tr>\n",
       "    <tr>\n",
       "      <th>eeg1_Gamma0</th>\n",
       "      <td>0.017167</td>\n",
       "    </tr>\n",
       "    <tr>\n",
       "      <th>eeg2_Theta0</th>\n",
       "      <td>0.016550</td>\n",
       "    </tr>\n",
       "    <tr>\n",
       "      <th>eeg1_Beta0</th>\n",
       "      <td>0.016051</td>\n",
       "    </tr>\n",
       "    <tr>\n",
       "      <th>75%_eeg_2</th>\n",
       "      <td>0.015856</td>\n",
       "    </tr>\n",
       "    <tr>\n",
       "      <th>75%_eeg_1</th>\n",
       "      <td>0.015719</td>\n",
       "    </tr>\n",
       "    <tr>\n",
       "      <th>eeg2_Gamma0</th>\n",
       "      <td>0.015308</td>\n",
       "    </tr>\n",
       "    <tr>\n",
       "      <th>25%_eeg_2</th>\n",
       "      <td>0.014623</td>\n",
       "    </tr>\n",
       "    <tr>\n",
       "      <th>25%_eeg_1</th>\n",
       "      <td>0.014535</td>\n",
       "    </tr>\n",
       "    <tr>\n",
       "      <th>eeg4_Alpha0</th>\n",
       "      <td>0.014378</td>\n",
       "    </tr>\n",
       "    <tr>\n",
       "      <th>50%_accelerometer_z</th>\n",
       "      <td>0.013830</td>\n",
       "    </tr>\n",
       "    <tr>\n",
       "      <th>50%_eeg_1</th>\n",
       "      <td>0.013263</td>\n",
       "    </tr>\n",
       "    <tr>\n",
       "      <th>50%_eeg_2</th>\n",
       "      <td>0.013160</td>\n",
       "    </tr>\n",
       "    <tr>\n",
       "      <th>50%_accelerometer_x</th>\n",
       "      <td>0.012842</td>\n",
       "    </tr>\n",
       "    <tr>\n",
       "      <th>eeg4_Gamma0</th>\n",
       "      <td>0.012583</td>\n",
       "    </tr>\n",
       "    <tr>\n",
       "      <th>50%_accelerometer_y</th>\n",
       "      <td>0.012573</td>\n",
       "    </tr>\n",
       "    <tr>\n",
       "      <th>eeg4_Beta0</th>\n",
       "      <td>0.012529</td>\n",
       "    </tr>\n",
       "    <tr>\n",
       "      <th>50%_po_ir</th>\n",
       "      <td>0.012157</td>\n",
       "    </tr>\n",
       "    <tr>\n",
       "      <th>eeg1_Delta0</th>\n",
       "      <td>0.012143</td>\n",
       "    </tr>\n",
       "    <tr>\n",
       "      <th>50%_po_r</th>\n",
       "      <td>0.012074</td>\n",
       "    </tr>\n",
       "    <tr>\n",
       "      <th>50%_eeg_3</th>\n",
       "      <td>0.011829</td>\n",
       "    </tr>\n",
       "    <tr>\n",
       "      <th>50%_eeg_4</th>\n",
       "      <td>0.011746</td>\n",
       "    </tr>\n",
       "    <tr>\n",
       "      <th>eeg3_Gamma0</th>\n",
       "      <td>0.011678</td>\n",
       "    </tr>\n",
       "    <tr>\n",
       "      <th>eeg3_Alpha0</th>\n",
       "      <td>0.011634</td>\n",
       "    </tr>\n",
       "    <tr>\n",
       "      <th>eeg4_Theta0</th>\n",
       "      <td>0.011585</td>\n",
       "    </tr>\n",
       "    <tr>\n",
       "      <th>eeg2_Delta0</th>\n",
       "      <td>0.011091</td>\n",
       "    </tr>\n",
       "    <tr>\n",
       "      <th>mean_eeg_1</th>\n",
       "      <td>0.010699</td>\n",
       "    </tr>\n",
       "    <tr>\n",
       "      <th>mean_accelerometer_y</th>\n",
       "      <td>0.010572</td>\n",
       "    </tr>\n",
       "    <tr>\n",
       "      <th>min_eeg_1</th>\n",
       "      <td>0.010381</td>\n",
       "    </tr>\n",
       "    <tr>\n",
       "      <th>mean_accelerometer_x</th>\n",
       "      <td>0.010323</td>\n",
       "    </tr>\n",
       "    <tr>\n",
       "      <th>mean_eeg_2</th>\n",
       "      <td>0.010303</td>\n",
       "    </tr>\n",
       "    <tr>\n",
       "      <th>eeg3_Beta0</th>\n",
       "      <td>0.010058</td>\n",
       "    </tr>\n",
       "    <tr>\n",
       "      <th>mean_eeg_3</th>\n",
       "      <td>0.010044</td>\n",
       "    </tr>\n",
       "    <tr>\n",
       "      <th>25%_po_ir</th>\n",
       "      <td>0.009995</td>\n",
       "    </tr>\n",
       "    <tr>\n",
       "      <th>eeg3_Theta0</th>\n",
       "      <td>0.009966</td>\n",
       "    </tr>\n",
       "    <tr>\n",
       "      <th>mean_accelerometer_z</th>\n",
       "      <td>0.009863</td>\n",
       "    </tr>\n",
       "    <tr>\n",
       "      <th>mean_po_ir</th>\n",
       "      <td>0.009824</td>\n",
       "    </tr>\n",
       "    <tr>\n",
       "      <th>mean_eeg_4</th>\n",
       "      <td>0.009696</td>\n",
       "    </tr>\n",
       "    <tr>\n",
       "      <th>min_eeg_2</th>\n",
       "      <td>0.009672</td>\n",
       "    </tr>\n",
       "    <tr>\n",
       "      <th>SDNN_ir</th>\n",
       "      <td>0.009550</td>\n",
       "    </tr>\n",
       "    <tr>\n",
       "      <th>BPM_ir</th>\n",
       "      <td>0.009427</td>\n",
       "    </tr>\n",
       "    <tr>\n",
       "      <th>25%_eeg_4</th>\n",
       "      <td>0.009393</td>\n",
       "    </tr>\n",
       "    <tr>\n",
       "      <th>max_eeg_1</th>\n",
       "      <td>0.009359</td>\n",
       "    </tr>\n",
       "    <tr>\n",
       "      <th>75%_eeg_4</th>\n",
       "      <td>0.009325</td>\n",
       "    </tr>\n",
       "    <tr>\n",
       "      <th>mean_po_r</th>\n",
       "      <td>0.009295</td>\n",
       "    </tr>\n",
       "    <tr>\n",
       "      <th>75%_accelerometer_z</th>\n",
       "      <td>0.009056</td>\n",
       "    </tr>\n",
       "    <tr>\n",
       "      <th>25%_accelerometer_z</th>\n",
       "      <td>0.008982</td>\n",
       "    </tr>\n",
       "  </tbody>\n",
       "</table>\n",
       "</div>"
      ],
      "text/plain": [
       "                      importance\n",
       "eeg1_Alpha0             0.019075\n",
       "eeg1_Theta0             0.018297\n",
       "eeg2_Alpha0             0.017622\n",
       "eeg2_Beta0              0.017588\n",
       "eeg1_Gamma0             0.017167\n",
       "eeg2_Theta0             0.016550\n",
       "eeg1_Beta0              0.016051\n",
       "75%_eeg_2               0.015856\n",
       "75%_eeg_1               0.015719\n",
       "eeg2_Gamma0             0.015308\n",
       "25%_eeg_2               0.014623\n",
       "25%_eeg_1               0.014535\n",
       "eeg4_Alpha0             0.014378\n",
       "50%_accelerometer_z     0.013830\n",
       "50%_eeg_1               0.013263\n",
       "50%_eeg_2               0.013160\n",
       "50%_accelerometer_x     0.012842\n",
       "eeg4_Gamma0             0.012583\n",
       "50%_accelerometer_y     0.012573\n",
       "eeg4_Beta0              0.012529\n",
       "50%_po_ir               0.012157\n",
       "eeg1_Delta0             0.012143\n",
       "50%_po_r                0.012074\n",
       "50%_eeg_3               0.011829\n",
       "50%_eeg_4               0.011746\n",
       "eeg3_Gamma0             0.011678\n",
       "eeg3_Alpha0             0.011634\n",
       "eeg4_Theta0             0.011585\n",
       "eeg2_Delta0             0.011091\n",
       "mean_eeg_1              0.010699\n",
       "mean_accelerometer_y    0.010572\n",
       "min_eeg_1               0.010381\n",
       "mean_accelerometer_x    0.010323\n",
       "mean_eeg_2              0.010303\n",
       "eeg3_Beta0              0.010058\n",
       "mean_eeg_3              0.010044\n",
       "25%_po_ir               0.009995\n",
       "eeg3_Theta0             0.009966\n",
       "mean_accelerometer_z    0.009863\n",
       "mean_po_ir              0.009824\n",
       "mean_eeg_4              0.009696\n",
       "min_eeg_2               0.009672\n",
       "SDNN_ir                 0.009550\n",
       "BPM_ir                  0.009427\n",
       "25%_eeg_4               0.009393\n",
       "max_eeg_1               0.009359\n",
       "75%_eeg_4               0.009325\n",
       "mean_po_r               0.009295\n",
       "75%_accelerometer_z     0.009056\n",
       "25%_accelerometer_z     0.008982"
      ]
     },
     "execution_count": 37,
     "metadata": {},
     "output_type": "execute_result"
    }
   ],
   "source": [
    "importances = xbc.feature_importances_\n",
    "feature_importances = pd.DataFrame(importances, index = X.columns, \n",
    "                                   columns=['importance']).sort_values('importance', ascending=False)\n",
    "plt.bar(feature_importances.index, feature_importances[\"importance\"])\n",
    "plt.show()\n",
    "\n",
    "feature_importances.head(50)"
   ]
  },
  {
   "cell_type": "markdown",
   "metadata": {},
   "source": [
    "### SVM (Support Vector Machine classifier)\n",
    "\n",
    "Linear kernel {'C': 1, 'loss': 'hinge'}\n",
    "- kappa:  0.2702593710539586\n",
    "- accurancy:  0.4498060689025781\n",
    "\n",
    "Polynomial kernel {'C': 10, 'coef0': 1, 'degree': 4}\n",
    "- kappa:  0.40\n",
    "- accurancy:  0.60\n",
    "\n",
    "RBF kernel 'C': 100\n",
    "- kappa:  0.46\n",
    "- accurancy:  0.63"
   ]
  },
  {
   "cell_type": "code",
   "execution_count": 20,
   "metadata": {},
   "outputs": [],
   "source": [
    "scaler = StandardScaler()\n",
    "scaler.fit(X) \n",
    "\n",
    "X_scaled = pd.DataFrame(scaler.transform(X), columns = X.columns)\n",
    "X_test_scaled = pd.DataFrame(scaler.transform(X_test), columns = X_test.columns)"
   ]
  },
  {
   "cell_type": "code",
   "execution_count": 43,
   "metadata": {},
   "outputs": [
    {
     "name": "stdout",
     "output_type": "stream",
     "text": [
      "Fitting 3 folds for each of 8 candidates, totalling 24 fits\n"
     ]
    },
    {
     "name": "stderr",
     "output_type": "stream",
     "text": [
      "[Parallel(n_jobs=-1)]: Done  22 out of  24 | elapsed:  5.6min remaining:   30.4s\n",
      "[Parallel(n_jobs=-1)]: Done  24 out of  24 | elapsed:  5.8min finished\n"
     ]
    },
    {
     "name": "stdout",
     "output_type": "stream",
     "text": [
      "{'C': 1, 'loss': 'hinge'}\n",
      "kappa:  0.2702593710539586\n",
      "accurancy:  0.4498060689025781\n"
     ]
    }
   ],
   "source": [
    "lsvc = LinearSVC(penalty='l2',  random_state=42)\n",
    "\n",
    "parametres = {'C': [0.01, 0.1, 1, 10], 'loss': ['hinge', 'squared_hinge']}\n",
    "    \n",
    "ck_score = make_scorer(cohen_kappa_score)\n",
    "grid = GridSearchCV(estimator=lsvc, param_grid=parametres, scoring=ck_score, n_jobs=-1, verbose=2)\n",
    "\n",
    "grid_fitted = grid.fit(X_scaled,y)\n",
    "print(grid_fitted.best_params_)\n",
    "\n",
    "y_pred = grid.predict(X_test_scaled)\n",
    "\n",
    "print(\"kappa: \", cohen_kappa_score(y_true, y_pred))\n",
    "print(\"accurancy: \" , accuracy_score(y_true, y_pred))"
   ]
  },
  {
   "cell_type": "code",
   "execution_count": 49,
   "metadata": {},
   "outputs": [
    {
     "name": "stdout",
     "output_type": "stream",
     "text": [
      "Fitting 3 folds for each of 24 candidates, totalling 72 fits\n"
     ]
    },
    {
     "name": "stderr",
     "output_type": "stream",
     "text": [
      "[Parallel(n_jobs=-1)]: Done  25 tasks      | elapsed: 34.7min\n",
      "[Parallel(n_jobs=-1)]: Done  72 out of  72 | elapsed: 80.7min finished\n"
     ]
    },
    {
     "name": "stdout",
     "output_type": "stream",
     "text": [
      "{'C': 10, 'coef0': 1, 'degree': 4}\n",
      "kappa:  0.39993937657692247\n",
      "accurancy:  0.5906913073237509\n"
     ]
    }
   ],
   "source": [
    "poly_svc = SVC(kernel=\"poly\",  degree=2, random_state=42)\n",
    "\n",
    "parametres = {'C': [0.01, 0.1, 1, 10], 'coef0': [0, 1], 'degree' : [2, 3, 4]}\n",
    "    \n",
    "ck_score = make_scorer(cohen_kappa_score)\n",
    "grid = GridSearchCV(estimator=poly_svc, param_grid=parametres, scoring=ck_score, n_jobs=-1, verbose=2)\n",
    "\n",
    "grid_fitted = grid.fit(X_scaled,y)\n",
    "print(grid_fitted.best_params_)\n",
    "\n",
    "y_pred = grid.predict(X_test_scaled)\n",
    "\n",
    "print(\"kappa: \", cohen_kappa_score(y_true, y_pred))\n",
    "print(\"accurancy: \" , accuracy_score(y_true, y_pred))\n",
    "\n",
    "#for degree = 2\n",
    "#{'C': 10, 'coef0': 1}\n",
    "#kappa:  0.31617419927367196\n",
    "#accurancy:  0.543235227013461"
   ]
  },
  {
   "cell_type": "code",
   "execution_count": 48,
   "metadata": {},
   "outputs": [
    {
     "name": "stdout",
     "output_type": "stream",
     "text": [
      "Fitting 3 folds for each of 5 candidates, totalling 15 fits\n"
     ]
    },
    {
     "name": "stderr",
     "output_type": "stream",
     "text": [
      "[Parallel(n_jobs=-1)]: Done   8 out of  15 | elapsed:  8.9min remaining:  7.8min\n",
      "[Parallel(n_jobs=-1)]: Done  15 out of  15 | elapsed: 16.9min finished\n"
     ]
    },
    {
     "name": "stdout",
     "output_type": "stream",
     "text": [
      "{'C': 100}\n",
      "kappa:  0.45874098971505384\n",
      "accurancy:  0.6259411362080767\n"
     ]
    }
   ],
   "source": [
    "rbf_svc = SVC(kernel=\"rbf\",  random_state=42)\n",
    "\n",
    "parametres = {'C': [0.01, 0.1, 1, 10, 100]}\n",
    "    \n",
    "ck_score = make_scorer(cohen_kappa_score)\n",
    "grid = GridSearchCV(estimator=rbf_svc, param_grid=parametres, scoring=ck_score, n_jobs=-1, verbose=2)\n",
    "\n",
    "grid_fitted = grid.fit(X_scaled,y)\n",
    "print(grid_fitted.best_params_)\n",
    "\n",
    "y_pred = grid.predict(X_test_scaled)\n",
    "\n",
    "print(\"kappa: \", cohen_kappa_score(y_true, y_pred))\n",
    "print(\"accurancy: \" , accuracy_score(y_true, y_pred))\n"
   ]
  },
  {
   "cell_type": "code",
   "execution_count": 22,
   "metadata": {},
   "outputs": [
    {
     "ename": "NameError",
     "evalue": "name 'xbc' is not defined",
     "output_type": "error",
     "traceback": [
      "\u001b[1;31m---------------------------------------------------------------------------\u001b[0m",
      "\u001b[1;31mNameError\u001b[0m                                 Traceback (most recent call last)",
      "\u001b[1;32m<ipython-input-22-fa44eac9fb85>\u001b[0m in \u001b[0;36m<module>\u001b[1;34m()\u001b[0m\n\u001b[0;32m     10\u001b[0m     \u001b[0mll\u001b[0m \u001b[1;33m=\u001b[0m \u001b[0mlog_loss\u001b[0m\u001b[1;33m(\u001b[0m\u001b[0my_true\u001b[0m\u001b[1;33m,\u001b[0m \u001b[0mrbfc\u001b[0m\u001b[1;33m.\u001b[0m\u001b[0mpredict_proba\u001b[0m\u001b[1;33m(\u001b[0m\u001b[0mX_test_scaled\u001b[0m\u001b[1;33m)\u001b[0m\u001b[1;33m)\u001b[0m\u001b[1;33m\u001b[0m\u001b[0m\n\u001b[0;32m     11\u001b[0m     \u001b[0merrors\u001b[0m\u001b[1;33m.\u001b[0m\u001b[0mappend\u001b[0m\u001b[1;33m(\u001b[0m\u001b[0mll\u001b[0m\u001b[1;33m)\u001b[0m\u001b[1;33m\u001b[0m\u001b[0m\n\u001b[1;32m---> 12\u001b[1;33m     \u001b[0my_pred\u001b[0m \u001b[1;33m=\u001b[0m \u001b[0mxbc\u001b[0m\u001b[1;33m.\u001b[0m\u001b[0mpredict\u001b[0m\u001b[1;33m(\u001b[0m\u001b[0mX_test_scaled\u001b[0m\u001b[1;33m)\u001b[0m\u001b[1;33m\u001b[0m\u001b[0m\n\u001b[0m\u001b[0;32m     13\u001b[0m     \u001b[0mk\u001b[0m\u001b[1;33m=\u001b[0m\u001b[0mcohen_kappa_score\u001b[0m\u001b[1;33m(\u001b[0m\u001b[0my_true\u001b[0m\u001b[1;33m,\u001b[0m \u001b[0my_pred\u001b[0m\u001b[1;33m)\u001b[0m\u001b[1;33m\u001b[0m\u001b[0m\n\u001b[0;32m     14\u001b[0m     \u001b[0ma\u001b[0m\u001b[1;33m=\u001b[0m \u001b[0maccuracy_score\u001b[0m\u001b[1;33m(\u001b[0m\u001b[0my_true\u001b[0m\u001b[1;33m,\u001b[0m \u001b[0my_pred\u001b[0m\u001b[1;33m)\u001b[0m\u001b[1;33m\u001b[0m\u001b[0m\n",
      "\u001b[1;31mNameError\u001b[0m: name 'xbc' is not defined"
     ]
    }
   ],
   "source": [
    "errors = []\n",
    "Lk = []\n",
    "La = []\n",
    "\n",
    "L = [0.1, 1, 10, 100]\n",
    "\n",
    "for i in L:\n",
    "    rbfc = SVC(kernel=\"rbf\",  random_state=42, probability=True, C=i)\n",
    "    rbfc.fit(X_scaled, y)\n",
    "    ll = log_loss(y_true, rbfc.predict_proba(X_test_scaled))\n",
    "    errors.append(ll)\n",
    "    y_pred = rbfc.predict(X_test_scaled)\n",
    "    k=cohen_kappa_score(y_true, y_pred)\n",
    "    a= accuracy_score(y_true, y_pred)\n",
    "    print(\"for n_estimators = \", i)\n",
    "    print(\"log loss = \", ll)\n",
    "    print(\"kappa = \", k)\n",
    "    print(\"accuracy = \", a)\n",
    "    Lk.append(k)\n",
    "    La.append(a)"
   ]
  },
  {
   "cell_type": "code",
   "execution_count": null,
   "metadata": {},
   "outputs": [],
   "source": [
    "plt.plot(r, errors, label = \"log loss\")"
   ]
  },
  {
   "cell_type": "code",
   "execution_count": null,
   "metadata": {},
   "outputs": [],
   "source": [
    "plt.plot(r, La, label = \"accuracy\")\n",
    "plt.plot(r, Lk, label = \"kappa\")\n",
    "plt.legend(loc='lower right')"
   ]
  },
  {
   "cell_type": "code",
   "execution_count": 20,
   "metadata": {},
   "outputs": [],
   "source": [
    "scaler = StandardScaler()\n",
    "svc_rbf = SVC(kernel=\"rbf\",  random_state=42, C=100, probability=True)\n",
    "clf_svm = Pipeline([('std_scaler', scaler), ('svc', svc_rbf)])\n"
   ]
  },
  {
   "cell_type": "code",
   "execution_count": null,
   "metadata": {},
   "outputs": [],
   "source": [
    "\n",
    "clf_svm.fit(X, y)\n",
    "y_pred = clf_svm.predict(X_test)\n",
    "\n",
    "print(\"kappa: \", cohen_kappa_score(y_true, y_pred))\n",
    "print(\"accurancy: \" , accuracy_score(y_true, y_pred))"
   ]
  },
  {
   "cell_type": "code",
   "execution_count": null,
   "metadata": {},
   "outputs": [],
   "source": []
  },
  {
   "cell_type": "markdown",
   "metadata": {},
   "source": [
    "### Putting everything together to vote "
   ]
  },
  {
   "cell_type": "code",
   "execution_count": 21,
   "metadata": {},
   "outputs": [
    {
     "ename": "NameError",
     "evalue": "name 'i' is not defined",
     "output_type": "error",
     "traceback": [
      "\u001b[1;31m---------------------------------------------------------------------------\u001b[0m",
      "\u001b[1;31mNameError\u001b[0m                                 Traceback (most recent call last)",
      "\u001b[1;32m<ipython-input-21-212568624be0>\u001b[0m in \u001b[0;36m<module>\u001b[1;34m()\u001b[0m\n\u001b[0;32m      2\u001b[0m rnd_clf = RandomForestClassifier(n_estimators=1500, n_jobs=-2, max_depth=30,  class_weight= \"balanced\", min_samples_leaf= 1, \n\u001b[0;32m      3\u001b[0m                                     min_samples_split= 10,  random_state=42, max_features= None)\n\u001b[1;32m----> 4\u001b[1;33m xbc = xgb.XGBClassifier(n_estimators = i, random_state=42, learning_rate= 0.1, max_depth= 13,  subsample= 0.7, \n\u001b[0m\u001b[0;32m      5\u001b[0m                         n_jobs=-2)\n\u001b[0;32m      6\u001b[0m \u001b[1;33m\u001b[0m\u001b[0m\n",
      "\u001b[1;31mNameError\u001b[0m: name 'i' is not defined"
     ]
    }
   ],
   "source": [
    "clf_svm = Pipeline([('std_scaler', scaler), ('svc', svc_rbf)])\n",
    "rnd_clf = RandomForestClassifier(n_estimators=1500, n_jobs=-2, max_depth=30,  class_weight= \"balanced\", min_samples_leaf= 1, \n",
    "                                    min_samples_split= 10,  random_state=42, max_features= None)\n",
    "xbc = xgb.XGBClassifier(n_estimators = 115, random_state=42, learning_rate= 0.1, max_depth= 13,  subsample= 0.7, \n",
    "                        n_jobs=-2)\n",
    "\n",
    "\n",
    "log_clf = LogisticRegression() \n",
    "rnd_clf = RandomForestClassifier() \n",
    "svm_clf = SVC() \n",
    "voting_clf = VotingClassifier( estimators=[('lr', clf_svm), ('rf', rnd_clf), ('svc', xbc)], voting='soft' ) \n",
    "\n",
    "voting_clf.fit(X, y)\n",
    "y_pred = voting_clf.predict(X_test)\n",
    "\n",
    "print(\"kappa: \", cohen_kappa_score(y_true, y_pred))\n",
    "print(\"accurancy: \" , accuracy_score(y_true, y_pred))"
   ]
  },
  {
   "cell_type": "code",
   "execution_count": null,
   "metadata": {},
   "outputs": [],
   "source": []
  }
 ],
 "metadata": {
  "kernelspec": {
   "display_name": "Python 3",
   "language": "python",
   "name": "python3"
  },
  "language_info": {
   "codemirror_mode": {
    "name": "ipython",
    "version": 3
   },
   "file_extension": ".py",
   "mimetype": "text/x-python",
   "name": "python",
   "nbconvert_exporter": "python",
   "pygments_lexer": "ipython3",
   "version": "3.6.6"
  }
 },
 "nbformat": 4,
 "nbformat_minor": 2
}
