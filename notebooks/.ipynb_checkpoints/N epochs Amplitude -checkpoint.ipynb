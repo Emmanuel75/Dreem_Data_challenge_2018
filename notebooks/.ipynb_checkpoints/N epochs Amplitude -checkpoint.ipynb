{
 "cells": [
  {
   "cell_type": "code",
   "execution_count": 1,
   "metadata": {},
   "outputs": [],
   "source": [
    "import pandas as pd\n",
    "import numpy as np\n",
    "#from plotnine import *\n",
    "from sklearn.decomposition import PCA\n",
    "from sklearn.cluster import KMeans\n",
    "from sklearn.metrics import accuracy_score\n",
    "from sklearn.linear_model import LogisticRegression\n",
    "from sklearn.metrics import confusion_matrix\n",
    "from sklearn.metrics import precision_score, recall_score\n",
    "from sklearn.metrics import cohen_kappa_score\n",
    "from sklearn import preprocessing\n",
    "from sklearn.preprocessing import StandardScaler\n",
    "from sklearn.preprocessing import PolynomialFeatures\n",
    "from sklearn.model_selection import train_test_split\n",
    "from sklearn.svm import LinearSVC\n",
    "from sklearn.svm import SVC\n",
    "from sklearn.tree import DecisionTreeClassifier\n",
    "from sklearn.tree import export_graphviz\n",
    "from sklearn.ensemble import BaggingClassifier\n",
    "from sklearn.tree import DecisionTreeClassifier\n",
    "from sklearn.ensemble import RandomForestClassifier\n",
    "from sklearn.model_selection import GridSearchCV\n",
    "from sklearn.metrics import make_scorer\n",
    "from sklearn.ensemble import GradientBoostingClassifier\n",
    "from sklearn.metrics import log_loss \n",
    "from sklearn.model_selection import cross_val_score\n",
    "    \n",
    "import statsmodels.api as sm\n",
    "import itertools\n",
    "\n",
    "from scipy.stats import mode\n",
    "\n",
    "import random\n",
    " \n",
    "import matplotlib.pyplot as plt\n",
    "plt.style.use('classic')\n",
    "%matplotlib inline\n",
    "import seaborn as sns\n",
    "sns.set()\n",
    "\n",
    "import xgboost as xgb\n"
   ]
  },
  {
   "cell_type": "code",
   "execution_count": 2,
   "metadata": {},
   "outputs": [],
   "source": [
    "def reshape_n(df, n=5):\n",
    "    if ((df.shape[0] <n) or (n%2==0)):\n",
    "        print(\"Input error!\")\n",
    "        return df\n",
    "    r = df.shape[0]\n",
    "    c = df.shape[1]\n",
    "    newColumns = []\n",
    "    for i in range(0, n):\n",
    "        for colName in df.columns:\n",
    "            newColumns.append(str(colName) + str(i+1))\n",
    "    result = pd.DataFrame(columns = newColumns, data = np.zeros((r, c*n)))\n",
    "    for i in range(n//2, r-n//2):\n",
    "        for j in range(0, n):\n",
    "            k = j-n//2\n",
    "            result.iloc[i,c*j:c*(j+1)]= df.iloc[i+k, :].values\n",
    "    return result\n"
   ]
  },
  {
   "cell_type": "code",
   "execution_count": 3,
   "metadata": {},
   "outputs": [],
   "source": [
    "naif = pd.read_excel('C:\\\\Users\\\\i053131\\\\Desktop\\\\Epilepsie\\\\Dreem\\\\data\\\\interim\\\\featuresTrain.xlsx')"
   ]
  },
  {
   "cell_type": "code",
   "execution_count": 18,
   "metadata": {},
   "outputs": [],
   "source": [
    "eeg = pd.read_excel('C:\\\\Users\\\\i053131\\\\Desktop\\\\Epilepsie\\\\Dreem\\\\data\\\\interim\\\\spectrogram_eeg_features30Train.xlsx')\n",
    "acc = pd.read_excel('C:\\\\Users\\\\i053131\\\\Desktop\\\\Epilepsie\\\\Dreem\\\\data\\\\interim\\\\acc_featuresTrain.xlsx')\n",
    "pulse = pd.read_csv('C:\\\\Users\\\\i053131\\\\Desktop\\\\Epilepsie\\\\Dreem\\\\data\\\\interim\\\\pulse_featuresTrain.csv')\n",
    "pulse = pulse.iloc[:, 1:]  \n",
    "pulse = pulse.drop(columns = ['max_r', 'min_r', 'max_ir', 'min_ir']) #remove features that are double\n",
    "pulse = pulse.drop(columns =['BPMlessthan30_ir', 'BPMlessthan30_r']) # remove features with no importance \n",
    "eeg.drop(columns=[\"eeg1_Above100Hz0\", \"eeg2_Above100Hz0\", \"eeg3_Above100Hz0\", \"eeg4_Above100Hz0\"], inplace=True)\n",
    "pulseAmp = pd.read_csv('C:\\\\Users\\\\i053131\\\\Desktop\\\\Epilepsie\\\\Dreem\\\\data\\\\interim\\\\pulse_ampTrain.csv')\n",
    "pulseAmp = pulseAmp.iloc[:, 1:]\n",
    "\n",
    "eegT = eeg.copy()\n",
    "#eegT['eeg_energy']= eegT.sum(axis=1)\n",
    "eegT['eeg1_energy'] = eegT.loc[:, 'eeg1_Delta0':'eeg1_Gamma0'].sum(axis=1)\n",
    "eegT['eeg2_energy'] = eegT.loc[:, 'eeg2_Delta0':'eeg2_Gamma0'].sum(axis=1)\n",
    "eegT['eeg3_energy'] = eegT.loc[:, 'eeg3_Delta0':'eeg3_Gamma0'].sum(axis=1)\n",
    "eegT['eeg4_energy'] = eegT.loc[:, 'eeg4_Delta0':'eeg4_Gamma0'].sum(axis=1)\n"
   ]
  },
  {
   "cell_type": "code",
   "execution_count": 10,
   "metadata": {},
   "outputs": [
    {
     "data": {
      "text/plain": [
       "Index(['BPM_ir', 'IBI_ir', 'SDNN_ir', 'SDSD_ir', 'RMSSD_ir', 'pNN60_ir',\n",
       "       'pNN20_ir', 'MAD_ir', 'BPM_r', 'IBI_r', 'SDNN_r', 'SDSD_r', 'RMSSD_r',\n",
       "       'pNN60_r', 'pNN20_r', 'MAD_r'],\n",
       "      dtype='object')"
      ]
     },
     "execution_count": 10,
     "metadata": {},
     "output_type": "execute_result"
    }
   ],
   "source": [
    "pulse.columns"
   ]
  },
  {
   "cell_type": "code",
   "execution_count": 19,
   "metadata": {},
   "outputs": [],
   "source": [
    "df = pd.concat([eeg, acc, pulse, naif], axis=1)\n",
    "dfa = pd.concat([eeg, acc, pulse,  pulseAmp, naif], axis=1)\n",
    "dfT = pd.concat([eegT, acc, pulse, naif], axis=1)"
   ]
  },
  {
   "cell_type": "code",
   "execution_count": 21,
   "metadata": {},
   "outputs": [
    {
     "data": {
      "text/plain": [
       "Index(['eeg1_Delta0', 'eeg1_Theta0', 'eeg1_Alpha0', 'eeg1_Beta0',\n",
       "       'eeg1_Gamma0', 'eeg2_Delta0', 'eeg2_Theta0', 'eeg2_Alpha0',\n",
       "       'eeg2_Beta0', 'eeg2_Gamma0', 'eeg3_Delta0', 'eeg3_Theta0',\n",
       "       'eeg3_Alpha0', 'eeg3_Beta0', 'eeg3_Gamma0', 'eeg4_Delta0',\n",
       "       'eeg4_Theta0', 'eeg4_Alpha0', 'eeg4_Beta0', 'eeg4_Gamma0',\n",
       "       'eeg1_energy', 'eeg2_energy', 'eeg3_energy', 'eeg4_energy', 'di'],\n",
       "      dtype='object')"
      ]
     },
     "execution_count": 21,
     "metadata": {},
     "output_type": "execute_result"
    }
   ],
   "source": [
    "dfT.columns[:25]"
   ]
  },
  {
   "cell_type": "code",
   "execution_count": 9,
   "metadata": {},
   "outputs": [
    {
     "data": {
      "text/plain": [
       "Index(['BPM_ir', 'IBI_ir', 'SDNN_ir', 'SDSD_ir', 'RMSSD_ir', 'pNN60_ir',\n",
       "       'pNN20_ir', 'MAD_ir', 'BPM_r', 'IBI_r', 'SDNN_r', 'SDSD_r', 'RMSSD_r',\n",
       "       'pNN60_r', 'pNN20_r', 'MAD_r', 'mean_eeg_1', 'std_eeg_1', 'min_eeg_1',\n",
       "       'max_eeg_1', '25%_eeg_1', '50%_eeg_1'],\n",
       "      dtype='object')"
      ]
     },
     "execution_count": 9,
     "metadata": {},
     "output_type": "execute_result"
    }
   ],
   "source": [
    "dfa.columns[28:50]"
   ]
  },
  {
   "cell_type": "code",
   "execution_count": 6,
   "metadata": {},
   "outputs": [],
   "source": [
    "train = df.iloc[0:int(df.shape[0]*0.8), :]\n",
    "test = df.iloc[int(df.shape[0]*0.8):, :]"
   ]
  },
  {
   "cell_type": "code",
   "execution_count": 28,
   "metadata": {
    "scrolled": true
   },
   "outputs": [
    {
     "name": "stderr",
     "output_type": "stream",
     "text": [
      "C:\\Anaconda3\\lib\\site-packages\\sklearn\\preprocessing\\label.py:151: DeprecationWarning: The truth value of an empty array is ambiguous. Returning False, but in future this will result in an error. Use `array.size > 0` to check that an array is not empty.\n",
      "  if diff:\n"
     ]
    },
    {
     "name": "stdout",
     "output_type": "stream",
     "text": [
      "considering only one epoch\n",
      "log loss =  0.7112616548593073\n",
      "kappa =  0.6481903133115836\n",
      "accuracy =  0.7408167921514944\n"
     ]
    },
    {
     "name": "stderr",
     "output_type": "stream",
     "text": [
      "C:\\Anaconda3\\lib\\site-packages\\sklearn\\preprocessing\\label.py:151: DeprecationWarning: The truth value of an empty array is ambiguous. Returning False, but in future this will result in an error. Use `array.size > 0` to check that an array is not empty.\n",
      "  if diff:\n"
     ]
    },
    {
     "name": "stdout",
     "output_type": "stream",
     "text": [
      "considering  3  epochs\n",
      "log loss =  0.6144416170129664\n",
      "kappa =  0.704377782967301\n",
      "accuracy =  0.7824301197946377\n"
     ]
    },
    {
     "name": "stderr",
     "output_type": "stream",
     "text": [
      "C:\\Anaconda3\\lib\\site-packages\\sklearn\\preprocessing\\label.py:151: DeprecationWarning: The truth value of an empty array is ambiguous. Returning False, but in future this will result in an error. Use `array.size > 0` to check that an array is not empty.\n",
      "  if diff:\n"
     ]
    },
    {
     "name": "stdout",
     "output_type": "stream",
     "text": [
      "considering  5  epochs\n",
      "log loss =  0.6146555564059356\n",
      "kappa =  0.7021318471786651\n",
      "accuracy =  0.7806937471474212\n"
     ]
    },
    {
     "name": "stderr",
     "output_type": "stream",
     "text": [
      "C:\\Anaconda3\\lib\\site-packages\\sklearn\\preprocessing\\label.py:151: DeprecationWarning: The truth value of an empty array is ambiguous. Returning False, but in future this will result in an error. Use `array.size > 0` to check that an array is not empty.\n",
      "  if diff:\n"
     ]
    },
    {
     "name": "stdout",
     "output_type": "stream",
     "text": [
      "considering  7  epochs\n",
      "log loss =  0.6108590127670228\n",
      "kappa =  0.7049457851705652\n",
      "accuracy =  0.7827228118224352\n"
     ]
    },
    {
     "name": "stderr",
     "output_type": "stream",
     "text": [
      "C:\\Anaconda3\\lib\\site-packages\\sklearn\\preprocessing\\label.py:151: DeprecationWarning: The truth value of an empty array is ambiguous. Returning False, but in future this will result in an error. Use `array.size > 0` to check that an array is not empty.\n",
      "  if diff:\n"
     ]
    },
    {
     "name": "stdout",
     "output_type": "stream",
     "text": [
      "considering  9  epochs\n",
      "log loss =  0.6089801103144198\n",
      "kappa =  0.702750750259022\n",
      "accuracy =  0.7813284638210454\n",
      "considering  11  epochs\n",
      "log loss =  0.6070592229998082\n",
      "kappa =  0.7129564405419131\n",
      "accuracy =  0.7888368907658942\n"
     ]
    },
    {
     "name": "stderr",
     "output_type": "stream",
     "text": [
      "C:\\Anaconda3\\lib\\site-packages\\sklearn\\preprocessing\\label.py:151: DeprecationWarning: The truth value of an empty array is ambiguous. Returning False, but in future this will result in an error. Use `array.size > 0` to check that an array is not empty.\n",
      "  if diff:\n"
     ]
    }
   ],
   "source": [
    "errors = []\n",
    "Lk = []\n",
    "La = []\n",
    "\n",
    "X = train.iloc[:,:-1]\n",
    "y = train.iloc[:,-1]\n",
    "X_test = test.iloc[:,:-1]\n",
    "y_true = test.iloc[:,-1]\n",
    "xbc = xgb.XGBClassifier(n_estimators = 100, random_state=42, learning_rate= 0.1, max_depth= 8,  subsample= 0.7, \n",
    "                        n_jobs=-2)\n",
    "xbc.fit(X, y)\n",
    "ll = log_loss(y_true, xbc.predict_proba(X_test))\n",
    "errors.append(ll)\n",
    "y_pred = xbc.predict(X_test)\n",
    "k=cohen_kappa_score(y_true, y_pred)\n",
    "a= accuracy_score(y_true, y_pred)\n",
    "print(\"considering only one epoch\")\n",
    "print(\"log loss = \", ll)\n",
    "print(\"kappa = \", k)\n",
    "print(\"accuracy = \", a)\n",
    "Lk.append(k)\n",
    "La.append(a)\n",
    "\n",
    "r = [3, 5, 7, 9, 11]\n",
    "\n",
    "for i in r:\n",
    "    train5 = reshape_n(train.iloc[:,:-1], i)\n",
    "    train5[\"Y\"]= train.iloc[:,-1]\n",
    "\n",
    "    for j in range(0, i//2):\n",
    "      train5.drop([train5.shape[0]-(i+1)], inplace=True)\n",
    "    \n",
    "    test5 = reshape_n(test.iloc[:,:-1], i)\n",
    "    test5[\"Y\"]= test.iloc[:,-1].values\n",
    "    for j in range(0, i//2):\n",
    "      test5.drop([test5.shape[0]-(i+1)], inplace=True)\n",
    "      \n",
    "    X = train5.iloc[:,:-1]\n",
    "    y = train5.iloc[:,-1]\n",
    "    X_test = test5.iloc[:,:-1]\n",
    "    y_true = test5.iloc[:,-1]\n",
    "          \n",
    "    xbc = xgb.XGBClassifier(n_estimators = 100, random_state=42, learning_rate= 0.1, max_depth= 8,  \n",
    "                            subsample= 0.7, n_jobs=-2)\n",
    "    xbc.fit(X, y)\n",
    "    ll = log_loss(y_true, xbc.predict_proba(X_test))\n",
    "    errors.append(ll)\n",
    "    y_pred = xbc.predict(X_test)\n",
    "    k=cohen_kappa_score(y_true, y_pred)\n",
    "    a= accuracy_score(y_true, y_pred)\n",
    "    print(\"considering \", i, \" epochs\")\n",
    "    print(\"log loss = \", ll)\n",
    "    print(\"kappa = \", k)\n",
    "    print(\"accuracy = \", a)\n",
    "    Lk.append(k)\n",
    "    La.append(a)"
   ]
  },
  {
   "cell_type": "code",
   "execution_count": 29,
   "metadata": {},
   "outputs": [],
   "source": [
    " r.insert(0, 1)"
   ]
  },
  {
   "cell_type": "code",
   "execution_count": 30,
   "metadata": {},
   "outputs": [
    {
     "data": {
      "image/png": "[encoded data removed]",
      "text/plain": [
       "<Figure size 432x288 with 1 Axes>"
      ]
     },
     "metadata": {},
     "output_type": "display_data"
    },
    {
     "data": {
      "image/png": "[encoded data removed]",
      "text/plain": [
       "<Figure size 432x288 with 1 Axes>"
      ]
     },
     "metadata": {},
     "output_type": "display_data"
    }
   ],
   "source": [
    "plt.plot(r, errors, label = \"log loss\")\n",
    "plt.legend(loc='lower right')\n",
    "plt.show()\n",
    "#plt.plot(r, La, label = \"accuracy\")\n",
    "plt.plot(r, Lk, label = \"kappa\")\n",
    "plt.legend(loc='lower right')\n",
    "plt.show()"
   ]
  },
  {
   "cell_type": "code",
   "execution_count": 33,
   "metadata": {
    "scrolled": true
   },
   "outputs": [
    {
     "name": "stderr",
     "output_type": "stream",
     "text": [
      "C:\\Anaconda3\\lib\\site-packages\\sklearn\\preprocessing\\label.py:151: DeprecationWarning: The truth value of an empty array is ambiguous. Returning False, but in future this will result in an error. Use `array.size > 0` to check that an array is not empty.\n",
      "  if diff:\n"
     ]
    },
    {
     "name": "stdout",
     "output_type": "stream",
     "text": [
      "considering only one epoch\n",
      "log loss =  0.7365930790570688\n",
      "kappa =  0.6500303924229641\n",
      "accuracy =  0.742299794661191\n"
     ]
    },
    {
     "name": "stderr",
     "output_type": "stream",
     "text": [
      "C:\\Anaconda3\\lib\\site-packages\\sklearn\\preprocessing\\label.py:151: DeprecationWarning: The truth value of an empty array is ambiguous. Returning False, but in future this will result in an error. Use `array.size > 0` to check that an array is not empty.\n",
      "  if diff:\n"
     ]
    },
    {
     "name": "stdout",
     "output_type": "stream",
     "text": [
      "considering  3  epochs\n",
      "log loss =  0.6395421070551731\n",
      "kappa =  0.7102063541106889\n",
      "accuracy =  0.7867655447803765\n"
     ]
    },
    {
     "name": "stderr",
     "output_type": "stream",
     "text": [
      "C:\\Anaconda3\\lib\\site-packages\\sklearn\\preprocessing\\label.py:151: DeprecationWarning: The truth value of an empty array is ambiguous. Returning False, but in future this will result in an error. Use `array.size > 0` to check that an array is not empty.\n",
      "  if diff:\n"
     ]
    },
    {
     "name": "stdout",
     "output_type": "stream",
     "text": [
      "considering  5  epochs\n",
      "log loss =  0.6345323343079022\n",
      "kappa =  0.7152280046605096\n",
      "accuracy =  0.7903925148334094\n"
     ]
    },
    {
     "name": "stderr",
     "output_type": "stream",
     "text": [
      "C:\\Anaconda3\\lib\\site-packages\\sklearn\\preprocessing\\label.py:151: DeprecationWarning: The truth value of an empty array is ambiguous. Returning False, but in future this will result in an error. Use `array.size > 0` to check that an array is not empty.\n",
      "  if diff:\n"
     ]
    },
    {
     "name": "stdout",
     "output_type": "stream",
     "text": [
      "considering  7  epochs\n",
      "log loss =  0.6351625698814416\n",
      "kappa =  0.7130812067465442\n",
      "accuracy =  0.7887709688462855\n"
     ]
    },
    {
     "name": "stderr",
     "output_type": "stream",
     "text": [
      "C:\\Anaconda3\\lib\\site-packages\\sklearn\\preprocessing\\label.py:151: DeprecationWarning: The truth value of an empty array is ambiguous. Returning False, but in future this will result in an error. Use `array.size > 0` to check that an array is not empty.\n",
      "  if diff:\n"
     ]
    },
    {
     "name": "stdout",
     "output_type": "stream",
     "text": [
      "considering  9  epochs\n",
      "log loss =  0.6314540491602866\n",
      "kappa =  0.7125095971872804\n",
      "accuracy =  0.7885186030586624\n"
     ]
    },
    {
     "name": "stderr",
     "output_type": "stream",
     "text": [
      "C:\\Anaconda3\\lib\\site-packages\\sklearn\\preprocessing\\label.py:151: DeprecationWarning: The truth value of an empty array is ambiguous. Returning False, but in future this will result in an error. Use `array.size > 0` to check that an array is not empty.\n",
      "  if diff:\n"
     ]
    },
    {
     "name": "stdout",
     "output_type": "stream",
     "text": [
      "considering  11  epochs\n",
      "log loss =  0.6321143030558676\n",
      "kappa =  0.7216579296679757\n",
      "accuracy =  0.7953429973747289\n"
     ]
    },
    {
     "name": "stderr",
     "output_type": "stream",
     "text": [
      "C:\\Anaconda3\\lib\\site-packages\\sklearn\\preprocessing\\label.py:151: DeprecationWarning: The truth value of an empty array is ambiguous. Returning False, but in future this will result in an error. Use `array.size > 0` to check that an array is not empty.\n",
      "  if diff:\n"
     ]
    },
    {
     "name": "stdout",
     "output_type": "stream",
     "text": [
      "considering  13  epochs\n",
      "log loss =  0.6243029429858097\n",
      "kappa =  0.7193243794893144\n",
      "accuracy =  0.7934931506849315\n"
     ]
    },
    {
     "name": "stderr",
     "output_type": "stream",
     "text": [
      "C:\\Anaconda3\\lib\\site-packages\\sklearn\\preprocessing\\label.py:151: DeprecationWarning: The truth value of an empty array is ambiguous. Returning False, but in future this will result in an error. Use `array.size > 0` to check that an array is not empty.\n",
      "  if diff:\n"
     ]
    },
    {
     "name": "stdout",
     "output_type": "stream",
     "text": [
      "considering  15  epochs\n",
      "log loss =  0.6240693668764069\n",
      "kappa =  0.7219510879454714\n",
      "accuracy =  0.7957529398333143\n"
     ]
    },
    {
     "name": "stderr",
     "output_type": "stream",
     "text": [
      "C:\\Anaconda3\\lib\\site-packages\\sklearn\\preprocessing\\label.py:151: DeprecationWarning: The truth value of an empty array is ambiguous. Returning False, but in future this will result in an error. Use `array.size > 0` to check that an array is not empty.\n",
      "  if diff:\n"
     ]
    },
    {
     "name": "stdout",
     "output_type": "stream",
     "text": [
      "considering  17  epochs\n",
      "log loss =  0.6205331297616722\n",
      "kappa =  0.72081410122745\n",
      "accuracy =  0.7947019867549668\n"
     ]
    },
    {
     "name": "stderr",
     "output_type": "stream",
     "text": [
      "C:\\Anaconda3\\lib\\site-packages\\sklearn\\preprocessing\\label.py:151: DeprecationWarning: The truth value of an empty array is ambiguous. Returning False, but in future this will result in an error. Use `array.size > 0` to check that an array is not empty.\n",
      "  if diff:\n"
     ]
    },
    {
     "name": "stdout",
     "output_type": "stream",
     "text": [
      "considering  19  epochs\n",
      "log loss =  0.6324855365028789\n",
      "kappa =  0.7169432839060098\n",
      "accuracy =  0.7918236839100149\n",
      "considering  21  epochs\n",
      "log loss =  0.6422925560275619\n",
      "kappa =  0.7129084211931155\n",
      "accuracy =  0.78905893101873\n"
     ]
    },
    {
     "name": "stderr",
     "output_type": "stream",
     "text": [
      "C:\\Anaconda3\\lib\\site-packages\\sklearn\\preprocessing\\label.py:151: DeprecationWarning: The truth value of an empty array is ambiguous. Returning False, but in future this will result in an error. Use `array.size > 0` to check that an array is not empty.\n",
      "  if diff:\n"
     ]
    }
   ],
   "source": [
    "errors = []\n",
    "Lk = []\n",
    "La = []\n",
    "\n",
    "X = train.iloc[:,:-1]\n",
    "y = train.iloc[:,-1]\n",
    "X_test = test.iloc[:,:-1]\n",
    "y_true = test.iloc[:,-1]\n",
    "xbc = xgb.XGBClassifier(n_estimators = 180, random_state=42, learning_rate= 0.1, max_depth= 8,  subsample= 0.7, \n",
    "                        n_jobs=-2)\n",
    "xbc.fit(X, y)\n",
    "ll = log_loss(y_true, xbc.predict_proba(X_test))\n",
    "errors.append(ll)\n",
    "y_pred = xbc.predict(X_test)\n",
    "k=cohen_kappa_score(y_true, y_pred)\n",
    "a= accuracy_score(y_true, y_pred)\n",
    "print(\"considering only one epoch\")\n",
    "print(\"log loss = \", ll)\n",
    "print(\"kappa = \", k)\n",
    "print(\"accuracy = \", a)\n",
    "Lk.append(k)\n",
    "La.append(a)\n",
    "\n",
    "r = [3, 5, 7, 9, 11, 13, 15, 17, 19, 21]\n",
    "\n",
    "for i in r:\n",
    "    train5 = reshape_n(train.iloc[:,:-1], i)\n",
    "    train5[\"Y\"]= train.iloc[:,-1]\n",
    "\n",
    "    for j in range(0, i//2):\n",
    "      train5.drop([train5.shape[0]-(i+1)], inplace=True)\n",
    "    \n",
    "    test5 = reshape_n(test.iloc[:,:-1], i)\n",
    "    test5[\"Y\"]= test.iloc[:,-1].values\n",
    "    for j in range(0, i//2):\n",
    "      test5.drop([test5.shape[0]-(i+1)], inplace=True)\n",
    "      \n",
    "    X = train5.iloc[:,:-1]\n",
    "    y = train5.iloc[:,-1]\n",
    "    X_test = test5.iloc[:,:-1]\n",
    "    y_true = test5.iloc[:,-1]\n",
    "          \n",
    "    xbc = xgb.XGBClassifier(n_estimators = 180, random_state=42, learning_rate= 0.1, max_depth= 8,  \n",
    "                            subsample= 0.7, n_jobs=-2)\n",
    "    xbc.fit(X, y)\n",
    "    ll = log_loss(y_true, xbc.predict_proba(X_test))\n",
    "    errors.append(ll)\n",
    "    y_pred = xbc.predict(X_test)\n",
    "    k=cohen_kappa_score(y_true, y_pred)\n",
    "    a= accuracy_score(y_true, y_pred)\n",
    "    print(\"considering \", i, \" epochs\")\n",
    "    print(\"log loss = \", ll)\n",
    "    print(\"kappa = \", k)\n",
    "    print(\"accuracy = \", a)\n",
    "    Lk.append(k)\n",
    "    La.append(a)"
   ]
  },
  {
   "cell_type": "code",
   "execution_count": 34,
   "metadata": {},
   "outputs": [
    {
     "data": {
      "image/png": "[encoded data removed]",
      "text/plain": [
       "<Figure size 432x288 with 1 Axes>"
      ]
     },
     "metadata": {},
     "output_type": "display_data"
    },
    {
     "data": {
      "image/png": "[encoded data removed]",
      "text/plain": [
       "<Figure size 432x288 with 1 Axes>"
      ]
     },
     "metadata": {},
     "output_type": "display_data"
    }
   ],
   "source": [
    "r.insert(0, 1)\n",
    "plt.plot(r, errors, label = \"log loss\")\n",
    "plt.legend(loc='lower right')\n",
    "plt.show()\n",
    "#plt.plot(r, La, label = \"accuracy\")\n",
    "plt.plot(r, Lk, label = \"kappa\")\n",
    "plt.legend(loc='lower right')\n",
    "plt.show()"
   ]
  },
  {
   "cell_type": "markdown",
   "metadata": {},
   "source": [
    "Explore for 11 epochs (epoch + 5 minutes before and 5 minutes after)"
   ]
  },
  {
   "cell_type": "code",
   "execution_count": 7,
   "metadata": {},
   "outputs": [],
   "source": [
    "#Explore for 11 epochs (epoch + 5 minutes before and 5 minutes after)\n",
    "i=11\n",
    "train5 = reshape_n(train.iloc[:,:-1], i)\n",
    "train5[\"Y\"]= train.iloc[:,-1]\n",
    "\n",
    "for j in range(0, i//2):\n",
    "  train5.drop([train5.shape[0]-(i+1)], inplace=True)\n",
    "\n",
    "test5 = reshape_n(test.iloc[:,:-1], i)\n",
    "test5[\"Y\"]= test.iloc[:,-1].values\n",
    "for j in range(0, i//2):\n",
    "  test5.drop([test5.shape[0]-(i+1)], inplace=True)\n",
    "\n",
    "X = train5.iloc[:,:-1]\n",
    "y = train5.iloc[:,-1]\n",
    "X_test = test5.iloc[:,:-1]\n",
    "y_true = test5.iloc[:,-1]"
   ]
  },
  {
   "cell_type": "code",
   "execution_count": 10,
   "metadata": {},
   "outputs": [
    {
     "name": "stdout",
     "output_type": "stream",
     "text": [
      "(35059, 1243)\n",
      "(35059,)\n",
      "[0 1 2 3 4]\n"
     ]
    }
   ],
   "source": [
    "print(X.shape)\n",
    "print(y.shape)\n",
    "print(y.unique())"
   ]
  },
  {
   "cell_type": "code",
   "execution_count": null,
   "metadata": {},
   "outputs": [],
   "source": [
    "Around best score: n_estimators = 180, regularization 5"
   ]
  },
  {
   "cell_type": "code",
   "execution_count": 17,
   "metadata": {
    "scrolled": true
   },
   "outputs": [
    {
     "name": "stdout",
     "output_type": "stream",
     "text": [
      "for n_estimators=  5\n",
      "log loss =  0.6064331996516102\n",
      "kappa =  0.719398312246695\n",
      "accuracy =  0.7934025796141992\n",
      "for n_estimators=  8\n",
      "log loss =  0.6045792760613042\n",
      "kappa =  0.7127328098916936\n",
      "accuracy =  0.7886086063234791\n",
      "for n_estimators=  9\n",
      "log loss =  0.599938785325976\n",
      "kappa =  0.7168089916759459\n",
      "accuracy =  0.7916904462960849\n",
      "for n_estimators=  10\n",
      "log loss =  0.6005333105498049\n",
      "kappa =  0.7190684897674926\n",
      "accuracy =  0.7931742951717841\n",
      "for n_estimators=  11\n",
      "log loss =  0.5982991165759909\n",
      "kappa =  0.715939655656635\n",
      "accuracy =  0.7910055929688392\n",
      "for n_estimators=  12\n",
      "log loss =  0.5951443764534134\n",
      "kappa =  0.7186229354473718\n",
      "accuracy =  0.7928318685081611\n",
      "for n_estimators=  13\n",
      "log loss =  0.5983425103804749\n",
      "kappa =  0.7189785405787055\n",
      "accuracy =  0.7929460107293688\n",
      "for n_estimators=  14\n",
      "log loss =  0.5963545501345998\n",
      "kappa =  0.7185001830228607\n",
      "accuracy =  0.7928318685081611\n",
      "for n_estimators=  15\n",
      "log loss =  0.600014842047674\n",
      "kappa =  0.7212824234443656\n",
      "accuracy =  0.7948864284898984\n",
      "Wall time: 2h 23min 15s\n"
     ]
    }
   ],
   "source": [
    "%%time\n",
    "errors = []\n",
    "Lk = []\n",
    "La = []\n",
    "\n",
    "r = [5, 8, 9, 10, 11, 12, 13, 14, 15]\n",
    "\n",
    "for i in r:\n",
    "    xbc = xgb.XGBClassifier(n_estimators = 180, random_state=42, learning_rate= 0.1, max_depth= 8,  subsample= 0.7, \n",
    "                            n_jobs=-2, reg_lambda=i)\n",
    "    xbc.fit(X, y)\n",
    "    ll = log_loss(y_true, xbc.predict_proba(X_test))\n",
    "    errors.append(ll)\n",
    "    y_pred = xbc.predict(X_test)\n",
    "    k=cohen_kappa_score(y_true, y_pred)\n",
    "    a= accuracy_score(y_true, y_pred)\n",
    "    print(\"for n_estimators= \", i)\n",
    "    print(\"log loss = \", ll)\n",
    "    print(\"kappa = \", k)\n",
    "    print(\"accuracy = \", a)\n",
    "    \n",
    "    Lk.append(k)\n",
    "    La.append(a)"
   ]
  },
  {
   "cell_type": "code",
   "execution_count": 18,
   "metadata": {},
   "outputs": [
    {
     "data": {
      "image/png": "[encoded data removed]",
      "text/plain": [
       "<Figure size 432x288 with 1 Axes>"
      ]
     },
     "metadata": {},
     "output_type": "display_data"
    },
    {
     "data": {
      "image/png": "[encoded data removed]",
      "text/plain": [
       "<Figure size 432x288 with 1 Axes>"
      ]
     },
     "metadata": {},
     "output_type": "display_data"
    }
   ],
   "source": [
    "plt.plot(r, errors, label = \"log loss\")\n",
    "plt.legend(loc='lower right')\n",
    "plt.show()\n",
    "\n",
    "plt.plot(r, Lk, label = \"kappa\")\n",
    "plt.legend(loc='lower right')\n",
    "plt.show()"
   ]
  },
  {
   "cell_type": "markdown",
   "metadata": {},
   "source": [
    "Now on n_estimators"
   ]
  },
  {
   "cell_type": "code",
   "execution_count": 15,
   "metadata": {
    "scrolled": true
   },
   "outputs": [
    {
     "name": "stdout",
     "output_type": "stream",
     "text": [
      "for n_estimators=  170\n",
      "log loss =  0.5981614556573986\n",
      "kappa =  0.7157342917275691\n",
      "accuracy =  0.7906631663052163\n",
      "for n_estimators=  171\n",
      "log loss =  0.5984786300355652\n",
      "kappa =  0.7165142301944145\n",
      "accuracy =  0.7912338774112544\n",
      "for n_estimators=  172\n",
      "log loss =  0.5987538040768383\n",
      "kappa =  0.7166776960827891\n",
      "accuracy =  0.791348019632462\n",
      "for n_estimators=  173\n",
      "log loss =  0.5992643120285742\n",
      "kappa =  0.7171629918769221\n",
      "accuracy =  0.7916904462960849\n",
      "for n_estimators=  174\n",
      "log loss =  0.5991825052591631\n",
      "kappa =  0.7182006338137839\n",
      "accuracy =  0.7924894418445383\n",
      "for n_estimators=  175\n",
      "log loss =  0.5990856572743384\n",
      "kappa =  0.7187886876797521\n",
      "accuracy =  0.7929460107293688\n",
      "for n_estimators=  176\n",
      "log loss =  0.5992637366503075\n",
      "kappa =  0.7181826240522999\n",
      "accuracy =  0.7924894418445383\n",
      "for n_estimators=  177\n",
      "log loss =  0.5994362106637635\n",
      "kappa =  0.7189173550440073\n",
      "accuracy =  0.7930601529505764\n",
      "for n_estimators=  178\n",
      "log loss =  0.5993578552169736\n",
      "kappa =  0.719045101798935\n",
      "accuracy =  0.7931742951717841\n",
      "for n_estimators=  179\n",
      "log loss =  0.599604965679431\n",
      "kappa =  0.7189252139396678\n",
      "accuracy =  0.7930601529505764\n",
      "for n_estimators=  180\n",
      "log loss =  0.6005333105498049\n",
      "kappa =  0.7190684897674926\n",
      "accuracy =  0.7931742951717841\n",
      "for n_estimators=  181\n",
      "log loss =  0.6007059733947263\n",
      "kappa =  0.7187196794246385\n",
      "accuracy =  0.7929460107293688\n",
      "for n_estimators=  182\n",
      "log loss =  0.60085688823823\n",
      "kappa =  0.7178405123677187\n",
      "accuracy =  0.792261157402123\n",
      "for n_estimators=  183\n",
      "log loss =  0.6009605359977904\n",
      "kappa =  0.7183039305364487\n",
      "accuracy =  0.7926035840657459\n",
      "for n_estimators=  184\n",
      "log loss =  0.6010808475928934\n",
      "kappa =  0.7173810156126021\n",
      "accuracy =  0.7919187307385002\n",
      "for n_estimators=  185\n",
      "log loss =  0.6011315607237219\n",
      "kappa =  0.7184632337556403\n",
      "accuracy =  0.7927177262869536\n",
      "for n_estimators=  186\n",
      "log loss =  0.60137350220751\n",
      "kappa =  0.7193656415232546\n",
      "accuracy =  0.7934025796141992\n",
      "for n_estimators=  187\n",
      "log loss =  0.6015226067389433\n",
      "kappa =  0.7183926963663877\n",
      "accuracy =  0.7927177262869536\n",
      "for n_estimators=  188\n",
      "log loss =  0.601881064262252\n",
      "kappa =  0.717826451292217\n",
      "accuracy =  0.792261157402123\n",
      "for n_estimators=  189\n",
      "log loss =  0.6021272099497382\n",
      "kappa =  0.7179946118663978\n",
      "accuracy =  0.7923752996233306\n",
      "Wall time: 5h 16min 15s\n"
     ]
    }
   ],
   "source": [
    "%%time\n",
    "errors = []\n",
    "Lk = []\n",
    "La = []\n",
    "\n",
    "r = range(170, 190, 1)\n",
    "\n",
    "for i in r:\n",
    "    xbc = xgb.XGBClassifier(n_estimators = i, random_state=42, learning_rate= 0.1, max_depth= 8,  subsample= 0.7, \n",
    "                            n_jobs=-2, reg_lambda=10)\n",
    "    xbc.fit(X, y)\n",
    "    ll = log_loss(y_true, xbc.predict_proba(X_test))\n",
    "    errors.append(ll)\n",
    "    y_pred = xbc.predict(X_test)\n",
    "    k=cohen_kappa_score(y_true, y_pred)\n",
    "    a= accuracy_score(y_true, y_pred)\n",
    "    print(\"for n_estimators= \", i)\n",
    "    print(\"log loss = \", ll)\n",
    "    print(\"kappa = \", k)\n",
    "    print(\"accuracy = \", a)\n",
    "    \n",
    "    Lk.append(k)\n",
    "    La.append(a)"
   ]
  },
  {
   "cell_type": "code",
   "execution_count": 16,
   "metadata": {
    "scrolled": false
   },
   "outputs": [
    {
     "data": {
      "image/png": "[encoded data removed]",
      "text/plain": [
       "<Figure size 432x288 with 1 Axes>"
      ]
     },
     "metadata": {},
     "output_type": "display_data"
    },
    {
     "data": {
      "image/png": "[encoded data removed]",
      "text/plain": [
       "<Figure size 432x288 with 1 Axes>"
      ]
     },
     "metadata": {},
     "output_type": "display_data"
    }
   ],
   "source": [
    "plt.plot(r, errors, label = \"log loss\")\n",
    "plt.legend(loc='lower right')\n",
    "plt.show()\n",
    "\n",
    "plt.plot(r, Lk, label = \"kappa\")\n",
    "plt.legend(loc='lower right')\n",
    "plt.show()"
   ]
  },
  {
   "cell_type": "code",
   "execution_count": 19,
   "metadata": {},
   "outputs": [
    {
     "name": "stdout",
     "output_type": "stream",
     "text": [
      "for reg_lambda=  5\n",
      "log loss =  0.6053460744124239\n",
      "kappa =  0.7198540980843968\n",
      "accuracy =  0.7937450062778222\n",
      "for reg_lambda=  10\n",
      "log loss =  0.5993578552169736\n",
      "kappa =  0.719045101798935\n",
      "accuracy =  0.7931742951717841\n",
      "for reg_lambda=  14\n",
      "log loss =  0.5959810506044567\n",
      "kappa =  0.7176011758034874\n",
      "accuracy =  0.7921470151809155\n",
      "for reg_lambda=  15\n",
      "log loss =  0.599148521201221\n",
      "kappa =  0.7205739898859299\n",
      "accuracy =  0.7943157173838603\n",
      "Wall time: 1h 2min 50s\n"
     ]
    }
   ],
   "source": [
    "%%time\n",
    "errors = []\n",
    "Lk = []\n",
    "La = []\n",
    "\n",
    "r = [5, 10, 14, 15]\n",
    "\n",
    "for i in r:\n",
    "    xbc = xgb.XGBClassifier(n_estimators = 178, random_state=42, learning_rate= 0.1, max_depth= 8,  subsample= 0.7, \n",
    "                            n_jobs=-2, reg_lambda=i)\n",
    "    xbc.fit(X, y)\n",
    "    ll = log_loss(y_true, xbc.predict_proba(X_test))\n",
    "    errors.append(ll)\n",
    "    y_pred = xbc.predict(X_test)\n",
    "    k=cohen_kappa_score(y_true, y_pred)\n",
    "    a= accuracy_score(y_true, y_pred)\n",
    "    print(\"for reg_lambda= \", i)\n",
    "    print(\"log loss = \", ll)\n",
    "    print(\"kappa = \", k)\n",
    "    print(\"accuracy = \", a)\n",
    "    \n",
    "    Lk.append(k)\n",
    "    La.append(a)"
   ]
  },
  {
   "cell_type": "code",
   "execution_count": 20,
   "metadata": {},
   "outputs": [
    {
     "data": {
      "image/png": "[encoded data removed]",
      "text/plain": [
       "<Figure size 432x288 with 1 Axes>"
      ]
     },
     "metadata": {},
     "output_type": "display_data"
    },
    {
     "data": {
      "image/png": "[encoded data removed]",
      "text/plain": [
       "<Figure size 432x288 with 1 Axes>"
      ]
     },
     "metadata": {},
     "output_type": "display_data"
    }
   ],
   "source": [
    "plt.plot(r, errors, label = \"log loss\")\n",
    "plt.legend(loc='lower right')\n",
    "plt.show()\n",
    "\n",
    "plt.plot(r, Lk, label = \"kappa\")\n",
    "plt.legend(loc='lower right')\n",
    "plt.show()"
   ]
  },
  {
   "cell_type": "code",
   "execution_count": null,
   "metadata": {},
   "outputs": [],
   "source": []
  },
  {
   "cell_type": "markdown",
   "metadata": {},
   "source": [
    "Resuming old thread"
   ]
  },
  {
   "cell_type": "code",
   "execution_count": 36,
   "metadata": {},
   "outputs": [
    {
     "name": "stderr",
     "output_type": "stream",
     "text": [
      "C:\\Anaconda3\\lib\\site-packages\\sklearn\\preprocessing\\label.py:151: DeprecationWarning: The truth value of an empty array is ambiguous. Returning False, but in future this will result in an error. Use `array.size > 0` to check that an array is not empty.\n",
      "  if diff:\n"
     ]
    },
    {
     "name": "stdout",
     "output_type": "stream",
     "text": [
      "for n_estimators=  10\n",
      "log loss =  0.9824693852629703\n",
      "kappa =  0.6502332207149977\n",
      "accuracy =  0.7415820111859377\n"
     ]
    },
    {
     "name": "stderr",
     "output_type": "stream",
     "text": [
      "C:\\Anaconda3\\lib\\site-packages\\sklearn\\preprocessing\\label.py:151: DeprecationWarning: The truth value of an empty array is ambiguous. Returning False, but in future this will result in an error. Use `array.size > 0` to check that an array is not empty.\n",
      "  if diff:\n"
     ]
    },
    {
     "name": "stdout",
     "output_type": "stream",
     "text": [
      "for n_estimators=  20\n",
      "log loss =  0.7891275199403802\n",
      "kappa =  0.6618292188900556\n",
      "accuracy =  0.7500285355553019\n"
     ]
    },
    {
     "name": "stderr",
     "output_type": "stream",
     "text": [
      "C:\\Anaconda3\\lib\\site-packages\\sklearn\\preprocessing\\label.py:151: DeprecationWarning: The truth value of an empty array is ambiguous. Returning False, but in future this will result in an error. Use `array.size > 0` to check that an array is not empty.\n",
      "  if diff:\n"
     ]
    },
    {
     "name": "stdout",
     "output_type": "stream",
     "text": [
      "for n_estimators=  30\n",
      "log loss =  0.6955273778901404\n",
      "kappa =  0.6775739024792471\n",
      "accuracy =  0.7622417532245177\n"
     ]
    },
    {
     "name": "stderr",
     "output_type": "stream",
     "text": [
      "C:\\Anaconda3\\lib\\site-packages\\sklearn\\preprocessing\\label.py:151: DeprecationWarning: The truth value of an empty array is ambiguous. Returning False, but in future this will result in an error. Use `array.size > 0` to check that an array is not empty.\n",
      "  if diff:\n"
     ]
    },
    {
     "name": "stdout",
     "output_type": "stream",
     "text": [
      "for n_estimators=  40\n",
      "log loss =  0.6550531071676551\n",
      "kappa =  0.6900234277655801\n",
      "accuracy =  0.771601415363543\n"
     ]
    },
    {
     "name": "stderr",
     "output_type": "stream",
     "text": [
      "C:\\Anaconda3\\lib\\site-packages\\sklearn\\preprocessing\\label.py:151: DeprecationWarning: The truth value of an empty array is ambiguous. Returning False, but in future this will result in an error. Use `array.size > 0` to check that an array is not empty.\n",
      "  if diff:\n"
     ]
    },
    {
     "name": "stdout",
     "output_type": "stream",
     "text": [
      "for n_estimators=  50\n",
      "log loss =  0.6345224660584097\n",
      "kappa =  0.691702092988979\n",
      "accuracy =  0.7728569797968269\n"
     ]
    },
    {
     "name": "stderr",
     "output_type": "stream",
     "text": [
      "C:\\Anaconda3\\lib\\site-packages\\sklearn\\preprocessing\\label.py:151: DeprecationWarning: The truth value of an empty array is ambiguous. Returning False, but in future this will result in an error. Use `array.size > 0` to check that an array is not empty.\n",
      "  if diff:\n"
     ]
    },
    {
     "name": "stdout",
     "output_type": "stream",
     "text": [
      "for n_estimators=  60\n",
      "log loss =  0.6258373713162702\n",
      "kappa =  0.6912880739446804\n",
      "accuracy =  0.7724004109119963\n"
     ]
    },
    {
     "name": "stderr",
     "output_type": "stream",
     "text": [
      "C:\\Anaconda3\\lib\\site-packages\\sklearn\\preprocessing\\label.py:151: DeprecationWarning: The truth value of an empty array is ambiguous. Returning False, but in future this will result in an error. Use `array.size > 0` to check that an array is not empty.\n",
      "  if diff:\n"
     ]
    },
    {
     "name": "stdout",
     "output_type": "stream",
     "text": [
      "for n_estimators=  70\n",
      "log loss =  0.6177249742773261\n",
      "kappa =  0.6979011085827476\n",
      "accuracy =  0.7774226686451319\n"
     ]
    },
    {
     "name": "stderr",
     "output_type": "stream",
     "text": [
      "C:\\Anaconda3\\lib\\site-packages\\sklearn\\preprocessing\\label.py:151: DeprecationWarning: The truth value of an empty array is ambiguous. Returning False, but in future this will result in an error. Use `array.size > 0` to check that an array is not empty.\n",
      "  if diff:\n"
     ]
    },
    {
     "name": "stdout",
     "output_type": "stream",
     "text": [
      "for n_estimators=  80\n",
      "log loss =  0.6112047357619916\n",
      "kappa =  0.7049871818939144\n",
      "accuracy =  0.7827873530418902\n"
     ]
    },
    {
     "name": "stderr",
     "output_type": "stream",
     "text": [
      "C:\\Anaconda3\\lib\\site-packages\\sklearn\\preprocessing\\label.py:151: DeprecationWarning: The truth value of an empty array is ambiguous. Returning False, but in future this will result in an error. Use `array.size > 0` to check that an array is not empty.\n",
      "  if diff:\n"
     ]
    },
    {
     "name": "stdout",
     "output_type": "stream",
     "text": [
      "for n_estimators=  90\n",
      "log loss =  0.607499615408862\n",
      "kappa =  0.709000268962936\n",
      "accuracy =  0.7858691930144961\n"
     ]
    },
    {
     "name": "stderr",
     "output_type": "stream",
     "text": [
      "C:\\Anaconda3\\lib\\site-packages\\sklearn\\preprocessing\\label.py:151: DeprecationWarning: The truth value of an empty array is ambiguous. Returning False, but in future this will result in an error. Use `array.size > 0` to check that an array is not empty.\n",
      "  if diff:\n"
     ]
    },
    {
     "name": "stdout",
     "output_type": "stream",
     "text": [
      "for n_estimators=  100\n",
      "log loss =  0.6070592229998082\n",
      "kappa =  0.7129564405419131\n",
      "accuracy =  0.7888368907658942\n"
     ]
    },
    {
     "name": "stderr",
     "output_type": "stream",
     "text": [
      "C:\\Anaconda3\\lib\\site-packages\\sklearn\\preprocessing\\label.py:151: DeprecationWarning: The truth value of an empty array is ambiguous. Returning False, but in future this will result in an error. Use `array.size > 0` to check that an array is not empty.\n",
      "  if diff:\n"
     ]
    },
    {
     "name": "stdout",
     "output_type": "stream",
     "text": [
      "for n_estimators=  110\n",
      "log loss =  0.6066953947836593\n",
      "kappa =  0.7144819405077073\n",
      "accuracy =  0.7899783129779705\n"
     ]
    },
    {
     "name": "stderr",
     "output_type": "stream",
     "text": [
      "C:\\Anaconda3\\lib\\site-packages\\sklearn\\preprocessing\\label.py:151: DeprecationWarning: The truth value of an empty array is ambiguous. Returning False, but in future this will result in an error. Use `array.size > 0` to check that an array is not empty.\n",
      "  if diff:\n"
     ]
    },
    {
     "name": "stdout",
     "output_type": "stream",
     "text": [
      "for n_estimators=  120\n",
      "log loss =  0.6084892356102274\n",
      "kappa =  0.7163606786066179\n",
      "accuracy =  0.791348019632462\n"
     ]
    },
    {
     "name": "stderr",
     "output_type": "stream",
     "text": [
      "C:\\Anaconda3\\lib\\site-packages\\sklearn\\preprocessing\\label.py:151: DeprecationWarning: The truth value of an empty array is ambiguous. Returning False, but in future this will result in an error. Use `array.size > 0` to check that an array is not empty.\n",
      "  if diff:\n"
     ]
    },
    {
     "name": "stdout",
     "output_type": "stream",
     "text": [
      "for n_estimators=  130\n",
      "log loss =  0.6106290467241953\n",
      "kappa =  0.7188981599880631\n",
      "accuracy =  0.7932884373929917\n"
     ]
    },
    {
     "name": "stderr",
     "output_type": "stream",
     "text": [
      "C:\\Anaconda3\\lib\\site-packages\\sklearn\\preprocessing\\label.py:151: DeprecationWarning: The truth value of an empty array is ambiguous. Returning False, but in future this will result in an error. Use `array.size > 0` to check that an array is not empty.\n",
      "  if diff:\n"
     ]
    },
    {
     "name": "stdout",
     "output_type": "stream",
     "text": [
      "for n_estimators=  140\n",
      "log loss =  0.6166908316598455\n",
      "kappa =  0.7170786833522892\n",
      "accuracy =  0.7919187307385002\n"
     ]
    },
    {
     "name": "stderr",
     "output_type": "stream",
     "text": [
      "C:\\Anaconda3\\lib\\site-packages\\sklearn\\preprocessing\\label.py:151: DeprecationWarning: The truth value of an empty array is ambiguous. Returning False, but in future this will result in an error. Use `array.size > 0` to check that an array is not empty.\n",
      "  if diff:\n"
     ]
    },
    {
     "name": "stdout",
     "output_type": "stream",
     "text": [
      "for n_estimators=  150\n",
      "log loss =  0.6207472471339629\n",
      "kappa =  0.7181754142114944\n",
      "accuracy =  0.7928318685081611\n"
     ]
    },
    {
     "name": "stderr",
     "output_type": "stream",
     "text": [
      "C:\\Anaconda3\\lib\\site-packages\\sklearn\\preprocessing\\label.py:151: DeprecationWarning: The truth value of an empty array is ambiguous. Returning False, but in future this will result in an error. Use `array.size > 0` to check that an array is not empty.\n",
      "  if diff:\n"
     ]
    },
    {
     "name": "stdout",
     "output_type": "stream",
     "text": [
      "for n_estimators=  160\n",
      "log loss =  0.6224779050881721\n",
      "kappa =  0.7195402438540016\n",
      "accuracy =  0.7937450062778222\n"
     ]
    },
    {
     "name": "stderr",
     "output_type": "stream",
     "text": [
      "C:\\Anaconda3\\lib\\site-packages\\sklearn\\preprocessing\\label.py:151: DeprecationWarning: The truth value of an empty array is ambiguous. Returning False, but in future this will result in an error. Use `array.size > 0` to check that an array is not empty.\n",
      "  if diff:\n"
     ]
    },
    {
     "name": "stdout",
     "output_type": "stream",
     "text": [
      "for n_estimators=  170\n",
      "log loss =  0.626628714786645\n",
      "kappa =  0.719101727663049\n",
      "accuracy =  0.7934025796141992\n"
     ]
    },
    {
     "name": "stderr",
     "output_type": "stream",
     "text": [
      "C:\\Anaconda3\\lib\\site-packages\\sklearn\\preprocessing\\label.py:151: DeprecationWarning: The truth value of an empty array is ambiguous. Returning False, but in future this will result in an error. Use `array.size > 0` to check that an array is not empty.\n",
      "  if diff:\n"
     ]
    },
    {
     "name": "stdout",
     "output_type": "stream",
     "text": [
      "for n_estimators=  180\n",
      "log loss =  0.6321143030558676\n",
      "kappa =  0.7216579296679757\n",
      "accuracy =  0.7953429973747289\n"
     ]
    },
    {
     "name": "stderr",
     "output_type": "stream",
     "text": [
      "C:\\Anaconda3\\lib\\site-packages\\sklearn\\preprocessing\\label.py:151: DeprecationWarning: The truth value of an empty array is ambiguous. Returning False, but in future this will result in an error. Use `array.size > 0` to check that an array is not empty.\n",
      "  if diff:\n"
     ]
    },
    {
     "name": "stdout",
     "output_type": "stream",
     "text": [
      "for n_estimators=  190\n",
      "log loss =  0.6352768290933914\n",
      "kappa =  0.7216055086748873\n",
      "accuracy =  0.7952288551535213\n"
     ]
    },
    {
     "name": "stderr",
     "output_type": "stream",
     "text": [
      "C:\\Anaconda3\\lib\\site-packages\\sklearn\\preprocessing\\label.py:151: DeprecationWarning: The truth value of an empty array is ambiguous. Returning False, but in future this will result in an error. Use `array.size > 0` to check that an array is not empty.\n",
      "  if diff:\n"
     ]
    },
    {
     "name": "stdout",
     "output_type": "stream",
     "text": [
      "for n_estimators=  200\n",
      "log loss =  0.6381782097930583\n",
      "kappa =  0.7211436803974731\n",
      "accuracy =  0.7948864284898984\n"
     ]
    },
    {
     "name": "stderr",
     "output_type": "stream",
     "text": [
      "C:\\Anaconda3\\lib\\site-packages\\sklearn\\preprocessing\\label.py:151: DeprecationWarning: The truth value of an empty array is ambiguous. Returning False, but in future this will result in an error. Use `array.size > 0` to check that an array is not empty.\n",
      "  if diff:\n"
     ]
    },
    {
     "name": "stdout",
     "output_type": "stream",
     "text": [
      "for n_estimators=  210\n",
      "log loss =  0.6419448228768974\n",
      "kappa =  0.7226490987849138\n",
      "accuracy =  0.7960278507019747\n"
     ]
    },
    {
     "name": "stderr",
     "output_type": "stream",
     "text": [
      "C:\\Anaconda3\\lib\\site-packages\\sklearn\\preprocessing\\label.py:151: DeprecationWarning: The truth value of an empty array is ambiguous. Returning False, but in future this will result in an error. Use `array.size > 0` to check that an array is not empty.\n",
      "  if diff:\n"
     ]
    },
    {
     "name": "stdout",
     "output_type": "stream",
     "text": [
      "for n_estimators=  220\n",
      "log loss =  0.6452712231765992\n",
      "kappa =  0.7236143614158422\n",
      "accuracy =  0.7967127040292205\n"
     ]
    },
    {
     "name": "stderr",
     "output_type": "stream",
     "text": [
      "C:\\Anaconda3\\lib\\site-packages\\sklearn\\preprocessing\\label.py:151: DeprecationWarning: The truth value of an empty array is ambiguous. Returning False, but in future this will result in an error. Use `array.size > 0` to check that an array is not empty.\n",
      "  if diff:\n"
     ]
    },
    {
     "name": "stdout",
     "output_type": "stream",
     "text": [
      "for n_estimators=  230\n",
      "log loss =  0.648524599123075\n",
      "kappa =  0.7231392218614955\n",
      "accuracy =  0.7963702773655975\n"
     ]
    },
    {
     "name": "stderr",
     "output_type": "stream",
     "text": [
      "C:\\Anaconda3\\lib\\site-packages\\sklearn\\preprocessing\\label.py:151: DeprecationWarning: The truth value of an empty array is ambiguous. Returning False, but in future this will result in an error. Use `array.size > 0` to check that an array is not empty.\n",
      "  if diff:\n"
     ]
    },
    {
     "name": "stdout",
     "output_type": "stream",
     "text": [
      "for n_estimators=  240\n",
      "log loss =  0.6521031259115087\n",
      "kappa =  0.7241173315038751\n",
      "accuracy =  0.7970551306928433\n"
     ]
    },
    {
     "name": "stderr",
     "output_type": "stream",
     "text": [
      "C:\\Anaconda3\\lib\\site-packages\\sklearn\\preprocessing\\label.py:151: DeprecationWarning: The truth value of an empty array is ambiguous. Returning False, but in future this will result in an error. Use `array.size > 0` to check that an array is not empty.\n",
      "  if diff:\n"
     ]
    },
    {
     "name": "stdout",
     "output_type": "stream",
     "text": [
      "for n_estimators=  250\n",
      "log loss =  0.6553704103977813\n",
      "kappa =  0.7261231064474428\n",
      "accuracy =  0.7985389795685424\n"
     ]
    },
    {
     "name": "stderr",
     "output_type": "stream",
     "text": [
      "C:\\Anaconda3\\lib\\site-packages\\sklearn\\preprocessing\\label.py:151: DeprecationWarning: The truth value of an empty array is ambiguous. Returning False, but in future this will result in an error. Use `array.size > 0` to check that an array is not empty.\n",
      "  if diff:\n"
     ]
    },
    {
     "name": "stdout",
     "output_type": "stream",
     "text": [
      "for n_estimators=  260\n",
      "log loss =  0.6578860077299948\n",
      "kappa =  0.7272343578805749\n",
      "accuracy =  0.7993379751169958\n"
     ]
    },
    {
     "name": "stderr",
     "output_type": "stream",
     "text": [
      "C:\\Anaconda3\\lib\\site-packages\\sklearn\\preprocessing\\label.py:151: DeprecationWarning: The truth value of an empty array is ambiguous. Returning False, but in future this will result in an error. Use `array.size > 0` to check that an array is not empty.\n",
      "  if diff:\n"
     ]
    },
    {
     "name": "stdout",
     "output_type": "stream",
     "text": [
      "for n_estimators=  270\n",
      "log loss =  0.66123282243177\n",
      "kappa =  0.7278202163159542\n",
      "accuracy =  0.7997945440018263\n"
     ]
    },
    {
     "name": "stderr",
     "output_type": "stream",
     "text": [
      "C:\\Anaconda3\\lib\\site-packages\\sklearn\\preprocessing\\label.py:151: DeprecationWarning: The truth value of an empty array is ambiguous. Returning False, but in future this will result in an error. Use `array.size > 0` to check that an array is not empty.\n",
      "  if diff:\n"
     ]
    },
    {
     "name": "stdout",
     "output_type": "stream",
     "text": [
      "for n_estimators=  280\n",
      "log loss =  0.664549875559046\n",
      "kappa =  0.7268106892607163\n",
      "accuracy =  0.798995548453373\n"
     ]
    },
    {
     "name": "stderr",
     "output_type": "stream",
     "text": [
      "C:\\Anaconda3\\lib\\site-packages\\sklearn\\preprocessing\\label.py:151: DeprecationWarning: The truth value of an empty array is ambiguous. Returning False, but in future this will result in an error. Use `array.size > 0` to check that an array is not empty.\n",
      "  if diff:\n"
     ]
    },
    {
     "name": "stdout",
     "output_type": "stream",
     "text": [
      "for n_estimators=  290\n",
      "log loss =  0.6671634522260086\n",
      "kappa =  0.7264769620312701\n",
      "accuracy =  0.7987672640109577\n"
     ]
    },
    {
     "name": "stderr",
     "output_type": "stream",
     "text": [
      "C:\\Anaconda3\\lib\\site-packages\\sklearn\\preprocessing\\label.py:151: DeprecationWarning: The truth value of an empty array is ambiguous. Returning False, but in future this will result in an error. Use `array.size > 0` to check that an array is not empty.\n",
      "  if diff:\n"
     ]
    },
    {
     "name": "stdout",
     "output_type": "stream",
     "text": [
      "for n_estimators=  300\n",
      "log loss =  0.6707836514828428\n",
      "kappa =  0.7262274556566863\n",
      "accuracy =  0.7985389795685424\n"
     ]
    },
    {
     "name": "stderr",
     "output_type": "stream",
     "text": [
      "C:\\Anaconda3\\lib\\site-packages\\sklearn\\preprocessing\\label.py:151: DeprecationWarning: The truth value of an empty array is ambiguous. Returning False, but in future this will result in an error. Use `array.size > 0` to check that an array is not empty.\n",
      "  if diff:\n"
     ]
    },
    {
     "name": "stdout",
     "output_type": "stream",
     "text": [
      "for n_estimators=  310\n",
      "log loss =  0.6739803170293677\n",
      "kappa =  0.7256234321439765\n",
      "accuracy =  0.7980824106837119\n"
     ]
    },
    {
     "name": "stderr",
     "output_type": "stream",
     "text": [
      "C:\\Anaconda3\\lib\\site-packages\\sklearn\\preprocessing\\label.py:151: DeprecationWarning: The truth value of an empty array is ambiguous. Returning False, but in future this will result in an error. Use `array.size > 0` to check that an array is not empty.\n",
      "  if diff:\n"
     ]
    },
    {
     "name": "stdout",
     "output_type": "stream",
     "text": [
      "for n_estimators=  320\n",
      "log loss =  0.67660783282511\n",
      "kappa =  0.725615062421643\n",
      "accuracy =  0.7980824106837119\n"
     ]
    },
    {
     "name": "stderr",
     "output_type": "stream",
     "text": [
      "C:\\Anaconda3\\lib\\site-packages\\sklearn\\preprocessing\\label.py:151: DeprecationWarning: The truth value of an empty array is ambiguous. Returning False, but in future this will result in an error. Use `array.size > 0` to check that an array is not empty.\n",
      "  if diff:\n"
     ]
    },
    {
     "name": "stdout",
     "output_type": "stream",
     "text": [
      "for n_estimators=  330\n",
      "log loss =  0.6796034779831235\n",
      "kappa =  0.7256406120344676\n",
      "accuracy =  0.7980824106837119\n"
     ]
    },
    {
     "name": "stderr",
     "output_type": "stream",
     "text": [
      "C:\\Anaconda3\\lib\\site-packages\\sklearn\\preprocessing\\label.py:151: DeprecationWarning: The truth value of an empty array is ambiguous. Returning False, but in future this will result in an error. Use `array.size > 0` to check that an array is not empty.\n",
      "  if diff:\n"
     ]
    },
    {
     "name": "stdout",
     "output_type": "stream",
     "text": [
      "for n_estimators=  340\n",
      "log loss =  0.6829155090210953\n",
      "kappa =  0.7263612604815823\n",
      "accuracy =  0.79865312178975\n"
     ]
    },
    {
     "name": "stderr",
     "output_type": "stream",
     "text": [
      "C:\\Anaconda3\\lib\\site-packages\\sklearn\\preprocessing\\label.py:151: DeprecationWarning: The truth value of an empty array is ambiguous. Returning False, but in future this will result in an error. Use `array.size > 0` to check that an array is not empty.\n",
      "  if diff:\n"
     ]
    },
    {
     "name": "stdout",
     "output_type": "stream",
     "text": [
      "for n_estimators=  350\n",
      "log loss =  0.6861745049173499\n",
      "kappa =  0.7268462542262766\n",
      "accuracy =  0.798995548453373\n"
     ]
    },
    {
     "name": "stderr",
     "output_type": "stream",
     "text": [
      "C:\\Anaconda3\\lib\\site-packages\\sklearn\\preprocessing\\label.py:151: DeprecationWarning: The truth value of an empty array is ambiguous. Returning False, but in future this will result in an error. Use `array.size > 0` to check that an array is not empty.\n",
      "  if diff:\n"
     ]
    },
    {
     "name": "stdout",
     "output_type": "stream",
     "text": [
      "for n_estimators=  360\n",
      "log loss =  0.689095421662188\n",
      "kappa =  0.7276448003133367\n",
      "accuracy =  0.7995662595594111\n"
     ]
    },
    {
     "name": "stderr",
     "output_type": "stream",
     "text": [
      "C:\\Anaconda3\\lib\\site-packages\\sklearn\\preprocessing\\label.py:151: DeprecationWarning: The truth value of an empty array is ambiguous. Returning False, but in future this will result in an error. Use `array.size > 0` to check that an array is not empty.\n",
      "  if diff:\n"
     ]
    },
    {
     "name": "stdout",
     "output_type": "stream",
     "text": [
      "for n_estimators=  370\n",
      "log loss =  0.6916870469914217\n",
      "kappa =  0.7261493569293465\n",
      "accuracy =  0.7984248373473348\n"
     ]
    },
    {
     "name": "stderr",
     "output_type": "stream",
     "text": [
      "C:\\Anaconda3\\lib\\site-packages\\sklearn\\preprocessing\\label.py:151: DeprecationWarning: The truth value of an empty array is ambiguous. Returning False, but in future this will result in an error. Use `array.size > 0` to check that an array is not empty.\n",
      "  if diff:\n"
     ]
    },
    {
     "name": "stdout",
     "output_type": "stream",
     "text": [
      "for n_estimators=  380\n",
      "log loss =  0.6936667238937615\n",
      "kappa =  0.7267403684404221\n",
      "accuracy =  0.7988814062321653\n"
     ]
    },
    {
     "name": "stderr",
     "output_type": "stream",
     "text": [
      "C:\\Anaconda3\\lib\\site-packages\\sklearn\\preprocessing\\label.py:151: DeprecationWarning: The truth value of an empty array is ambiguous. Returning False, but in future this will result in an error. Use `array.size > 0` to check that an array is not empty.\n",
      "  if diff:\n"
     ]
    },
    {
     "name": "stdout",
     "output_type": "stream",
     "text": [
      "for n_estimators=  390\n",
      "log loss =  0.696573289752853\n",
      "kappa =  0.7267209458214867\n",
      "accuracy =  0.7988814062321653\n"
     ]
    },
    {
     "name": "stderr",
     "output_type": "stream",
     "text": [
      "C:\\Anaconda3\\lib\\site-packages\\sklearn\\preprocessing\\label.py:151: DeprecationWarning: The truth value of an empty array is ambiguous. Returning False, but in future this will result in an error. Use `array.size > 0` to check that an array is not empty.\n",
      "  if diff:\n"
     ]
    },
    {
     "name": "stdout",
     "output_type": "stream",
     "text": [
      "for n_estimators=  400\n",
      "log loss =  0.6996342898326563\n",
      "kappa =  0.7273373135800636\n",
      "accuracy =  0.7993379751169958\n"
     ]
    },
    {
     "name": "stderr",
     "output_type": "stream",
     "text": [
      "C:\\Anaconda3\\lib\\site-packages\\sklearn\\preprocessing\\label.py:151: DeprecationWarning: The truth value of an empty array is ambiguous. Returning False, but in future this will result in an error. Use `array.size > 0` to check that an array is not empty.\n",
      "  if diff:\n"
     ]
    },
    {
     "name": "stdout",
     "output_type": "stream",
     "text": [
      "for n_estimators=  410\n",
      "log loss =  0.7016625697535597\n",
      "kappa =  0.7271509776963712\n",
      "accuracy =  0.7992238328957881\n"
     ]
    },
    {
     "name": "stderr",
     "output_type": "stream",
     "text": [
      "C:\\Anaconda3\\lib\\site-packages\\sklearn\\preprocessing\\label.py:151: DeprecationWarning: The truth value of an empty array is ambiguous. Returning False, but in future this will result in an error. Use `array.size > 0` to check that an array is not empty.\n",
      "  if diff:\n"
     ]
    },
    {
     "name": "stdout",
     "output_type": "stream",
     "text": [
      "for n_estimators=  420\n",
      "log loss =  0.7044588621553853\n",
      "kappa =  0.7282147360530937\n",
      "accuracy =  0.8000228284442416\n"
     ]
    },
    {
     "name": "stderr",
     "output_type": "stream",
     "text": [
      "C:\\Anaconda3\\lib\\site-packages\\sklearn\\preprocessing\\label.py:151: DeprecationWarning: The truth value of an empty array is ambiguous. Returning False, but in future this will result in an error. Use `array.size > 0` to check that an array is not empty.\n",
      "  if diff:\n"
     ]
    },
    {
     "name": "stdout",
     "output_type": "stream",
     "text": [
      "for n_estimators=  430\n",
      "log loss =  0.7069143016715345\n",
      "kappa =  0.7276039936357956\n",
      "accuracy =  0.7995662595594111\n"
     ]
    },
    {
     "name": "stderr",
     "output_type": "stream",
     "text": [
      "C:\\Anaconda3\\lib\\site-packages\\sklearn\\preprocessing\\label.py:151: DeprecationWarning: The truth value of an empty array is ambiguous. Returning False, but in future this will result in an error. Use `array.size > 0` to check that an array is not empty.\n",
      "  if diff:\n"
     ]
    },
    {
     "name": "stdout",
     "output_type": "stream",
     "text": [
      "for n_estimators=  440\n",
      "log loss =  0.7088032159571778\n",
      "kappa =  0.7287103847696134\n",
      "accuracy =  0.8003652551078644\n"
     ]
    },
    {
     "name": "stderr",
     "output_type": "stream",
     "text": [
      "C:\\Anaconda3\\lib\\site-packages\\sklearn\\preprocessing\\label.py:151: DeprecationWarning: The truth value of an empty array is ambiguous. Returning False, but in future this will result in an error. Use `array.size > 0` to check that an array is not empty.\n",
      "  if diff:\n"
     ]
    },
    {
     "name": "stdout",
     "output_type": "stream",
     "text": [
      "for n_estimators=  450\n",
      "log loss =  0.7106005472981862\n",
      "kappa =  0.7287540044349627\n",
      "accuracy =  0.8003652551078644\n"
     ]
    },
    {
     "ename": "KeyboardInterrupt",
     "evalue": "",
     "output_type": "error",
     "traceback": [
      "\u001b[1;31m---------------------------------------------------------------------------\u001b[0m",
      "\u001b[1;31mKeyboardInterrupt\u001b[0m                         Traceback (most recent call last)",
      "\u001b[1;32m<ipython-input-36-39460b13c956>\u001b[0m in \u001b[0;36m<module>\u001b[1;34m()\u001b[0m\n\u001b[0;32m     21\u001b[0m     \u001b[0mLk\u001b[0m\u001b[1;33m.\u001b[0m\u001b[0mappend\u001b[0m\u001b[1;33m(\u001b[0m\u001b[0mk\u001b[0m\u001b[1;33m)\u001b[0m\u001b[1;33m\u001b[0m\u001b[0m\n\u001b[0;32m     22\u001b[0m     \u001b[0mLa\u001b[0m\u001b[1;33m.\u001b[0m\u001b[0mappend\u001b[0m\u001b[1;33m(\u001b[0m\u001b[0ma\u001b[0m\u001b[1;33m)\u001b[0m\u001b[1;33m\u001b[0m\u001b[0m\n\u001b[1;32m---> 23\u001b[1;33m     \u001b[0mxbc\u001b[0m\u001b[1;33m.\u001b[0m\u001b[0mfit\u001b[0m\u001b[1;33m(\u001b[0m\u001b[0mX\u001b[0m\u001b[1;33m,\u001b[0m \u001b[0my\u001b[0m\u001b[1;33m)\u001b[0m\u001b[1;33m.\u001b[0m\u001b[0mn_estimators\u001b[0m \u001b[1;33m+=\u001b[0m \u001b[1;36m10\u001b[0m\u001b[1;33m\u001b[0m\u001b[0m\n\u001b[0m",
      "\u001b[1;32mC:\\Anaconda3\\lib\\site-packages\\xgboost\\sklearn.py\u001b[0m in \u001b[0;36mfit\u001b[1;34m(self, X, y, sample_weight, eval_set, eval_metric, early_stopping_rounds, verbose, xgb_model, sample_weight_eval_set)\u001b[0m\n\u001b[0;32m    545\u001b[0m                               \u001b[0mearly_stopping_rounds\u001b[0m\u001b[1;33m=\u001b[0m\u001b[0mearly_stopping_rounds\u001b[0m\u001b[1;33m,\u001b[0m\u001b[1;33m\u001b[0m\u001b[0m\n\u001b[0;32m    546\u001b[0m                               \u001b[0mevals_result\u001b[0m\u001b[1;33m=\u001b[0m\u001b[0mevals_result\u001b[0m\u001b[1;33m,\u001b[0m \u001b[0mobj\u001b[0m\u001b[1;33m=\u001b[0m\u001b[0mobj\u001b[0m\u001b[1;33m,\u001b[0m \u001b[0mfeval\u001b[0m\u001b[1;33m=\u001b[0m\u001b[0mfeval\u001b[0m\u001b[1;33m,\u001b[0m\u001b[1;33m\u001b[0m\u001b[0m\n\u001b[1;32m--> 547\u001b[1;33m                               verbose_eval=verbose, xgb_model=None)\n\u001b[0m\u001b[0;32m    548\u001b[0m \u001b[1;33m\u001b[0m\u001b[0m\n\u001b[0;32m    549\u001b[0m         \u001b[0mself\u001b[0m\u001b[1;33m.\u001b[0m\u001b[0mobjective\u001b[0m \u001b[1;33m=\u001b[0m \u001b[0mxgb_options\u001b[0m\u001b[1;33m[\u001b[0m\u001b[1;34m\"objective\"\u001b[0m\u001b[1;33m]\u001b[0m\u001b[1;33m\u001b[0m\u001b[0m\n",
      "\u001b[1;32mC:\\Anaconda3\\lib\\site-packages\\xgboost\\training.py\u001b[0m in \u001b[0;36mtrain\u001b[1;34m(params, dtrain, num_boost_round, evals, obj, feval, maximize, early_stopping_rounds, evals_result, verbose_eval, xgb_model, callbacks, learning_rates)\u001b[0m\n\u001b[0;32m    202\u001b[0m                            \u001b[0mevals\u001b[0m\u001b[1;33m=\u001b[0m\u001b[0mevals\u001b[0m\u001b[1;33m,\u001b[0m\u001b[1;33m\u001b[0m\u001b[0m\n\u001b[0;32m    203\u001b[0m                            \u001b[0mobj\u001b[0m\u001b[1;33m=\u001b[0m\u001b[0mobj\u001b[0m\u001b[1;33m,\u001b[0m \u001b[0mfeval\u001b[0m\u001b[1;33m=\u001b[0m\u001b[0mfeval\u001b[0m\u001b[1;33m,\u001b[0m\u001b[1;33m\u001b[0m\u001b[0m\n\u001b[1;32m--> 204\u001b[1;33m                            xgb_model=xgb_model, callbacks=callbacks)\n\u001b[0m\u001b[0;32m    205\u001b[0m \u001b[1;33m\u001b[0m\u001b[0m\n\u001b[0;32m    206\u001b[0m \u001b[1;33m\u001b[0m\u001b[0m\n",
      "\u001b[1;32mC:\\Anaconda3\\lib\\site-packages\\xgboost\\training.py\u001b[0m in \u001b[0;36m_train_internal\u001b[1;34m(params, dtrain, num_boost_round, evals, obj, feval, xgb_model, callbacks)\u001b[0m\n\u001b[0;32m     72\u001b[0m         \u001b[1;31m# Skip the first update if it is a recovery step.\u001b[0m\u001b[1;33m\u001b[0m\u001b[1;33m\u001b[0m\u001b[0m\n\u001b[0;32m     73\u001b[0m         \u001b[1;32mif\u001b[0m \u001b[0mversion\u001b[0m \u001b[1;33m%\u001b[0m \u001b[1;36m2\u001b[0m \u001b[1;33m==\u001b[0m \u001b[1;36m0\u001b[0m\u001b[1;33m:\u001b[0m\u001b[1;33m\u001b[0m\u001b[0m\n\u001b[1;32m---> 74\u001b[1;33m             \u001b[0mbst\u001b[0m\u001b[1;33m.\u001b[0m\u001b[0mupdate\u001b[0m\u001b[1;33m(\u001b[0m\u001b[0mdtrain\u001b[0m\u001b[1;33m,\u001b[0m \u001b[0mi\u001b[0m\u001b[1;33m,\u001b[0m \u001b[0mobj\u001b[0m\u001b[1;33m)\u001b[0m\u001b[1;33m\u001b[0m\u001b[0m\n\u001b[0m\u001b[0;32m     75\u001b[0m             \u001b[0mbst\u001b[0m\u001b[1;33m.\u001b[0m\u001b[0msave_rabit_checkpoint\u001b[0m\u001b[1;33m(\u001b[0m\u001b[1;33m)\u001b[0m\u001b[1;33m\u001b[0m\u001b[0m\n\u001b[0;32m     76\u001b[0m             \u001b[0mversion\u001b[0m \u001b[1;33m+=\u001b[0m \u001b[1;36m1\u001b[0m\u001b[1;33m\u001b[0m\u001b[0m\n",
      "\u001b[1;32mC:\\Anaconda3\\lib\\site-packages\\xgboost\\core.py\u001b[0m in \u001b[0;36mupdate\u001b[1;34m(self, dtrain, iteration, fobj)\u001b[0m\n\u001b[0;32m   1019\u001b[0m         \u001b[1;32mif\u001b[0m \u001b[0mfobj\u001b[0m \u001b[1;32mis\u001b[0m \u001b[1;32mNone\u001b[0m\u001b[1;33m:\u001b[0m\u001b[1;33m\u001b[0m\u001b[0m\n\u001b[0;32m   1020\u001b[0m             _check_call(_LIB.XGBoosterUpdateOneIter(self.handle, ctypes.c_int(iteration),\n\u001b[1;32m-> 1021\u001b[1;33m                                                     dtrain.handle))\n\u001b[0m\u001b[0;32m   1022\u001b[0m         \u001b[1;32melse\u001b[0m\u001b[1;33m:\u001b[0m\u001b[1;33m\u001b[0m\u001b[0m\n\u001b[0;32m   1023\u001b[0m             \u001b[0mpred\u001b[0m \u001b[1;33m=\u001b[0m \u001b[0mself\u001b[0m\u001b[1;33m.\u001b[0m\u001b[0mpredict\u001b[0m\u001b[1;33m(\u001b[0m\u001b[0mdtrain\u001b[0m\u001b[1;33m)\u001b[0m\u001b[1;33m\u001b[0m\u001b[0m\n",
      "\u001b[1;31mKeyboardInterrupt\u001b[0m: "
     ]
    }
   ],
   "source": [
    "errors = []\n",
    "Lk = []\n",
    "La = []\n",
    "\n",
    "r = range(10, 500 , 10)\n",
    "\n",
    "for i in r:\n",
    "    xbc = xgb.XGBClassifier(n_estimators = i, random_state=42, learning_rate= 0.1, max_depth= 8,  subsample= 0.7, \n",
    "                            n_jobs=-2, warm_start=True)\n",
    "    xbc.fit(X, y)\n",
    "    ll = log_loss(y_true, xbc.predict_proba(X_test))\n",
    "    errors.append(ll)\n",
    "    y_pred = xbc.predict(X_test)\n",
    "    k=cohen_kappa_score(y_true, y_pred)\n",
    "    a= accuracy_score(y_true, y_pred)\n",
    "    print(\"for n_estimators= \", i)\n",
    "    print(\"log loss = \", ll)\n",
    "    print(\"kappa = \", k)\n",
    "    print(\"accuracy = \", a)\n",
    "    \n",
    "    Lk.append(k)\n",
    "    La.append(a)\n",
    "    xbc.fit(X, y).n_estimators += 10"
   ]
  },
  {
   "cell_type": "code",
   "execution_count": 38,
   "metadata": {},
   "outputs": [
    {
     "data": {
      "image/png": "[encoded data removed]",
      "text/plain": [
       "<Figure size 432x288 with 1 Axes>"
      ]
     },
     "metadata": {},
     "output_type": "display_data"
    },
    {
     "data": {
      "image/png": "[encoded data removed]",
      "text/plain": [
       "<Figure size 432x288 with 1 Axes>"
      ]
     },
     "metadata": {},
     "output_type": "display_data"
    }
   ],
   "source": [
    "rr = range(10, 460 , 10)\n",
    "plt.plot(rr, errors, label = \"log loss\")\n",
    "plt.legend(loc='lower right')\n",
    "plt.show()\n",
    "#plt.plot(rr, La, label = \"accuracy\")\n",
    "plt.plot(rr, Lk, label = \"kappa\")\n",
    "plt.legend(loc='lower right')\n",
    "plt.show()"
   ]
  },
  {
   "cell_type": "markdown",
   "metadata": {},
   "source": [
    "\n",
    "n=100. Score: 0.692 compared to 0.691 with N=5\n",
    "- log loss =  0.6070592229998082\n",
    "- kappa =  0.7129564405419131\n",
    "- accuracy =  0.7888368907658942\n",
    "\n",
    "log loss minimized for n_estimators=  110\n",
    "- log loss =  0.6066953947836593\n",
    "- kappa =  0.7144819405077073\n",
    "- accuracy =  0.7899783129779705\n",
    "\n",
    "1st max kappa\n",
    "- for n_estimators=  270\n",
    "- log loss =  0.66123282243177\n",
    "- kappa =  0.7278202163159542\n",
    "- accuracy =  0.7997945440018263\n",
    "\n",
    "let's see if regularisation help for n = 270"
   ]
  },
  {
   "cell_type": "code",
   "execution_count": null,
   "metadata": {},
   "outputs": [],
   "source": []
  },
  {
   "cell_type": "code",
   "execution_count": 39,
   "metadata": {
    "scrolled": true
   },
   "outputs": [
    {
     "name": "stderr",
     "output_type": "stream",
     "text": [
      "C:\\Anaconda3\\lib\\site-packages\\sklearn\\preprocessing\\label.py:151: DeprecationWarning: The truth value of an empty array is ambiguous. Returning False, but in future this will result in an error. Use `array.size > 0` to check that an array is not empty.\n",
      "  if diff:\n"
     ]
    },
    {
     "name": "stdout",
     "output_type": "stream",
     "text": [
      "for n_estimators=  120\n",
      "log loss =  0.6084892356102274\n",
      "kappa =  0.7163606786066179\n",
      "accuracy =  0.791348019632462\n"
     ]
    },
    {
     "name": "stderr",
     "output_type": "stream",
     "text": [
      "C:\\Anaconda3\\lib\\site-packages\\sklearn\\preprocessing\\label.py:151: DeprecationWarning: The truth value of an empty array is ambiguous. Returning False, but in future this will result in an error. Use `array.size > 0` to check that an array is not empty.\n",
      "  if diff:\n"
     ]
    },
    {
     "name": "stdout",
     "output_type": "stream",
     "text": [
      "for n_estimators=  170\n",
      "log loss =  0.626628714786645\n",
      "kappa =  0.719101727663049\n",
      "accuracy =  0.7934025796141992\n"
     ]
    },
    {
     "name": "stderr",
     "output_type": "stream",
     "text": [
      "C:\\Anaconda3\\lib\\site-packages\\sklearn\\preprocessing\\label.py:151: DeprecationWarning: The truth value of an empty array is ambiguous. Returning False, but in future this will result in an error. Use `array.size > 0` to check that an array is not empty.\n",
      "  if diff:\n"
     ]
    },
    {
     "name": "stdout",
     "output_type": "stream",
     "text": [
      "for n_estimators=  220\n",
      "log loss =  0.6452712231765992\n",
      "kappa =  0.7236143614158422\n",
      "accuracy =  0.7967127040292205\n"
     ]
    },
    {
     "name": "stderr",
     "output_type": "stream",
     "text": [
      "C:\\Anaconda3\\lib\\site-packages\\sklearn\\preprocessing\\label.py:151: DeprecationWarning: The truth value of an empty array is ambiguous. Returning False, but in future this will result in an error. Use `array.size > 0` to check that an array is not empty.\n",
      "  if diff:\n"
     ]
    },
    {
     "name": "stdout",
     "output_type": "stream",
     "text": [
      "for n_estimators=  270\n",
      "log loss =  0.66123282243177\n",
      "kappa =  0.7278202163159542\n",
      "accuracy =  0.7997945440018263\n"
     ]
    },
    {
     "name": "stderr",
     "output_type": "stream",
     "text": [
      "C:\\Anaconda3\\lib\\site-packages\\sklearn\\preprocessing\\label.py:151: DeprecationWarning: The truth value of an empty array is ambiguous. Returning False, but in future this will result in an error. Use `array.size > 0` to check that an array is not empty.\n",
      "  if diff:\n"
     ]
    },
    {
     "name": "stdout",
     "output_type": "stream",
     "text": [
      "for n_estimators=  320\n",
      "log loss =  0.67660783282511\n",
      "kappa =  0.725615062421643\n",
      "accuracy =  0.7980824106837119\n"
     ]
    }
   ],
   "source": [
    "errors = []\n",
    "Lk = []\n",
    "La = []\n",
    "\n",
    "r = range(120, 370 , 50)\n",
    "xbc = xgb.XGBClassifier(n_estimators = 120, random_state=42, learning_rate= 0.1, max_depth= 8,  subsample= 0.7, \n",
    "                            n_jobs=-2, warm_start=True, lambda_reg=5)\n",
    "\n",
    "for i in r:\n",
    "    xbc.fit(X, y)\n",
    "    ll = log_loss(y_true, xbc.predict_proba(X_test))\n",
    "    errors.append(ll)\n",
    "    y_pred = xbc.predict(X_test)\n",
    "    k=cohen_kappa_score(y_true, y_pred)\n",
    "    a= accuracy_score(y_true, y_pred)\n",
    "    print(\"for n_estimators= \", i)\n",
    "    print(\"log loss = \", ll)\n",
    "    print(\"kappa = \", k)\n",
    "    print(\"accuracy = \", a)\n",
    "    \n",
    "    Lk.append(k)\n",
    "    La.append(a)\n",
    "    xbc.fit(X, y).n_estimators += 50"
   ]
  },
  {
   "cell_type": "code",
   "execution_count": 40,
   "metadata": {},
   "outputs": [
    {
     "data": {
      "image/png": "[encoded data removed]",
      "text/plain": [
       "<Figure size 432x288 with 1 Axes>"
      ]
     },
     "metadata": {},
     "output_type": "display_data"
    },
    {
     "data": {
      "image/png": "[encoded data removed]",
      "text/plain": [
       "<Figure size 432x288 with 1 Axes>"
      ]
     },
     "metadata": {},
     "output_type": "display_data"
    }
   ],
   "source": [
    "plt.plot(r, errors, label = \"log loss\")\n",
    "plt.legend(loc='lower right')\n",
    "plt.show()\n",
    "#plt.plot(r, La, label = \"accuracy\")\n",
    "plt.plot(r, Lk, label = \"kappa\")\n",
    "plt.legend(loc='lower right')\n",
    "plt.show()"
   ]
  },
  {
   "cell_type": "code",
   "execution_count": 13,
   "metadata": {},
   "outputs": [
    {
     "name": "stdout",
     "output_type": "stream",
     "text": [
      "Fitting 3 folds for each of 18 candidates, totalling 54 fits\n"
     ]
    },
    {
     "name": "stderr",
     "output_type": "stream",
     "text": [
      "[Parallel(n_jobs=-1)]: Done  25 tasks      | elapsed: 317.6min\n",
      "[Parallel(n_jobs=-1)]: Done  54 out of  54 | elapsed: 549.4min finished\n"
     ]
    },
    {
     "name": "stdout",
     "output_type": "stream",
     "text": [
      "{'gamma': 0.01, 'reg_alpha': 5, 'reg_lambda': 5}\n",
      "kappa:  0.7110410355251684\n",
      "accurancy for n_estimators  =  0.7865540463417419\n"
     ]
    },
    {
     "name": "stderr",
     "output_type": "stream",
     "text": [
      "C:\\Anaconda3\\lib\\site-packages\\sklearn\\preprocessing\\label.py:151: DeprecationWarning: The truth value of an empty array is ambiguous. Returning False, but in future this will result in an error. Use `array.size > 0` to check that an array is not empty.\n",
      "  if diff:\n"
     ]
    }
   ],
   "source": [
    "xbc = xgb.XGBClassifier(n_estimators = 180, random_state=42, max_depth=8, learning_rate=0.1, subsample=0.7)\n",
    "\n",
    "parametres = { 'reg_lambda' : [0, 1, 5], 'gamma': [0, 0.01], 'reg_alpha' : [0, 1, 5]}\n",
    "    \n",
    "ck_score = make_scorer(cohen_kappa_score)\n",
    "grid = GridSearchCV(estimator=xbc, param_grid=parametres, scoring='neg_log_loss', n_jobs=-1, verbose=2)\n",
    "\n",
    "grid_fitted = grid.fit(X,y)\n",
    "print(grid_fitted.best_params_)\n",
    "\n",
    "y_pred = grid.predict(X_test)\n",
    "\n",
    "print(\"kappa: \", cohen_kappa_score(y_true, y_pred))\n",
    "print(\"accurancy for n_estimators  = \" , accuracy_score(y_true, y_pred))"
   ]
  },
  {
   "cell_type": "code",
   "execution_count": 15,
   "metadata": {},
   "outputs": [
    {
     "data": {
      "text/plain": [
       "0.5847366368019232"
      ]
     },
     "execution_count": 15,
     "metadata": {},
     "output_type": "execute_result"
    }
   ],
   "source": [
    "ll = log_loss(y_true, grid.predict_proba(X_test))\n",
    "ll"
   ]
  },
  {
   "cell_type": "markdown",
   "metadata": {},
   "source": [
    "Reference without regularization n: 180\n",
    "- log loss =  0.632\n",
    "- kappa =  0.722\n",
    "- accuracy =  0.795\n",
    "n estimator : 180, {'gamma': 0.01, 'reg_alpha': 5, 'reg_lambda': 5}\n",
    "- log loss: 0.585\n",
    "- kappa:  0.711\n",
    "- accurancy: 0.787\n",
    "for n_estimators=  240 {'gamma': 0.01, 'reg_alpha': 5, 'reg_lambda': 5} // log loss min \n",
    "- log loss =  0.5805557190155572\n",
    "- kappa =  0.719 /  \n",
    "- accuracy =  0.792\n",
    "- challenge score : 0.69501856567217. Delta test/Challenge 0,7186789415933239- 0,69501856567217= 0.024\n",
    "for n_estimators=  300 {'gamma': 0.01, 'reg_alpha': 5, 'reg_lambda': 5} // point d'interret\n",
    "- log loss =  0.580970969589507\n",
    "- kappa =  0.7218863968707475\n",
    "- accuracy =  0.7947722862686908\n",
    "for n_estimators=  340 {'gamma': 0.01, 'reg_alpha': 5, 'reg_lambda': 5} // point d'interret\n",
    "- log loss =  0.5826844474036029\n",
    "- kappa =  0.7242661136765393\n",
    "- accuracy =  0.7965985618080128\n",
    "- Your score is : 0.69083908105379. Moins que n = 240 faut arreter la.\n"
   ]
  },
  {
   "cell_type": "code",
   "execution_count": 16,
   "metadata": {
    "scrolled": true
   },
   "outputs": [
    {
     "name": "stderr",
     "output_type": "stream",
     "text": [
      "C:\\Anaconda3\\lib\\site-packages\\sklearn\\preprocessing\\label.py:151: DeprecationWarning: The truth value of an empty array is ambiguous. Returning False, but in future this will result in an error. Use `array.size > 0` to check that an array is not empty.\n",
      "  if diff:\n"
     ]
    },
    {
     "name": "stdout",
     "output_type": "stream",
     "text": [
      "for n_estimators=  100\n",
      "log loss =  0.5943547207077089\n",
      "kappa =  0.6953217264061219\n",
      "accuracy =  0.7745691131149413\n"
     ]
    },
    {
     "name": "stderr",
     "output_type": "stream",
     "text": [
      "C:\\Anaconda3\\lib\\site-packages\\sklearn\\preprocessing\\label.py:151: DeprecationWarning: The truth value of an empty array is ambiguous. Returning False, but in future this will result in an error. Use `array.size > 0` to check that an array is not empty.\n",
      "  if diff:\n"
     ]
    },
    {
     "name": "stdout",
     "output_type": "stream",
     "text": [
      "for n_estimators=  120\n",
      "log loss =  0.590197229433441\n",
      "kappa =  0.6999629943324568\n",
      "accuracy =  0.7781075219723775\n"
     ]
    },
    {
     "name": "stderr",
     "output_type": "stream",
     "text": [
      "C:\\Anaconda3\\lib\\site-packages\\sklearn\\preprocessing\\label.py:151: DeprecationWarning: The truth value of an empty array is ambiguous. Returning False, but in future this will result in an error. Use `array.size > 0` to check that an array is not empty.\n",
      "  if diff:\n"
     ]
    },
    {
     "name": "stdout",
     "output_type": "stream",
     "text": [
      "for n_estimators=  140\n",
      "log loss =  0.5869327156193311\n",
      "kappa =  0.7032713552774696\n",
      "accuracy =  0.7806186508389453\n"
     ]
    },
    {
     "name": "stderr",
     "output_type": "stream",
     "text": [
      "C:\\Anaconda3\\lib\\site-packages\\sklearn\\preprocessing\\label.py:151: DeprecationWarning: The truth value of an empty array is ambiguous. Returning False, but in future this will result in an error. Use `array.size > 0` to check that an array is not empty.\n",
      "  if diff:\n"
     ]
    },
    {
     "name": "stdout",
     "output_type": "stream",
     "text": [
      "for n_estimators=  160\n",
      "log loss =  0.5850630449359749\n",
      "kappa =  0.7070735575692861\n",
      "accuracy =  0.783472206369136\n"
     ]
    },
    {
     "name": "stderr",
     "output_type": "stream",
     "text": [
      "C:\\Anaconda3\\lib\\site-packages\\sklearn\\preprocessing\\label.py:151: DeprecationWarning: The truth value of an empty array is ambiguous. Returning False, but in future this will result in an error. Use `array.size > 0` to check that an array is not empty.\n",
      "  if diff:\n"
     ]
    },
    {
     "name": "stdout",
     "output_type": "stream",
     "text": [
      "for n_estimators=  180\n",
      "log loss =  0.5847366368019232\n",
      "kappa =  0.7110410355251684\n",
      "accuracy =  0.7865540463417419\n"
     ]
    },
    {
     "name": "stderr",
     "output_type": "stream",
     "text": [
      "C:\\Anaconda3\\lib\\site-packages\\sklearn\\preprocessing\\label.py:151: DeprecationWarning: The truth value of an empty array is ambiguous. Returning False, but in future this will result in an error. Use `array.size > 0` to check that an array is not empty.\n",
      "  if diff:\n"
     ]
    },
    {
     "name": "stdout",
     "output_type": "stream",
     "text": [
      "for n_estimators=  200\n",
      "log loss =  0.582801791101916\n",
      "kappa =  0.7143070254961257\n",
      "accuracy =  0.7890651752083095\n"
     ]
    },
    {
     "name": "stderr",
     "output_type": "stream",
     "text": [
      "C:\\Anaconda3\\lib\\site-packages\\sklearn\\preprocessing\\label.py:151: DeprecationWarning: The truth value of an empty array is ambiguous. Returning False, but in future this will result in an error. Use `array.size > 0` to check that an array is not empty.\n",
      "  if diff:\n"
     ]
    },
    {
     "name": "stdout",
     "output_type": "stream",
     "text": [
      "for n_estimators=  220\n",
      "log loss =  0.5822019173799158\n",
      "kappa =  0.7163987924076292\n",
      "accuracy =  0.7906631663052163\n"
     ]
    },
    {
     "name": "stderr",
     "output_type": "stream",
     "text": [
      "C:\\Anaconda3\\lib\\site-packages\\sklearn\\preprocessing\\label.py:151: DeprecationWarning: The truth value of an empty array is ambiguous. Returning False, but in future this will result in an error. Use `array.size > 0` to check that an array is not empty.\n",
      "  if diff:\n"
     ]
    },
    {
     "name": "stdout",
     "output_type": "stream",
     "text": [
      "for n_estimators=  240\n",
      "log loss =  0.5805557190155572\n",
      "kappa =  0.7186789415933239\n",
      "accuracy =  0.7923752996233306\n"
     ]
    },
    {
     "name": "stderr",
     "output_type": "stream",
     "text": [
      "C:\\Anaconda3\\lib\\site-packages\\sklearn\\preprocessing\\label.py:151: DeprecationWarning: The truth value of an empty array is ambiguous. Returning False, but in future this will result in an error. Use `array.size > 0` to check that an array is not empty.\n",
      "  if diff:\n"
     ]
    },
    {
     "name": "stdout",
     "output_type": "stream",
     "text": [
      "for n_estimators=  260\n",
      "log loss =  0.5807101228630106\n",
      "kappa =  0.7201279602809887\n",
      "accuracy =  0.7935167218354069\n"
     ]
    },
    {
     "name": "stderr",
     "output_type": "stream",
     "text": [
      "C:\\Anaconda3\\lib\\site-packages\\sklearn\\preprocessing\\label.py:151: DeprecationWarning: The truth value of an empty array is ambiguous. Returning False, but in future this will result in an error. Use `array.size > 0` to check that an array is not empty.\n",
      "  if diff:\n"
     ]
    },
    {
     "name": "stdout",
     "output_type": "stream",
     "text": [
      "for n_estimators=  280\n",
      "log loss =  0.5814518261065713\n",
      "kappa =  0.7206615574207387\n",
      "accuracy =  0.7938591484990298\n"
     ]
    },
    {
     "name": "stderr",
     "output_type": "stream",
     "text": [
      "C:\\Anaconda3\\lib\\site-packages\\sklearn\\preprocessing\\label.py:151: DeprecationWarning: The truth value of an empty array is ambiguous. Returning False, but in future this will result in an error. Use `array.size > 0` to check that an array is not empty.\n",
      "  if diff:\n"
     ]
    },
    {
     "name": "stdout",
     "output_type": "stream",
     "text": [
      "for n_estimators=  300\n",
      "log loss =  0.580970969589507\n",
      "kappa =  0.7218863968707475\n",
      "accuracy =  0.7947722862686908\n"
     ]
    },
    {
     "name": "stderr",
     "output_type": "stream",
     "text": [
      "C:\\Anaconda3\\lib\\site-packages\\sklearn\\preprocessing\\label.py:151: DeprecationWarning: The truth value of an empty array is ambiguous. Returning False, but in future this will result in an error. Use `array.size > 0` to check that an array is not empty.\n",
      "  if diff:\n"
     ]
    },
    {
     "name": "stdout",
     "output_type": "stream",
     "text": [
      "for n_estimators=  320\n",
      "log loss =  0.582533653043016\n",
      "kappa =  0.7226209636720686\n",
      "accuracy =  0.7953429973747289\n"
     ]
    },
    {
     "name": "stderr",
     "output_type": "stream",
     "text": [
      "C:\\Anaconda3\\lib\\site-packages\\sklearn\\preprocessing\\label.py:151: DeprecationWarning: The truth value of an empty array is ambiguous. Returning False, but in future this will result in an error. Use `array.size > 0` to check that an array is not empty.\n",
      "  if diff:\n"
     ]
    },
    {
     "name": "stdout",
     "output_type": "stream",
     "text": [
      "for n_estimators=  340\n",
      "log loss =  0.5826844474036029\n",
      "kappa =  0.7242661136765393\n",
      "accuracy =  0.7965985618080128\n"
     ]
    },
    {
     "name": "stderr",
     "output_type": "stream",
     "text": [
      "C:\\Anaconda3\\lib\\site-packages\\sklearn\\preprocessing\\label.py:151: DeprecationWarning: The truth value of an empty array is ambiguous. Returning False, but in future this will result in an error. Use `array.size > 0` to check that an array is not empty.\n",
      "  if diff:\n"
     ]
    },
    {
     "name": "stdout",
     "output_type": "stream",
     "text": [
      "for n_estimators=  360\n",
      "log loss =  0.5850286402342671\n",
      "kappa =  0.7241194545510675\n",
      "accuracy =  0.7964844195868052\n"
     ]
    },
    {
     "name": "stderr",
     "output_type": "stream",
     "text": [
      "C:\\Anaconda3\\lib\\site-packages\\sklearn\\preprocessing\\label.py:151: DeprecationWarning: The truth value of an empty array is ambiguous. Returning False, but in future this will result in an error. Use `array.size > 0` to check that an array is not empty.\n",
      "  if diff:\n"
     ]
    },
    {
     "name": "stdout",
     "output_type": "stream",
     "text": [
      "for n_estimators=  380\n",
      "log loss =  0.586012107670894\n",
      "kappa =  0.724427042245402\n",
      "accuracy =  0.7967127040292205\n"
     ]
    },
    {
     "name": "stderr",
     "output_type": "stream",
     "text": [
      "C:\\Anaconda3\\lib\\site-packages\\sklearn\\preprocessing\\label.py:151: DeprecationWarning: The truth value of an empty array is ambiguous. Returning False, but in future this will result in an error. Use `array.size > 0` to check that an array is not empty.\n",
      "  if diff:\n"
     ]
    },
    {
     "name": "stdout",
     "output_type": "stream",
     "text": [
      "for n_estimators=  400\n",
      "log loss =  0.588075511257475\n",
      "kappa =  0.7253034446344182\n",
      "accuracy =  0.7973975573564661\n"
     ]
    }
   ],
   "source": [
    "errors = []\n",
    "Lk = []\n",
    "La = []\n",
    "\n",
    "r = range(100, 420 , 20)\n",
    "\n",
    "xbc = xgb.XGBClassifier(n_estimators = 100, random_state=42, learning_rate= 0.1, max_depth= 8,  subsample= 0.7, \n",
    "                            n_jobs=-2, warm_start=True, reg_lambda=5, reg_alpha=5, gamma=0.01)\n",
    "for i in r:\n",
    "\n",
    "    xbc.fit(X, y)\n",
    "    ll = log_loss(y_true, xbc.predict_proba(X_test))\n",
    "    errors.append(ll)\n",
    "    y_pred = xbc.predict(X_test)\n",
    "    k=cohen_kappa_score(y_true, y_pred)\n",
    "    a= accuracy_score(y_true, y_pred)\n",
    "    print(\"for n_estimators= \", i)\n",
    "    print(\"log loss = \", ll)\n",
    "    print(\"kappa = \", k)\n",
    "    print(\"accuracy = \", a)\n",
    "    \n",
    "    Lk.append(k)\n",
    "    La.append(a)\n",
    "    xbc.fit(X, y).n_estimators += 20"
   ]
  },
  {
   "cell_type": "code",
   "execution_count": 17,
   "metadata": {},
   "outputs": [
    {
     "data": {
      "image/png": "[encoded data removed]",
      "text/plain": [
       "<Figure size 432x288 with 1 Axes>"
      ]
     },
     "metadata": {},
     "output_type": "display_data"
    },
    {
     "data": {
      "image/png": "[encoded data removed]",
      "text/plain": [
       "<Figure size 432x288 with 1 Axes>"
      ]
     },
     "metadata": {},
     "output_type": "display_data"
    }
   ],
   "source": [
    "plt.plot(r, errors, label = \"log loss\")\n",
    "plt.legend(loc='lower right')\n",
    "plt.show()\n",
    "#plt.plot(r, La, label = \"accuracy\")\n",
    "plt.plot(r, Lk, label = \"kappa\")\n",
    "plt.legend(loc='lower right')\n",
    "plt.show()"
   ]
  },
  {
   "cell_type": "markdown",
   "metadata": {},
   "source": [
    "#### trying with 17 epochs (to make sure)\n",
    "- submitted for estimators = 150 | 180 with score a bit below 0.70"
   ]
  },
  {
   "cell_type": "code",
   "execution_count": 7,
   "metadata": {},
   "outputs": [],
   "source": [
    "#Explore for 11 epochs (epoch + 5 minutes before and 5 minutes after)\n",
    "i=17\n",
    "train5 = reshape_n(train.iloc[:,:-1], i)\n",
    "train5[\"Y\"]= train.iloc[:,-1]\n",
    "\n",
    "for j in range(0, i//2):\n",
    "  train5.drop([train5.shape[0]-(i+1)], inplace=True)\n",
    "\n",
    "test5 = reshape_n(test.iloc[:,:-1], i)\n",
    "test5[\"Y\"]= test.iloc[:,-1].values\n",
    "for j in range(0, i//2):\n",
    "  test5.drop([test5.shape[0]-(i+1)], inplace=True)\n",
    "\n",
    "X = train5.iloc[:,:-1]\n",
    "y = train5.iloc[:,-1]\n",
    "X_test = test5.iloc[:,:-1]\n",
    "y_true = test5.iloc[:,-1]"
   ]
  },
  {
   "cell_type": "code",
   "execution_count": 8,
   "metadata": {},
   "outputs": [
    {
     "data": {
      "text/plain": [
       "(35056, 1921)"
      ]
     },
     "execution_count": 8,
     "metadata": {},
     "output_type": "execute_result"
    }
   ],
   "source": [
    "X.shape"
   ]
  },
  {
   "cell_type": "code",
   "execution_count": 9,
   "metadata": {},
   "outputs": [
    {
     "name": "stderr",
     "output_type": "stream",
     "text": [
      "C:\\Anaconda3\\lib\\site-packages\\sklearn\\preprocessing\\label.py:151: DeprecationWarning: The truth value of an empty array is ambiguous. Returning False, but in future this will result in an error. Use `array.size > 0` to check that an array is not empty.\n",
      "  if diff:\n"
     ]
    },
    {
     "name": "stdout",
     "output_type": "stream",
     "text": [
      "for n_estimators=  10\n",
      "log loss =  0.9625536626803328\n",
      "kappa =  0.6717997514835425\n",
      "accuracy =  0.7589632336149806\n"
     ]
    },
    {
     "name": "stderr",
     "output_type": "stream",
     "text": [
      "C:\\Anaconda3\\lib\\site-packages\\sklearn\\preprocessing\\label.py:151: DeprecationWarning: The truth value of an empty array is ambiguous. Returning False, but in future this will result in an error. Use `array.size > 0` to check that an array is not empty.\n",
      "  if diff:\n"
     ]
    },
    {
     "name": "stdout",
     "output_type": "stream",
     "text": [
      "for n_estimators=  20\n",
      "log loss =  0.761683596277256\n",
      "kappa =  0.6825550017918228\n",
      "accuracy =  0.7667275633706325\n"
     ]
    },
    {
     "name": "stderr",
     "output_type": "stream",
     "text": [
      "C:\\Anaconda3\\lib\\site-packages\\sklearn\\preprocessing\\label.py:151: DeprecationWarning: The truth value of an empty array is ambiguous. Returning False, but in future this will result in an error. Use `array.size > 0` to check that an array is not empty.\n",
      "  if diff:\n"
     ]
    },
    {
     "name": "stdout",
     "output_type": "stream",
     "text": [
      "for n_estimators=  30\n",
      "log loss =  0.6748793622107505\n",
      "kappa =  0.6876622140614548\n",
      "accuracy =  0.7704955469285225\n"
     ]
    },
    {
     "name": "stderr",
     "output_type": "stream",
     "text": [
      "C:\\Anaconda3\\lib\\site-packages\\sklearn\\preprocessing\\label.py:151: DeprecationWarning: The truth value of an empty array is ambiguous. Returning False, but in future this will result in an error. Use `array.size > 0` to check that an array is not empty.\n",
      "  if diff:\n"
     ]
    },
    {
     "name": "stdout",
     "output_type": "stream",
     "text": [
      "for n_estimators=  40\n",
      "log loss =  0.6378810095244971\n",
      "kappa =  0.6946384995809091\n",
      "accuracy =  0.7756337063256451\n"
     ]
    },
    {
     "name": "stderr",
     "output_type": "stream",
     "text": [
      "C:\\Anaconda3\\lib\\site-packages\\sklearn\\preprocessing\\label.py:151: DeprecationWarning: The truth value of an empty array is ambiguous. Returning False, but in future this will result in an error. Use `array.size > 0` to check that an array is not empty.\n",
      "  if diff:\n"
     ]
    },
    {
     "name": "stdout",
     "output_type": "stream",
     "text": [
      "for n_estimators=  50\n",
      "log loss =  0.6152916663766782\n",
      "kappa =  0.6997561595972327\n",
      "accuracy =  0.7794016898835351\n"
     ]
    },
    {
     "name": "stderr",
     "output_type": "stream",
     "text": [
      "C:\\Anaconda3\\lib\\site-packages\\sklearn\\preprocessing\\label.py:151: DeprecationWarning: The truth value of an empty array is ambiguous. Returning False, but in future this will result in an error. Use `array.size > 0` to check that an array is not empty.\n",
      "  if diff:\n"
     ]
    },
    {
     "name": "stdout",
     "output_type": "stream",
     "text": [
      "for n_estimators=  60\n",
      "log loss =  0.6040492944089093\n",
      "kappa =  0.7023227437103737\n",
      "accuracy =  0.781228591002512\n"
     ]
    },
    {
     "name": "stderr",
     "output_type": "stream",
     "text": [
      "C:\\Anaconda3\\lib\\site-packages\\sklearn\\preprocessing\\label.py:151: DeprecationWarning: The truth value of an empty array is ambiguous. Returning False, but in future this will result in an error. Use `array.size > 0` to check that an array is not empty.\n",
      "  if diff:\n"
     ]
    },
    {
     "name": "stdout",
     "output_type": "stream",
     "text": [
      "for n_estimators=  70\n",
      "log loss =  0.5960098088023064\n",
      "kappa =  0.7039463327631735\n",
      "accuracy =  0.7823704042018725\n"
     ]
    },
    {
     "name": "stderr",
     "output_type": "stream",
     "text": [
      "C:\\Anaconda3\\lib\\site-packages\\sklearn\\preprocessing\\label.py:151: DeprecationWarning: The truth value of an empty array is ambiguous. Returning False, but in future this will result in an error. Use `array.size > 0` to check that an array is not empty.\n",
      "  if diff:\n"
     ]
    },
    {
     "name": "stdout",
     "output_type": "stream",
     "text": [
      "for n_estimators=  80\n",
      "log loss =  0.5922166254881782\n",
      "kappa =  0.7075261466132107\n",
      "accuracy =  0.784996574560402\n"
     ]
    },
    {
     "name": "stderr",
     "output_type": "stream",
     "text": [
      "C:\\Anaconda3\\lib\\site-packages\\sklearn\\preprocessing\\label.py:151: DeprecationWarning: The truth value of an empty array is ambiguous. Returning False, but in future this will result in an error. Use `array.size > 0` to check that an array is not empty.\n",
      "  if diff:\n"
     ]
    },
    {
     "name": "stdout",
     "output_type": "stream",
     "text": [
      "for n_estimators=  90\n",
      "log loss =  0.5911915861204144\n",
      "kappa =  0.7106478852977616\n",
      "accuracy =  0.7872802009591231\n"
     ]
    },
    {
     "name": "stderr",
     "output_type": "stream",
     "text": [
      "C:\\Anaconda3\\lib\\site-packages\\sklearn\\preprocessing\\label.py:151: DeprecationWarning: The truth value of an empty array is ambiguous. Returning False, but in future this will result in an error. Use `array.size > 0` to check that an array is not empty.\n",
      "  if diff:\n"
     ]
    },
    {
     "name": "stdout",
     "output_type": "stream",
     "text": [
      "for n_estimators=  100\n",
      "log loss =  0.594254732468842\n",
      "kappa =  0.7136797501582159\n",
      "accuracy =  0.7895638273578443\n"
     ]
    },
    {
     "name": "stderr",
     "output_type": "stream",
     "text": [
      "C:\\Anaconda3\\lib\\site-packages\\sklearn\\preprocessing\\label.py:151: DeprecationWarning: The truth value of an empty array is ambiguous. Returning False, but in future this will result in an error. Use `array.size > 0` to check that an array is not empty.\n",
      "  if diff:\n"
     ]
    },
    {
     "name": "stdout",
     "output_type": "stream",
     "text": [
      "for n_estimators=  110\n",
      "log loss =  0.5968741104844192\n",
      "kappa =  0.7137883615475002\n",
      "accuracy =  0.7896780086777803\n"
     ]
    },
    {
     "name": "stderr",
     "output_type": "stream",
     "text": [
      "C:\\Anaconda3\\lib\\site-packages\\sklearn\\preprocessing\\label.py:151: DeprecationWarning: The truth value of an empty array is ambiguous. Returning False, but in future this will result in an error. Use `array.size > 0` to check that an array is not empty.\n",
      "  if diff:\n"
     ]
    },
    {
     "name": "stdout",
     "output_type": "stream",
     "text": [
      "for n_estimators=  120\n",
      "log loss =  0.599550031839922\n",
      "kappa =  0.7147794020883436\n",
      "accuracy =  0.7904772779173327\n"
     ]
    },
    {
     "name": "stderr",
     "output_type": "stream",
     "text": [
      "C:\\Anaconda3\\lib\\site-packages\\sklearn\\preprocessing\\label.py:151: DeprecationWarning: The truth value of an empty array is ambiguous. Returning False, but in future this will result in an error. Use `array.size > 0` to check that an array is not empty.\n",
      "  if diff:\n"
     ]
    },
    {
     "name": "stdout",
     "output_type": "stream",
     "text": [
      "for n_estimators=  130\n",
      "log loss =  0.6019848179209207\n",
      "kappa =  0.716240509527251\n",
      "accuracy =  0.7915049097967573\n"
     ]
    },
    {
     "name": "stderr",
     "output_type": "stream",
     "text": [
      "C:\\Anaconda3\\lib\\site-packages\\sklearn\\preprocessing\\label.py:151: DeprecationWarning: The truth value of an empty array is ambiguous. Returning False, but in future this will result in an error. Use `array.size > 0` to check that an array is not empty.\n",
      "  if diff:\n"
     ]
    },
    {
     "name": "stdout",
     "output_type": "stream",
     "text": [
      "for n_estimators=  140\n",
      "log loss =  0.6050395928337824\n",
      "kappa =  0.7165602958451522\n",
      "accuracy =  0.7917332724366294\n"
     ]
    },
    {
     "name": "stderr",
     "output_type": "stream",
     "text": [
      "C:\\Anaconda3\\lib\\site-packages\\sklearn\\preprocessing\\label.py:151: DeprecationWarning: The truth value of an empty array is ambiguous. Returning False, but in future this will result in an error. Use `array.size > 0` to check that an array is not empty.\n",
      "  if diff:\n"
     ]
    },
    {
     "name": "stdout",
     "output_type": "stream",
     "text": [
      "for n_estimators=  150\n",
      "log loss =  0.6096242395361352\n",
      "kappa =  0.7193654248905181\n",
      "accuracy =  0.7937885361954784\n"
     ]
    },
    {
     "name": "stderr",
     "output_type": "stream",
     "text": [
      "C:\\Anaconda3\\lib\\site-packages\\sklearn\\preprocessing\\label.py:151: DeprecationWarning: The truth value of an empty array is ambiguous. Returning False, but in future this will result in an error. Use `array.size > 0` to check that an array is not empty.\n",
      "  if diff:\n"
     ]
    },
    {
     "name": "stdout",
     "output_type": "stream",
     "text": [
      "for n_estimators=  160\n",
      "log loss =  0.613080168420413\n",
      "kappa =  0.7191047470350179\n",
      "accuracy =  0.7935601735556063\n"
     ]
    },
    {
     "name": "stderr",
     "output_type": "stream",
     "text": [
      "C:\\Anaconda3\\lib\\site-packages\\sklearn\\preprocessing\\label.py:151: DeprecationWarning: The truth value of an empty array is ambiguous. Returning False, but in future this will result in an error. Use `array.size > 0` to check that an array is not empty.\n",
      "  if diff:\n"
     ]
    },
    {
     "name": "stdout",
     "output_type": "stream",
     "text": [
      "for n_estimators=  170\n",
      "log loss =  0.6180097216089501\n",
      "kappa =  0.719327843494894\n",
      "accuracy =  0.7936743548755424\n"
     ]
    },
    {
     "name": "stderr",
     "output_type": "stream",
     "text": [
      "C:\\Anaconda3\\lib\\site-packages\\sklearn\\preprocessing\\label.py:151: DeprecationWarning: The truth value of an empty array is ambiguous. Returning False, but in future this will result in an error. Use `array.size > 0` to check that an array is not empty.\n",
      "  if diff:\n"
     ]
    },
    {
     "name": "stdout",
     "output_type": "stream",
     "text": [
      "for n_estimators=  180\n",
      "log loss =  0.6205331297616722\n",
      "kappa =  0.72081410122745\n",
      "accuracy =  0.7947019867549668\n"
     ]
    },
    {
     "name": "stderr",
     "output_type": "stream",
     "text": [
      "C:\\Anaconda3\\lib\\site-packages\\sklearn\\preprocessing\\label.py:151: DeprecationWarning: The truth value of an empty array is ambiguous. Returning False, but in future this will result in an error. Use `array.size > 0` to check that an array is not empty.\n",
      "  if diff:\n"
     ]
    },
    {
     "name": "stdout",
     "output_type": "stream",
     "text": [
      "for n_estimators=  190\n",
      "log loss =  0.6247364707547473\n",
      "kappa =  0.721309318148897\n",
      "accuracy =  0.7950445307147751\n",
      "for n_estimators=  200\n",
      "log loss =  0.6284810938370645\n",
      "kappa =  0.722819914459975\n",
      "accuracy =  0.7961863439141357\n"
     ]
    },
    {
     "name": "stderr",
     "output_type": "stream",
     "text": [
      "C:\\Anaconda3\\lib\\site-packages\\sklearn\\preprocessing\\label.py:151: DeprecationWarning: The truth value of an empty array is ambiguous. Returning False, but in future this will result in an error. Use `array.size > 0` to check that an array is not empty.\n",
      "  if diff:\n"
     ]
    }
   ],
   "source": [
    "errors = []\n",
    "Lk = []\n",
    "La = []\n",
    "\n",
    "r = range(10, 210 , 10)\n",
    "\n",
    "\n",
    "for i in r:\n",
    "    xbc = xgb.XGBClassifier(n_estimators = i, random_state=42, learning_rate= 0.1, max_depth= 8,  subsample= 0.7, \n",
    "                            n_jobs=-1, warm_start=True, lambda_reg=5)\n",
    "    xbc.fit(X, y)\n",
    "    ll = log_loss(y_true, xbc.predict_proba(X_test))\n",
    "    errors.append(ll)\n",
    "    y_pred = xbc.predict(X_test)\n",
    "    k=cohen_kappa_score(y_true, y_pred)\n",
    "    a= accuracy_score(y_true, y_pred)\n",
    "    print(\"for n_estimators= \", i)\n",
    "    print(\"log loss = \", ll)\n",
    "    print(\"kappa = \", k)\n",
    "    print(\"accuracy = \", a)\n",
    "    \n",
    "    Lk.append(k)\n",
    "    La.append(a)\n",
    "    \n",
    "\n"
   ]
  },
  {
   "cell_type": "code",
   "execution_count": 10,
   "metadata": {},
   "outputs": [
    {
     "data": {
      "image/png": "[encoded data removed]",
      "text/plain": [
       "<Figure size 432x288 with 1 Axes>"
      ]
     },
     "metadata": {},
     "output_type": "display_data"
    },
    {
     "data": {
      "image/png": "[encoded data removed]",
      "text/plain": [
       "<Figure size 432x288 with 1 Axes>"
      ]
     },
     "metadata": {},
     "output_type": "display_data"
    }
   ],
   "source": [
    "plt.plot(r, errors, label = \"log loss\")\n",
    "plt.legend(loc='lower right')\n",
    "plt.show()\n",
    "#plt.plot(r, La, label = \"accuracy\")\n",
    "plt.plot(r, Lk, label = \"kappa\")\n",
    "plt.legend(loc='lower right')\n",
    "plt.show()"
   ]
  },
  {
   "cell_type": "markdown",
   "metadata": {},
   "source": [
    "#### Illustrating best score\n",
    " \n",
    " your score 0.70273772415489\n",
    "xbc = xgb.XGBClassifier(n_estimators = 180, random_state=42, learning_rate= 0.1, max_depth= 8,  subsample= 0.7, \n",
    "                            n_jobs=-2, reg_lambda=5)"
   ]
  },
  {
   "cell_type": "code",
   "execution_count": 23,
   "metadata": {},
   "outputs": [],
   "source": [
    "#Explore for 11 epochs (epoch + 5 minutes before and 5 minutes after)\n",
    "i=11\n",
    "train5 = reshape_n(train.iloc[:,:-1], i)\n",
    "train5[\"Y\"]= train.iloc[:,-1]\n",
    "\n",
    "for j in range(0, i//2):\n",
    "  train5.drop([train5.shape[0]-(i+1)], inplace=True)\n",
    "\n",
    "test5 = reshape_n(test.iloc[:,:-1], i)\n",
    "test5[\"Y\"]= test.iloc[:,-1].values\n",
    "for j in range(0, i//2):\n",
    "  test5.drop([test5.shape[0]-(i+1)], inplace=True)\n",
    "\n",
    "X = train5.iloc[:,:-1]\n",
    "y = train5.iloc[:,-1]\n",
    "X_test = test5.iloc[:,:-1]\n",
    "y_true = test5.iloc[:,-1]"
   ]
  },
  {
   "cell_type": "code",
   "execution_count": 24,
   "metadata": {},
   "outputs": [],
   "source": [
    "xbc = xgb.XGBClassifier(n_estimators = 180, random_state=42, learning_rate= 0.1, max_depth= 8,  subsample= 0.7, \n",
    "                            n_jobs=-2, reg_lambda=5)\n"
   ]
  },
  {
   "cell_type": "code",
   "execution_count": 25,
   "metadata": {},
   "outputs": [
    {
     "name": "stdout",
     "output_type": "stream",
     "text": [
      "for n_estimators=  11\n",
      "log loss =  0.6064331996516102\n",
      "kappa =  0.719398312246695\n",
      "accuracy =  0.7934025796141992\n"
     ]
    },
    {
     "name": "stderr",
     "output_type": "stream",
     "text": [
      "C:\\Anaconda3\\lib\\site-packages\\sklearn\\preprocessing\\label.py:151: DeprecationWarning: The truth value of an empty array is ambiguous. Returning False, but in future this will result in an error. Use `array.size > 0` to check that an array is not empty.\n",
      "  if diff:\n"
     ]
    }
   ],
   "source": [
    "xbc.fit(X, y)\n",
    "ll = log_loss(y_true, xbc.predict_proba(X_test))\n",
    "errors.append(ll)\n",
    "y_pred = xbc.predict(X_test)\n",
    "k=cohen_kappa_score(y_true, y_pred)\n",
    "a= accuracy_score(y_true, y_pred)\n",
    "print(\"for n_estimators= \", i)\n",
    "print(\"log loss = \", ll)\n",
    "print(\"kappa = \", k)\n",
    "print(\"accuracy = \", a)"
   ]
  },
  {
   "cell_type": "code",
   "execution_count": 26,
   "metadata": {},
   "outputs": [],
   "source": [
    "def plot_confusion_matrix(cm, classes,\n",
    "                          normalize=False,\n",
    "                          title='Confusion matrix',\n",
    "                          cmap=plt.cm.Blues):\n",
    "    \"\"\"\n",
    "    This function prints and plots the confusion matrix.\n",
    "    Normalization can be applied by setting `normalize=True`.\n",
    "    \"\"\"\n",
    "    if normalize:\n",
    "        cm = cm.astype('float') / cm.sum(axis=1)[:, np.newaxis]\n",
    "        print(\"Normalized confusion matrix\")\n",
    "    else:\n",
    "        print('Confusion matrix, without normalization')\n",
    "\n",
    "    print(cm)\n",
    "\n",
    "    plt.imshow(cm, interpolation='nearest', cmap=cmap)\n",
    "    plt.title(title)\n",
    "    plt.colorbar()\n",
    "    tick_marks = np.arange(len(classes))\n",
    "    plt.xticks(tick_marks, classes, rotation=45)\n",
    "    plt.yticks(tick_marks, classes)\n",
    "\n",
    "    fmt = '.2f' if normalize else 'd'\n",
    "    thresh = cm.max() / 2.\n",
    "    for i, j in itertools.product(range(cm.shape[0]), range(cm.shape[1])):\n",
    "        plt.text(j, i, format(cm[i, j], fmt),\n",
    "                 horizontalalignment=\"center\",\n",
    "                 color=\"white\" if cm[i, j] > thresh else \"black\")\n",
    "\n",
    "    plt.tight_layout()\n",
    "    plt.ylabel('True label')\n",
    "    plt.xlabel('Predicted label')"
   ]
  },
  {
   "cell_type": "code",
   "execution_count": 27,
   "metadata": {},
   "outputs": [
    {
     "name": "stdout",
     "output_type": "stream",
     "text": [
      "Confusion matrix, without normalization\n",
      "[[1642   36  150    9   96]\n",
      " [  44   10   67    0  122]\n",
      " [  33    7 2322  260  249]\n",
      " [  26    0  429 2079    0]\n",
      " [  26    3  247    6  898]]\n",
      "Normalized confusion matrix\n",
      "[[0.85 0.02 0.08 0.   0.05]\n",
      " [0.18 0.04 0.28 0.   0.5 ]\n",
      " [0.01 0.   0.81 0.09 0.09]\n",
      " [0.01 0.   0.17 0.82 0.  ]\n",
      " [0.02 0.   0.21 0.01 0.76]]\n"
     ]
    },
    {
     "data": {
      "image/png": "[encoded data removed]",
      "text/plain": [
       "<Figure size 432x288 with 2 Axes>"
      ]
     },
     "metadata": {},
     "output_type": "display_data"
    },
    {
     "data": {
      "image/png": "[encoded data removed]",
      "text/plain": [
       "<Figure size 432x288 with 2 Axes>"
      ]
     },
     "metadata": {},
     "output_type": "display_data"
    }
   ],
   "source": [
    "\n",
    "# Compute confusion matrix\n",
    "cnf_matrix = confusion_matrix(y_true, y_pred)\n",
    "np.set_printoptions(precision=2)\n",
    "\n",
    "# Plot non-normalized confusion matrix\n",
    "plt.figure()\n",
    "plot_confusion_matrix(cnf_matrix, classes=[0, 1, 2, 3, 4], title='Confusion matrix, without normalization')\n",
    "\n",
    "# Plot normalized confusion matrix\n",
    "plt.figure()\n",
    "plot_confusion_matrix(cnf_matrix, classes=[0, 1, 2, 3, 4], normalize=True,\n",
    "                      title='Normalized confusion matrix')\n",
    "\n",
    "plt.show()"
   ]
  },
  {
   "cell_type": "code",
   "execution_count": 28,
   "metadata": {},
   "outputs": [
    {
     "data": {
      "image/png": "[encoded data removed]",
      "text/plain": [
       "<Figure size 1440x360 with 1 Axes>"
      ]
     },
     "metadata": {},
     "output_type": "display_data"
    },
    {
     "data": {
      "image/png": "[encoded data removed]",
      "text/plain": [
       "<Figure size 1440x360 with 1 Axes>"
      ]
     },
     "metadata": {},
     "output_type": "display_data"
    }
   ],
   "source": [
    "lim = y_pred.shape[0]\n",
    "\n",
    "fig, ax = plt.subplots(figsize=(20,5))\n",
    "plt.plot(y_true)\n",
    "plt.ylabel('Sleep stage')\n",
    "plt.yticks([0, 1, 2, 3, 4, ])\n",
    "ax.set_xlim([0, lim])\n",
    "fig.suptitle(\"Original manualy scored hypnogram\")\n",
    "plt.show()\n",
    "\n",
    "\n",
    "fig, ax = plt.subplots(figsize=(20,5))\n",
    "plt.plot(y_pred)\n",
    "plt.ylabel('Sleep stage')\n",
    "plt.yticks([0, 1, 2, 3, 4, ])\n",
    "ax.set_xlim([0, lim])\n",
    "fig.suptitle(\"Estimated hypnogram\")\n",
    "plt.show()"
   ]
  },
  {
   "cell_type": "markdown",
   "metadata": {},
   "source": [
    "## Trying stacking \n",
    "\n",
    "reference boosting\n",
    "for n_estimators=  11\n",
    "log loss =  0.6064331996516102\n",
    "kappa =  0.719398312246695\n",
    "accuracy =  0.7934025796141992\n",
    "\n",
    "XGboost on XGboost: exactly the same challenge score"
   ]
  },
  {
   "cell_type": "code",
   "execution_count": 15,
   "metadata": {},
   "outputs": [],
   "source": [
    "naif = pd.read_excel('C:\\\\Users\\\\i053131\\\\Desktop\\\\Epilepsie\\\\Dreem\\\\data\\\\interim\\\\featuresTrain.xlsx')\n",
    "eeg = pd.read_excel('C:\\\\Users\\\\i053131\\\\Desktop\\\\Epilepsie\\\\Dreem\\\\data\\\\interim\\\\spectrogram_eeg_features30Train.xlsx')\n",
    "acc = pd.read_excel('C:\\\\Users\\\\i053131\\\\Desktop\\\\Epilepsie\\\\Dreem\\\\data\\\\interim\\\\acc_featuresTrain.xlsx')\n",
    "pulse = pd.read_csv('C:\\\\Users\\\\i053131\\\\Desktop\\\\Epilepsie\\\\Dreem\\\\data\\\\interim\\\\pulse_featuresTrain.csv')\n",
    "pulse = pulse.iloc[:, 1:]  \n",
    "eeg.drop(columns=[\"eeg1_Above100Hz0\", \"eeg2_Above100Hz0\", \"eeg3_Above100Hz0\", \"eeg4_Above100Hz0\"], inplace=True)\n",
    "df = pd.concat([eeg, acc, pulse, naif], axis=1)\n",
    "\n",
    "train = df.iloc[0:int(df.shape[0]*0.8), :]\n",
    "test = df.iloc[int(df.shape[0]*0.8):, :]\n"
   ]
  },
  {
   "cell_type": "code",
   "execution_count": 4,
   "metadata": {},
   "outputs": [],
   "source": [
    "i=11\n",
    "train5 = reshape_n(train.iloc[:,:-1], i)\n",
    "train5[\"Y\"]= train.iloc[:,-1]\n",
    "\n",
    "for j in range(0, i//2):\n",
    "  train5.drop([train5.shape[0]-(i+1)], inplace=True)\n",
    "\n",
    "test5 = reshape_n(test.iloc[:,:-1], i)\n",
    "test5[\"Y\"]= test.iloc[:,-1].values\n",
    "for j in range(0, i//2):\n",
    "  test5.drop([test5.shape[0]-(i+1)], inplace=True)\n",
    "\n",
    "X = train5.iloc[:,:-1]\n",
    "\n",
    "X_test = test5.iloc[:,:-1]\n",
    "y_true = test5.iloc[:,-1]\n",
    "y = train5.iloc[:,-1]\n",
    "y_true = test5.iloc[:,-1]"
   ]
  },
  {
   "cell_type": "code",
   "execution_count": 35,
   "metadata": {},
   "outputs": [],
   "source": []
  },
  {
   "cell_type": "code",
   "execution_count": 40,
   "metadata": {},
   "outputs": [
    {
     "data": {
      "text/plain": [
       "False"
      ]
     },
     "execution_count": 40,
     "metadata": {},
     "output_type": "execute_result"
    }
   ],
   "source": [
    "y.isna().any()"
   ]
  },
  {
   "cell_type": "code",
   "execution_count": 5,
   "metadata": {},
   "outputs": [],
   "source": [
    "xbc = xgb.XGBClassifier(n_estimators = 180, random_state=42, learning_rate= 0.1, max_depth= 8,  subsample= 0.7, \n",
    "                            n_jobs=-2, reg_lambda=5)"
   ]
  },
  {
   "cell_type": "code",
   "execution_count": 6,
   "metadata": {},
   "outputs": [
    {
     "data": {
      "text/plain": [
       "XGBClassifier(base_score=0.5, booster='gbtree', colsample_bylevel=1,\n",
       "       colsample_bytree=1, gamma=0, learning_rate=0.1, max_delta_step=0,\n",
       "       max_depth=8, min_child_weight=1, missing=None, n_estimators=180,\n",
       "       n_jobs=-2, nthread=None, objective='multi:softprob',\n",
       "       random_state=42, reg_alpha=0, reg_lambda=5, scale_pos_weight=1,\n",
       "       seed=None, silent=True, subsample=0.7)"
      ]
     },
     "execution_count": 6,
     "metadata": {},
     "output_type": "execute_result"
    }
   ],
   "source": [
    "xbc.fit(X, y)\n"
   ]
  },
  {
   "cell_type": "code",
   "execution_count": 7,
   "metadata": {},
   "outputs": [
    {
     "name": "stdout",
     "output_type": "stream",
     "text": [
      "for n_estimators=  11\n",
      "log loss =  0.6064331996516102\n",
      "kappa =  0.719398312246695\n",
      "accuracy =  0.7934025796141992\n"
     ]
    },
    {
     "name": "stderr",
     "output_type": "stream",
     "text": [
      "C:\\Anaconda3\\lib\\site-packages\\sklearn\\preprocessing\\label.py:151: DeprecationWarning: The truth value of an empty array is ambiguous. Returning False, but in future this will result in an error. Use `array.size > 0` to check that an array is not empty.\n",
      "  if diff:\n"
     ]
    }
   ],
   "source": [
    "proba_X_test = xbc.predict_proba(X_test)\n",
    "proba_X = xbc.predict_proba(X)\n",
    "ll = log_loss(y_true, proba_X_test)\n",
    "\n",
    "y_pred = xbc.predict(X_test)\n",
    "k=cohen_kappa_score(y_true, y_pred)\n",
    "a= accuracy_score(y_true, y_pred)\n",
    "print(\"for n_estimators= \", i)\n",
    "print(\"log loss = \", ll)\n",
    "print(\"kappa = \", k)\n",
    "print(\"accuracy = \", a)"
   ]
  },
  {
   "cell_type": "code",
   "execution_count": 43,
   "metadata": {},
   "outputs": [],
   "source": [
    "tmp = pd.DataFrame(proba_X)\n",
    "i=11\n",
    "train_proba11 = reshape_n(tmp, i)\n",
    "train_proba11[\"Y\"]= y.values\n",
    "\n",
    "for j in range(0, i//2):\n",
    "  train_proba11.drop([train_proba11.shape[0]-(i+1)], inplace=True)"
   ]
  },
  {
   "cell_type": "code",
   "execution_count": 48,
   "metadata": {},
   "outputs": [],
   "source": [
    "tmp2 = pd.DataFrame(proba_X_test)\n",
    "i=11\n",
    "test_proba11 = reshape_n(tmp2, i)\n",
    "test_proba11[\"Y\"]= y_true.values\n",
    "for j in range(0, i//2):\n",
    "  test_proba11.drop([test_proba11.shape[0]-(i+1)], inplace=True)\n",
    "\n"
   ]
  },
  {
   "cell_type": "code",
   "execution_count": 44,
   "metadata": {},
   "outputs": [
    {
     "data": {
      "text/plain": [
       "(35054, 56)"
      ]
     },
     "execution_count": 44,
     "metadata": {},
     "output_type": "execute_result"
    }
   ],
   "source": [
    "train_proba11.shape"
   ]
  },
  {
   "cell_type": "code",
   "execution_count": 47,
   "metadata": {},
   "outputs": [
    {
     "data": {
      "text/plain": [
       "(35054,)"
      ]
     },
     "execution_count": 47,
     "metadata": {},
     "output_type": "execute_result"
    }
   ],
   "source": [
    "train_proba11[\"Y\"].shape"
   ]
  },
  {
   "cell_type": "code",
   "execution_count": 49,
   "metadata": {},
   "outputs": [],
   "source": [
    "train_proba11.to_excel('C:\\\\Users\\\\i053131\\\\Desktop\\\\Epilepsie\\\\Dreem\\\\data\\\\interim\\\\proba11train.xlsx')\n",
    "test_proba11.to_excel('C:\\\\Users\\\\i053131\\\\Desktop\\\\Epilepsie\\\\Dreem\\\\data\\\\interim\\\\proba11test.xlsx')"
   ]
  },
  {
   "cell_type": "code",
   "execution_count": 56,
   "metadata": {},
   "outputs": [],
   "source": [
    "X = train_proba11.iloc[:,:-1]\n",
    "y = train_proba11.iloc[:,-1]\n",
    "X_test = test_proba11.iloc[:,:-1]\n",
    "y_true = test_proba11.iloc[:,-1]"
   ]
  },
  {
   "cell_type": "code",
   "execution_count": 57,
   "metadata": {},
   "outputs": [],
   "source": [
    "xbcs = xgb.XGBClassifier(n_estimators = 17, random_state=42, learning_rate= 0.1, max_depth= 2,  subsample= 0.7, \n",
    "                            n_jobs=-2)"
   ]
  },
  {
   "cell_type": "code",
   "execution_count": 60,
   "metadata": {},
   "outputs": [
    {
     "data": {
      "text/plain": [
       "XGBClassifier(base_score=0.5, booster='gbtree', colsample_bylevel=1,\n",
       "       colsample_bytree=1, gamma=0, learning_rate=0.1, max_delta_step=0,\n",
       "       max_depth=2, min_child_weight=1, missing=None, n_estimators=17,\n",
       "       n_jobs=-2, nthread=None, objective='multi:softprob',\n",
       "       random_state=42, reg_alpha=0, reg_lambda=1, scale_pos_weight=1,\n",
       "       seed=None, silent=True, subsample=0.7)"
      ]
     },
     "execution_count": 60,
     "metadata": {},
     "output_type": "execute_result"
    }
   ],
   "source": [
    "xbcs.fit(X, y)"
   ]
  },
  {
   "cell_type": "code",
   "execution_count": 62,
   "metadata": {},
   "outputs": [
    {
     "name": "stdout",
     "output_type": "stream",
     "text": [
      "for n_estimators= 17\n",
      "kappa =  0.7239401652315347\n",
      "accuracy =  0.7964824120603015\n"
     ]
    },
    {
     "name": "stderr",
     "output_type": "stream",
     "text": [
      "C:\\Anaconda3\\lib\\site-packages\\sklearn\\preprocessing\\label.py:151: DeprecationWarning: The truth value of an empty array is ambiguous. Returning False, but in future this will result in an error. Use `array.size > 0` to check that an array is not empty.\n",
      "  if diff:\n"
     ]
    }
   ],
   "source": [
    "y_pred = xbcs.predict(X_test)\n",
    "k=cohen_kappa_score(y_true, y_pred)\n",
    "a= accuracy_score(y_true, y_pred)\n",
    "print(\"for n_estimators= 17\")\n",
    "\n",
    "print(\"kappa = \", k)\n",
    "print(\"accuracy = \", a)"
   ]
  },
  {
   "cell_type": "code",
   "execution_count": 45,
   "metadata": {
    "scrolled": true
   },
   "outputs": [
    {
     "name": "stderr",
     "output_type": "stream",
     "text": [
      "C:\\Anaconda3\\lib\\site-packages\\sklearn\\preprocessing\\label.py:151: DeprecationWarning: The truth value of an empty array is ambiguous. Returning False, but in future this will result in an error. Use `array.size > 0` to check that an array is not empty.\n",
      "  if diff:\n"
     ]
    },
    {
     "name": "stdout",
     "output_type": "stream",
     "text": [
      "n_estimators=  10\n",
      "log loss =  0.84270418470968\n",
      "kappa =  0.7226350792682641\n",
      "accuracy =  0.7955712818171442\n"
     ]
    },
    {
     "name": "stderr",
     "output_type": "stream",
     "text": [
      "C:\\Anaconda3\\lib\\site-packages\\sklearn\\preprocessing\\label.py:151: DeprecationWarning: The truth value of an empty array is ambiguous. Returning False, but in future this will result in an error. Use `array.size > 0` to check that an array is not empty.\n",
      "  if diff:\n"
     ]
    },
    {
     "name": "stdout",
     "output_type": "stream",
     "text": [
      "n_estimators=  11\n",
      "log loss =  0.8215997511496107\n",
      "kappa =  0.7228571249827118\n",
      "accuracy =  0.7956854240383517\n"
     ]
    },
    {
     "name": "stderr",
     "output_type": "stream",
     "text": [
      "C:\\Anaconda3\\lib\\site-packages\\sklearn\\preprocessing\\label.py:151: DeprecationWarning: The truth value of an empty array is ambiguous. Returning False, but in future this will result in an error. Use `array.size > 0` to check that an array is not empty.\n",
      "  if diff:\n"
     ]
    },
    {
     "name": "stdout",
     "output_type": "stream",
     "text": [
      "n_estimators=  12\n",
      "log loss =  0.8051402936983484\n",
      "kappa =  0.7228571249827118\n",
      "accuracy =  0.7956854240383517\n"
     ]
    },
    {
     "name": "stderr",
     "output_type": "stream",
     "text": [
      "C:\\Anaconda3\\lib\\site-packages\\sklearn\\preprocessing\\label.py:151: DeprecationWarning: The truth value of an empty array is ambiguous. Returning False, but in future this will result in an error. Use `array.size > 0` to check that an array is not empty.\n",
      "  if diff:\n"
     ]
    },
    {
     "name": "stdout",
     "output_type": "stream",
     "text": [
      "n_estimators=  13\n",
      "log loss =  0.7924595574696659\n",
      "kappa =  0.7228571249827118\n",
      "accuracy =  0.7956854240383517\n"
     ]
    },
    {
     "name": "stderr",
     "output_type": "stream",
     "text": [
      "C:\\Anaconda3\\lib\\site-packages\\sklearn\\preprocessing\\label.py:151: DeprecationWarning: The truth value of an empty array is ambiguous. Returning False, but in future this will result in an error. Use `array.size > 0` to check that an array is not empty.\n",
      "  if diff:\n"
     ]
    },
    {
     "name": "stdout",
     "output_type": "stream",
     "text": [
      "n_estimators=  14\n",
      "log loss =  0.7831160741205588\n",
      "kappa =  0.722840559645325\n",
      "accuracy =  0.7956854240383517\n"
     ]
    },
    {
     "name": "stderr",
     "output_type": "stream",
     "text": [
      "C:\\Anaconda3\\lib\\site-packages\\sklearn\\preprocessing\\label.py:151: DeprecationWarning: The truth value of an empty array is ambiguous. Returning False, but in future this will result in an error. Use `array.size > 0` to check that an array is not empty.\n",
      "  if diff:\n"
     ]
    },
    {
     "name": "stdout",
     "output_type": "stream",
     "text": [
      "n_estimators=  15\n",
      "log loss =  0.7762208586481524\n",
      "kappa =  0.7230202307038895\n",
      "accuracy =  0.7957995662595594\n"
     ]
    },
    {
     "name": "stderr",
     "output_type": "stream",
     "text": [
      "C:\\Anaconda3\\lib\\site-packages\\sklearn\\preprocessing\\label.py:151: DeprecationWarning: The truth value of an empty array is ambiguous. Returning False, but in future this will result in an error. Use `array.size > 0` to check that an array is not empty.\n",
      "  if diff:\n"
     ]
    },
    {
     "name": "stdout",
     "output_type": "stream",
     "text": [
      "n_estimators=  16\n",
      "log loss =  0.772188827041662\n",
      "kappa =  0.7227908517493467\n",
      "accuracy =  0.7956854240383517\n"
     ]
    },
    {
     "name": "stderr",
     "output_type": "stream",
     "text": [
      "C:\\Anaconda3\\lib\\site-packages\\sklearn\\preprocessing\\label.py:151: DeprecationWarning: The truth value of an empty array is ambiguous. Returning False, but in future this will result in an error. Use `array.size > 0` to check that an array is not empty.\n",
      "  if diff:\n"
     ]
    },
    {
     "name": "stdout",
     "output_type": "stream",
     "text": [
      "n_estimators=  17\n",
      "log loss =  0.7707722029271239\n",
      "kappa =  0.7218828920930072\n",
      "accuracy =  0.7950005707111061\n"
     ]
    },
    {
     "name": "stderr",
     "output_type": "stream",
     "text": [
      "C:\\Anaconda3\\lib\\site-packages\\sklearn\\preprocessing\\label.py:151: DeprecationWarning: The truth value of an empty array is ambiguous. Returning False, but in future this will result in an error. Use `array.size > 0` to check that an array is not empty.\n",
      "  if diff:\n"
     ]
    },
    {
     "name": "stdout",
     "output_type": "stream",
     "text": [
      "n_estimators=  18\n",
      "log loss =  0.7713858805169064\n",
      "kappa =  0.7219161386805839\n",
      "accuracy =  0.7950005707111061\n"
     ]
    },
    {
     "name": "stderr",
     "output_type": "stream",
     "text": [
      "C:\\Anaconda3\\lib\\site-packages\\sklearn\\preprocessing\\label.py:151: DeprecationWarning: The truth value of an empty array is ambiguous. Returning False, but in future this will result in an error. Use `array.size > 0` to check that an array is not empty.\n",
      "  if diff:\n"
     ]
    },
    {
     "name": "stdout",
     "output_type": "stream",
     "text": [
      "n_estimators=  19\n",
      "log loss =  0.7735349350073011\n",
      "kappa =  0.7221291038139498\n",
      "accuracy =  0.7951147129323136\n",
      "n_estimators=  20\n",
      "log loss =  0.777345753737596\n",
      "kappa =  0.7227105831138435\n",
      "accuracy =  0.7955712818171442\n"
     ]
    },
    {
     "name": "stderr",
     "output_type": "stream",
     "text": [
      "C:\\Anaconda3\\lib\\site-packages\\sklearn\\preprocessing\\label.py:151: DeprecationWarning: The truth value of an empty array is ambiguous. Returning False, but in future this will result in an error. Use `array.size > 0` to check that an array is not empty.\n",
      "  if diff:\n"
     ]
    }
   ],
   "source": [
    "errors = []\n",
    "Lk = []\n",
    "La = []\n",
    "\n",
    "r = range(10, 21)\n",
    "\n",
    "\n",
    "for i in r:\n",
    "    xbcs = xgb.XGBClassifier(n_estimators = i, random_state=42, learning_rate= 0.1, max_depth= 2,  subsample= 0.7, \n",
    "                            n_jobs=-1)\n",
    "    xbcs.fit(train_proba11, y)\n",
    "    ll = log_loss(y_true, xbcs.predict_proba(test_proba11))\n",
    "    errors.append(ll)\n",
    "    y_pred = xbcs.predict(test_proba11)\n",
    "    k=cohen_kappa_score(y_true, y_pred)\n",
    "    a= accuracy_score(y_true, y_pred)\n",
    "    print(\"n_estimators= \", i)\n",
    "    print(\"log loss = \", ll)\n",
    "    print(\"kappa = \", k)\n",
    "    print(\"accuracy = \", a)\n",
    "    \n",
    "    Lk.append(k)\n",
    "    La.append(a)"
   ]
  },
  {
   "cell_type": "code",
   "execution_count": 46,
   "metadata": {},
   "outputs": [
    {
     "data": {
      "image/png": "[encoded data removed]",
      "text/plain": [
       "<Figure size 432x288 with 1 Axes>"
      ]
     },
     "metadata": {},
     "output_type": "display_data"
    },
    {
     "data": {
      "image/png": "[encoded data removed]",
      "text/plain": [
       "<Figure size 432x288 with 1 Axes>"
      ]
     },
     "metadata": {},
     "output_type": "display_data"
    }
   ],
   "source": [
    "plt.plot(r, errors, label = \"log loss\")\n",
    "plt.legend(loc='upper right')\n",
    "plt.show()\n",
    "#plt.plot(r, La, label = \"accuracy\")\n",
    "plt.plot(r, Lk, label = \"kappa\")\n",
    "plt.legend(loc='lower right')\n",
    "plt.show()"
   ]
  },
  {
   "cell_type": "code",
   "execution_count": 43,
   "metadata": {
    "scrolled": true
   },
   "outputs": [
    {
     "name": "stderr",
     "output_type": "stream",
     "text": [
      "C:\\Anaconda3\\lib\\site-packages\\sklearn\\preprocessing\\label.py:151: DeprecationWarning: The truth value of an empty array is ambiguous. Returning False, but in future this will result in an error. Use `array.size > 0` to check that an array is not empty.\n",
      "  if diff:\n"
     ]
    },
    {
     "name": "stdout",
     "output_type": "stream",
     "text": [
      "depth=  1\n",
      "log loss =  0.7705796844606706\n",
      "kappa =  0.7221025782866585\n",
      "accuracy =  0.7951147129323136\n"
     ]
    },
    {
     "name": "stderr",
     "output_type": "stream",
     "text": [
      "C:\\Anaconda3\\lib\\site-packages\\sklearn\\preprocessing\\label.py:151: DeprecationWarning: The truth value of an empty array is ambiguous. Returning False, but in future this will result in an error. Use `array.size > 0` to check that an array is not empty.\n",
      "  if diff:\n"
     ]
    },
    {
     "name": "stdout",
     "output_type": "stream",
     "text": [
      "depth=  2\n",
      "log loss =  0.7707722029271239\n",
      "kappa =  0.7218828920930072\n",
      "accuracy =  0.7950005707111061\n"
     ]
    },
    {
     "name": "stderr",
     "output_type": "stream",
     "text": [
      "C:\\Anaconda3\\lib\\site-packages\\sklearn\\preprocessing\\label.py:151: DeprecationWarning: The truth value of an empty array is ambiguous. Returning False, but in future this will result in an error. Use `array.size > 0` to check that an array is not empty.\n",
      "  if diff:\n"
     ]
    },
    {
     "name": "stdout",
     "output_type": "stream",
     "text": [
      "depth=  3\n",
      "log loss =  0.7707722029271239\n",
      "kappa =  0.7218828920930072\n",
      "accuracy =  0.7950005707111061\n",
      "depth=  4\n",
      "log loss =  0.7707722029271239\n",
      "kappa =  0.7218828920930072\n",
      "accuracy =  0.7950005707111061\n"
     ]
    },
    {
     "name": "stderr",
     "output_type": "stream",
     "text": [
      "C:\\Anaconda3\\lib\\site-packages\\sklearn\\preprocessing\\label.py:151: DeprecationWarning: The truth value of an empty array is ambiguous. Returning False, but in future this will result in an error. Use `array.size > 0` to check that an array is not empty.\n",
      "  if diff:\n"
     ]
    }
   ],
   "source": [
    "errors = []\n",
    "Lk = []\n",
    "La = []\n",
    "\n",
    "r = range(1, 5)\n",
    "\n",
    "\n",
    "for i in r:\n",
    "    xbcs = xgb.XGBClassifier(n_estimators = 17, random_state=42, learning_rate= 0.1, max_depth= i,  subsample= 0.7, \n",
    "                            n_jobs=-1)\n",
    "    xbcs.fit(train_proba11, y)\n",
    "    ll = log_loss(y_true, xbcs.predict_proba(test_proba11))\n",
    "    errors.append(ll)\n",
    "    y_pred = xbcs.predict(test_proba11)\n",
    "    k=cohen_kappa_score(y_true, y_pred)\n",
    "    a= accuracy_score(y_true, y_pred)\n",
    "    print(\"depth= \", i)\n",
    "    print(\"log loss = \", ll)\n",
    "    print(\"kappa = \", k)\n",
    "    print(\"accuracy = \", a)\n",
    "    \n",
    "    Lk.append(k)\n",
    "    La.append(a)"
   ]
  },
  {
   "cell_type": "code",
   "execution_count": 44,
   "metadata": {},
   "outputs": [
    {
     "data": {
      "image/png": "[encoded data removed]",
      "text/plain": [
       "<Figure size 432x288 with 1 Axes>"
      ]
     },
     "metadata": {},
     "output_type": "display_data"
    },
    {
     "data": {
      "image/png": "[encoded data removed]",
      "text/plain": [
       "<Figure size 432x288 with 1 Axes>"
      ]
     },
     "metadata": {},
     "output_type": "display_data"
    }
   ],
   "source": [
    "plt.plot(r, errors, label = \"log loss\")\n",
    "plt.legend(loc='lower right')\n",
    "plt.show()\n",
    "#plt.plot(r, La, label = \"accuracy\")\n",
    "plt.plot(r, Lk, label = \"kappa\")\n",
    "plt.legend(loc='lower right')\n",
    "plt.show()"
   ]
  },
  {
   "cell_type": "code",
   "execution_count": 55,
   "metadata": {
    "scrolled": true
   },
   "outputs": [
    {
     "name": "stderr",
     "output_type": "stream",
     "text": [
      "C:\\Anaconda3\\lib\\site-packages\\sklearn\\preprocessing\\label.py:151: DeprecationWarning: The truth value of an empty array is ambiguous. Returning False, but in future this will result in an error. Use `array.size > 0` to check that an array is not empty.\n",
      "  if diff:\n"
     ]
    },
    {
     "name": "stdout",
     "output_type": "stream",
     "text": [
      "subsample  0.1\n",
      "log loss =  0.7732274554888416\n",
      "kappa =  0.7191428350907432\n",
      "accuracy =  0.7930601529505764\n"
     ]
    },
    {
     "name": "stderr",
     "output_type": "stream",
     "text": [
      "C:\\Anaconda3\\lib\\site-packages\\sklearn\\preprocessing\\label.py:151: DeprecationWarning: The truth value of an empty array is ambiguous. Returning False, but in future this will result in an error. Use `array.size > 0` to check that an array is not empty.\n",
      "  if diff:\n"
     ]
    },
    {
     "name": "stdout",
     "output_type": "stream",
     "text": [
      "subsample  0.2\n",
      "log loss =  0.7707632925208744\n",
      "kappa =  0.721079840508342\n",
      "accuracy =  0.7943157173838603\n"
     ]
    },
    {
     "name": "stderr",
     "output_type": "stream",
     "text": [
      "C:\\Anaconda3\\lib\\site-packages\\sklearn\\preprocessing\\label.py:151: DeprecationWarning: The truth value of an empty array is ambiguous. Returning False, but in future this will result in an error. Use `array.size > 0` to check that an array is not empty.\n",
      "  if diff:\n"
     ]
    },
    {
     "name": "stdout",
     "output_type": "stream",
     "text": [
      "subsample  0.3\n",
      "log loss =  0.7678237629051065\n",
      "kappa =  0.7220827372996401\n",
      "accuracy =  0.7951147129323136\n"
     ]
    },
    {
     "name": "stderr",
     "output_type": "stream",
     "text": [
      "C:\\Anaconda3\\lib\\site-packages\\sklearn\\preprocessing\\label.py:151: DeprecationWarning: The truth value of an empty array is ambiguous. Returning False, but in future this will result in an error. Use `array.size > 0` to check that an array is not empty.\n",
      "  if diff:\n"
     ]
    },
    {
     "name": "stdout",
     "output_type": "stream",
     "text": [
      "subsample  0.4\n",
      "log loss =  0.768235843676694\n",
      "kappa =  0.7221159644411517\n",
      "accuracy =  0.7951147129323136\n"
     ]
    },
    {
     "name": "stderr",
     "output_type": "stream",
     "text": [
      "C:\\Anaconda3\\lib\\site-packages\\sklearn\\preprocessing\\label.py:151: DeprecationWarning: The truth value of an empty array is ambiguous. Returning False, but in future this will result in an error. Use `array.size > 0` to check that an array is not empty.\n",
      "  if diff:\n"
     ]
    },
    {
     "name": "stdout",
     "output_type": "stream",
     "text": [
      "subsample  0.5\n",
      "log loss =  0.768259534231945\n",
      "kappa =  0.7230393385583629\n",
      "accuracy =  0.7957995662595594\n"
     ]
    },
    {
     "name": "stderr",
     "output_type": "stream",
     "text": [
      "C:\\Anaconda3\\lib\\site-packages\\sklearn\\preprocessing\\label.py:151: DeprecationWarning: The truth value of an empty array is ambiguous. Returning False, but in future this will result in an error. Use `array.size > 0` to check that an array is not empty.\n",
      "  if diff:\n"
     ]
    },
    {
     "name": "stdout",
     "output_type": "stream",
     "text": [
      "subsample  0.6\n",
      "log loss =  0.7683464211390832\n",
      "kappa =  0.7216872430782806\n",
      "accuracy =  0.7947722862686908\n"
     ]
    },
    {
     "name": "stderr",
     "output_type": "stream",
     "text": [
      "C:\\Anaconda3\\lib\\site-packages\\sklearn\\preprocessing\\label.py:151: DeprecationWarning: The truth value of an empty array is ambiguous. Returning False, but in future this will result in an error. Use `array.size > 0` to check that an array is not empty.\n",
      "  if diff:\n"
     ]
    },
    {
     "name": "stdout",
     "output_type": "stream",
     "text": [
      "subsample  0.7\n",
      "log loss =  0.7707722029271239\n",
      "kappa =  0.7218828920930072\n",
      "accuracy =  0.7950005707111061\n"
     ]
    },
    {
     "name": "stderr",
     "output_type": "stream",
     "text": [
      "C:\\Anaconda3\\lib\\site-packages\\sklearn\\preprocessing\\label.py:151: DeprecationWarning: The truth value of an empty array is ambiguous. Returning False, but in future this will result in an error. Use `array.size > 0` to check that an array is not empty.\n",
      "  if diff:\n"
     ]
    },
    {
     "name": "stdout",
     "output_type": "stream",
     "text": [
      "subsample  0.8\n",
      "log loss =  0.7730607722546056\n",
      "kappa =  0.7215697103734469\n",
      "accuracy =  0.7947722862686908\n"
     ]
    },
    {
     "name": "stderr",
     "output_type": "stream",
     "text": [
      "C:\\Anaconda3\\lib\\site-packages\\sklearn\\preprocessing\\label.py:151: DeprecationWarning: The truth value of an empty array is ambiguous. Returning False, but in future this will result in an error. Use `array.size > 0` to check that an array is not empty.\n",
      "  if diff:\n"
     ]
    },
    {
     "name": "stdout",
     "output_type": "stream",
     "text": [
      "subsample  0.9\n",
      "log loss =  0.7762292236423073\n",
      "kappa =  0.7234478690403868\n",
      "accuracy =  0.7962561351443899\n",
      "subsample  1.0\n",
      "log loss =  0.7779861453709273\n",
      "kappa =  0.7192538901301873\n",
      "accuracy =  0.7932884373929917\n"
     ]
    },
    {
     "name": "stderr",
     "output_type": "stream",
     "text": [
      "C:\\Anaconda3\\lib\\site-packages\\sklearn\\preprocessing\\label.py:151: DeprecationWarning: The truth value of an empty array is ambiguous. Returning False, but in future this will result in an error. Use `array.size > 0` to check that an array is not empty.\n",
      "  if diff:\n"
     ]
    }
   ],
   "source": [
    "errors = []\n",
    "Lk = []\n",
    "La = []\n",
    "\n",
    "r = range(1, 11)\n",
    "\n",
    "\n",
    "for i in r:\n",
    "    xbcs = xgb.XGBClassifier(n_estimators = 17, random_state=42, learning_rate= 0.1, max_depth= 2,  subsample= i/10, \n",
    "                            n_jobs=-1)\n",
    "    xbcs.fit(train_proba11, y)\n",
    "    ll = log_loss(y_true, xbcs.predict_proba(test_proba11))\n",
    "    errors.append(ll)\n",
    "    y_pred = xbcs.predict(test_proba11)\n",
    "    k=cohen_kappa_score(y_true, y_pred)\n",
    "    a= accuracy_score(y_true, y_pred)\n",
    "    print(\"subsample \", i/10)\n",
    "    print(\"log loss = \", ll)\n",
    "    print(\"kappa = \", k)\n",
    "    print(\"accuracy = \", a)\n",
    "    \n",
    "    Lk.append(k)\n",
    "    La.append(a)"
   ]
  },
  {
   "cell_type": "code",
   "execution_count": 56,
   "metadata": {},
   "outputs": [
    {
     "data": {
      "image/png": "[encoded data removed]",
      "text/plain": [
       "<Figure size 432x288 with 1 Axes>"
      ]
     },
     "metadata": {},
     "output_type": "display_data"
    },
    {
     "data": {
      "image/png": "[encoded data removed]",
      "text/plain": [
       "<Figure size 432x288 with 1 Axes>"
      ]
     },
     "metadata": {},
     "output_type": "display_data"
    }
   ],
   "source": [
    "plt.plot(r, errors, label = \"log loss\")\n",
    "plt.legend(loc='lower right')\n",
    "plt.show()\n",
    "#plt.plot(r, La, label = \"accuracy\")\n",
    "plt.plot(r, Lk, label = \"kappa\")\n",
    "plt.legend(loc='lower right')\n",
    "plt.show()"
   ]
  },
  {
   "cell_type": "markdown",
   "metadata": {},
   "source": [
    "#### let's try by stacking logistic regression"
   ]
  },
  {
   "cell_type": "code",
   "execution_count": 70,
   "metadata": {},
   "outputs": [
    {
     "data": {
      "text/plain": [
       "(35059, 55)"
      ]
     },
     "execution_count": 70,
     "metadata": {},
     "output_type": "execute_result"
    }
   ],
   "source": [
    "train_proba11.shape"
   ]
  },
  {
   "cell_type": "code",
   "execution_count": 64,
   "metadata": {},
   "outputs": [],
   "source": [
    "def predwake(X, y, X_test, y_true, L=[0.001, 0.01, 0.1, 1, 10, 100]):\n",
    "    Lkappa_l1 = []\n",
    "    Lkappa_l2 = []\n",
    "    Lsparsity_l1 = []\n",
    "    Lsparsity_l2 = []\n",
    "    Lrecall_l1 = []\n",
    "    Lrecall_l2 = []\n",
    "    Lprecision_l1 = []\n",
    "    Lprecision_l2 = []\n",
    "    for C in L: \n",
    "        l1_LR = LogisticRegression(C=C, penalty='l1', tol=0.01, solver='liblinear')\n",
    "        l2_LR = LogisticRegression(C=C, penalty='l2', tol=0.01, solver='liblinear')\n",
    "        l1_LR.fit(X, y)\n",
    "        l2_LR.fit(X, y)\n",
    "        y_pred_l1 = l1_LR.predict(X_test)\n",
    "        y_pred_l2 = l2_LR.predict(X_test)\n",
    "        coef_l1_LR = l1_LR.coef_.ravel()\n",
    "        coef_l2_LR = l2_LR.coef_.ravel()\n",
    "        sparsity_l1_LR = np.mean(coef_l1_LR == 0) * 100\n",
    "        sparsity_l2_LR = np.mean(coef_l2_LR == 0) * 100\n",
    "        kappa_l1 = cohen_kappa_score(y_true, y_pred_l1)\n",
    "        kappa_l2 = cohen_kappa_score(y_true, y_pred_l2)\n",
    "        #\n",
    "        Lsparsity_l1.append(sparsity_l1_LR)\n",
    "        Lsparsity_l2.append(sparsity_l2_LR)\n",
    "\n",
    "        Lkappa_l1.append(kappa_l1)\n",
    "        Lkappa_l2.append(kappa_l2)\n",
    " \n",
    "#        notScarseCoefs = []\n",
    "#        for i in range(0, len(coef_l1_LR)):\n",
    "#            if (coef_l1_LR[i] !=0):\n",
    "#                notScarseCoefs.append(X.columns[i])\n",
    "    fig, ax = plt.subplots()\n",
    "    ax.set_title(\"Sparsity vs C for l1\")\n",
    "    ax.semilogx(L, Lsparsity_l1)\n",
    "    plt.show()\n",
    "    fig, ax = plt.subplots()\n",
    "    ax.set_title(\"Sparsity vs C for l2\")\n",
    "    ax.semilogx(L, Lsparsity_l2)\n",
    "    plt.show()\n",
    "    \n",
    "               \n",
    "    fig, ax = plt.subplots()\n",
    "    ax.set_title(\"kappa vs C for l1 (blue') and l2 (red)\")\n",
    "    ax.semilogx(L, Lkappa_l1, color= 'b')\n",
    "    #plt.legend(loc='upper right')\n",
    "    ax.semilogx(L, Lkappa_l2, color = 'r')\n",
    "    plt.show()\n",
    "    return [Lkappa_l1, Lkappa_l2]"
   ]
  },
  {
   "cell_type": "code",
   "execution_count": 65,
   "metadata": {},
   "outputs": [
    {
     "data": {
      "image/png": "[encoded data removed]",
      "text/plain": [
       "<Figure size 432x288 with 1 Axes>"
      ]
     },
     "metadata": {},
     "output_type": "display_data"
    },
    {
     "data": {
      "image/png": "[encoded data removed]",
      "text/plain": [
       "<Figure size 432x288 with 1 Axes>"
      ]
     },
     "metadata": {},
     "output_type": "display_data"
    },
    {
     "data": {
      "image/png": "[encoded data removed]",
      "text/plain": [
       "<Figure size 432x288 with 1 Axes>"
      ]
     },
     "metadata": {},
     "output_type": "display_data"
    },
    {
     "data": {
      "text/plain": [
       "[[0.7067599455682856,\n",
       "  0.7126421343449336,\n",
       "  0.7272209732384451,\n",
       "  0.7283850332087984,\n",
       "  0.7229005159334516,\n",
       "  0.725766505635072],\n",
       " [0.7231129093471624,\n",
       "  0.7292136441528991,\n",
       "  0.7250077583834457,\n",
       "  0.723084278072121,\n",
       "  0.7233016581325658,\n",
       "  0.7233062384513378]]"
      ]
     },
     "execution_count": 65,
     "metadata": {},
     "output_type": "execute_result"
    }
   ],
   "source": [
    "predwake(X, y, X_test, y_true)"
   ]
  },
  {
   "cell_type": "code",
   "execution_count": 67,
   "metadata": {},
   "outputs": [
    {
     "data": {
      "image/png": "[encoded data removed]",
      "text/plain": [
       "<Figure size 432x288 with 1 Axes>"
      ]
     },
     "metadata": {},
     "output_type": "display_data"
    }
   ],
   "source": [
    "\n",
    "#predwake(X, y, X_test, y_true)\n",
    "L = list(pd.Series(range(70, 120))/10000)\n",
    "Lkappa_l2 = []\n",
    "\n",
    "for C in L: \n",
    "    \n",
    "    l2_LR = LogisticRegression(C=C, penalty='l2', tol=0.01, solver='liblinear')\n",
    " \n",
    "    l2_LR.fit(X, y)\n",
    "    y_pred_l2 = l2_LR.predict(X_test)\n",
    "\n",
    "\n",
    "    kappa_l2 = cohen_kappa_score(y_true, y_pred_l2)\n",
    "    Lkappa_l2.append(kappa_l2)\n",
    "\n",
    "\n",
    "plt.plot(L, Lkappa_l2, label = \"kappa\")\n",
    "plt.legend(loc='lower right')\n",
    "plt.show()"
   ]
  },
  {
   "cell_type": "code",
   "execution_count": 68,
   "metadata": {},
   "outputs": [
    {
     "data": {
      "image/png": "[encoded data removed]",
      "text/plain": [
       "<Figure size 432x288 with 1 Axes>"
      ]
     },
     "metadata": {},
     "output_type": "display_data"
    }
   ],
   "source": [
    "\n",
    "plt.plot(L, Lkappa_l2, label = \"kappa\")\n",
    "plt.legend(loc='lower right')\n",
    "plt.show()"
   ]
  },
  {
   "cell_type": "code",
   "execution_count": null,
   "metadata": {},
   "outputs": [],
   "source": []
  },
  {
   "cell_type": "code",
   "execution_count": null,
   "metadata": {},
   "outputs": [],
   "source": []
  },
  {
   "cell_type": "code",
   "execution_count": 89,
   "metadata": {},
   "outputs": [
    {
     "name": "stdout",
     "output_type": "stream",
     "text": [
      "0.7295425544577583\n"
     ]
    }
   ],
   "source": [
    "l2_LR = LogisticRegression(C=0.009, penalty='l2', tol=0.01, solver='liblinear')\n",
    "l2_LR.fit(train_proba11, y)\n",
    "y_pred_l2 = l2_LR.predict(test_proba11)\n",
    "kappa_l2 = cohen_kappa_score(y_true, y_pred_l2)\n",
    "print(kappa_l2)"
   ]
  },
  {
   "cell_type": "markdown",
   "metadata": {},
   "source": [
    "# with Total energy\n",
    "Reference one 1 epoch (previous)\n",
    "- log loss =  0.7206771579062425\n",
    "- kappa =  0.6518430793293312\n",
    "- accuracy =  0.743668720054757\n",
    "\n",
    "with (summ of) total energies: a bit better than with amp but barely\n",
    "log loss =  0.7278049343346922\n",
    "kappa =  0.6525825770729099\n",
    "\n",
    "with energy by captors\n",
    "- log loss =  0.7164148313083308\n",
    "- kappa =  0.6519482657334398"
   ]
  },
  {
   "cell_type": "code",
   "execution_count": 22,
   "metadata": {},
   "outputs": [],
   "source": [
    "trainT = dfT.iloc[0:int(df.shape[0]*0.8), :]\n",
    "testT = dfT.iloc[int(df.shape[0]*0.8):, :]"
   ]
  },
  {
   "cell_type": "code",
   "execution_count": 23,
   "metadata": {},
   "outputs": [
    {
     "name": "stdout",
     "output_type": "stream",
     "text": [
      "[0 1 2 3 4]\n",
      "considering only one epoch\n",
      "log loss =  0.7164148313083308\n",
      "kappa =  0.6519482657334398\n",
      "accuracy =  0.743668720054757\n",
      "Wall time: 2min 55s\n"
     ]
    }
   ],
   "source": [
    "%%time\n",
    "errors = []\n",
    "Lk = []\n",
    "La = []\n",
    "\n",
    "X = trainT.iloc[:,:-1]\n",
    "y = trainT.iloc[:,-1]\n",
    "print(y.unique())\n",
    "X_test = testT.iloc[:,:-1]\n",
    "y_true = testT.iloc[:,-1]\n",
    "xbc = xgb.XGBClassifier(n_estimators = 170, random_state=42, learning_rate= 0.1, max_depth= 8,  subsample= 0.7, \n",
    "                        n_jobs=-2)\n",
    "xbc.fit(X, y)\n",
    "ll = log_loss(y_true, xbc.predict_proba(X_test))\n",
    "errors.append(ll)\n",
    "y_pred = xbc.predict(X_test)\n",
    "k=cohen_kappa_score(y_true, y_pred)\n",
    "a= accuracy_score(y_true, y_pred)\n",
    "print(\"considering only one epoch\")\n",
    "print(\"log loss = \", ll)\n",
    "print(\"kappa = \", k)\n",
    "print(\"accuracy = \", a)\n",
    "Lk.append(k)\n",
    "La.append(a)"
   ]
  },
  {
   "cell_type": "code",
   "execution_count": null,
   "metadata": {},
   "outputs": [],
   "source": []
  },
  {
   "cell_type": "markdown",
   "metadata": {},
   "source": [
    "# add pulse amplitude, discard \"double features"
   ]
  },
  {
   "cell_type": "code",
   "execution_count": 16,
   "metadata": {},
   "outputs": [],
   "source": [
    "trainA = dfa.iloc[0:int(df.shape[0]*0.8), :]\n",
    "testA = dfa.iloc[int(df.shape[0]*0.8):, :]"
   ]
  },
  {
   "cell_type": "code",
   "execution_count": null,
   "metadata": {},
   "outputs": [],
   "source": [
    "Reference one 1 epoch (previous)\n",
    "- log loss =  0.7206771579062425\n",
    "- kappa =  0.6518430793293312\n",
    "- accuracy =  0.743668720054757\n",
    "\n",
    "now\n",
    "- log loss =  0.7030750665966249\n",
    "- kappa =  0.6597300972384683\n",
    "- accuracy =  0.7500570385580653\n",
    "\n",
    "(tiny bit better)\n"
   ]
  },
  {
   "cell_type": "markdown",
   "metadata": {},
   "source": [
    "#### reference 1 epoch\n"
   ]
  },
  {
   "cell_type": "code",
   "execution_count": 22,
   "metadata": {},
   "outputs": [
    {
     "name": "stdout",
     "output_type": "stream",
     "text": [
      "considering only one epoch\n",
      "log loss =  0.7206771579062425\n",
      "kappa =  0.6518430793293312\n",
      "accuracy =  0.743668720054757\n"
     ]
    }
   ],
   "source": [
    "train = df.iloc[0:int(df.shape[0]*0.8), :]\n",
    "test = df.iloc[int(df.shape[0]*0.8):, :]\n",
    "errors = []\n",
    "Lk = []\n",
    "La = []\n",
    "\n",
    "X = train.iloc[:,:-1]\n",
    "y = train.iloc[:,-1]\n",
    "X_test = test.iloc[:,:-1]\n",
    "y_true = test.iloc[:,-1]\n",
    "xbc = xgb.XGBClassifier(n_estimators = 170, random_state=42, learning_rate= 0.1, max_depth= 8,  subsample= 0.7, \n",
    "                        n_jobs=-2)\n",
    "xbc.fit(X, y)\n",
    "ll = log_loss(y_true, xbc.predict_proba(X_test))\n",
    "errors.append(ll)\n",
    "y_pred = xbc.predict(X_test)\n",
    "k=cohen_kappa_score(y_true, y_pred)\n",
    "a= accuracy_score(y_true, y_pred)\n",
    "print(\"considering only one epoch\")\n",
    "print(\"log loss = \", ll)\n",
    "print(\"kappa = \", k)\n",
    "print(\"accuracy = \", a)\n",
    "Lk.append(k)\n",
    "La.append(a)"
   ]
  },
  {
   "cell_type": "markdown",
   "metadata": {},
   "source": [
    "#### with amplitude (and cleaning)\n"
   ]
  },
  {
   "cell_type": "code",
   "execution_count": 21,
   "metadata": {},
   "outputs": [
    {
     "name": "stdout",
     "output_type": "stream",
     "text": [
      "[0 1 2 3 4]\n",
      "considering only one epoch\n",
      "log loss =  0.7030750665966249\n",
      "kappa =  0.6597300972384683\n",
      "accuracy =  0.7500570385580653\n",
      "Wall time: 1min 35s\n"
     ]
    }
   ],
   "source": [
    "%%time\n",
    "errors = []\n",
    "Lk = []\n",
    "La = []\n",
    "\n",
    "X = trainA.iloc[:,:-1]\n",
    "y = trainA.iloc[:,-1]\n",
    "print(y.unique())\n",
    "X_test = testA.iloc[:,:-1]\n",
    "y_true = testA.iloc[:,-1]\n",
    "xbc = xgb.XGBClassifier(n_estimators = 170, random_state=42, learning_rate= 0.1, max_depth= 8,  subsample= 0.7, \n",
    "                        n_jobs=-2)\n",
    "xbc.fit(X, y)\n",
    "ll = log_loss(y_true, xbc.predict_proba(X_test))\n",
    "errors.append(ll)\n",
    "y_pred = xbc.predict(X_test)\n",
    "k=cohen_kappa_score(y_true, y_pred)\n",
    "a= accuracy_score(y_true, y_pred)\n",
    "print(\"considering only one epoch\")\n",
    "print(\"log loss = \", ll)\n",
    "print(\"kappa = \", k)\n",
    "print(\"accuracy = \", a)\n",
    "Lk.append(k)\n",
    "La.append(a)"
   ]
  },
  {
   "cell_type": "markdown",
   "metadata": {},
   "source": [
    "#### several epochs reference \n",
    "- 11 epoch with lambda=1: kappa =  0.7217\n",
    "- 11 epoch with lambda=5: 0.7194\n",
    "- new 11 epoch with lambda =5 - 0.7206\n",
    "- new 9 epoch with lambada=1: 0.7244\n"
   ]
  },
  {
   "cell_type": "code",
   "execution_count": 26,
   "metadata": {},
   "outputs": [
    {
     "name": "stdout",
     "output_type": "stream",
     "text": [
      "considering  3  epochs\n",
      "log loss =  0.625106504824136\n",
      "kappa =  0.7130172404415009\n",
      "accuracy =  0.7888191671420423\n",
      "considering  5  epochs\n",
      "log loss =  0.6260197659695164\n",
      "kappa =  0.7074844308459578\n",
      "accuracy =  0.7843450479233227\n",
      "considering  7  epochs\n",
      "log loss =  0.6150254507669226\n",
      "kappa =  0.7127777434512226\n",
      "accuracy =  0.7884286203355015\n",
      "considering  9  epochs\n",
      "log loss =  0.6106773297810808\n",
      "kappa =  0.7158281359413717\n",
      "accuracy =  0.7906870577493723\n",
      "considering  11  epochs\n",
      "log loss =  0.6119195220897073\n",
      "kappa =  0.7166098240246417\n",
      "accuracy =  0.7914621618536697\n",
      "Wall time: 57min 28s\n"
     ]
    }
   ],
   "source": [
    "%%time\n",
    "errors = []\n",
    "Lk = []\n",
    "La = []\n",
    "\n",
    "r = [3, 5, 7, 9, 11]\n",
    "\n",
    "for i in r:\n",
    "    train5 = reshape_n(train.iloc[:,:-1], i)\n",
    "    train5[\"Y\"]= train.iloc[:,-1]\n",
    "\n",
    "    for j in range(0, i//2):\n",
    "      train5.drop([train5.shape[0]-(i+1)], inplace=True)\n",
    "    \n",
    "    test5 = reshape_n(test.iloc[:,:-1], i)\n",
    "    test5[\"Y\"]= test.iloc[:,-1].values\n",
    "    for j in range(0, i//2):\n",
    "      test5.drop([test5.shape[0]-(i+1)], inplace=True)\n",
    "      \n",
    "    X = train5.iloc[:,:-1]\n",
    "    y = train5.iloc[:,-1]\n",
    "    X_test = test5.iloc[:,:-1]\n",
    "    y_true = test5.iloc[:,-1]\n",
    "          \n",
    "    xbc = xgb.XGBClassifier(n_estimators = 180, random_state=42, learning_rate= 0.1, max_depth= 8,  \n",
    "                            subsample= 0.7, n_jobs=-2, reg_lambda=5)\n",
    "    xbc.fit(X, y)\n",
    "    ll = log_loss(y_true, xbc.predict_proba(X_test))\n",
    "    errors.append(ll)\n",
    "    y_pred = xbc.predict(X_test)\n",
    "    k=cohen_kappa_score(y_true, y_pred)\n",
    "    a= accuracy_score(y_true, y_pred)\n",
    "    print(\"considering \", i, \" epochs\")\n",
    "    print(\"log loss = \", ll)\n",
    "    print(\"kappa = \", k)\n",
    "    print(\"accuracy = \", a)\n",
    "    Lk.append(k)\n",
    "    La.append(a)"
   ]
  },
  {
   "cell_type": "code",
   "execution_count": 27,
   "metadata": {},
   "outputs": [
    {
     "data": {
      "image/png": "[encoded data removed]",
      "text/plain": [
       "<Figure size 432x288 with 1 Axes>"
      ]
     },
     "metadata": {},
     "output_type": "display_data"
    },
    {
     "data": {
      "image/png": "[encoded data removed]",
      "text/plain": [
       "<Figure size 432x288 with 1 Axes>"
      ]
     },
     "metadata": {},
     "output_type": "display_data"
    }
   ],
   "source": [
    "plt.plot(r, errors, label = \"log loss\")\n",
    "plt.legend(loc='lower right')\n",
    "plt.show()\n",
    "#plt.plot(r, La, label = \"accuracy\")\n",
    "plt.plot(r, Lk, label = \"kappa\")\n",
    "plt.legend(loc='lower right')\n",
    "plt.show()"
   ]
  },
  {
   "cell_type": "markdown",
   "metadata": {},
   "source": [
    "#### several epoch new"
   ]
  },
  {
   "cell_type": "code",
   "execution_count": 28,
   "metadata": {},
   "outputs": [
    {
     "name": "stdout",
     "output_type": "stream",
     "text": [
      "considering  3  epochs\n",
      "log loss =  0.6147630579653146\n",
      "kappa =  0.709357663374543\n",
      "accuracy =  0.7864232743867655\n",
      "considering  5  epochs\n",
      "log loss =  0.6005434555936542\n",
      "kappa =  0.7199369444963515\n",
      "accuracy =  0.7941579187585578\n",
      "considering  7  epochs\n",
      "log loss =  0.5947664891995046\n",
      "kappa =  0.7153643991148297\n",
      "accuracy =  0.7908250599109894\n",
      "considering  9  epochs\n",
      "log loss =  0.5992194444422156\n",
      "kappa =  0.7194308610114977\n",
      "accuracy =  0.7937685459940653\n",
      "considering  11  epochs\n",
      "log loss =  0.5976736255044329\n",
      "kappa =  0.7205719918481899\n",
      "accuracy =  0.7946581440474831\n"
     ]
    }
   ],
   "source": [
    "errors = []\n",
    "Lk = []\n",
    "La = []\n",
    "r = [3, 5, 7, 9, 11]\n",
    "\n",
    "for i in r:\n",
    "    train5 = reshape_n(trainA.iloc[:,:-1], i)\n",
    "    train5[\"Y\"]= trainA.iloc[:,-1]\n",
    "\n",
    "    for j in range(0, i//2):\n",
    "      train5.drop([train5.shape[0]-(i+1)], inplace=True)\n",
    "    test5 = reshape_n(testA.iloc[:,:-1], i)\n",
    "    test5[\"Y\"]= testA.iloc[:,-1].values\n",
    "    for j in range(0, i//2):\n",
    "      test5.drop([test5.shape[0]-(i+1)], inplace=True)\n",
    "      \n",
    "    X = train5.iloc[:,:-1]\n",
    "    y = train5.iloc[:,-1]\n",
    "    X_test = test5.iloc[:,:-1]\n",
    "    y_true = test5.iloc[:,-1]\n",
    "          \n",
    "    xbc = xgb.XGBClassifier(n_estimators = 180, random_state=42, learning_rate= 0.1, max_depth= 8,  \n",
    "                            subsample= 0.7, n_jobs=-2, reg_lambda=5)\n",
    "    xbc.fit(X, y)\n",
    "    ll = log_loss(y_true, xbc.predict_proba(X_test))\n",
    "    errors.append(ll)\n",
    "    y_pred = xbc.predict(X_test)\n",
    "    k=cohen_kappa_score(y_true, y_pred)\n",
    "    a= accuracy_score(y_true, y_pred)\n",
    "    print(\"considering \", i, \" epochs\")\n",
    "    print(\"log loss = \", ll)\n",
    "    print(\"kappa = \", k)\n",
    "    print(\"accuracy = \", a)\n",
    "    Lk.append(k)\n",
    "    La.append(a)"
   ]
  },
  {
   "cell_type": "code",
   "execution_count": 29,
   "metadata": {},
   "outputs": [
    {
     "data": {
      "image/png": "[encoded data removed]",
      "text/plain": [
       "<Figure size 432x288 with 1 Axes>"
      ]
     },
     "metadata": {},
     "output_type": "display_data"
    },
    {
     "data": {
      "image/png": "[encoded data removed]",
      "text/plain": [
       "<Figure size 432x288 with 1 Axes>"
      ]
     },
     "metadata": {},
     "output_type": "display_data"
    }
   ],
   "source": [
    "plt.plot(r, errors, label = \"log loss\")\n",
    "plt.legend(loc='lower right')\n",
    "plt.show()\n",
    "#plt.plot(r, La, label = \"accuracy\")\n",
    "plt.plot(r, Lk, label = \"kappa\")\n",
    "plt.legend(loc='lower right')\n",
    "plt.show()"
   ]
  },
  {
   "cell_type": "code",
   "execution_count": null,
   "metadata": {},
   "outputs": [],
   "source": [
    "# with reg_lambda=1"
   ]
  },
  {
   "cell_type": "code",
   "execution_count": 30,
   "metadata": {},
   "outputs": [
    {
     "name": "stdout",
     "output_type": "stream",
     "text": [
      "considering  3  epochs\n",
      "log loss =  0.6336770415066371\n",
      "kappa =  0.7122504876349904\n",
      "accuracy =  0.7885909868796349\n",
      "considering  5  epochs\n",
      "log loss =  0.6186078626924212\n",
      "kappa =  0.7186811112419651\n",
      "accuracy =  0.7932450935645824\n",
      "considering  7  epochs\n",
      "log loss =  0.6165523833600806\n",
      "kappa =  0.7165183096397323\n",
      "accuracy =  0.7918521054433413\n",
      "considering  9  epochs\n",
      "log loss =  0.6082415932212178\n",
      "kappa =  0.7240512605755256\n",
      "accuracy =  0.797192421821502\n",
      "considering  11  epochs\n",
      "log loss =  0.612101512921671\n",
      "kappa =  0.7243889378239063\n",
      "accuracy =  0.7975116995776738\n"
     ]
    }
   ],
   "source": [
    "errors = []\n",
    "Lk = []\n",
    "La = []\n",
    "r = [3, 5, 7, 9, 11]\n",
    "\n",
    "for i in r:\n",
    "    train5 = reshape_n(trainA.iloc[:,:-1], i)\n",
    "    train5[\"Y\"]= trainA.iloc[:,-1]\n",
    "\n",
    "    for j in range(0, i//2):\n",
    "      train5.drop([train5.shape[0]-(i+1)], inplace=True)\n",
    "    test5 = reshape_n(testA.iloc[:,:-1], i)\n",
    "    test5[\"Y\"]= testA.iloc[:,-1].values\n",
    "    for j in range(0, i//2):\n",
    "      test5.drop([test5.shape[0]-(i+1)], inplace=True)\n",
    "      \n",
    "    X = train5.iloc[:,:-1]\n",
    "    y = train5.iloc[:,-1]\n",
    "    X_test = test5.iloc[:,:-1]\n",
    "    y_true = test5.iloc[:,-1]\n",
    "          \n",
    "    xbc = xgb.XGBClassifier(n_estimators = 180, random_state=42, learning_rate= 0.1, max_depth= 8,  \n",
    "                            subsample= 0.7, n_jobs=-2, reg_lambda=1)\n",
    "    xbc.fit(X, y)\n",
    "    ll = log_loss(y_true, xbc.predict_proba(X_test))\n",
    "    errors.append(ll)\n",
    "    y_pred = xbc.predict(X_test)\n",
    "    k=cohen_kappa_score(y_true, y_pred)\n",
    "    a= accuracy_score(y_true, y_pred)\n",
    "    print(\"considering \", i, \" epochs\")\n",
    "    print(\"log loss = \", ll)\n",
    "    print(\"kappa = \", k)\n",
    "    print(\"accuracy = \", a)\n",
    "    Lk.append(k)\n",
    "    La.append(a)"
   ]
  },
  {
   "cell_type": "code",
   "execution_count": 31,
   "metadata": {},
   "outputs": [
    {
     "data": {
      "image/png": "[encoded data removed]",
      "text/plain": [
       "<Figure size 432x288 with 1 Axes>"
      ]
     },
     "metadata": {},
     "output_type": "display_data"
    },
    {
     "data": {
      "image/png": "[encoded data removed]",
      "text/plain": [
       "<Figure size 432x288 with 1 Axes>"
      ]
     },
     "metadata": {},
     "output_type": "display_data"
    }
   ],
   "source": [
    "plt.plot(r, errors, label = \"log loss\")\n",
    "plt.legend(loc='lower right')\n",
    "plt.show()\n",
    "#plt.plot(r, La, label = \"accuracy\")\n",
    "plt.plot(r, Lk, label = \"kappa\")\n",
    "plt.legend(loc='lower right')\n",
    "plt.show()"
   ]
  },
  {
   "cell_type": "code",
   "execution_count": 40,
   "metadata": {},
   "outputs": [
    {
     "data": {
      "text/plain": [
       "Index(['Az', 'phi', 'theta', 'BPM_ir', 'IBI_ir', 'SDNN_ir', 'SDSD_ir',\n",
       "       'RMSSD_ir', 'pNN60_ir', 'pNN20_ir', 'MAD_ir', 'BPM_r', 'IBI_r',\n",
       "       'SDNN_r', 'SDSD_r', 'RMSSD_r', 'pNN60_r', 'pNN20_r', 'MAD_r',\n",
       "       'mean_eeg_1', 'std_eeg_1', 'min_eeg_1', 'max_eeg_1', '25%_eeg_1',\n",
       "       '50%_eeg_1', '75%_eeg_1', 'mean_eeg_2', 'std_eeg_2', 'min_eeg_2',\n",
       "       'max_eeg_2', '25%_eeg_2', '50%_eeg_2', '75%_eeg_2', 'mean_eeg_3',\n",
       "       'std_eeg_3', 'min_eeg_3', 'max_eeg_3', '25%_eeg_3', '50%_eeg_3',\n",
       "       '75%_eeg_3', 'mean_eeg_4', 'std_eeg_4', 'min_eeg_4', 'max_eeg_4',\n",
       "       '25%_eeg_4', '50%_eeg_4', '75%_eeg_4', 'mean_po_ir', 'std_po_ir',\n",
       "       'min_po_ir', 'max_po_ir', '25%_po_ir', '50%_po_ir', '75%_po_ir',\n",
       "       'mean_po_r', 'std_po_r', 'min_po_r', 'max_po_r', '25%_po_r', '50%_po_r',\n",
       "       '75%_po_r', 'mean_accelerometer_x', 'std_accelerometer_x',\n",
       "       'min_accelerometer_x', 'max_accelerometer_x', '25%_accelerometer_x',\n",
       "       '50%_accelerometer_x', '75%_accelerometer_x', 'mean_accelerometer_y',\n",
       "       'std_accelerometer_y', 'min_accelerometer_y', 'max_accelerometer_y',\n",
       "       '25%_accelerometer_y', '50%_accelerometer_y', '75%_accelerometer_y',\n",
       "       'mean_accelerometer_z', 'std_accelerometer_z', 'min_accelerometer_z',\n",
       "       'max_accelerometer_z', '25%_accelerometer_z', '50%_accelerometer_z',\n",
       "       '75%_accelerometer_z', 'Y'],\n",
       "      dtype='object')"
      ]
     },
     "execution_count": 40,
     "metadata": {},
     "output_type": "execute_result"
    }
   ],
   "source": [
    "train.columns[25:]"
   ]
  },
  {
   "cell_type": "code",
   "execution_count": null,
   "metadata": {},
   "outputs": [],
   "source": [
    "Clean data no amplitute"
   ]
  },
  {
   "cell_type": "code",
   "execution_count": 41,
   "metadata": {},
   "outputs": [
    {
     "name": "stdout",
     "output_type": "stream",
     "text": [
      "considering  3  epochs\n",
      "log loss =  0.6390041065635658\n",
      "kappa =  0.7103959132693519\n",
      "accuracy =  0.7869937250427838\n",
      "considering  5  epochs\n",
      "log loss =  0.6405485657640811\n",
      "kappa =  0.7108926466362556\n",
      "accuracy =  0.7870835235052488\n",
      "considering  7  epochs\n",
      "log loss =  0.6302138767445958\n",
      "kappa =  0.713299069028098\n",
      "accuracy =  0.7889992011868082\n",
      "considering  9  epochs\n",
      "log loss =  0.6376496758403423\n",
      "kappa =  0.7127432873987782\n",
      "accuracy =  0.7884044738644145\n",
      "considering  11  epochs\n",
      "log loss =  0.6218066344894694\n",
      "kappa =  0.7228695799962693\n",
      "accuracy =  0.7961419929231823\n"
     ]
    }
   ],
   "source": [
    "errors = []\n",
    "Lk = []\n",
    "La = []\n",
    "r = [3, 5, 7, 9, 11]\n",
    "\n",
    "for i in r:\n",
    "    train5 = reshape_n(train.iloc[:,:-1], i)\n",
    "    train5[\"Y\"]= train.iloc[:,-1]\n",
    "\n",
    "    for j in range(0, i//2):\n",
    "      train5.drop([train5.shape[0]-(i+1)], inplace=True)\n",
    "    test5 = reshape_n(test.iloc[:,:-1], i)\n",
    "    test5[\"Y\"]= test.iloc[:,-1].values\n",
    "    for j in range(0, i//2):\n",
    "      test5.drop([test5.shape[0]-(i+1)], inplace=True)\n",
    "      \n",
    "    X = train5.iloc[:,:-1]\n",
    "    y = train5.iloc[:,-1]\n",
    "    X_test = test5.iloc[:,:-1]\n",
    "    y_true = test5.iloc[:,-1]\n",
    "          \n",
    "    xbc = xgb.XGBClassifier(n_estimators = 180, random_state=42, learning_rate= 0.1, max_depth= 8,  \n",
    "                            subsample= 0.7, n_jobs=-2, reg_lambda=1)\n",
    "    xbc.fit(X, y)\n",
    "    ll = log_loss(y_true, xbc.predict_proba(X_test))\n",
    "    errors.append(ll)\n",
    "    y_pred = xbc.predict(X_test)\n",
    "    k=cohen_kappa_score(y_true, y_pred)\n",
    "    a= accuracy_score(y_true, y_pred)\n",
    "    print(\"considering \", i, \" epochs\")\n",
    "    print(\"log loss = \", ll)\n",
    "    print(\"kappa = \", k)\n",
    "    print(\"accuracy = \", a)\n",
    "    Lk.append(k)\n",
    "    La.append(a)"
   ]
  },
  {
   "cell_type": "code",
   "execution_count": 42,
   "metadata": {},
   "outputs": [
    {
     "data": {
      "image/png": "[encoded data removed]",
      "text/plain": [
       "<Figure size 432x288 with 1 Axes>"
      ]
     },
     "metadata": {},
     "output_type": "display_data"
    },
    {
     "data": {
      "image/png": "[encoded data removed]",
      "text/plain": [
       "<Figure size 432x288 with 1 Axes>"
      ]
     },
     "metadata": {},
     "output_type": "display_data"
    }
   ],
   "source": [
    "plt.plot(r, errors, label = \"log loss\")\n",
    "plt.legend(loc='lower right')\n",
    "plt.show()\n",
    "#plt.plot(r, La, label = \"accuracy\")\n",
    "plt.plot(r, Lk, label = \"kappa\")\n",
    "plt.legend(loc='lower right')\n",
    "plt.show()"
   ]
  },
  {
   "cell_type": "code",
   "execution_count": null,
   "metadata": {},
   "outputs": [],
   "source": []
  }
 ],
 "metadata": {
  "kernelspec": {
   "display_name": "Python 3",
   "language": "python",
   "name": "python3"
  },
  "language_info": {
   "codemirror_mode": {
    "name": "ipython",
    "version": 3
   },
   "file_extension": ".py",
   "mimetype": "text/x-python",
   "name": "python",
   "nbconvert_exporter": "python",
   "pygments_lexer": "ipython3",
   "version": "3.6.6"
  }
 },
 "nbformat": 4,
 "nbformat_minor": 2
}
