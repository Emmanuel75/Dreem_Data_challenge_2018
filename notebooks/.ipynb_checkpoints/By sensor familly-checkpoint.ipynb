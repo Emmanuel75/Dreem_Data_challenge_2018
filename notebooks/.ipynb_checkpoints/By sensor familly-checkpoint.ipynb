{
 "cells": [
  {
   "cell_type": "code",
   "execution_count": 1,
   "metadata": {},
   "outputs": [],
   "source": [
    "import pandas as pd\n",
    "import numpy as np\n",
    "#from plotnine import *\n",
    "from sklearn.decomposition import PCA\n",
    "from sklearn.cluster import KMeans\n",
    "from sklearn.metrics import accuracy_score\n",
    "from sklearn.linear_model import LogisticRegression\n",
    "from sklearn.metrics import confusion_matrix\n",
    "from sklearn.metrics import precision_score, recall_score\n",
    "from sklearn.metrics import cohen_kappa_score\n",
    "from sklearn import preprocessing\n",
    "from sklearn.preprocessing import StandardScaler\n",
    "from sklearn.preprocessing import PolynomialFeatures\n",
    "from sklearn.model_selection import train_test_split\n",
    "from sklearn.svm import LinearSVC\n",
    "from sklearn.svm import SVC\n",
    "from sklearn.tree import DecisionTreeClassifier\n",
    "from sklearn.tree import export_graphviz\n",
    "from sklearn.ensemble import BaggingClassifier\n",
    "from sklearn.tree import DecisionTreeClassifier\n",
    "from sklearn.ensemble import RandomForestClassifier\n",
    "from sklearn.model_selection import GridSearchCV\n",
    "from sklearn.metrics import make_scorer\n",
    "from sklearn.ensemble import GradientBoostingClassifier\n",
    "from sklearn.metrics import log_loss\n",
    "    \n",
    "import statsmodels.api as sm\n",
    "import itertools\n",
    "\n",
    "from scipy.stats import mode\n",
    "\n",
    "import random\n",
    " \n",
    "import matplotlib.pyplot as plt\n",
    "plt.style.use('classic')\n",
    "%matplotlib inline\n",
    "import seaborn as sns\n",
    "sns.set()\n",
    "import xgboost as xgb"
   ]
  },
  {
   "cell_type": "code",
   "execution_count": 2,
   "metadata": {},
   "outputs": [],
   "source": [
    "naif = pd.read_excel('C:\\\\Users\\\\i053131\\\\Desktop\\\\Epilepsie\\\\Dreem\\\\data\\\\interim\\\\featuresTrain.xlsx')"
   ]
  },
  {
   "cell_type": "code",
   "execution_count": 11,
   "metadata": {},
   "outputs": [],
   "source": [
    "eeg = pd.read_excel('C:\\\\Users\\\\i053131\\\\Desktop\\\\Epilepsie\\\\Dreem\\\\data\\\\interim\\\\spectrogram_eeg_features30Train.xlsx')\n",
    "acc = pd.read_excel('C:\\\\Users\\\\i053131\\\\Desktop\\\\Epilepsie\\\\Dreem\\\\data\\\\interim\\\\acc_featuresTrain.xlsx')\n",
    "pulse = pd.read_csv('C:\\\\Users\\\\i053131\\\\Desktop\\\\Epilepsie\\\\Dreem\\\\data\\\\interim\\\\pulse_featuresTrain.csv')\n",
    "                    "
   ]
  },
  {
   "cell_type": "code",
   "execution_count": 12,
   "metadata": {},
   "outputs": [],
   "source": [
    "pulse = pulse.iloc[:, 1:]\n"
   ]
  },
  {
   "cell_type": "code",
   "execution_count": 13,
   "metadata": {},
   "outputs": [
    {
     "data": {
      "text/plain": [
       "Index(['BPM_ir', 'IBI_ir', 'SDNN_ir', 'SDSD_ir', 'RMSSD_ir', 'pNN60_ir',\n",
       "       'pNN20_ir', 'MAD_ir', 'BPMlessthan30_ir', 'max_ir', 'min_ir', 'BPM_r',\n",
       "       'IBI_r', 'SDNN_r', 'SDSD_r', 'RMSSD_r', 'pNN60_r', 'pNN20_r', 'MAD_r',\n",
       "       'BPMlessthan30_r', 'max_r', 'min_r'],\n",
       "      dtype='object')"
      ]
     },
     "execution_count": 13,
     "metadata": {},
     "output_type": "execute_result"
    }
   ],
   "source": [
    "pulse.columns"
   ]
  },
  {
   "cell_type": "markdown",
   "metadata": {},
   "source": [
    "Frequency aboive 100Hz are always null, we don't need the columns"
   ]
  },
  {
   "cell_type": "code",
   "execution_count": 14,
   "metadata": {},
   "outputs": [],
   "source": [
    "eeg.drop(columns=[\"eeg1_Above100Hz0\", \"eeg2_Above100Hz0\", \"eeg3_Above100Hz0\", \"eeg4_Above100Hz0\"], inplace=True)"
   ]
  },
  {
   "cell_type": "code",
   "execution_count": 7,
   "metadata": {},
   "outputs": [],
   "source": [
    "df = pd.concat([eeg, acc, pulse, naif], axis=1)\n"
   ]
  },
  {
   "cell_type": "code",
   "execution_count": 26,
   "metadata": {},
   "outputs": [],
   "source": [
    "#training, test = np.split(df.sample(frac=1, random_state=42), [int(.8*len(df))])\n",
    "\n",
    "training, test  = train_test_split(df, test_size=0.2, random_state=42)\n",
    "X = training.iloc[:,:-1]\n",
    "y = training.iloc[:,-1]\n",
    "X_test = test.iloc[:,:-1]\n",
    "y_true = test.iloc[:,-1]"
   ]
  },
  {
   "cell_type": "markdown",
   "metadata": {},
   "source": [
    "Subdatat set:\n",
    "    - naif\n",
    "    - all but"
   ]
  },
  {
   "cell_type": "code",
   "execution_count": 9,
   "metadata": {},
   "outputs": [
    {
     "data": {
      "text/plain": [
       "Index(['mean_eeg_1', 'std_eeg_1', 'min_eeg_1', 'max_eeg_1', '25%_eeg_1',\n",
       "       '50%_eeg_1', '75%_eeg_1', 'mean_eeg_2', 'std_eeg_2', 'min_eeg_2',\n",
       "       'max_eeg_2', '25%_eeg_2', '50%_eeg_2', '75%_eeg_2', 'mean_eeg_3',\n",
       "       'std_eeg_3', 'min_eeg_3', 'max_eeg_3', '25%_eeg_3', '50%_eeg_3',\n",
       "       '75%_eeg_3', 'mean_eeg_4', 'std_eeg_4', 'min_eeg_4', 'max_eeg_4',\n",
       "       '25%_eeg_4', '50%_eeg_4', '75%_eeg_4', 'mean_po_ir', 'std_po_ir',\n",
       "       'min_po_ir', 'max_po_ir', '25%_po_ir', '50%_po_ir', '75%_po_ir',\n",
       "       'mean_po_r', 'std_po_r', 'min_po_r', 'max_po_r', '25%_po_r', '50%_po_r',\n",
       "       '75%_po_r', 'mean_accelerometer_x', 'std_accelerometer_x',\n",
       "       'min_accelerometer_x', 'max_accelerometer_x', '25%_accelerometer_x',\n",
       "       '50%_accelerometer_x', '75%_accelerometer_x', 'mean_accelerometer_y',\n",
       "       'std_accelerometer_y', 'min_accelerometer_y', 'max_accelerometer_y',\n",
       "       '25%_accelerometer_y', '50%_accelerometer_y', '75%_accelerometer_y',\n",
       "       'mean_accelerometer_z', 'std_accelerometer_z', 'min_accelerometer_z',\n",
       "       'max_accelerometer_z', '25%_accelerometer_z', '50%_accelerometer_z',\n",
       "       '75%_accelerometer_z'],\n",
       "      dtype='object')"
      ]
     },
     "execution_count": 9,
     "metadata": {},
     "output_type": "execute_result"
    }
   ],
   "source": [
    "naif.columns[:-1]"
   ]
  },
  {
   "cell_type": "code",
   "execution_count": 10,
   "metadata": {},
   "outputs": [
    {
     "data": {
      "text/html": [
       "<div>\n",
       "<style scoped>\n",
       "    .dataframe tbody tr th:only-of-type {\n",
       "        vertical-align: middle;\n",
       "    }\n",
       "\n",
       "    .dataframe tbody tr th {\n",
       "        vertical-align: top;\n",
       "    }\n",
       "\n",
       "    .dataframe thead th {\n",
       "        text-align: right;\n",
       "    }\n",
       "</style>\n",
       "<table border=\"1\" class=\"dataframe\">\n",
       "  <thead>\n",
       "    <tr style=\"text-align: right;\">\n",
       "      <th></th>\n",
       "      <th>eeg1_Delta0</th>\n",
       "      <th>eeg1_Theta0</th>\n",
       "      <th>eeg1_Alpha0</th>\n",
       "      <th>eeg1_Beta0</th>\n",
       "      <th>eeg1_Gamma0</th>\n",
       "      <th>eeg2_Delta0</th>\n",
       "      <th>eeg2_Theta0</th>\n",
       "      <th>eeg2_Alpha0</th>\n",
       "      <th>eeg2_Beta0</th>\n",
       "      <th>eeg2_Gamma0</th>\n",
       "      <th>...</th>\n",
       "      <th>IBI_r</th>\n",
       "      <th>SDNN_r</th>\n",
       "      <th>SDSD_r</th>\n",
       "      <th>RMSSD_r</th>\n",
       "      <th>pNN60_r</th>\n",
       "      <th>pNN20_r</th>\n",
       "      <th>MAD_r</th>\n",
       "      <th>BPMlessthan30_r</th>\n",
       "      <th>max_r</th>\n",
       "      <th>min_r</th>\n",
       "    </tr>\n",
       "  </thead>\n",
       "  <tbody>\n",
       "    <tr>\n",
       "      <th>39162</th>\n",
       "      <td>40285.462396</td>\n",
       "      <td>1376.071709</td>\n",
       "      <td>1114.581833</td>\n",
       "      <td>137.578679</td>\n",
       "      <td>2.901573</td>\n",
       "      <td>246917.227412</td>\n",
       "      <td>2446.880773</td>\n",
       "      <td>1343.974868</td>\n",
       "      <td>132.810575</td>\n",
       "      <td>2.412203</td>\n",
       "      <td>...</td>\n",
       "      <td>0.937500</td>\n",
       "      <td>0.176711</td>\n",
       "      <td>0.310616</td>\n",
       "      <td>0.305396</td>\n",
       "      <td>0.419355</td>\n",
       "      <td>0.483871</td>\n",
       "      <td>5.0</td>\n",
       "      <td>0</td>\n",
       "      <td>71.218035</td>\n",
       "      <td>-110.005374</td>\n",
       "    </tr>\n",
       "    <tr>\n",
       "      <th>34834</th>\n",
       "      <td>205390.070310</td>\n",
       "      <td>2649.082458</td>\n",
       "      <td>1252.175258</td>\n",
       "      <td>182.217804</td>\n",
       "      <td>5.340327</td>\n",
       "      <td>16265.726082</td>\n",
       "      <td>1137.623889</td>\n",
       "      <td>560.823366</td>\n",
       "      <td>54.533571</td>\n",
       "      <td>2.211999</td>\n",
       "      <td>...</td>\n",
       "      <td>1.363636</td>\n",
       "      <td>0.311292</td>\n",
       "      <td>0.504906</td>\n",
       "      <td>0.492382</td>\n",
       "      <td>0.380952</td>\n",
       "      <td>0.428571</td>\n",
       "      <td>12.0</td>\n",
       "      <td>0</td>\n",
       "      <td>18.646024</td>\n",
       "      <td>-19.200908</td>\n",
       "    </tr>\n",
       "    <tr>\n",
       "      <th>17202</th>\n",
       "      <td>12961.803378</td>\n",
       "      <td>1026.339084</td>\n",
       "      <td>903.627232</td>\n",
       "      <td>37.154247</td>\n",
       "      <td>1.771569</td>\n",
       "      <td>14314.985743</td>\n",
       "      <td>1198.944991</td>\n",
       "      <td>835.142443</td>\n",
       "      <td>44.100467</td>\n",
       "      <td>2.289774</td>\n",
       "      <td>...</td>\n",
       "      <td>1.304348</td>\n",
       "      <td>0.121206</td>\n",
       "      <td>0.182746</td>\n",
       "      <td>0.178406</td>\n",
       "      <td>0.318182</td>\n",
       "      <td>0.454545</td>\n",
       "      <td>3.5</td>\n",
       "      <td>0</td>\n",
       "      <td>55.690834</td>\n",
       "      <td>-71.053743</td>\n",
       "    </tr>\n",
       "    <tr>\n",
       "      <th>36243</th>\n",
       "      <td>5602.535253</td>\n",
       "      <td>856.704209</td>\n",
       "      <td>326.675211</td>\n",
       "      <td>41.474327</td>\n",
       "      <td>2.707766</td>\n",
       "      <td>3071.472483</td>\n",
       "      <td>748.025161</td>\n",
       "      <td>252.729224</td>\n",
       "      <td>44.531423</td>\n",
       "      <td>3.007998</td>\n",
       "      <td>...</td>\n",
       "      <td>0.857143</td>\n",
       "      <td>0.348894</td>\n",
       "      <td>0.508355</td>\n",
       "      <td>0.500993</td>\n",
       "      <td>0.411765</td>\n",
       "      <td>0.441176</td>\n",
       "      <td>11.5</td>\n",
       "      <td>0</td>\n",
       "      <td>11.227485</td>\n",
       "      <td>-14.936124</td>\n",
       "    </tr>\n",
       "    <tr>\n",
       "      <th>30406</th>\n",
       "      <td>4973.910829</td>\n",
       "      <td>773.885084</td>\n",
       "      <td>453.880167</td>\n",
       "      <td>95.534723</td>\n",
       "      <td>3.177433</td>\n",
       "      <td>4005.175378</td>\n",
       "      <td>757.357239</td>\n",
       "      <td>379.179166</td>\n",
       "      <td>85.365137</td>\n",
       "      <td>2.868846</td>\n",
       "      <td>...</td>\n",
       "      <td>1.000000</td>\n",
       "      <td>0.094577</td>\n",
       "      <td>0.110267</td>\n",
       "      <td>0.108364</td>\n",
       "      <td>0.137931</td>\n",
       "      <td>0.206897</td>\n",
       "      <td>2.0</td>\n",
       "      <td>0</td>\n",
       "      <td>100.155542</td>\n",
       "      <td>-178.603391</td>\n",
       "    </tr>\n",
       "  </tbody>\n",
       "</table>\n",
       "<p>5 rows × 50 columns</p>\n",
       "</div>"
      ],
      "text/plain": [
       "         eeg1_Delta0  eeg1_Theta0  eeg1_Alpha0  eeg1_Beta0  eeg1_Gamma0  \\\n",
       "39162   40285.462396  1376.071709  1114.581833  137.578679     2.901573   \n",
       "34834  205390.070310  2649.082458  1252.175258  182.217804     5.340327   \n",
       "17202   12961.803378  1026.339084   903.627232   37.154247     1.771569   \n",
       "36243    5602.535253   856.704209   326.675211   41.474327     2.707766   \n",
       "30406    4973.910829   773.885084   453.880167   95.534723     3.177433   \n",
       "\n",
       "         eeg2_Delta0  eeg2_Theta0  eeg2_Alpha0  eeg2_Beta0  eeg2_Gamma0  \\\n",
       "39162  246917.227412  2446.880773  1343.974868  132.810575     2.412203   \n",
       "34834   16265.726082  1137.623889   560.823366   54.533571     2.211999   \n",
       "17202   14314.985743  1198.944991   835.142443   44.100467     2.289774   \n",
       "36243    3071.472483   748.025161   252.729224   44.531423     3.007998   \n",
       "30406    4005.175378   757.357239   379.179166   85.365137     2.868846   \n",
       "\n",
       "          ...         IBI_r    SDNN_r    SDSD_r   RMSSD_r   pNN60_r   pNN20_r  \\\n",
       "39162     ...      0.937500  0.176711  0.310616  0.305396  0.419355  0.483871   \n",
       "34834     ...      1.363636  0.311292  0.504906  0.492382  0.380952  0.428571   \n",
       "17202     ...      1.304348  0.121206  0.182746  0.178406  0.318182  0.454545   \n",
       "36243     ...      0.857143  0.348894  0.508355  0.500993  0.411765  0.441176   \n",
       "30406     ...      1.000000  0.094577  0.110267  0.108364  0.137931  0.206897   \n",
       "\n",
       "       MAD_r  BPMlessthan30_r       max_r       min_r  \n",
       "39162    5.0                0   71.218035 -110.005374  \n",
       "34834   12.0                0   18.646024  -19.200908  \n",
       "17202    3.5                0   55.690834  -71.053743  \n",
       "36243   11.5                0   11.227485  -14.936124  \n",
       "30406    2.0                0  100.155542 -178.603391  \n",
       "\n",
       "[5 rows x 50 columns]"
      ]
     },
     "execution_count": 10,
     "metadata": {},
     "output_type": "execute_result"
    }
   ],
   "source": [
    "Xbaseline = X.drop(columns=naif.columns[:-1], inplace=False)\n",
    "X_testbaseline = X_test.drop(columns=naif.columns[:-1], inplace=False)\n",
    "\n",
    "Xbaseline.head()\n",
    "\n"
   ]
  },
  {
   "cell_type": "code",
   "execution_count": 11,
   "metadata": {},
   "outputs": [
    {
     "data": {
      "text/html": [
       "<div>\n",
       "<style scoped>\n",
       "    .dataframe tbody tr th:only-of-type {\n",
       "        vertical-align: middle;\n",
       "    }\n",
       "\n",
       "    .dataframe tbody tr th {\n",
       "        vertical-align: top;\n",
       "    }\n",
       "\n",
       "    .dataframe thead th {\n",
       "        text-align: right;\n",
       "    }\n",
       "</style>\n",
       "<table border=\"1\" class=\"dataframe\">\n",
       "  <thead>\n",
       "    <tr style=\"text-align: right;\">\n",
       "      <th></th>\n",
       "      <th>mean_eeg_1</th>\n",
       "      <th>std_eeg_1</th>\n",
       "      <th>min_eeg_1</th>\n",
       "      <th>max_eeg_1</th>\n",
       "      <th>25%_eeg_1</th>\n",
       "      <th>50%_eeg_1</th>\n",
       "      <th>75%_eeg_1</th>\n",
       "      <th>mean_eeg_2</th>\n",
       "      <th>std_eeg_2</th>\n",
       "      <th>min_eeg_2</th>\n",
       "      <th>...</th>\n",
       "      <th>25%_accelerometer_y</th>\n",
       "      <th>50%_accelerometer_y</th>\n",
       "      <th>75%_accelerometer_y</th>\n",
       "      <th>mean_accelerometer_z</th>\n",
       "      <th>std_accelerometer_z</th>\n",
       "      <th>min_accelerometer_z</th>\n",
       "      <th>max_accelerometer_z</th>\n",
       "      <th>25%_accelerometer_z</th>\n",
       "      <th>50%_accelerometer_z</th>\n",
       "      <th>75%_accelerometer_z</th>\n",
       "    </tr>\n",
       "  </thead>\n",
       "  <tbody>\n",
       "    <tr>\n",
       "      <th>39162</th>\n",
       "      <td>0.076835</td>\n",
       "      <td>32.417446</td>\n",
       "      <td>-122.286140</td>\n",
       "      <td>149.046906</td>\n",
       "      <td>-18.086931</td>\n",
       "      <td>-0.108086</td>\n",
       "      <td>15.207180</td>\n",
       "      <td>0.335526</td>\n",
       "      <td>76.267288</td>\n",
       "      <td>-326.762573</td>\n",
       "      <td>...</td>\n",
       "      <td>-0.000286</td>\n",
       "      <td>0.000083</td>\n",
       "      <td>0.000317</td>\n",
       "      <td>0.000020</td>\n",
       "      <td>0.001472</td>\n",
       "      <td>-0.002662</td>\n",
       "      <td>0.002513</td>\n",
       "      <td>-0.001274</td>\n",
       "      <td>-0.000031</td>\n",
       "      <td>0.001405</td>\n",
       "    </tr>\n",
       "    <tr>\n",
       "      <th>34834</th>\n",
       "      <td>-6.126316</td>\n",
       "      <td>134.654724</td>\n",
       "      <td>-660.703552</td>\n",
       "      <td>300.267548</td>\n",
       "      <td>-39.717262</td>\n",
       "      <td>9.099180</td>\n",
       "      <td>58.278394</td>\n",
       "      <td>-0.211475</td>\n",
       "      <td>26.672749</td>\n",
       "      <td>-169.483994</td>\n",
       "      <td>...</td>\n",
       "      <td>-0.000437</td>\n",
       "      <td>-0.000024</td>\n",
       "      <td>0.000504</td>\n",
       "      <td>0.000061</td>\n",
       "      <td>0.001281</td>\n",
       "      <td>-0.002203</td>\n",
       "      <td>0.002485</td>\n",
       "      <td>-0.001130</td>\n",
       "      <td>-0.000109</td>\n",
       "      <td>0.001208</td>\n",
       "    </tr>\n",
       "    <tr>\n",
       "      <th>17202</th>\n",
       "      <td>-0.349705</td>\n",
       "      <td>25.052259</td>\n",
       "      <td>-84.417496</td>\n",
       "      <td>153.223053</td>\n",
       "      <td>-14.338790</td>\n",
       "      <td>-1.384574</td>\n",
       "      <td>13.177164</td>\n",
       "      <td>-0.276397</td>\n",
       "      <td>26.579996</td>\n",
       "      <td>-102.332413</td>\n",
       "      <td>...</td>\n",
       "      <td>-0.000734</td>\n",
       "      <td>-0.000177</td>\n",
       "      <td>0.000795</td>\n",
       "      <td>0.000010</td>\n",
       "      <td>0.000681</td>\n",
       "      <td>-0.001053</td>\n",
       "      <td>0.001583</td>\n",
       "      <td>-0.000548</td>\n",
       "      <td>-0.000222</td>\n",
       "      <td>0.000600</td>\n",
       "    </tr>\n",
       "    <tr>\n",
       "      <th>36243</th>\n",
       "      <td>-0.222517</td>\n",
       "      <td>16.483498</td>\n",
       "      <td>-79.448227</td>\n",
       "      <td>76.587830</td>\n",
       "      <td>-9.949595</td>\n",
       "      <td>-0.629870</td>\n",
       "      <td>9.327966</td>\n",
       "      <td>-0.099979</td>\n",
       "      <td>11.868994</td>\n",
       "      <td>-59.959675</td>\n",
       "      <td>...</td>\n",
       "      <td>-0.000113</td>\n",
       "      <td>-0.000024</td>\n",
       "      <td>0.000104</td>\n",
       "      <td>0.000018</td>\n",
       "      <td>0.000251</td>\n",
       "      <td>-0.000602</td>\n",
       "      <td>0.000529</td>\n",
       "      <td>-0.000180</td>\n",
       "      <td>0.000038</td>\n",
       "      <td>0.000215</td>\n",
       "    </tr>\n",
       "    <tr>\n",
       "      <th>30406</th>\n",
       "      <td>-0.383686</td>\n",
       "      <td>17.262428</td>\n",
       "      <td>-63.992603</td>\n",
       "      <td>54.792847</td>\n",
       "      <td>-11.618362</td>\n",
       "      <td>-0.827503</td>\n",
       "      <td>11.180586</td>\n",
       "      <td>-0.564495</td>\n",
       "      <td>16.451038</td>\n",
       "      <td>-65.157051</td>\n",
       "      <td>...</td>\n",
       "      <td>-0.000343</td>\n",
       "      <td>0.000026</td>\n",
       "      <td>0.000271</td>\n",
       "      <td>-0.000049</td>\n",
       "      <td>0.000765</td>\n",
       "      <td>-0.001497</td>\n",
       "      <td>0.001075</td>\n",
       "      <td>-0.000807</td>\n",
       "      <td>0.000168</td>\n",
       "      <td>0.000620</td>\n",
       "    </tr>\n",
       "  </tbody>\n",
       "</table>\n",
       "<p>5 rows × 63 columns</p>\n",
       "</div>"
      ],
      "text/plain": [
       "       mean_eeg_1   std_eeg_1   min_eeg_1   max_eeg_1  25%_eeg_1  50%_eeg_1  \\\n",
       "39162    0.076835   32.417446 -122.286140  149.046906 -18.086931  -0.108086   \n",
       "34834   -6.126316  134.654724 -660.703552  300.267548 -39.717262   9.099180   \n",
       "17202   -0.349705   25.052259  -84.417496  153.223053 -14.338790  -1.384574   \n",
       "36243   -0.222517   16.483498  -79.448227   76.587830  -9.949595  -0.629870   \n",
       "30406   -0.383686   17.262428  -63.992603   54.792847 -11.618362  -0.827503   \n",
       "\n",
       "       75%_eeg_1  mean_eeg_2  std_eeg_2   min_eeg_2         ...           \\\n",
       "39162  15.207180    0.335526  76.267288 -326.762573         ...            \n",
       "34834  58.278394   -0.211475  26.672749 -169.483994         ...            \n",
       "17202  13.177164   -0.276397  26.579996 -102.332413         ...            \n",
       "36243   9.327966   -0.099979  11.868994  -59.959675         ...            \n",
       "30406  11.180586   -0.564495  16.451038  -65.157051         ...            \n",
       "\n",
       "       25%_accelerometer_y  50%_accelerometer_y  75%_accelerometer_y  \\\n",
       "39162            -0.000286             0.000083             0.000317   \n",
       "34834            -0.000437            -0.000024             0.000504   \n",
       "17202            -0.000734            -0.000177             0.000795   \n",
       "36243            -0.000113            -0.000024             0.000104   \n",
       "30406            -0.000343             0.000026             0.000271   \n",
       "\n",
       "       mean_accelerometer_z  std_accelerometer_z  min_accelerometer_z  \\\n",
       "39162              0.000020             0.001472            -0.002662   \n",
       "34834              0.000061             0.001281            -0.002203   \n",
       "17202              0.000010             0.000681            -0.001053   \n",
       "36243              0.000018             0.000251            -0.000602   \n",
       "30406             -0.000049             0.000765            -0.001497   \n",
       "\n",
       "       max_accelerometer_z  25%_accelerometer_z  50%_accelerometer_z  \\\n",
       "39162             0.002513            -0.001274            -0.000031   \n",
       "34834             0.002485            -0.001130            -0.000109   \n",
       "17202             0.001583            -0.000548            -0.000222   \n",
       "36243             0.000529            -0.000180             0.000038   \n",
       "30406             0.001075            -0.000807             0.000168   \n",
       "\n",
       "       75%_accelerometer_z  \n",
       "39162             0.001405  \n",
       "34834             0.001208  \n",
       "17202             0.000600  \n",
       "36243             0.000215  \n",
       "30406             0.000620  \n",
       "\n",
       "[5 rows x 63 columns]"
      ]
     },
     "execution_count": 11,
     "metadata": {},
     "output_type": "execute_result"
    }
   ],
   "source": [
    "L= list(eeg.columns) + list(acc.columns) + list(pulse.columns)#eeg.columns + acc.columns + pulse.columns\n",
    "Xnaif = X.drop(columns=L, inplace=False)\n",
    "X_testnaif = X_test.drop(columns=L, inplace=False)\n",
    "\n",
    "Xnaif.head()"
   ]
  },
  {
   "cell_type": "code",
   "execution_count": 12,
   "metadata": {},
   "outputs": [
    {
     "data": {
      "text/html": [
       "<div>\n",
       "<style scoped>\n",
       "    .dataframe tbody tr th:only-of-type {\n",
       "        vertical-align: middle;\n",
       "    }\n",
       "\n",
       "    .dataframe tbody tr th {\n",
       "        vertical-align: top;\n",
       "    }\n",
       "\n",
       "    .dataframe thead th {\n",
       "        text-align: right;\n",
       "    }\n",
       "</style>\n",
       "<table border=\"1\" class=\"dataframe\">\n",
       "  <thead>\n",
       "    <tr style=\"text-align: right;\">\n",
       "      <th></th>\n",
       "      <th>eeg1_Delta0</th>\n",
       "      <th>eeg1_Theta0</th>\n",
       "      <th>eeg1_Alpha0</th>\n",
       "      <th>eeg1_Beta0</th>\n",
       "      <th>eeg1_Gamma0</th>\n",
       "      <th>eeg2_Delta0</th>\n",
       "      <th>eeg2_Theta0</th>\n",
       "      <th>eeg2_Alpha0</th>\n",
       "      <th>eeg2_Beta0</th>\n",
       "      <th>eeg2_Gamma0</th>\n",
       "      <th>eeg3_Delta0</th>\n",
       "      <th>eeg3_Theta0</th>\n",
       "      <th>eeg3_Alpha0</th>\n",
       "      <th>eeg3_Beta0</th>\n",
       "      <th>eeg3_Gamma0</th>\n",
       "      <th>eeg4_Delta0</th>\n",
       "      <th>eeg4_Theta0</th>\n",
       "      <th>eeg4_Alpha0</th>\n",
       "      <th>eeg4_Beta0</th>\n",
       "      <th>eeg4_Gamma0</th>\n",
       "    </tr>\n",
       "  </thead>\n",
       "  <tbody>\n",
       "    <tr>\n",
       "      <th>39162</th>\n",
       "      <td>40285.462396</td>\n",
       "      <td>1376.071709</td>\n",
       "      <td>1114.581833</td>\n",
       "      <td>137.578679</td>\n",
       "      <td>2.901573</td>\n",
       "      <td>246917.227412</td>\n",
       "      <td>2446.880773</td>\n",
       "      <td>1343.974868</td>\n",
       "      <td>132.810575</td>\n",
       "      <td>2.412203</td>\n",
       "      <td>8.687111e+06</td>\n",
       "      <td>100978.937696</td>\n",
       "      <td>12210.653861</td>\n",
       "      <td>466.162738</td>\n",
       "      <td>23.904798</td>\n",
       "      <td>8.831180e+06</td>\n",
       "      <td>100419.925543</td>\n",
       "      <td>12022.809355</td>\n",
       "      <td>472.082584</td>\n",
       "      <td>23.880356</td>\n",
       "    </tr>\n",
       "    <tr>\n",
       "      <th>34834</th>\n",
       "      <td>205390.070310</td>\n",
       "      <td>2649.082458</td>\n",
       "      <td>1252.175258</td>\n",
       "      <td>182.217804</td>\n",
       "      <td>5.340327</td>\n",
       "      <td>16265.726082</td>\n",
       "      <td>1137.623889</td>\n",
       "      <td>560.823366</td>\n",
       "      <td>54.533571</td>\n",
       "      <td>2.211999</td>\n",
       "      <td>7.628987e+03</td>\n",
       "      <td>129.792270</td>\n",
       "      <td>62.552174</td>\n",
       "      <td>14.989770</td>\n",
       "      <td>1.167515</td>\n",
       "      <td>1.319090e+04</td>\n",
       "      <td>208.417650</td>\n",
       "      <td>106.498447</td>\n",
       "      <td>18.938689</td>\n",
       "      <td>1.013795</td>\n",
       "    </tr>\n",
       "    <tr>\n",
       "      <th>17202</th>\n",
       "      <td>12961.803378</td>\n",
       "      <td>1026.339084</td>\n",
       "      <td>903.627232</td>\n",
       "      <td>37.154247</td>\n",
       "      <td>1.771569</td>\n",
       "      <td>14314.985743</td>\n",
       "      <td>1198.944991</td>\n",
       "      <td>835.142443</td>\n",
       "      <td>44.100467</td>\n",
       "      <td>2.289774</td>\n",
       "      <td>2.333306e+03</td>\n",
       "      <td>518.779139</td>\n",
       "      <td>197.356443</td>\n",
       "      <td>50.518748</td>\n",
       "      <td>2.493520</td>\n",
       "      <td>4.313846e+03</td>\n",
       "      <td>565.448439</td>\n",
       "      <td>260.640598</td>\n",
       "      <td>48.282600</td>\n",
       "      <td>3.145496</td>\n",
       "    </tr>\n",
       "    <tr>\n",
       "      <th>36243</th>\n",
       "      <td>5602.535253</td>\n",
       "      <td>856.704209</td>\n",
       "      <td>326.675211</td>\n",
       "      <td>41.474327</td>\n",
       "      <td>2.707766</td>\n",
       "      <td>3071.472483</td>\n",
       "      <td>748.025161</td>\n",
       "      <td>252.729224</td>\n",
       "      <td>44.531423</td>\n",
       "      <td>3.007998</td>\n",
       "      <td>1.512680e+04</td>\n",
       "      <td>1580.204819</td>\n",
       "      <td>784.473041</td>\n",
       "      <td>153.459829</td>\n",
       "      <td>13.318023</td>\n",
       "      <td>1.547022e+04</td>\n",
       "      <td>1811.189013</td>\n",
       "      <td>772.422733</td>\n",
       "      <td>173.181795</td>\n",
       "      <td>13.493971</td>\n",
       "    </tr>\n",
       "    <tr>\n",
       "      <th>30406</th>\n",
       "      <td>4973.910829</td>\n",
       "      <td>773.885084</td>\n",
       "      <td>453.880167</td>\n",
       "      <td>95.534723</td>\n",
       "      <td>3.177433</td>\n",
       "      <td>4005.175378</td>\n",
       "      <td>757.357239</td>\n",
       "      <td>379.179166</td>\n",
       "      <td>85.365137</td>\n",
       "      <td>2.868846</td>\n",
       "      <td>2.449847e+03</td>\n",
       "      <td>167.703425</td>\n",
       "      <td>97.186634</td>\n",
       "      <td>30.237726</td>\n",
       "      <td>1.612092</td>\n",
       "      <td>1.475166e+03</td>\n",
       "      <td>107.225411</td>\n",
       "      <td>68.677761</td>\n",
       "      <td>33.678046</td>\n",
       "      <td>1.540730</td>\n",
       "    </tr>\n",
       "  </tbody>\n",
       "</table>\n",
       "</div>"
      ],
      "text/plain": [
       "         eeg1_Delta0  eeg1_Theta0  eeg1_Alpha0  eeg1_Beta0  eeg1_Gamma0  \\\n",
       "39162   40285.462396  1376.071709  1114.581833  137.578679     2.901573   \n",
       "34834  205390.070310  2649.082458  1252.175258  182.217804     5.340327   \n",
       "17202   12961.803378  1026.339084   903.627232   37.154247     1.771569   \n",
       "36243    5602.535253   856.704209   326.675211   41.474327     2.707766   \n",
       "30406    4973.910829   773.885084   453.880167   95.534723     3.177433   \n",
       "\n",
       "         eeg2_Delta0  eeg2_Theta0  eeg2_Alpha0  eeg2_Beta0  eeg2_Gamma0  \\\n",
       "39162  246917.227412  2446.880773  1343.974868  132.810575     2.412203   \n",
       "34834   16265.726082  1137.623889   560.823366   54.533571     2.211999   \n",
       "17202   14314.985743  1198.944991   835.142443   44.100467     2.289774   \n",
       "36243    3071.472483   748.025161   252.729224   44.531423     3.007998   \n",
       "30406    4005.175378   757.357239   379.179166   85.365137     2.868846   \n",
       "\n",
       "        eeg3_Delta0    eeg3_Theta0   eeg3_Alpha0  eeg3_Beta0  eeg3_Gamma0  \\\n",
       "39162  8.687111e+06  100978.937696  12210.653861  466.162738    23.904798   \n",
       "34834  7.628987e+03     129.792270     62.552174   14.989770     1.167515   \n",
       "17202  2.333306e+03     518.779139    197.356443   50.518748     2.493520   \n",
       "36243  1.512680e+04    1580.204819    784.473041  153.459829    13.318023   \n",
       "30406  2.449847e+03     167.703425     97.186634   30.237726     1.612092   \n",
       "\n",
       "        eeg4_Delta0    eeg4_Theta0   eeg4_Alpha0  eeg4_Beta0  eeg4_Gamma0  \n",
       "39162  8.831180e+06  100419.925543  12022.809355  472.082584    23.880356  \n",
       "34834  1.319090e+04     208.417650    106.498447   18.938689     1.013795  \n",
       "17202  4.313846e+03     565.448439    260.640598   48.282600     3.145496  \n",
       "36243  1.547022e+04    1811.189013    772.422733  173.181795    13.493971  \n",
       "30406  1.475166e+03     107.225411     68.677761   33.678046     1.540730  "
      ]
     },
     "execution_count": 12,
     "metadata": {},
     "output_type": "execute_result"
    }
   ],
   "source": [
    "L= list(naif.columns[:-1]) + list(acc.columns) + list(pulse.columns)\n",
    "Xeeg = X.drop(columns=L, inplace=False)\n",
    "X_testeeg = X_test.drop(columns=L, inplace=False)\n",
    "\n",
    "Xeeg.head()"
   ]
  },
  {
   "cell_type": "code",
   "execution_count": 13,
   "metadata": {},
   "outputs": [
    {
     "data": {
      "text/html": [
       "<div>\n",
       "<style scoped>\n",
       "    .dataframe tbody tr th:only-of-type {\n",
       "        vertical-align: middle;\n",
       "    }\n",
       "\n",
       "    .dataframe tbody tr th {\n",
       "        vertical-align: top;\n",
       "    }\n",
       "\n",
       "    .dataframe thead th {\n",
       "        text-align: right;\n",
       "    }\n",
       "</style>\n",
       "<table border=\"1\" class=\"dataframe\">\n",
       "  <thead>\n",
       "    <tr style=\"text-align: right;\">\n",
       "      <th></th>\n",
       "      <th>BPM_ir</th>\n",
       "      <th>IBI_ir</th>\n",
       "      <th>SDNN_ir</th>\n",
       "      <th>SDSD_ir</th>\n",
       "      <th>RMSSD_ir</th>\n",
       "      <th>pNN60_ir</th>\n",
       "      <th>pNN20_ir</th>\n",
       "      <th>MAD_ir</th>\n",
       "      <th>BPMlessthan30_ir</th>\n",
       "      <th>max_ir</th>\n",
       "      <th>...</th>\n",
       "      <th>IBI_r</th>\n",
       "      <th>SDNN_r</th>\n",
       "      <th>SDSD_r</th>\n",
       "      <th>RMSSD_r</th>\n",
       "      <th>pNN60_r</th>\n",
       "      <th>pNN20_r</th>\n",
       "      <th>MAD_r</th>\n",
       "      <th>BPMlessthan30_r</th>\n",
       "      <th>max_r</th>\n",
       "      <th>min_r</th>\n",
       "    </tr>\n",
       "  </thead>\n",
       "  <tbody>\n",
       "    <tr>\n",
       "      <th>39162</th>\n",
       "      <td>64</td>\n",
       "      <td>0.937500</td>\n",
       "      <td>0.109175</td>\n",
       "      <td>0.181164</td>\n",
       "      <td>0.178139</td>\n",
       "      <td>0.322581</td>\n",
       "      <td>0.419355</td>\n",
       "      <td>3.0</td>\n",
       "      <td>0</td>\n",
       "      <td>159.165650</td>\n",
       "      <td>...</td>\n",
       "      <td>0.937500</td>\n",
       "      <td>0.176711</td>\n",
       "      <td>0.310616</td>\n",
       "      <td>0.305396</td>\n",
       "      <td>0.419355</td>\n",
       "      <td>0.483871</td>\n",
       "      <td>5.0</td>\n",
       "      <td>0</td>\n",
       "      <td>71.218035</td>\n",
       "      <td>-110.005374</td>\n",
       "    </tr>\n",
       "    <tr>\n",
       "      <th>34834</th>\n",
       "      <td>42</td>\n",
       "      <td>1.428571</td>\n",
       "      <td>0.149230</td>\n",
       "      <td>0.185624</td>\n",
       "      <td>0.180700</td>\n",
       "      <td>0.450000</td>\n",
       "      <td>0.500000</td>\n",
       "      <td>7.0</td>\n",
       "      <td>0</td>\n",
       "      <td>463.333994</td>\n",
       "      <td>...</td>\n",
       "      <td>1.363636</td>\n",
       "      <td>0.311292</td>\n",
       "      <td>0.504906</td>\n",
       "      <td>0.492382</td>\n",
       "      <td>0.380952</td>\n",
       "      <td>0.428571</td>\n",
       "      <td>12.0</td>\n",
       "      <td>0</td>\n",
       "      <td>18.646024</td>\n",
       "      <td>-19.200908</td>\n",
       "    </tr>\n",
       "    <tr>\n",
       "      <th>17202</th>\n",
       "      <td>46</td>\n",
       "      <td>1.304348</td>\n",
       "      <td>0.077208</td>\n",
       "      <td>0.097140</td>\n",
       "      <td>0.094919</td>\n",
       "      <td>0.272727</td>\n",
       "      <td>0.272727</td>\n",
       "      <td>2.0</td>\n",
       "      <td>0</td>\n",
       "      <td>173.766202</td>\n",
       "      <td>...</td>\n",
       "      <td>1.304348</td>\n",
       "      <td>0.121206</td>\n",
       "      <td>0.182746</td>\n",
       "      <td>0.178406</td>\n",
       "      <td>0.318182</td>\n",
       "      <td>0.454545</td>\n",
       "      <td>3.5</td>\n",
       "      <td>0</td>\n",
       "      <td>55.690834</td>\n",
       "      <td>-71.053743</td>\n",
       "    </tr>\n",
       "    <tr>\n",
       "      <th>36243</th>\n",
       "      <td>66</td>\n",
       "      <td>0.909091</td>\n",
       "      <td>0.285420</td>\n",
       "      <td>0.448515</td>\n",
       "      <td>0.441245</td>\n",
       "      <td>0.406250</td>\n",
       "      <td>0.468750</td>\n",
       "      <td>4.5</td>\n",
       "      <td>0</td>\n",
       "      <td>50.048443</td>\n",
       "      <td>...</td>\n",
       "      <td>0.857143</td>\n",
       "      <td>0.348894</td>\n",
       "      <td>0.508355</td>\n",
       "      <td>0.500993</td>\n",
       "      <td>0.411765</td>\n",
       "      <td>0.441176</td>\n",
       "      <td>11.5</td>\n",
       "      <td>0</td>\n",
       "      <td>11.227485</td>\n",
       "      <td>-14.936124</td>\n",
       "    </tr>\n",
       "    <tr>\n",
       "      <th>30406</th>\n",
       "      <td>60</td>\n",
       "      <td>1.000000</td>\n",
       "      <td>0.076622</td>\n",
       "      <td>0.089853</td>\n",
       "      <td>0.088237</td>\n",
       "      <td>0.103448</td>\n",
       "      <td>0.172414</td>\n",
       "      <td>2.0</td>\n",
       "      <td>0</td>\n",
       "      <td>190.410723</td>\n",
       "      <td>...</td>\n",
       "      <td>1.000000</td>\n",
       "      <td>0.094577</td>\n",
       "      <td>0.110267</td>\n",
       "      <td>0.108364</td>\n",
       "      <td>0.137931</td>\n",
       "      <td>0.206897</td>\n",
       "      <td>2.0</td>\n",
       "      <td>0</td>\n",
       "      <td>100.155542</td>\n",
       "      <td>-178.603391</td>\n",
       "    </tr>\n",
       "  </tbody>\n",
       "</table>\n",
       "<p>5 rows × 22 columns</p>\n",
       "</div>"
      ],
      "text/plain": [
       "       BPM_ir    IBI_ir   SDNN_ir   SDSD_ir  RMSSD_ir  pNN60_ir  pNN20_ir  \\\n",
       "39162      64  0.937500  0.109175  0.181164  0.178139  0.322581  0.419355   \n",
       "34834      42  1.428571  0.149230  0.185624  0.180700  0.450000  0.500000   \n",
       "17202      46  1.304348  0.077208  0.097140  0.094919  0.272727  0.272727   \n",
       "36243      66  0.909091  0.285420  0.448515  0.441245  0.406250  0.468750   \n",
       "30406      60  1.000000  0.076622  0.089853  0.088237  0.103448  0.172414   \n",
       "\n",
       "       MAD_ir  BPMlessthan30_ir      max_ir     ...         IBI_r    SDNN_r  \\\n",
       "39162     3.0                 0  159.165650     ...      0.937500  0.176711   \n",
       "34834     7.0                 0  463.333994     ...      1.363636  0.311292   \n",
       "17202     2.0                 0  173.766202     ...      1.304348  0.121206   \n",
       "36243     4.5                 0   50.048443     ...      0.857143  0.348894   \n",
       "30406     2.0                 0  190.410723     ...      1.000000  0.094577   \n",
       "\n",
       "         SDSD_r   RMSSD_r   pNN60_r   pNN20_r  MAD_r  BPMlessthan30_r  \\\n",
       "39162  0.310616  0.305396  0.419355  0.483871    5.0                0   \n",
       "34834  0.504906  0.492382  0.380952  0.428571   12.0                0   \n",
       "17202  0.182746  0.178406  0.318182  0.454545    3.5                0   \n",
       "36243  0.508355  0.500993  0.411765  0.441176   11.5                0   \n",
       "30406  0.110267  0.108364  0.137931  0.206897    2.0                0   \n",
       "\n",
       "            max_r       min_r  \n",
       "39162   71.218035 -110.005374  \n",
       "34834   18.646024  -19.200908  \n",
       "17202   55.690834  -71.053743  \n",
       "36243   11.227485  -14.936124  \n",
       "30406  100.155542 -178.603391  \n",
       "\n",
       "[5 rows x 22 columns]"
      ]
     },
     "execution_count": 13,
     "metadata": {},
     "output_type": "execute_result"
    }
   ],
   "source": [
    "L= list(naif.columns[:-1]) + list(acc.columns) + list(eeg.columns)\n",
    "Xpulse= X.drop(columns=L, inplace=False)\n",
    "X_testpulse = X_test.drop(columns=L, inplace=False)\n",
    "\n",
    "Xpulse.head()"
   ]
  },
  {
   "cell_type": "code",
   "execution_count": 14,
   "metadata": {},
   "outputs": [
    {
     "data": {
      "text/html": [
       "<div>\n",
       "<style scoped>\n",
       "    .dataframe tbody tr th:only-of-type {\n",
       "        vertical-align: middle;\n",
       "    }\n",
       "\n",
       "    .dataframe tbody tr th {\n",
       "        vertical-align: top;\n",
       "    }\n",
       "\n",
       "    .dataframe thead th {\n",
       "        text-align: right;\n",
       "    }\n",
       "</style>\n",
       "<table border=\"1\" class=\"dataframe\">\n",
       "  <thead>\n",
       "    <tr style=\"text-align: right;\">\n",
       "      <th></th>\n",
       "      <th>di</th>\n",
       "      <th>zc</th>\n",
       "      <th>tat</th>\n",
       "      <th>Ax</th>\n",
       "      <th>Ay</th>\n",
       "      <th>Az</th>\n",
       "      <th>phi</th>\n",
       "      <th>theta</th>\n",
       "    </tr>\n",
       "  </thead>\n",
       "  <tbody>\n",
       "    <tr>\n",
       "      <th>39162</th>\n",
       "      <td>0.001473</td>\n",
       "      <td>0</td>\n",
       "      <td>0.0</td>\n",
       "      <td>8</td>\n",
       "      <td>7</td>\n",
       "      <td>8</td>\n",
       "      <td>8</td>\n",
       "      <td>23</td>\n",
       "    </tr>\n",
       "    <tr>\n",
       "      <th>34834</th>\n",
       "      <td>0.001254</td>\n",
       "      <td>0</td>\n",
       "      <td>0.0</td>\n",
       "      <td>9</td>\n",
       "      <td>8</td>\n",
       "      <td>8</td>\n",
       "      <td>9</td>\n",
       "      <td>17</td>\n",
       "    </tr>\n",
       "    <tr>\n",
       "      <th>17202</th>\n",
       "      <td>0.001287</td>\n",
       "      <td>0</td>\n",
       "      <td>0.0</td>\n",
       "      <td>7</td>\n",
       "      <td>6</td>\n",
       "      <td>6</td>\n",
       "      <td>8</td>\n",
       "      <td>14</td>\n",
       "    </tr>\n",
       "    <tr>\n",
       "      <th>36243</th>\n",
       "      <td>0.000382</td>\n",
       "      <td>0</td>\n",
       "      <td>0.0</td>\n",
       "      <td>10</td>\n",
       "      <td>9</td>\n",
       "      <td>9</td>\n",
       "      <td>12</td>\n",
       "      <td>20</td>\n",
       "    </tr>\n",
       "    <tr>\n",
       "      <th>30406</th>\n",
       "      <td>0.001564</td>\n",
       "      <td>2</td>\n",
       "      <td>0.0</td>\n",
       "      <td>6</td>\n",
       "      <td>7</td>\n",
       "      <td>5</td>\n",
       "      <td>6</td>\n",
       "      <td>13</td>\n",
       "    </tr>\n",
       "  </tbody>\n",
       "</table>\n",
       "</div>"
      ],
      "text/plain": [
       "             di  zc  tat  Ax  Ay  Az  phi  theta\n",
       "39162  0.001473   0  0.0   8   7   8    8     23\n",
       "34834  0.001254   0  0.0   9   8   8    9     17\n",
       "17202  0.001287   0  0.0   7   6   6    8     14\n",
       "36243  0.000382   0  0.0  10   9   9   12     20\n",
       "30406  0.001564   2  0.0   6   7   5    6     13"
      ]
     },
     "execution_count": 14,
     "metadata": {},
     "output_type": "execute_result"
    }
   ],
   "source": [
    "L= list(naif.columns[:-1]) + list(pulse.columns) + list(eeg.columns)\n",
    "Xacc= X.drop(columns=L, inplace=False)\n",
    "X_testacc = X_test.drop(columns=L, inplace=False)\n",
    "\n",
    "Xacc.head()"
   ]
  },
  {
   "cell_type": "code",
   "execution_count": 15,
   "metadata": {},
   "outputs": [],
   "source": [
    "def plot_confusion_matrix(cm, classes,\n",
    "                          normalize=False,\n",
    "                          title='Confusion matrix',\n",
    "                          cmap=plt.cm.Blues):\n",
    "    \"\"\"\n",
    "    This function prints and plots the confusion matrix.\n",
    "    Normalization can be applied by setting `normalize=True`.\n",
    "    \"\"\"\n",
    "    if normalize:\n",
    "        cm = cm.astype('float') / cm.sum(axis=1)[:, np.newaxis]\n",
    "        print(\"Normalized confusion matrix\")\n",
    "    else:\n",
    "        print('Confusion matrix, without normalization')\n",
    "\n",
    "    print(cm)\n",
    "\n",
    "    plt.imshow(cm, interpolation='nearest', cmap=cmap)\n",
    "    plt.title(title)\n",
    "    plt.colorbar()\n",
    "    tick_marks = np.arange(len(classes))\n",
    "    plt.xticks(tick_marks, classes, rotation=45)\n",
    "    plt.yticks(tick_marks, classes)\n",
    "\n",
    "    fmt = '.2f' if normalize else 'd'\n",
    "    thresh = cm.max() / 2.\n",
    "    for i, j in itertools.product(range(cm.shape[0]), range(cm.shape[1])):\n",
    "        plt.text(j, i, format(cm[i, j], fmt),\n",
    "                 horizontalalignment=\"center\",\n",
    "                 color=\"white\" if cm[i, j] > thresh else \"black\")\n",
    "\n",
    "    plt.tight_layout()\n",
    "    plt.ylabel('True label')\n",
    "    plt.xlabel('Predicted label')\n"
   ]
  },
  {
   "cell_type": "code",
   "execution_count": 16,
   "metadata": {},
   "outputs": [
    {
     "data": {
      "text/plain": [
       "Index(['BPM_ir', 'IBI_ir', 'SDNN_ir', 'SDSD_ir', 'RMSSD_ir', 'pNN60_ir',\n",
       "       'pNN20_ir', 'MAD_ir', 'BPMlessthan30_ir', 'max_ir', 'min_ir', 'BPM_r',\n",
       "       'IBI_r', 'SDNN_r', 'SDSD_r', 'RMSSD_r', 'pNN60_r', 'pNN20_r', 'MAD_r',\n",
       "       'BPMlessthan30_r', 'max_r', 'min_r'],\n",
       "      dtype='object')"
      ]
     },
     "execution_count": 16,
     "metadata": {},
     "output_type": "execute_result"
    }
   ],
   "source": [
    "Xpulse.columns"
   ]
  },
  {
   "cell_type": "markdown",
   "metadata": {},
   "source": [
    "## pulse only \n",
    "\n",
    "\n",
    "With only ir sensor\n",
    "kappa =  0.260\n",
    "accuracy =  0.473\n",
    "\n",
    "with both ir and r sensor\n",
    "for n_estimators=  40\n",
    "- log loss =  1.131\n",
    "- kappa =  0.324\n",
    "- accuracy =  0.537\n"
   ]
  },
  {
   "cell_type": "code",
   "execution_count": 17,
   "metadata": {},
   "outputs": [
    {
     "name": "stdout",
     "output_type": "stream",
     "text": [
      "Fitting 3 folds for each of 3 candidates, totalling 9 fits\n"
     ]
    },
    {
     "name": "stderr",
     "output_type": "stream",
     "text": [
      "[Parallel(n_jobs=-1)]: Done   4 out of   9 | elapsed:  1.8min remaining:  2.2min\n",
      "[Parallel(n_jobs=-1)]: Done   9 out of   9 | elapsed:  3.7min remaining:    0.0s\n",
      "[Parallel(n_jobs=-1)]: Done   9 out of   9 | elapsed:  3.7min finished\n"
     ]
    },
    {
     "name": "stdout",
     "output_type": "stream",
     "text": [
      "{'learning_rate': 0.1, 'max_depth': 13, 'min_samples_leaf': 1, 'min_samples_split': 2, 'subsample': 0.7}\n",
      "kappa:  0.31711555872131736\n",
      "accurancy for n_estimators  =  0.5319415925165412\n"
     ]
    }
   ],
   "source": [
    "gbc = GradientBoostingClassifier(n_estimators = 30, random_state=42)\n",
    "\n",
    "r1 = [1]\n",
    "r2 = [2]\n",
    "parametres = {'max_depth': [8, 10, 13] ,'learning_rate': [0.1], \"min_samples_leaf\" : r1,  \n",
    "              \"min_samples_split\" : r2, 'subsample': [0.7]}\n",
    "    \n",
    "ck_score = make_scorer(cohen_kappa_score)\n",
    "grid = GridSearchCV(estimator=gbc, param_grid=parametres, scoring=ck_score, n_jobs=-1, verbose=2)\n",
    "\n",
    "grid_fitted = grid.fit(Xpulse,y)\n",
    "print(grid_fitted.best_params_)\n",
    "\n",
    "y_pred = grid.predict(X_testpulse)\n",
    "\n",
    "print(\"kappa: \", cohen_kappa_score(y_true, y_pred))\n",
    "print(\"accurancy for n_estimators  = \" , accuracy_score(y_true, y_pred))"
   ]
  },
  {
   "cell_type": "code",
   "execution_count": 18,
   "metadata": {
    "scrolled": true
   },
   "outputs": [
    {
     "name": "stdout",
     "output_type": "stream",
     "text": [
      "for n_estimators=  10\n",
      "log loss =  1.2240309182789655\n",
      "kappa =  0.2894435470208687\n",
      "accuracy =  0.5171115674195756\n",
      "for n_estimators=  20\n",
      "log loss =  1.1617932761132956\n",
      "kappa =  0.30376851746342903\n",
      "accuracy =  0.5239561943874059\n",
      "for n_estimators=  30\n",
      "log loss =  1.1434172437317942\n",
      "kappa =  0.31711555872131736\n",
      "accuracy =  0.5319415925165412\n",
      "for n_estimators=  40\n",
      "log loss =  1.1383049227624058\n",
      "kappa =  0.3195090581410297\n",
      "accuracy =  0.5331964407939768\n",
      "for n_estimators=  50\n",
      "log loss =  1.1394602626947725\n",
      "kappa =  0.3208492254463192\n",
      "accuracy =  0.5338809034907598\n",
      "for n_estimators=  60\n",
      "log loss =  1.141964861269548\n",
      "kappa =  0.3228769878908003\n",
      "accuracy =  0.5367328313940224\n",
      "for n_estimators=  70\n",
      "log loss =  1.144878817824576\n",
      "kappa =  0.3208746547725302\n",
      "accuracy =  0.5339949806068902\n",
      "for n_estimators=  80\n",
      "log loss =  1.1500179308887732\n",
      "kappa =  0.32313855456915463\n",
      "accuracy =  0.5354779831165868\n",
      "for n_estimators=  90\n",
      "log loss =  1.1560480187522877\n",
      "kappa =  0.32517141834611085\n",
      "accuracy =  0.5369609856262834\n"
     ]
    }
   ],
   "source": [
    "errors = []\n",
    "Lk = []\n",
    "La = []\n",
    "\n",
    "r = range(10, 100 , 10)\n",
    "\n",
    "for i in r:\n",
    "    gbc = GradientBoostingClassifier(n_estimators = i, random_state=42, learning_rate= 0.1, max_depth= 13, \n",
    "                                 min_samples_leaf= 1, min_samples_split= 2, subsample= 0.7)\n",
    "    gbc.fit(Xpulse, y)\n",
    "    ll = log_loss(y_true, gbc.predict_proba(X_testpulse))\n",
    "    errors.append(ll)\n",
    "    y_pred = gbc.predict(X_testpulse)\n",
    "    k=cohen_kappa_score(y_true, y_pred)\n",
    "    a= accuracy_score(y_true, y_pred)\n",
    "    print(\"for n_estimators= \", i)\n",
    "    print(\"log loss = \", ll)\n",
    "    print(\"kappa = \", k)\n",
    "    print(\"accuracy = \", a)\n",
    "    Lk.append(k)\n",
    "    La.append(a)"
   ]
  },
  {
   "cell_type": "code",
   "execution_count": 21,
   "metadata": {},
   "outputs": [
    {
     "data": {
      "text/plain": [
       "[<matplotlib.lines.Line2D at 0x1bae9e658d0>]"
      ]
     },
     "execution_count": 21,
     "metadata": {},
     "output_type": "execute_result"
    },
    {
     "data": {
      "image/png": "[encoded data removed]",
      "text/plain": [
       "<Figure size 432x288 with 1 Axes>"
      ]
     },
     "metadata": {},
     "output_type": "display_data"
    }
   ],
   "source": [
    "plt.plot(r, errors, label = \"log loss\")\n"
   ]
  },
  {
   "cell_type": "code",
   "execution_count": 20,
   "metadata": {},
   "outputs": [
    {
     "data": {
      "text/plain": [
       "<matplotlib.legend.Legend at 0x1baea459518>"
      ]
     },
     "execution_count": 20,
     "metadata": {},
     "output_type": "execute_result"
    },
    {
     "data": {
      "image/png": "[encoded data removed]",
      "text/plain": [
       "<Figure size 432x288 with 1 Axes>"
      ]
     },
     "metadata": {},
     "output_type": "display_data"
    }
   ],
   "source": [
    "plt.plot(r, La, label = \"accuracy\")\n",
    "plt.plot(r, Lk, label = \"kappa\")\n",
    "plt.legend(loc='lower right')"
   ]
  },
  {
   "cell_type": "markdown",
   "metadata": {},
   "source": [
    "go for n estimators = 40"
   ]
  },
  {
   "cell_type": "code",
   "execution_count": 22,
   "metadata": {},
   "outputs": [
    {
     "name": "stdout",
     "output_type": "stream",
     "text": [
      "for n_estimators=  40\n",
      "log loss =  1.1347003548292838\n",
      "kappa =  0.3215558595348402\n",
      "accuracy =  0.5358202144649783\n"
     ]
    }
   ],
   "source": [
    "errors = []\n",
    "Lk = []\n",
    "La = []\n",
    "\n",
    "i=40\n",
    "gbc = GradientBoostingClassifier(n_estimators = i, random_state=42, learning_rate= 0.1, max_depth= 13, \n",
    "                             min_samples_leaf= 1, min_samples_split= 2, subsample= 0.8)\n",
    "gbc.fit(Xpulse, y)\n",
    "ll = log_loss(y_true, gbc.predict_proba(X_testpulse))\n",
    "\n",
    "y_pred = gbc.predict(X_testpulse)\n",
    "k=cohen_kappa_score(y_true, y_pred)\n",
    "a= accuracy_score(y_true, y_pred)\n",
    "print(\"for n_estimators= \", i)\n",
    "print(\"log loss = \", ll)\n",
    "print(\"kappa = \", k)\n",
    "print(\"accuracy = \", a)\n"
   ]
  },
  {
   "cell_type": "code",
   "execution_count": 23,
   "metadata": {},
   "outputs": [
    {
     "name": "stdout",
     "output_type": "stream",
     "text": [
      "Confusion matrix, without normalization\n",
      "[[ 411    1  321  192   70]\n",
      " [  22    3  129   83   30]\n",
      " [  78    3 2249  772  179]\n",
      " [  47    2  843 1721   87]\n",
      " [  57    1  713  439  313]]\n",
      "Normalized confusion matrix\n",
      "[[4.13e-01 1.01e-03 3.23e-01 1.93e-01 7.04e-02]\n",
      " [8.24e-02 1.12e-02 4.83e-01 3.11e-01 1.12e-01]\n",
      " [2.38e-02 9.14e-04 6.85e-01 2.35e-01 5.46e-02]\n",
      " [1.74e-02 7.41e-04 3.12e-01 6.37e-01 3.22e-02]\n",
      " [3.74e-02 6.57e-04 4.68e-01 2.88e-01 2.06e-01]]\n"
     ]
    },
    {
     "data": {
      "image/png": "[encoded data removed]",
      "text/plain": [
       "<Figure size 432x288 with 2 Axes>"
      ]
     },
     "metadata": {},
     "output_type": "display_data"
    },
    {
     "data": {
      "image/png": "[encoded data removed]",
      "text/plain": [
       "<Figure size 432x288 with 2 Axes>"
      ]
     },
     "metadata": {},
     "output_type": "display_data"
    }
   ],
   "source": [
    "cnf_matrix = confusion_matrix(y_true, y_pred)\n",
    "np.set_printoptions(precision=2)\n",
    "\n",
    "plt.figure()\n",
    "plot_confusion_matrix(cnf_matrix, classes=[0, 1, 2, 3, 4], title='Confusion matrix, without normalization')\n",
    "\n",
    "plt.figure()\n",
    "plot_confusion_matrix(cnf_matrix, classes=[0, 1, 2, 3, 4], normalize=True,\n",
    "                      title='Normalized confusion matrix')\n",
    "\n",
    "plt.show()"
   ]
  },
  {
   "cell_type": "code",
   "execution_count": 25,
   "metadata": {},
   "outputs": [
    {
     "data": {
      "image/png": "[encoded data removed]",
      "text/plain": [
       "<Figure size 432x288 with 1 Axes>"
      ]
     },
     "metadata": {},
     "output_type": "display_data"
    },
    {
     "data": {
      "text/html": [
       "<div>\n",
       "<style scoped>\n",
       "    .dataframe tbody tr th:only-of-type {\n",
       "        vertical-align: middle;\n",
       "    }\n",
       "\n",
       "    .dataframe tbody tr th {\n",
       "        vertical-align: top;\n",
       "    }\n",
       "\n",
       "    .dataframe thead th {\n",
       "        text-align: right;\n",
       "    }\n",
       "</style>\n",
       "<table border=\"1\" class=\"dataframe\">\n",
       "  <thead>\n",
       "    <tr style=\"text-align: right;\">\n",
       "      <th></th>\n",
       "      <th>importance</th>\n",
       "    </tr>\n",
       "  </thead>\n",
       "  <tbody>\n",
       "    <tr>\n",
       "      <th>max_ir</th>\n",
       "      <td>0.092426</td>\n",
       "    </tr>\n",
       "    <tr>\n",
       "      <th>min_ir</th>\n",
       "      <td>0.091939</td>\n",
       "    </tr>\n",
       "    <tr>\n",
       "      <th>min_r</th>\n",
       "      <td>0.089934</td>\n",
       "    </tr>\n",
       "    <tr>\n",
       "      <th>max_r</th>\n",
       "      <td>0.087619</td>\n",
       "    </tr>\n",
       "    <tr>\n",
       "      <th>SDNN_ir</th>\n",
       "      <td>0.071292</td>\n",
       "    </tr>\n",
       "    <tr>\n",
       "      <th>SDNN_r</th>\n",
       "      <td>0.064474</td>\n",
       "    </tr>\n",
       "    <tr>\n",
       "      <th>pNN60_ir</th>\n",
       "      <td>0.045962</td>\n",
       "    </tr>\n",
       "    <tr>\n",
       "      <th>pNN60_r</th>\n",
       "      <td>0.044511</td>\n",
       "    </tr>\n",
       "    <tr>\n",
       "      <th>pNN20_r</th>\n",
       "      <td>0.043948</td>\n",
       "    </tr>\n",
       "    <tr>\n",
       "      <th>pNN20_ir</th>\n",
       "      <td>0.043584</td>\n",
       "    </tr>\n",
       "    <tr>\n",
       "      <th>SDSD_ir</th>\n",
       "      <td>0.042965</td>\n",
       "    </tr>\n",
       "    <tr>\n",
       "      <th>RMSSD_ir</th>\n",
       "      <td>0.040636</td>\n",
       "    </tr>\n",
       "    <tr>\n",
       "      <th>BPM_ir</th>\n",
       "      <td>0.038812</td>\n",
       "    </tr>\n",
       "    <tr>\n",
       "      <th>RMSSD_r</th>\n",
       "      <td>0.036280</td>\n",
       "    </tr>\n",
       "    <tr>\n",
       "      <th>SDSD_r</th>\n",
       "      <td>0.036227</td>\n",
       "    </tr>\n",
       "    <tr>\n",
       "      <th>MAD_r</th>\n",
       "      <td>0.034612</td>\n",
       "    </tr>\n",
       "    <tr>\n",
       "      <th>MAD_ir</th>\n",
       "      <td>0.032201</td>\n",
       "    </tr>\n",
       "    <tr>\n",
       "      <th>IBI_ir</th>\n",
       "      <td>0.021361</td>\n",
       "    </tr>\n",
       "    <tr>\n",
       "      <th>IBI_r</th>\n",
       "      <td>0.020843</td>\n",
       "    </tr>\n",
       "    <tr>\n",
       "      <th>BPM_r</th>\n",
       "      <td>0.020281</td>\n",
       "    </tr>\n",
       "    <tr>\n",
       "      <th>BPMlessthan30_r</th>\n",
       "      <td>0.000089</td>\n",
       "    </tr>\n",
       "    <tr>\n",
       "      <th>BPMlessthan30_ir</th>\n",
       "      <td>0.000003</td>\n",
       "    </tr>\n",
       "  </tbody>\n",
       "</table>\n",
       "</div>"
      ],
      "text/plain": [
       "                  importance\n",
       "max_ir              0.092426\n",
       "min_ir              0.091939\n",
       "min_r               0.089934\n",
       "max_r               0.087619\n",
       "SDNN_ir             0.071292\n",
       "SDNN_r              0.064474\n",
       "pNN60_ir            0.045962\n",
       "pNN60_r             0.044511\n",
       "pNN20_r             0.043948\n",
       "pNN20_ir            0.043584\n",
       "SDSD_ir             0.042965\n",
       "RMSSD_ir            0.040636\n",
       "BPM_ir              0.038812\n",
       "RMSSD_r             0.036280\n",
       "SDSD_r              0.036227\n",
       "MAD_r               0.034612\n",
       "MAD_ir              0.032201\n",
       "IBI_ir              0.021361\n",
       "IBI_r               0.020843\n",
       "BPM_r               0.020281\n",
       "BPMlessthan30_r     0.000089\n",
       "BPMlessthan30_ir    0.000003"
      ]
     },
     "execution_count": 25,
     "metadata": {},
     "output_type": "execute_result"
    }
   ],
   "source": [
    "importances = gbc.feature_importances_\n",
    "feature_importances = pd.DataFrame(importances, index = Xpulse.columns, \n",
    "                                   columns=['importance']).sort_values('importance', ascending=False)\n",
    "plt.bar(feature_importances.index, feature_importances[\"importance\"])\n",
    "plt.show()\n",
    "\n",
    "feature_importances.head(50)"
   ]
  },
  {
   "cell_type": "markdown",
   "metadata": {},
   "source": [
    "r and ir feature have comparable importance"
   ]
  },
  {
   "cell_type": "code",
   "execution_count": 26,
   "metadata": {},
   "outputs": [
    {
     "data": {
      "text/plain": [
       "(1225, 22)"
      ]
     },
     "execution_count": 26,
     "metadata": {},
     "output_type": "execute_result"
    }
   ],
   "source": [
    "low_r = Xpulse[Xpulse.BPMlessthan30_r!=0]\n",
    "low_r.shape"
   ]
  },
  {
   "cell_type": "code",
   "execution_count": 27,
   "metadata": {},
   "outputs": [
    {
     "data": {
      "text/plain": [
       "(1113, 22)"
      ]
     },
     "execution_count": 27,
     "metadata": {},
     "output_type": "execute_result"
    }
   ],
   "source": [
    "low_r[low_r.BPMlessthan30_ir!=0].shape"
   ]
  },
  {
   "cell_type": "markdown",
   "metadata": {},
   "source": [
    "1113 rows with BPM less than 30 for both sensors(error measures )\n",
    "\n",
    "### filtering out for learning rows with less than 30 BPM for both sensors\n",
    "\n",
    "when filtering the training set out of rows with BPM less than 30 bpm, for n_estimators=  30, get following performance\n",
    "- kappa =  0.324\n",
    "- accuracy =  0.537\n",
    "\n",
    "to be compared with performance without filtering\n",
    "- kappa =  0.324\n",
    "- accuracy =  0.537\n",
    "\n",
    "No performance gain from filtering out\n"
   ]
  },
  {
   "cell_type": "code",
   "execution_count": 28,
   "metadata": {},
   "outputs": [
    {
     "name": "stderr",
     "output_type": "stream",
     "text": [
      "C:\\Anaconda3\\lib\\site-packages\\ipykernel_launcher.py:1: UserWarning: Boolean Series key will be reindexed to match DataFrame index.\n",
      "  \"\"\"Entry point for launching an IPython kernel.\n"
     ]
    },
    {
     "data": {
      "text/plain": [
       "(33732, 22)"
      ]
     },
     "execution_count": 28,
     "metadata": {},
     "output_type": "execute_result"
    }
   ],
   "source": [
    "XpulseF = Xpulse[Xpulse.BPMlessthan30_r==0][Xpulse.BPMlessthan30_ir==0]\n",
    "XpulseF.shape"
   ]
  },
  {
   "cell_type": "code",
   "execution_count": 29,
   "metadata": {},
   "outputs": [
    {
     "data": {
      "text/plain": [
       "(33732,)"
      ]
     },
     "execution_count": 29,
     "metadata": {},
     "output_type": "execute_result"
    }
   ],
   "source": [
    "yF= y[XpulseF.index]\n",
    "yF.shape"
   ]
  },
  {
   "cell_type": "code",
   "execution_count": 30,
   "metadata": {},
   "outputs": [
    {
     "data": {
      "text/plain": [
       "True"
      ]
     },
     "execution_count": 30,
     "metadata": {},
     "output_type": "execute_result"
    }
   ],
   "source": [
    "np.all(yF.index == XpulseF.index)"
   ]
  },
  {
   "cell_type": "code",
   "execution_count": 31,
   "metadata": {},
   "outputs": [
    {
     "name": "stdout",
     "output_type": "stream",
     "text": [
      "Fitting 3 folds for each of 3 candidates, totalling 9 fits\n"
     ]
    },
    {
     "name": "stderr",
     "output_type": "stream",
     "text": [
      "[Parallel(n_jobs=-1)]: Done   4 out of   9 | elapsed:  1.4min remaining:  1.7min\n",
      "[Parallel(n_jobs=-1)]: Done   9 out of   9 | elapsed:  2.4min remaining:    0.0s\n",
      "[Parallel(n_jobs=-1)]: Done   9 out of   9 | elapsed:  2.4min finished\n"
     ]
    },
    {
     "name": "stdout",
     "output_type": "stream",
     "text": [
      "{'learning_rate': 0.1, 'max_depth': 13, 'min_samples_leaf': 1, 'min_samples_split': 2, 'subsample': 0.7}\n",
      "kappa:  0.30219703747515325\n",
      "accurancy for n_estimators  =  0.5148300250969655\n"
     ]
    }
   ],
   "source": [
    "gbc = GradientBoostingClassifier(n_estimators = 30, random_state=42)\n",
    "\n",
    "r1 = [1]\n",
    "r2 = [2]\n",
    "parametres = {'max_depth': [5, 10, 13] ,'learning_rate': [0.1], \"min_samples_leaf\" : r1,  \n",
    "              \"min_samples_split\" : r2, 'subsample': [0.7]}\n",
    "    \n",
    "ck_score = make_scorer(cohen_kappa_score)\n",
    "grid = GridSearchCV(estimator=gbc, param_grid=parametres, scoring=ck_score, n_jobs=-1, verbose=2)\n",
    "\n",
    "grid_fitted = grid.fit(XpulseF,yF)\n",
    "print(grid_fitted.best_params_)\n",
    "\n",
    "y_pred = grid.predict(X_testpulse)\n",
    "\n",
    "print(\"kappa: \", cohen_kappa_score(y_true, y_pred))\n",
    "print(\"accurancy for n_estimators  = \" , accuracy_score(y_true, y_pred))"
   ]
  },
  {
   "cell_type": "code",
   "execution_count": 32,
   "metadata": {},
   "outputs": [
    {
     "name": "stdout",
     "output_type": "stream",
     "text": [
      "for n_estimators=  10\n",
      "log loss =  1.2353849026813395\n",
      "kappa =  0.28159126498823506\n",
      "accuracy =  0.5093543235227014\n",
      "for n_estimators=  20\n",
      "log loss =  1.1648491198732496\n",
      "kappa =  0.3083409005442671\n",
      "accuracy =  0.5216746520647958\n",
      "for n_estimators=  30\n",
      "log loss =  1.1517670959533284\n",
      "kappa =  0.308616708788196\n",
      "accuracy =  0.5211042664841433\n",
      "for n_estimators=  40\n",
      "log loss =  1.155329739646308\n",
      "kappa =  0.30891781807536867\n",
      "accuracy =  0.5211042664841433\n",
      "for n_estimators=  50\n",
      "log loss =  1.1514233836636671\n",
      "kappa =  0.3148630837253308\n",
      "accuracy =  0.525325119780972\n",
      "for n_estimators=  60\n",
      "log loss =  1.1476701001765974\n",
      "kappa =  0.31394915677102586\n",
      "accuracy =  0.5245265799680584\n",
      "for n_estimators=  70\n",
      "log loss =  1.1496095365683994\n",
      "kappa =  0.31478297397479205\n",
      "accuracy =  0.5247547342003194\n",
      "for n_estimators=  80\n",
      "log loss =  1.1510621180783998\n",
      "kappa =  0.3163108545147847\n",
      "accuracy =  0.5258955053616244\n",
      "for n_estimators=  90\n",
      "log loss =  1.1595569999934903\n",
      "kappa =  0.3183661716791595\n",
      "accuracy =  0.527606662103582\n"
     ]
    }
   ],
   "source": [
    "for i in r:\n",
    "    gbc = GradientBoostingClassifier(n_estimators = i, random_state=42, learning_rate= 0.1, max_depth= 13, \n",
    "                                 min_samples_leaf= 1, min_samples_split= 2, subsample= 0.8)\n",
    "    gbc.fit(XpulseF, yF)\n",
    "    ll = log_loss(y_true, gbc.predict_proba(X_testpulse))\n",
    "    errors.append(ll)\n",
    "    y_pred = gbc.predict(X_testpulse)\n",
    "    k=cohen_kappa_score(y_true, y_pred)\n",
    "    a= accuracy_score(y_true, y_pred)\n",
    "    print(\"for n_estimators= \", i)\n",
    "    print(\"log loss = \", ll)\n",
    "    print(\"kappa = \", k)\n",
    "    print(\"accuracy = \", a)\n",
    "    Lk.append(k)\n",
    "    La.append(a)"
   ]
  },
  {
   "cell_type": "code",
   "execution_count": 35,
   "metadata": {},
   "outputs": [
    {
     "data": {
      "text/plain": [
       "[<matplotlib.lines.Line2D at 0x1bae6e5f8d0>]"
      ]
     },
     "execution_count": 35,
     "metadata": {},
     "output_type": "execute_result"
    },
    {
     "data": {
      "image/png": "[encoded data removed]",
      "text/plain": [
       "<Figure size 432x288 with 1 Axes>"
      ]
     },
     "metadata": {},
     "output_type": "display_data"
    }
   ],
   "source": [
    "plt.plot(r, errors, label = \"log loss\")"
   ]
  },
  {
   "cell_type": "code",
   "execution_count": 36,
   "metadata": {},
   "outputs": [
    {
     "data": {
      "text/plain": [
       "<matplotlib.legend.Legend at 0x1bae715f898>"
      ]
     },
     "execution_count": 36,
     "metadata": {},
     "output_type": "execute_result"
    },
    {
     "data": {
      "image/png": "[encoded data removed]",
      "text/plain": [
       "<Figure size 432x288 with 1 Axes>"
      ]
     },
     "metadata": {},
     "output_type": "display_data"
    }
   ],
   "source": [
    "plt.plot(r, La, label = \"accuracy\")\n",
    "plt.plot(r, Lk, label = \"kappa\")\n",
    "plt.legend(loc='lower right')"
   ]
  },
  {
   "cell_type": "markdown",
   "metadata": {},
   "source": [
    "go with 30"
   ]
  },
  {
   "cell_type": "code",
   "execution_count": 37,
   "metadata": {},
   "outputs": [
    {
     "name": "stdout",
     "output_type": "stream",
     "text": [
      "for n_estimators=  30\n",
      "log loss =  1.163960406527906\n",
      "kappa =  0.32534150803269735\n",
      "accuracy =  0.5317134382842802\n"
     ]
    }
   ],
   "source": [
    "errors = []\n",
    "Lk = []\n",
    "La = []\n",
    "\n",
    "i=30\n",
    "gbc = GradientBoostingClassifier(n_estimators = i, random_state=42, learning_rate= 0.1, max_depth= 15, \n",
    "                             min_samples_leaf= 1, min_samples_split= 2, subsample= 0.8)\n",
    "gbc.fit(XpulseF, yF)\n",
    "ll = log_loss(y_true, gbc.predict_proba(X_testpulse))\n",
    "\n",
    "y_pred = gbc.predict(X_testpulse)\n",
    "k=cohen_kappa_score(y_true, y_pred)\n",
    "a= accuracy_score(y_true, y_pred)\n",
    "print(\"for n_estimators= \", i)\n",
    "print(\"log loss = \", ll)\n",
    "print(\"kappa = \", k)\n",
    "print(\"accuracy = \", a)"
   ]
  },
  {
   "cell_type": "code",
   "execution_count": 38,
   "metadata": {},
   "outputs": [
    {
     "name": "stdout",
     "output_type": "stream",
     "text": [
      "Confusion matrix, without normalization\n",
      "[[ 437    3  292  183   80]\n",
      " [  38    3  123   71   32]\n",
      " [ 189   11 2197  675  209]\n",
      " [ 127    6  775 1686  106]\n",
      " [ 126    5  691  363  338]]\n",
      "Normalized confusion matrix\n",
      "[[0.44 0.   0.29 0.18 0.08]\n",
      " [0.14 0.01 0.46 0.27 0.12]\n",
      " [0.06 0.   0.67 0.21 0.06]\n",
      " [0.05 0.   0.29 0.62 0.04]\n",
      " [0.08 0.   0.45 0.24 0.22]]\n"
     ]
    },
    {
     "data": {
      "image/png": "[encoded data removed]",
      "text/plain": [
       "<Figure size 432x288 with 2 Axes>"
      ]
     },
     "metadata": {},
     "output_type": "display_data"
    },
    {
     "data": {
      "image/png": "[encoded data removed]",
      "text/plain": [
       "<Figure size 432x288 with 2 Axes>"
      ]
     },
     "metadata": {},
     "output_type": "display_data"
    }
   ],
   "source": [
    "cnf_matrix = confusion_matrix(y_true, y_pred)\n",
    "np.set_printoptions(precision=2)\n",
    "\n",
    "plt.figure()\n",
    "plot_confusion_matrix(cnf_matrix, classes=[0, 1, 2, 3, 4], title='Confusion matrix, without normalization')\n",
    "\n",
    "plt.figure()\n",
    "plot_confusion_matrix(cnf_matrix, classes=[0, 1, 2, 3, 4], normalize=True,\n",
    "                      title='Normalized confusion matrix')\n",
    "\n",
    "plt.show()"
   ]
  },
  {
   "cell_type": "code",
   "execution_count": 40,
   "metadata": {},
   "outputs": [
    {
     "data": {
      "image/png": "[encoded data removed]",
      "text/plain": [
       "<Figure size 432x288 with 1 Axes>"
      ]
     },
     "metadata": {},
     "output_type": "display_data"
    },
    {
     "data": {
      "text/html": [
       "<div>\n",
       "<style scoped>\n",
       "    .dataframe tbody tr th:only-of-type {\n",
       "        vertical-align: middle;\n",
       "    }\n",
       "\n",
       "    .dataframe tbody tr th {\n",
       "        vertical-align: top;\n",
       "    }\n",
       "\n",
       "    .dataframe thead th {\n",
       "        text-align: right;\n",
       "    }\n",
       "</style>\n",
       "<table border=\"1\" class=\"dataframe\">\n",
       "  <thead>\n",
       "    <tr style=\"text-align: right;\">\n",
       "      <th></th>\n",
       "      <th>importance</th>\n",
       "    </tr>\n",
       "  </thead>\n",
       "  <tbody>\n",
       "    <tr>\n",
       "      <th>max_r</th>\n",
       "      <td>0.098780</td>\n",
       "    </tr>\n",
       "    <tr>\n",
       "      <th>max_ir</th>\n",
       "      <td>0.092532</td>\n",
       "    </tr>\n",
       "    <tr>\n",
       "      <th>min_ir</th>\n",
       "      <td>0.091211</td>\n",
       "    </tr>\n",
       "    <tr>\n",
       "      <th>min_r</th>\n",
       "      <td>0.087698</td>\n",
       "    </tr>\n",
       "    <tr>\n",
       "      <th>SDNN_ir</th>\n",
       "      <td>0.069946</td>\n",
       "    </tr>\n",
       "    <tr>\n",
       "      <th>SDNN_r</th>\n",
       "      <td>0.062253</td>\n",
       "    </tr>\n",
       "    <tr>\n",
       "      <th>pNN60_ir</th>\n",
       "      <td>0.047326</td>\n",
       "    </tr>\n",
       "    <tr>\n",
       "      <th>pNN60_r</th>\n",
       "      <td>0.045242</td>\n",
       "    </tr>\n",
       "    <tr>\n",
       "      <th>pNN20_ir</th>\n",
       "      <td>0.045136</td>\n",
       "    </tr>\n",
       "    <tr>\n",
       "      <th>pNN20_r</th>\n",
       "      <td>0.043063</td>\n",
       "    </tr>\n",
       "    <tr>\n",
       "      <th>RMSSD_ir</th>\n",
       "      <td>0.042889</td>\n",
       "    </tr>\n",
       "    <tr>\n",
       "      <th>SDSD_ir</th>\n",
       "      <td>0.042233</td>\n",
       "    </tr>\n",
       "    <tr>\n",
       "      <th>SDSD_r</th>\n",
       "      <td>0.036274</td>\n",
       "    </tr>\n",
       "    <tr>\n",
       "      <th>RMSSD_r</th>\n",
       "      <td>0.036168</td>\n",
       "    </tr>\n",
       "    <tr>\n",
       "      <th>MAD_r</th>\n",
       "      <td>0.035432</td>\n",
       "    </tr>\n",
       "    <tr>\n",
       "      <th>MAD_ir</th>\n",
       "      <td>0.032282</td>\n",
       "    </tr>\n",
       "    <tr>\n",
       "      <th>IBI_ir</th>\n",
       "      <td>0.025295</td>\n",
       "    </tr>\n",
       "    <tr>\n",
       "      <th>BPM_ir</th>\n",
       "      <td>0.025050</td>\n",
       "    </tr>\n",
       "    <tr>\n",
       "      <th>BPM_r</th>\n",
       "      <td>0.021219</td>\n",
       "    </tr>\n",
       "    <tr>\n",
       "      <th>IBI_r</th>\n",
       "      <td>0.019969</td>\n",
       "    </tr>\n",
       "    <tr>\n",
       "      <th>BPMlessthan30_r</th>\n",
       "      <td>0.000000</td>\n",
       "    </tr>\n",
       "    <tr>\n",
       "      <th>BPMlessthan30_ir</th>\n",
       "      <td>0.000000</td>\n",
       "    </tr>\n",
       "  </tbody>\n",
       "</table>\n",
       "</div>"
      ],
      "text/plain": [
       "                  importance\n",
       "max_r               0.098780\n",
       "max_ir              0.092532\n",
       "min_ir              0.091211\n",
       "min_r               0.087698\n",
       "SDNN_ir             0.069946\n",
       "SDNN_r              0.062253\n",
       "pNN60_ir            0.047326\n",
       "pNN60_r             0.045242\n",
       "pNN20_ir            0.045136\n",
       "pNN20_r             0.043063\n",
       "RMSSD_ir            0.042889\n",
       "SDSD_ir             0.042233\n",
       "SDSD_r              0.036274\n",
       "RMSSD_r             0.036168\n",
       "MAD_r               0.035432\n",
       "MAD_ir              0.032282\n",
       "IBI_ir              0.025295\n",
       "BPM_ir              0.025050\n",
       "BPM_r               0.021219\n",
       "IBI_r               0.019969\n",
       "BPMlessthan30_r     0.000000\n",
       "BPMlessthan30_ir    0.000000"
      ]
     },
     "execution_count": 40,
     "metadata": {},
     "output_type": "execute_result"
    }
   ],
   "source": [
    "importances = gbc.feature_importances_\n",
    "feature_importances = pd.DataFrame(importances, index = Xpulse.columns, \n",
    "                                   columns=['importance']).sort_values('importance', ascending=False)\n",
    "plt.bar(feature_importances.index, feature_importances[\"importance\"])\n",
    "plt.show()\n",
    "feature_importances.head(30)"
   ]
  },
  {
   "cell_type": "markdown",
   "metadata": {},
   "source": [
    "## Pulse amplitude\n",
    "- non shuffle folds\n",
    "- work with XGboost instead of gbm. (gbm kappa = 0.324 with suffle and gbm)"
   ]
  },
  {
   "cell_type": "code",
   "execution_count": 5,
   "metadata": {},
   "outputs": [],
   "source": [
    "\n",
    "pulseAmp = pd.read_csv('C:\\\\Users\\\\i053131\\\\Desktop\\\\Epilepsie\\\\Dreem\\\\data\\\\interim\\\\pulse_ampTrain.csv')\n",
    "pulseAmp = pulseAmp.iloc[:, 1:]\n",
    "\n",
    "dataPath = \"C:\\\\Users\\\\i053131\\\\Desktop\\\\Epilepsie\\\\Dreem\\\\data\\\\raw\\\\\"\n",
    "trainOutput = pd.read_csv(dataPath + \"challenge_fichier_de_sortie_dentrainement_classification_en_stade_de_sommeil_a_laide_de_signaux_mesures_par_le_bandeau_dreem.csv\", sep=\";\")\n",
    "Y = trainOutput[\"label\"]"
   ]
  },
  {
   "cell_type": "markdown",
   "metadata": {},
   "source": [
    "### reestablishing reference for pulse with Xgboost and non suffle flood "
   ]
  },
  {
   "cell_type": "code",
   "execution_count": 6,
   "metadata": {},
   "outputs": [],
   "source": [
    "pulse = pd.read_csv('C:\\\\Users\\\\i053131\\\\Desktop\\\\Epilepsie\\\\Dreem\\\\data\\\\interim\\\\pulse_featuresTrain.csv')\n",
    "pulse = pulse.iloc[:, 1:]\n",
    "df = pulse\n",
    "df[\"Y\"] = trainOutput[\"label\"]\n",
    "\n",
    "train = df.iloc[0:int(df.shape[0]*0.8), :]\n",
    "test = df.iloc[int(df.shape[0]*0.8):, :]"
   ]
  },
  {
   "cell_type": "code",
   "execution_count": 7,
   "metadata": {},
   "outputs": [],
   "source": [
    "Xpulse = train.iloc[:,:-1]\n",
    "y = train.iloc[:,-1]\n",
    "X_testpulse = test.iloc[:,:-1]\n",
    "y_true = test.iloc[:,-1]"
   ]
  },
  {
   "cell_type": "code",
   "execution_count": 8,
   "metadata": {},
   "outputs": [],
   "source": [
    "#L= list(naif.columns[:-1]) + list(acc.columns) + list(eeg.columns)\n",
    "#Xpulse= X.drop(columns=L, inplace=False)\n",
    "#X_testpulse = X_test.drop(columns=L, inplace=False)"
   ]
  },
  {
   "cell_type": "code",
   "execution_count": 9,
   "metadata": {},
   "outputs": [
    {
     "data": {
      "text/plain": [
       "Index(['BPM_ir', 'IBI_ir', 'SDNN_ir', 'SDSD_ir', 'RMSSD_ir', 'pNN60_ir',\n",
       "       'pNN20_ir', 'MAD_ir', 'BPMlessthan30_ir', 'max_ir', 'min_ir', 'BPM_r',\n",
       "       'IBI_r', 'SDNN_r', 'SDSD_r', 'RMSSD_r', 'pNN60_r', 'pNN20_r', 'MAD_r',\n",
       "       'BPMlessthan30_r', 'max_r', 'min_r'],\n",
       "      dtype='object')"
      ]
     },
     "execution_count": 9,
     "metadata": {},
     "output_type": "execute_result"
    }
   ],
   "source": [
    "Xpulse.columns"
   ]
  },
  {
   "cell_type": "code",
   "execution_count": 10,
   "metadata": {},
   "outputs": [
    {
     "data": {
      "text/plain": [
       "Index(['amp_mean_ir', 'amp_std_ir', 'amp_mean_r', 'amp_std_r'], dtype='object')"
      ]
     },
     "execution_count": 10,
     "metadata": {},
     "output_type": "execute_result"
    }
   ],
   "source": [
    "pulseAmp.columns"
   ]
  },
  {
   "cell_type": "code",
   "execution_count": 11,
   "metadata": {},
   "outputs": [
    {
     "data": {
      "text/plain": [
       "array([3, 2, 0, 1, 4], dtype=int64)"
      ]
     },
     "execution_count": 11,
     "metadata": {},
     "output_type": "execute_result"
    }
   ],
   "source": [
    "y_true.unique()"
   ]
  },
  {
   "cell_type": "code",
   "execution_count": 12,
   "metadata": {
    "scrolled": true
   },
   "outputs": [
    {
     "name": "stdout",
     "output_type": "stream",
     "text": [
      "considering  10  epochs\n",
      "log loss =  1.4857452807498799\n",
      "kappa =  0.07933773266127053\n",
      "accuracy =  0.34188911704312114\n",
      "considering  20  epochs\n",
      "log loss =  1.4564693513089\n",
      "kappa =  0.08187658564291844\n",
      "accuracy =  0.3448551220625143\n",
      "considering  30  epochs\n",
      "log loss =  1.4599318510487067\n",
      "kappa =  0.08070321962575322\n",
      "accuracy =  0.34154688569472963\n",
      "considering  40  epochs\n",
      "log loss =  1.4667880793898693\n",
      "kappa =  0.07165870136839503\n",
      "accuracy =  0.33390371891398585\n",
      "considering  50  epochs\n",
      "log loss =  1.4760433372017485\n",
      "kappa =  0.06929074604334196\n",
      "accuracy =  0.3304814054300707\n",
      "considering  60  epochs\n",
      "log loss =  1.48776339712023\n",
      "kappa =  0.0716293958506864\n",
      "accuracy =  0.3308236367784622\n",
      "considering  70  epochs\n",
      "log loss =  1.4977909370223301\n",
      "kappa =  0.07370806346178504\n",
      "accuracy =  0.3311658681268538\n",
      "considering  80  epochs\n",
      "log loss =  1.5061954177887151\n",
      "kappa =  0.06976535520466953\n",
      "accuracy =  0.3264887063655031\n",
      "considering  90  epochs\n",
      "log loss =  1.516189093268709\n",
      "kappa =  0.0678863330689381\n",
      "accuracy =  0.324663472507415\n",
      "Wall time: 54.1 s\n"
     ]
    }
   ],
   "source": [
    "%%time\n",
    "errors = []\n",
    "Lk = []\n",
    "La = []\n",
    "\n",
    "\n",
    "\n",
    "r = range(10, 100, 10)\n",
    "\n",
    "for i in r:       \n",
    "    xbc = xgb.XGBClassifier(n_estimators = i, random_state=42, learning_rate= 0.1, max_depth= 8,  subsample= 0.7, \n",
    "                            n_jobs=-2, reg_lambda=5)\n",
    "    xbc.fit(Xpulse, y)\n",
    "    ll = log_loss(y_true, xbc.predict_proba(X_testpulse))\n",
    "    errors.append(ll)\n",
    "    y_pred = xbc.predict(X_testpulse)\n",
    "    k=cohen_kappa_score(y_true, y_pred)\n",
    "    a= accuracy_score(y_true, y_pred)\n",
    "    print(\"considering \", i, \" epochs\")\n",
    "    print(\"log loss = \", ll)\n",
    "    print(\"kappa = \", k)\n",
    "    print(\"accuracy = \", a)\n",
    "    Lk.append(k)\n",
    "    La.append(a)"
   ]
  },
  {
   "cell_type": "code",
   "execution_count": 13,
   "metadata": {},
   "outputs": [
    {
     "data": {
      "image/png": "[encoded data removed]",
      "text/plain": [
       "<Figure size 432x288 with 1 Axes>"
      ]
     },
     "metadata": {},
     "output_type": "display_data"
    },
    {
     "data": {
      "image/png": "[encoded data removed]",
      "text/plain": [
       "<Figure size 432x288 with 1 Axes>"
      ]
     },
     "metadata": {},
     "output_type": "display_data"
    }
   ],
   "source": [
    "plt.plot(r, errors, label = \"log loss\")\n",
    "plt.legend(loc='upper right')\n",
    "plt.show()\n",
    "\n",
    "plt.plot(r, Lk, label = \"kappa\")\n",
    "plt.legend(loc='lower right')\n",
    "plt.show()"
   ]
  },
  {
   "cell_type": "code",
   "execution_count": null,
   "metadata": {},
   "outputs": [],
   "source": []
  },
  {
   "cell_type": "code",
   "execution_count": null,
   "metadata": {},
   "outputs": [],
   "source": []
  },
  {
   "cell_type": "markdown",
   "metadata": {},
   "source": [
    "### Pulse Amplitude"
   ]
  },
  {
   "cell_type": "code",
   "execution_count": 14,
   "metadata": {},
   "outputs": [],
   "source": [
    "dataPath = \"C:\\\\Users\\\\i053131\\\\Desktop\\\\Epilepsie\\\\Dreem\\\\data\\\\raw\\\\\"\n",
    "trainOutput = pd.read_csv(dataPath + \"challenge_fichier_de_sortie_dentrainement_classification_en_stade_de_sommeil_a_laide_de_signaux_mesures_par_le_bandeau_dreem.csv\", sep=\";\")\n",
    "Y = trainOutput[\"label\"]"
   ]
  },
  {
   "cell_type": "code",
   "execution_count": 15,
   "metadata": {},
   "outputs": [],
   "source": [
    "pulseAmp = pd.read_csv('C:\\\\Users\\\\i053131\\\\Desktop\\\\Epilepsie\\\\Dreem\\\\data\\\\interim\\\\pulse_ampTrain.csv')\n",
    "pulseAmp = pulseAmp.iloc[:, 1:]\n"
   ]
  },
  {
   "cell_type": "code",
   "execution_count": 16,
   "metadata": {},
   "outputs": [
    {
     "data": {
      "text/plain": [
       "Index(['BPM_ir', 'IBI_ir', 'SDNN_ir', 'SDSD_ir', 'RMSSD_ir', 'pNN60_ir',\n",
       "       'pNN20_ir', 'MAD_ir', 'BPMlessthan30_ir', 'max_ir', 'min_ir', 'BPM_r',\n",
       "       'IBI_r', 'SDNN_r', 'SDSD_r', 'RMSSD_r', 'pNN60_r', 'pNN20_r', 'MAD_r',\n",
       "       'BPMlessthan30_r', 'max_r', 'min_r', 'Y'],\n",
       "      dtype='object')"
      ]
     },
     "execution_count": 16,
     "metadata": {},
     "output_type": "execute_result"
    }
   ],
   "source": [
    "pulse.columns"
   ]
  },
  {
   "cell_type": "code",
   "execution_count": 17,
   "metadata": {},
   "outputs": [],
   "source": [
    "dfa = pulseAmp\n",
    "dfa[\"Y\"] = trainOutput[\"label\"]"
   ]
  },
  {
   "cell_type": "code",
   "execution_count": 18,
   "metadata": {},
   "outputs": [],
   "source": [
    "trainA = dfa.iloc[0:int(df.shape[0]*0.8), :]\n",
    "testA = dfa.iloc[int(df.shape[0]*0.8):, :]"
   ]
  },
  {
   "cell_type": "code",
   "execution_count": 19,
   "metadata": {},
   "outputs": [],
   "source": [
    "Xa = trainA.iloc[:,:-1]\n",
    "ya = trainA.iloc[:,-1]\n",
    "Xa_test = testA.iloc[:,:-1]\n",
    "ya_true = testA.iloc[:,-1]"
   ]
  },
  {
   "cell_type": "code",
   "execution_count": 20,
   "metadata": {
    "scrolled": true
   },
   "outputs": [
    {
     "name": "stdout",
     "output_type": "stream",
     "text": [
      "considering  10  epochs\n",
      "log loss =  1.4749275337417675\n",
      "kappa =  0.053539518266137676\n",
      "accuracy =  0.31793292265571527\n",
      "considering  20  epochs\n",
      "log loss =  1.441541418810563\n",
      "kappa =  0.061379254870954414\n",
      "accuracy =  0.32272416153319644\n",
      "considering  30  epochs\n",
      "log loss =  1.4430087585849576\n",
      "kappa =  0.059904752426286456\n",
      "accuracy =  0.32010038786219486\n",
      "considering  40  epochs\n",
      "log loss =  1.4438404289437379\n",
      "kappa =  0.05686502828728002\n",
      "accuracy =  0.31759069130732376\n",
      "considering  50  epochs\n",
      "log loss =  1.447914667352745\n",
      "kappa =  0.05507492711490691\n",
      "accuracy =  0.3153091489847137\n",
      "considering  60  epochs\n",
      "log loss =  1.4462197605633529\n",
      "kappa =  0.053169474925901294\n",
      "accuracy =  0.3132557608943646\n",
      "considering  70  epochs\n",
      "log loss =  1.4526023675872262\n",
      "kappa =  0.05468553446947855\n",
      "accuracy =  0.3134839151266256\n",
      "considering  80  epochs\n",
      "log loss =  1.4559216111347661\n",
      "kappa =  0.051649424424124235\n",
      "accuracy =  0.310631987223363\n",
      "considering  90  epochs\n",
      "log loss =  1.4558948191486685\n",
      "kappa =  0.0498706120239899\n",
      "accuracy =  0.3084645220168834\n",
      "considering  100  epochs\n",
      "log loss =  1.459427425912797\n",
      "kappa =  0.05365253129794112\n",
      "accuracy =  0.3107460643394935\n",
      "Wall time: 49.1 s\n"
     ]
    }
   ],
   "source": [
    "%%time\n",
    "errors = []\n",
    "Lk = []\n",
    "La = []\n",
    "\n",
    "\n",
    "\n",
    "r = range(10, 110, 10)\n",
    "\n",
    "for i in r:       \n",
    "    xbc = xgb.XGBClassifier(n_estimators = i, random_state=42, learning_rate= 0.1, max_depth= 8,  subsample= 0.7, \n",
    "                            n_jobs=-2, reg_lambda=5)\n",
    "    xbc.fit(Xa, y)\n",
    "    ll = log_loss(y_true, xbc.predict_proba(Xa_test))\n",
    "    errors.append(ll)\n",
    "    y_pred = xbc.predict(Xa_test)\n",
    "    k=cohen_kappa_score(y_true, y_pred)\n",
    "    a= accuracy_score(y_true, y_pred)\n",
    "    print(\"considering \", i, \" epochs\")\n",
    "    print(\"log loss = \", ll)\n",
    "    print(\"kappa = \", k)\n",
    "    print(\"accuracy = \", a)\n",
    "    Lk.append(k)\n",
    "    La.append(a)"
   ]
  },
  {
   "cell_type": "code",
   "execution_count": 21,
   "metadata": {},
   "outputs": [
    {
     "data": {
      "image/png": "[encoded data removed]",
      "text/plain": [
       "<Figure size 432x288 with 1 Axes>"
      ]
     },
     "metadata": {},
     "output_type": "display_data"
    },
    {
     "data": {
      "image/png": "[encoded data removed]",
      "text/plain": [
       "<Figure size 432x288 with 1 Axes>"
      ]
     },
     "metadata": {},
     "output_type": "display_data"
    }
   ],
   "source": [
    "plt.plot(r, errors, label = \"log loss\")\n",
    "plt.legend(loc='upper right')\n",
    "plt.show()\n",
    "\n",
    "plt.plot(r, Lk, label = \"kappa\")\n",
    "plt.legend(loc='lower right')\n",
    "plt.show()"
   ]
  },
  {
   "cell_type": "code",
   "execution_count": 22,
   "metadata": {},
   "outputs": [
    {
     "name": "stdout",
     "output_type": "stream",
     "text": [
      "RangeIndex(start=0, stop=35064, step=1)\n",
      "RangeIndex(start=0, stop=35064, step=1)\n"
     ]
    }
   ],
   "source": [
    "print(Xa.index)\n",
    "print(Xpulse.index)"
   ]
  },
  {
   "cell_type": "code",
   "execution_count": 25,
   "metadata": {},
   "outputs": [],
   "source": [
    "Xap= pd.concat([Xa, Xpulse], axis = 1)\n",
    "Xap_test = pd.concat([Xa_test, X_testpulse], axis = 1)"
   ]
  },
  {
   "cell_type": "code",
   "execution_count": 26,
   "metadata": {},
   "outputs": [
    {
     "data": {
      "text/plain": [
       "Index(['amp_mean_ir', 'amp_std_ir', 'amp_mean_r', 'amp_std_r', 'BPM_ir',\n",
       "       'IBI_ir', 'SDNN_ir', 'SDSD_ir', 'RMSSD_ir', 'pNN60_ir', 'pNN20_ir',\n",
       "       'MAD_ir', 'BPMlessthan30_ir', 'max_ir', 'min_ir', 'BPM_r', 'IBI_r',\n",
       "       'SDNN_r', 'SDSD_r', 'RMSSD_r', 'pNN60_r', 'pNN20_r', 'MAD_r',\n",
       "       'BPMlessthan30_r', 'max_r', 'min_r'],\n",
       "      dtype='object')"
      ]
     },
     "execution_count": 26,
     "metadata": {},
     "output_type": "execute_result"
    }
   ],
   "source": []
  },
  {
   "cell_type": "code",
   "execution_count": 27,
   "metadata": {},
   "outputs": [
    {
     "name": "stdout",
     "output_type": "stream",
     "text": [
      "considering  10  epochs\n",
      "log loss =  1.471057087563772\n",
      "kappa =  0.07553994736839509\n",
      "accuracy =  0.3413187314624686\n",
      "considering  20  epochs\n",
      "log loss =  1.4333601066430028\n",
      "kappa =  0.07637341488450178\n",
      "accuracy =  0.337326032397901\n",
      "considering  30  epochs\n",
      "log loss =  1.4262454551195216\n",
      "kappa =  0.07486380041562346\n",
      "accuracy =  0.3349304129591604\n",
      "considering  40  epochs\n",
      "log loss =  1.4305494798663108\n",
      "kappa =  0.07200733518785929\n",
      "accuracy =  0.3319644079397673\n",
      "considering  50  epochs\n",
      "log loss =  1.443636691411513\n",
      "kappa =  0.07323699248761217\n",
      "accuracy =  0.33105179101072324\n",
      "considering  60  epochs\n",
      "log loss =  1.4509133829044856\n",
      "kappa =  0.06819612478685866\n",
      "accuracy =  0.32603239790098104\n",
      "considering  70  epochs\n",
      "log loss =  1.4598907811850643\n",
      "kappa =  0.06577804299187473\n",
      "accuracy =  0.32306639288158795\n",
      "considering  80  epochs\n",
      "log loss =  1.4665757583604266\n",
      "kappa =  0.06776947758067287\n",
      "accuracy =  0.32340862422997946\n",
      "considering  90  epochs\n",
      "log loss =  1.475879376922028\n",
      "kappa =  0.0651768157464041\n",
      "accuracy =  0.32089892767510836\n",
      "considering  100  epochs\n",
      "log loss =  1.4854286330803708\n",
      "kappa =  0.06800943130057935\n",
      "accuracy =  0.32238193018480493\n",
      "Wall time: 1min 31s\n"
     ]
    }
   ],
   "source": [
    "%%time\n",
    "errors = []\n",
    "Lk = []\n",
    "La = []\n",
    "\n",
    "\n",
    "\n",
    "r = range(10, 110, 10)\n",
    "\n",
    "for i in r:       \n",
    "    xbc = xgb.XGBClassifier(n_estimators = i, random_state=42, learning_rate= 0.1, max_depth= 8,  subsample= 0.7, \n",
    "                            n_jobs=-2, reg_lambda=5)\n",
    "    xbc.fit(Xap, y)\n",
    "    ll = log_loss(y_true, xbc.predict_proba(Xap_test))\n",
    "    errors.append(ll)\n",
    "    y_pred = xbc.predict(Xap_test)\n",
    "    k=cohen_kappa_score(y_true, y_pred)\n",
    "    a= accuracy_score(y_true, y_pred)\n",
    "    print(\"considering \", i, \" epochs\")\n",
    "    print(\"log loss = \", ll)\n",
    "    print(\"kappa = \", k)\n",
    "    print(\"accuracy = \", a)\n",
    "    Lk.append(k)\n",
    "    La.append(a)"
   ]
  },
  {
   "cell_type": "code",
   "execution_count": 28,
   "metadata": {},
   "outputs": [
    {
     "data": {
      "image/png": "[encoded data removed]",
      "text/plain": [
       "<Figure size 432x288 with 1 Axes>"
      ]
     },
     "metadata": {},
     "output_type": "display_data"
    },
    {
     "data": {
      "image/png": "[encoded data removed]",
      "text/plain": [
       "<Figure size 432x288 with 1 Axes>"
      ]
     },
     "metadata": {},
     "output_type": "display_data"
    }
   ],
   "source": [
    "plt.plot(r, errors, label = \"log loss\")\n",
    "plt.legend(loc='upper right')\n",
    "plt.show()\n",
    "\n",
    "plt.plot(r, Lk, label = \"kappa\")\n",
    "plt.legend(loc='lower right')\n",
    "plt.show()"
   ]
  },
  {
   "cell_type": "code",
   "execution_count": 29,
   "metadata": {},
   "outputs": [
    {
     "data": {
      "image/png": "[encoded data removed]",
      "text/plain": [
       "<Figure size 432x288 with 1 Axes>"
      ]
     },
     "metadata": {},
     "output_type": "display_data"
    },
    {
     "data": {
      "text/html": [
       "<div>\n",
       "<style scoped>\n",
       "    .dataframe tbody tr th:only-of-type {\n",
       "        vertical-align: middle;\n",
       "    }\n",
       "\n",
       "    .dataframe tbody tr th {\n",
       "        vertical-align: top;\n",
       "    }\n",
       "\n",
       "    .dataframe thead th {\n",
       "        text-align: right;\n",
       "    }\n",
       "</style>\n",
       "<table border=\"1\" class=\"dataframe\">\n",
       "  <thead>\n",
       "    <tr style=\"text-align: right;\">\n",
       "      <th></th>\n",
       "      <th>importance</th>\n",
       "    </tr>\n",
       "  </thead>\n",
       "  <tbody>\n",
       "    <tr>\n",
       "      <th>amp_mean_ir</th>\n",
       "      <td>0.081769</td>\n",
       "    </tr>\n",
       "    <tr>\n",
       "      <th>amp_mean_r</th>\n",
       "      <td>0.077883</td>\n",
       "    </tr>\n",
       "    <tr>\n",
       "      <th>SDNN_ir</th>\n",
       "      <td>0.058036</td>\n",
       "    </tr>\n",
       "    <tr>\n",
       "      <th>min_ir</th>\n",
       "      <td>0.056930</td>\n",
       "    </tr>\n",
       "    <tr>\n",
       "      <th>amp_std_ir</th>\n",
       "      <td>0.056407</td>\n",
       "    </tr>\n",
       "    <tr>\n",
       "      <th>min_r</th>\n",
       "      <td>0.052874</td>\n",
       "    </tr>\n",
       "    <tr>\n",
       "      <th>amp_std_r</th>\n",
       "      <td>0.052674</td>\n",
       "    </tr>\n",
       "    <tr>\n",
       "      <th>SDNN_r</th>\n",
       "      <td>0.052490</td>\n",
       "    </tr>\n",
       "    <tr>\n",
       "      <th>max_ir</th>\n",
       "      <td>0.050263</td>\n",
       "    </tr>\n",
       "    <tr>\n",
       "      <th>BPM_ir</th>\n",
       "      <td>0.046315</td>\n",
       "    </tr>\n",
       "    <tr>\n",
       "      <th>max_r</th>\n",
       "      <td>0.043488</td>\n",
       "    </tr>\n",
       "    <tr>\n",
       "      <th>SDSD_ir</th>\n",
       "      <td>0.043273</td>\n",
       "    </tr>\n",
       "    <tr>\n",
       "      <th>pNN20_ir</th>\n",
       "      <td>0.042213</td>\n",
       "    </tr>\n",
       "    <tr>\n",
       "      <th>pNN20_r</th>\n",
       "      <td>0.041230</td>\n",
       "    </tr>\n",
       "    <tr>\n",
       "      <th>pNN60_ir</th>\n",
       "      <td>0.040646</td>\n",
       "    </tr>\n",
       "    <tr>\n",
       "      <th>pNN60_r</th>\n",
       "      <td>0.039249</td>\n",
       "    </tr>\n",
       "    <tr>\n",
       "      <th>SDSD_r</th>\n",
       "      <td>0.038020</td>\n",
       "    </tr>\n",
       "    <tr>\n",
       "      <th>BPM_r</th>\n",
       "      <td>0.035270</td>\n",
       "    </tr>\n",
       "    <tr>\n",
       "      <th>MAD_r</th>\n",
       "      <td>0.030554</td>\n",
       "    </tr>\n",
       "    <tr>\n",
       "      <th>MAD_ir</th>\n",
       "      <td>0.029724</td>\n",
       "    </tr>\n",
       "    <tr>\n",
       "      <th>RMSSD_ir</th>\n",
       "      <td>0.014486</td>\n",
       "    </tr>\n",
       "    <tr>\n",
       "      <th>RMSSD_r</th>\n",
       "      <td>0.011275</td>\n",
       "    </tr>\n",
       "    <tr>\n",
       "      <th>IBI_ir</th>\n",
       "      <td>0.003149</td>\n",
       "    </tr>\n",
       "    <tr>\n",
       "      <th>IBI_r</th>\n",
       "      <td>0.001782</td>\n",
       "    </tr>\n",
       "    <tr>\n",
       "      <th>BPMlessthan30_r</th>\n",
       "      <td>0.000000</td>\n",
       "    </tr>\n",
       "    <tr>\n",
       "      <th>BPMlessthan30_ir</th>\n",
       "      <td>0.000000</td>\n",
       "    </tr>\n",
       "  </tbody>\n",
       "</table>\n",
       "</div>"
      ],
      "text/plain": [
       "                  importance\n",
       "amp_mean_ir         0.081769\n",
       "amp_mean_r          0.077883\n",
       "SDNN_ir             0.058036\n",
       "min_ir              0.056930\n",
       "amp_std_ir          0.056407\n",
       "min_r               0.052874\n",
       "amp_std_r           0.052674\n",
       "SDNN_r              0.052490\n",
       "max_ir              0.050263\n",
       "BPM_ir              0.046315\n",
       "max_r               0.043488\n",
       "SDSD_ir             0.043273\n",
       "pNN20_ir            0.042213\n",
       "pNN20_r             0.041230\n",
       "pNN60_ir            0.040646\n",
       "pNN60_r             0.039249\n",
       "SDSD_r              0.038020\n",
       "BPM_r               0.035270\n",
       "MAD_r               0.030554\n",
       "MAD_ir              0.029724\n",
       "RMSSD_ir            0.014486\n",
       "RMSSD_r             0.011275\n",
       "IBI_ir              0.003149\n",
       "IBI_r               0.001782\n",
       "BPMlessthan30_r     0.000000\n",
       "BPMlessthan30_ir    0.000000"
      ]
     },
     "execution_count": 29,
     "metadata": {},
     "output_type": "execute_result"
    }
   ],
   "source": [
    "importances = xbc.feature_importances_\n",
    "feature_importances = pd.DataFrame(importances, index = Xap.columns, \n",
    "                                   columns=['importance']).sort_values('importance', ascending=False)\n",
    "plt.bar(feature_importances.index, feature_importances[\"importance\"])\n",
    "plt.show()\n",
    "\n",
    "feature_importances.head(50)"
   ]
  },
  {
   "cell_type": "markdown",
   "metadata": {},
   "source": [
    "## accelerometer\n",
    "\n",
    "- kappa =  0.20032681770992822\n",
    "- accuracy =  0.45550992470910334"
   ]
  },
  {
   "cell_type": "code",
   "execution_count": null,
   "metadata": {},
   "outputs": [],
   "source": []
  },
  {
   "cell_type": "code",
   "execution_count": 33,
   "metadata": {},
   "outputs": [
    {
     "name": "stdout",
     "output_type": "stream",
     "text": [
      "Fitting 3 folds for each of 9 candidates, totalling 27 fits\n"
     ]
    },
    {
     "name": "stderr",
     "output_type": "stream",
     "text": [
      "[Parallel(n_jobs=-1)]: Done  27 out of  27 | elapsed: 10.0min finished\n"
     ]
    },
    {
     "name": "stdout",
     "output_type": "stream",
     "text": [
      "{'learning_rate': 0.1, 'max_depth': 5, 'min_samples_leaf': 1, 'min_samples_split': 2, 'subsample': 0.8}\n",
      "kappa:  0.2014534583916251\n",
      "accurancy for n_estimators  =  0.45436915354779833\n"
     ]
    }
   ],
   "source": [
    "gbc = GradientBoostingClassifier(n_estimators = 100, random_state=42)\n",
    "\n",
    "r1 = [1]\n",
    "r2 = [2]\n",
    "parametres = {'max_depth': [5, 10, 15] ,'learning_rate': [0.1], \"min_samples_leaf\" : r1,  \n",
    "              \"min_samples_split\" : r2, 'subsample': [0.6, 0.8, 1.0]}\n",
    "    \n",
    "ck_score = make_scorer(cohen_kappa_score)\n",
    "grid = GridSearchCV(estimator=gbc, param_grid=parametres, scoring=ck_score, n_jobs=-1, verbose=2)\n",
    "\n",
    "grid_fitted = grid.fit(Xacc,y)\n",
    "print(grid_fitted.best_params_)\n",
    "\n",
    "y_pred = grid.predict(X_testacc)\n",
    "\n",
    "print(\"kappa: \", cohen_kappa_score(y_true, y_pred))\n",
    "print(\"accurancy for n_estimators  = \" , accuracy_score(y_true, y_pred))"
   ]
  },
  {
   "cell_type": "code",
   "execution_count": 34,
   "metadata": {},
   "outputs": [
    {
     "name": "stdout",
     "output_type": "stream",
     "text": [
      "for n_estimators=  10\n",
      "log loss =  1.3003055115808337\n",
      "kappa =  0.17292956084203437\n",
      "accuracy =  0.44455852156057496\n",
      "for n_estimators=  20\n",
      "log loss =  1.2509563445649654\n",
      "kappa =  0.18748938060288622\n",
      "accuracy =  0.45037645448323066\n",
      "for n_estimators=  30\n",
      "log loss =  1.237839088479316\n",
      "kappa =  0.1955960609605949\n",
      "accuracy =  0.4544832306639288\n",
      "for n_estimators=  40\n",
      "log loss =  1.2335416044354879\n",
      "kappa =  0.1955447161248295\n",
      "accuracy =  0.4539128450832763\n",
      "for n_estimators=  50\n",
      "log loss =  1.2314885955667123\n",
      "kappa =  0.200631605028033\n",
      "accuracy =  0.45653661875427787\n",
      "for n_estimators=  60\n",
      "log loss =  1.23084271494082\n",
      "kappa =  0.20032681770992822\n",
      "accuracy =  0.45550992470910334\n",
      "for n_estimators=  70\n",
      "log loss =  1.2313083882122569\n",
      "kappa =  0.20276523940652935\n",
      "accuracy =  0.4567647729865389\n",
      "for n_estimators=  80\n",
      "log loss =  1.2315300012910095\n",
      "kappa =  0.20144187547225212\n",
      "accuracy =  0.4549395391284508\n",
      "for n_estimators=  90\n",
      "log loss =  1.2324528085775655\n",
      "kappa =  0.19985671328926136\n",
      "accuracy =  0.45334245950262375\n",
      "for n_estimators=  100\n",
      "log loss =  1.2331884721301067\n",
      "kappa =  0.2014534583916251\n",
      "accuracy =  0.45436915354779833\n",
      "for n_estimators=  110\n",
      "log loss =  1.2340597537320455\n",
      "kappa =  0.20366863254875933\n",
      "accuracy =  0.45585215605749485\n",
      "for n_estimators=  120\n",
      "log loss =  1.2351901712198736\n",
      "kappa =  0.20139825573873804\n",
      "accuracy =  0.4541409993155373\n",
      "for n_estimators=  130\n",
      "log loss =  1.2358475793868957\n",
      "kappa =  0.20175734449949967\n",
      "accuracy =  0.4542550764316678\n",
      "for n_estimators=  140\n",
      "log loss =  1.2368170499144922\n",
      "kappa =  0.20424393071085245\n",
      "accuracy =  0.4556240018252339\n",
      "for n_estimators=  150\n",
      "log loss =  1.2376966211269298\n",
      "kappa =  0.20300515485111303\n",
      "accuracy =  0.45436915354779833\n",
      "for n_estimators=  160\n",
      "log loss =  1.239056322754281\n",
      "kappa =  0.20038437325604552\n",
      "accuracy =  0.45254391968971025\n",
      "for n_estimators=  170\n",
      "log loss =  1.2397521531331637\n",
      "kappa =  0.20263540413604675\n",
      "accuracy =  0.4539128450832763\n",
      "for n_estimators=  180\n",
      "log loss =  1.240491177048964\n",
      "kappa =  0.19811272810803227\n",
      "accuracy =  0.45071868583162217\n",
      "for n_estimators=  190\n",
      "log loss =  1.2416864218394765\n",
      "kappa =  0.19686463826620826\n",
      "accuracy =  0.4498060689025781\n"
     ]
    }
   ],
   "source": [
    "errors = []\n",
    "Lk = []\n",
    "La = []\n",
    "\n",
    "r = range(10, 200 , 10)\n",
    "\n",
    "for i in r:\n",
    "    gbc = GradientBoostingClassifier(n_estimators = i, random_state=42, learning_rate= 0.1, max_depth= 5, \n",
    "                                 min_samples_leaf= 1, min_samples_split= 2, subsample= 0.8)\n",
    "    gbc.fit(Xacc, y)\n",
    "    ll = log_loss(y_true, gbc.predict_proba(X_testacc))\n",
    "    errors.append(ll)\n",
    "    y_pred = gbc.predict(X_testacc)\n",
    "    k=cohen_kappa_score(y_true, y_pred)\n",
    "    a= accuracy_score(y_true, y_pred)\n",
    "    print(\"for n_estimators= \", i)\n",
    "    print(\"log loss = \", ll)\n",
    "    print(\"kappa = \", k)\n",
    "    print(\"accuracy = \", a)\n",
    "    Lk.append(k)\n",
    "    La.append(a)"
   ]
  },
  {
   "cell_type": "code",
   "execution_count": 35,
   "metadata": {},
   "outputs": [
    {
     "data": {
      "text/plain": [
       "[<matplotlib.lines.Line2D at 0x1942ad48a20>]"
      ]
     },
     "execution_count": 35,
     "metadata": {},
     "output_type": "execute_result"
    },
    {
     "data": {
      "image/png": "[encoded data removed]",
      "text/plain": [
       "<Figure size 432x288 with 1 Axes>"
      ]
     },
     "metadata": {},
     "output_type": "display_data"
    }
   ],
   "source": [
    "plt.plot(r, errors, label = \"log loss\")"
   ]
  },
  {
   "cell_type": "code",
   "execution_count": 36,
   "metadata": {},
   "outputs": [
    {
     "data": {
      "text/plain": [
       "<matplotlib.legend.Legend at 0x1942ac40550>"
      ]
     },
     "execution_count": 36,
     "metadata": {},
     "output_type": "execute_result"
    },
    {
     "data": {
      "image/png": "[encoded data removed]",
      "text/plain": [
       "<Figure size 432x288 with 1 Axes>"
      ]
     },
     "metadata": {},
     "output_type": "display_data"
    }
   ],
   "source": [
    "plt.plot(r, La, label = \"accuracy\")\n",
    "plt.plot(r, Lk, label = \"kappa\")\n",
    "plt.legend(loc='lower right')"
   ]
  },
  {
   "cell_type": "markdown",
   "metadata": {},
   "source": [
    "go for \n",
    "- n_estimators=  60\n",
    "- log loss =  1.23084271494082\n",
    "- kappa =  0.20032681770992822\n",
    "- accuracy =  0.45550992470910334"
   ]
  },
  {
   "cell_type": "code",
   "execution_count": 37,
   "metadata": {},
   "outputs": [
    {
     "name": "stdout",
     "output_type": "stream",
     "text": [
      "for n_estimators=  60\n",
      "log loss =  1.23084271494082\n",
      "kappa =  0.20032681770992822\n",
      "accuracy =  0.45550992470910334\n"
     ]
    }
   ],
   "source": [
    "errors = []\n",
    "Lk = []\n",
    "La = []\n",
    "\n",
    "i=60\n",
    "gbc = GradientBoostingClassifier(n_estimators = i, random_state=42, learning_rate= 0.1, max_depth= 5, \n",
    "                             min_samples_leaf= 1, min_samples_split= 2, subsample= 0.8)\n",
    "gbc.fit(Xacc, y)\n",
    "ll = log_loss(y_true, gbc.predict_proba(X_testacc))\n",
    "\n",
    "y_pred = gbc.predict(X_testacc)\n",
    "k=cohen_kappa_score(y_true, y_pred)\n",
    "a= accuracy_score(y_true, y_pred)\n",
    "print(\"for n_estimators= \", i)\n",
    "print(\"log loss = \", ll)\n",
    "print(\"kappa = \", k)\n",
    "print(\"accuracy = \", a)"
   ]
  },
  {
   "cell_type": "code",
   "execution_count": 38,
   "metadata": {},
   "outputs": [
    {
     "name": "stdout",
     "output_type": "stream",
     "text": [
      "Confusion matrix, without normalization\n",
      "[[ 411    2  398  100   84]\n",
      " [   8    0  156   76   27]\n",
      " [ 119    2 2078  916  166]\n",
      " [  73    0 1218 1307  102]\n",
      " [ 108    1  916  301  197]]\n",
      "Normalized confusion matrix\n",
      "[[4.13e-01 2.01e-03 4.00e-01 1.01e-01 8.44e-02]\n",
      " [3.00e-02 0.00e+00 5.84e-01 2.85e-01 1.01e-01]\n",
      " [3.63e-02 6.10e-04 6.33e-01 2.79e-01 5.06e-02]\n",
      " [2.70e-02 0.00e+00 4.51e-01 4.84e-01 3.78e-02]\n",
      " [7.09e-02 6.57e-04 6.01e-01 1.98e-01 1.29e-01]]\n"
     ]
    },
    {
     "data": {
      "image/png": "[encoded data removed]",
      "text/plain": [
       "<Figure size 432x288 with 2 Axes>"
      ]
     },
     "metadata": {},
     "output_type": "display_data"
    },
    {
     "data": {
      "image/png": "[encoded data removed]",
      "text/plain": [
       "<Figure size 432x288 with 2 Axes>"
      ]
     },
     "metadata": {},
     "output_type": "display_data"
    }
   ],
   "source": [
    "cnf_matrix = confusion_matrix(y_true, y_pred)\n",
    "np.set_printoptions(precision=2)\n",
    "\n",
    "plt.figure()\n",
    "plot_confusion_matrix(cnf_matrix, classes=[0, 1, 2, 3, 4], title='Confusion matrix, without normalization')\n",
    "\n",
    "plt.figure()\n",
    "plot_confusion_matrix(cnf_matrix, classes=[0, 1, 2, 3, 4], normalize=True,\n",
    "                      title='Normalized confusion matrix')\n",
    "\n",
    "plt.show()"
   ]
  },
  {
   "cell_type": "code",
   "execution_count": 39,
   "metadata": {},
   "outputs": [
    {
     "data": {
      "image/png": "[encoded data removed]",
      "text/plain": [
       "<Figure size 432x288 with 1 Axes>"
      ]
     },
     "metadata": {},
     "output_type": "display_data"
    },
    {
     "data": {
      "text/html": [
       "<div>\n",
       "<style scoped>\n",
       "    .dataframe tbody tr th:only-of-type {\n",
       "        vertical-align: middle;\n",
       "    }\n",
       "\n",
       "    .dataframe tbody tr th {\n",
       "        vertical-align: top;\n",
       "    }\n",
       "\n",
       "    .dataframe thead th {\n",
       "        text-align: right;\n",
       "    }\n",
       "</style>\n",
       "<table border=\"1\" class=\"dataframe\">\n",
       "  <thead>\n",
       "    <tr style=\"text-align: right;\">\n",
       "      <th></th>\n",
       "      <th>importance</th>\n",
       "    </tr>\n",
       "  </thead>\n",
       "  <tbody>\n",
       "    <tr>\n",
       "      <th>di</th>\n",
       "      <td>0.406980</td>\n",
       "    </tr>\n",
       "    <tr>\n",
       "      <th>tat</th>\n",
       "      <td>0.096994</td>\n",
       "    </tr>\n",
       "    <tr>\n",
       "      <th>theta</th>\n",
       "      <td>0.092444</td>\n",
       "    </tr>\n",
       "    <tr>\n",
       "      <th>Az</th>\n",
       "      <td>0.087422</td>\n",
       "    </tr>\n",
       "    <tr>\n",
       "      <th>zc</th>\n",
       "      <td>0.084391</td>\n",
       "    </tr>\n",
       "    <tr>\n",
       "      <th>Ax</th>\n",
       "      <td>0.079032</td>\n",
       "    </tr>\n",
       "    <tr>\n",
       "      <th>phi</th>\n",
       "      <td>0.077345</td>\n",
       "    </tr>\n",
       "    <tr>\n",
       "      <th>Ay</th>\n",
       "      <td>0.075392</td>\n",
       "    </tr>\n",
       "  </tbody>\n",
       "</table>\n",
       "</div>"
      ],
      "text/plain": [
       "       importance\n",
       "di       0.406980\n",
       "tat      0.096994\n",
       "theta    0.092444\n",
       "Az       0.087422\n",
       "zc       0.084391\n",
       "Ax       0.079032\n",
       "phi      0.077345\n",
       "Ay       0.075392"
      ]
     },
     "execution_count": 39,
     "metadata": {},
     "output_type": "execute_result"
    }
   ],
   "source": [
    "importances = gbc.feature_importances_\n",
    "feature_importances = pd.DataFrame(importances, index = Xacc.columns, \n",
    "                                   columns=['importance']).sort_values('importance', ascending=False)\n",
    "plt.bar(feature_importances.index, feature_importances[\"importance\"])\n",
    "plt.show()\n",
    "\n",
    "feature_importances.head(50)"
   ]
  },
  {
   "cell_type": "markdown",
   "metadata": {},
   "source": [
    "## EEG \n",
    "\n",
    "- for n_estimators=  50\n",
    "- log loss =  0.643\n",
    "- kappa =  0.677\n",
    "- accuracy =  0.770"
   ]
  },
  {
   "cell_type": "code",
   "execution_count": 40,
   "metadata": {},
   "outputs": [
    {
     "name": "stdout",
     "output_type": "stream",
     "text": [
      "Fitting 3 folds for each of 9 candidates, totalling 27 fits\n"
     ]
    },
    {
     "name": "stderr",
     "output_type": "stream",
     "text": [
      "[Parallel(n_jobs=-1)]: Done  27 out of  27 | elapsed: 29.1min finished\n"
     ]
    },
    {
     "name": "stdout",
     "output_type": "stream",
     "text": [
      "{'learning_rate': 0.1, 'max_depth': 15, 'min_samples_leaf': 1, 'min_samples_split': 2, 'subsample': 0.6}\n",
      "kappa:  0.6809982803479084\n",
      "accurancy for n_estimators  =  0.7724161533196441\n"
     ]
    }
   ],
   "source": [
    "gbc = GradientBoostingClassifier(n_estimators = 100, random_state=42)\n",
    "\n",
    "r1 = [1]\n",
    "r2 = [2]\n",
    "parametres = {'max_depth': [5, 10, 15] ,'learning_rate': [0.1], \"min_samples_leaf\" : r1,  \n",
    "              \"min_samples_split\" : r2, 'subsample': [0.6, 0.8, 1.0]}\n",
    "    \n",
    "ck_score = make_scorer(cohen_kappa_score)\n",
    "grid = GridSearchCV(estimator=gbc, param_grid=parametres, scoring=ck_score, n_jobs=-1, verbose=2)\n",
    "\n",
    "grid_fitted = grid.fit(Xeeg,y)\n",
    "print(grid_fitted.best_params_)\n",
    "\n",
    "y_pred = grid.predict(X_testeeg)\n",
    "\n",
    "print(\"kappa: \", cohen_kappa_score(y_true, y_pred))\n",
    "print(\"accurancy for n_estimators  = \" , accuracy_score(y_true, y_pred))"
   ]
  },
  {
   "cell_type": "code",
   "execution_count": 41,
   "metadata": {},
   "outputs": [
    {
     "name": "stdout",
     "output_type": "stream",
     "text": [
      "for n_estimators=  10\n",
      "log loss =  0.8059113371481063\n",
      "kappa =  0.6442403658948297\n",
      "accuracy =  0.7465206479580196\n",
      "for n_estimators=  20\n",
      "log loss =  0.6727804586373809\n",
      "kappa =  0.6580532906993616\n",
      "accuracy =  0.756331279945243\n",
      "for n_estimators=  30\n",
      "log loss =  0.6424191095187666\n",
      "kappa =  0.6674617379004719\n",
      "accuracy =  0.7629477526808123\n",
      "for n_estimators=  40\n",
      "log loss =  0.6388770979619007\n",
      "kappa =  0.6684017600648389\n",
      "accuracy =  0.7636322153775953\n",
      "for n_estimators=  50\n",
      "log loss =  0.6428503684054544\n",
      "kappa =  0.6766699915692966\n",
      "accuracy =  0.7694501483002509\n",
      "for n_estimators=  60\n",
      "log loss =  0.6529632376891017\n",
      "kappa =  0.6764571414246807\n",
      "accuracy =  0.76922199406799\n",
      "for n_estimators=  70\n",
      "log loss =  0.6671445117667734\n",
      "kappa =  0.6784415011887965\n",
      "accuracy =  0.770590919461556\n",
      "for n_estimators=  80\n",
      "log loss =  0.6780241124650682\n",
      "kappa =  0.6810357439127855\n",
      "accuracy =  0.7724161533196441\n",
      "for n_estimators=  90\n",
      "log loss =  0.6890969063851781\n",
      "kappa =  0.6799289042561721\n",
      "accuracy =  0.7717316906228611\n",
      "for n_estimators=  100\n",
      "log loss =  0.7015094298672933\n",
      "kappa =  0.6809982803479084\n",
      "accuracy =  0.7724161533196441\n",
      "for n_estimators=  110\n",
      "log loss =  0.7170530139256996\n",
      "kappa =  0.6800826262705149\n",
      "accuracy =  0.7717316906228611\n"
     ]
    }
   ],
   "source": [
    "errors = []\n",
    "Lk = []\n",
    "La = []\n",
    "\n",
    "r = range(10, 120 , 10)\n",
    "\n",
    "for i in r:\n",
    "    gbc = GradientBoostingClassifier(n_estimators = i, random_state=42, learning_rate= 0.1, max_depth= 15, \n",
    "                                 min_samples_leaf= 1, min_samples_split= 2, subsample= 0.6)\n",
    "    gbc.fit(Xeeg, y)\n",
    "    ll = log_loss(y_true, gbc.predict_proba(X_testeeg))\n",
    "    errors.append(ll)\n",
    "    y_pred = gbc.predict(X_testeeg)\n",
    "    k=cohen_kappa_score(y_true, y_pred)\n",
    "    a= accuracy_score(y_true, y_pred)\n",
    "    print(\"for n_estimators= \", i)\n",
    "    print(\"log loss = \", ll)\n",
    "    print(\"kappa = \", k)\n",
    "    print(\"accuracy = \", a)\n",
    "    Lk.append(k)\n",
    "    La.append(a)"
   ]
  },
  {
   "cell_type": "code",
   "execution_count": 42,
   "metadata": {},
   "outputs": [
    {
     "data": {
      "text/plain": [
       "[<matplotlib.lines.Line2D at 0x19424801198>]"
      ]
     },
     "execution_count": 42,
     "metadata": {},
     "output_type": "execute_result"
    },
    {
     "data": {
      "image/png": "[encoded data removed]",
      "text/plain": [
       "<Figure size 432x288 with 1 Axes>"
      ]
     },
     "metadata": {},
     "output_type": "display_data"
    }
   ],
   "source": [
    "plt.plot(r, errors, label = \"log loss\")"
   ]
  },
  {
   "cell_type": "code",
   "execution_count": 43,
   "metadata": {},
   "outputs": [
    {
     "data": {
      "text/plain": [
       "<matplotlib.legend.Legend at 0x1942ac3e278>"
      ]
     },
     "execution_count": 43,
     "metadata": {},
     "output_type": "execute_result"
    },
    {
     "data": {
      "image/png": "[encoded data removed]",
      "text/plain": [
       "<Figure size 432x288 with 1 Axes>"
      ]
     },
     "metadata": {},
     "output_type": "display_data"
    }
   ],
   "source": [
    "plt.plot(r, La, label = \"accuracy\")\n",
    "plt.plot(r, Lk, label = \"kappa\")\n",
    "plt.legend(loc='lower right')"
   ]
  },
  {
   "cell_type": "markdown",
   "metadata": {},
   "source": [
    "go for n estimators = 50 "
   ]
  },
  {
   "cell_type": "code",
   "execution_count": 44,
   "metadata": {},
   "outputs": [
    {
     "name": "stdout",
     "output_type": "stream",
     "text": [
      "for n_estimators=  50\n",
      "log loss =  0.6428503684054544\n",
      "kappa =  0.6766699915692966\n",
      "accuracy =  0.7694501483002509\n"
     ]
    }
   ],
   "source": [
    "errors = []\n",
    "Lk = []\n",
    "La = []\n",
    "\n",
    "i=50\n",
    "gbc = GradientBoostingClassifier(n_estimators = i, random_state=42, learning_rate= 0.1, max_depth= 15, \n",
    "                             min_samples_leaf= 1, min_samples_split= 2, subsample= 0.6)\n",
    "gbc.fit(Xeeg, y)\n",
    "ll = log_loss(y_true, gbc.predict_proba(X_testeeg))\n",
    "\n",
    "y_pred = gbc.predict(X_testeeg)\n",
    "k=cohen_kappa_score(y_true, y_pred)\n",
    "a= accuracy_score(y_true, y_pred)\n",
    "print(\"for n_estimators= \", i)\n",
    "print(\"log loss = \", ll)\n",
    "print(\"kappa = \", k)\n",
    "print(\"accuracy = \", a)"
   ]
  },
  {
   "cell_type": "code",
   "execution_count": 45,
   "metadata": {},
   "outputs": [
    {
     "name": "stdout",
     "output_type": "stream",
     "text": [
      "Confusion matrix, without normalization\n",
      "[[ 802    8  117   42   26]\n",
      " [  35   44   87    9   92]\n",
      " [  90    8 2547  383  253]\n",
      " [  65    0  335 2293    7]\n",
      " [  48    3  356   57 1059]]\n",
      "Normalized confusion matrix\n",
      "[[0.81 0.01 0.12 0.04 0.03]\n",
      " [0.13 0.16 0.33 0.03 0.34]\n",
      " [0.03 0.   0.78 0.12 0.08]\n",
      " [0.02 0.   0.12 0.85 0.  ]\n",
      " [0.03 0.   0.23 0.04 0.7 ]]\n"
     ]
    },
    {
     "data": {
      "image/png": "[encoded data removed]",
      "text/plain": [
       "<Figure size 432x288 with 2 Axes>"
      ]
     },
     "metadata": {},
     "output_type": "display_data"
    },
    {
     "data": {
      "image/png": "[encoded data removed]",
      "text/plain": [
       "<Figure size 432x288 with 2 Axes>"
      ]
     },
     "metadata": {},
     "output_type": "display_data"
    }
   ],
   "source": [
    "cnf_matrix = confusion_matrix(y_true, y_pred)\n",
    "np.set_printoptions(precision=2)\n",
    "\n",
    "plt.figure()\n",
    "plot_confusion_matrix(cnf_matrix, classes=[0, 1, 2, 3, 4], title='Confusion matrix, without normalization')\n",
    "\n",
    "plt.figure()\n",
    "plot_confusion_matrix(cnf_matrix, classes=[0, 1, 2, 3, 4], normalize=True,\n",
    "                      title='Normalized confusion matrix')\n",
    "\n",
    "plt.show()"
   ]
  },
  {
   "cell_type": "code",
   "execution_count": 46,
   "metadata": {},
   "outputs": [
    {
     "data": {
      "image/png": "[encoded data removed]",
      "text/plain": [
       "<Figure size 432x288 with 1 Axes>"
      ]
     },
     "metadata": {},
     "output_type": "display_data"
    },
    {
     "data": {
      "text/html": [
       "<div>\n",
       "<style scoped>\n",
       "    .dataframe tbody tr th:only-of-type {\n",
       "        vertical-align: middle;\n",
       "    }\n",
       "\n",
       "    .dataframe tbody tr th {\n",
       "        vertical-align: top;\n",
       "    }\n",
       "\n",
       "    .dataframe thead th {\n",
       "        text-align: right;\n",
       "    }\n",
       "</style>\n",
       "<table border=\"1\" class=\"dataframe\">\n",
       "  <thead>\n",
       "    <tr style=\"text-align: right;\">\n",
       "      <th></th>\n",
       "      <th>importance</th>\n",
       "    </tr>\n",
       "  </thead>\n",
       "  <tbody>\n",
       "    <tr>\n",
       "      <th>eeg1_Delta0</th>\n",
       "      <td>0.080099</td>\n",
       "    </tr>\n",
       "    <tr>\n",
       "      <th>eeg2_Delta0</th>\n",
       "      <td>0.065535</td>\n",
       "    </tr>\n",
       "    <tr>\n",
       "      <th>eeg1_Beta0</th>\n",
       "      <td>0.057204</td>\n",
       "    </tr>\n",
       "    <tr>\n",
       "      <th>eeg2_Beta0</th>\n",
       "      <td>0.057018</td>\n",
       "    </tr>\n",
       "    <tr>\n",
       "      <th>eeg1_Theta0</th>\n",
       "      <td>0.054848</td>\n",
       "    </tr>\n",
       "    <tr>\n",
       "      <th>eeg1_Alpha0</th>\n",
       "      <td>0.054742</td>\n",
       "    </tr>\n",
       "    <tr>\n",
       "      <th>eeg1_Gamma0</th>\n",
       "      <td>0.052833</td>\n",
       "    </tr>\n",
       "    <tr>\n",
       "      <th>eeg2_Theta0</th>\n",
       "      <td>0.052266</td>\n",
       "    </tr>\n",
       "    <tr>\n",
       "      <th>eeg2_Alpha0</th>\n",
       "      <td>0.049620</td>\n",
       "    </tr>\n",
       "    <tr>\n",
       "      <th>eeg2_Gamma0</th>\n",
       "      <td>0.049418</td>\n",
       "    </tr>\n",
       "    <tr>\n",
       "      <th>eeg4_Delta0</th>\n",
       "      <td>0.046853</td>\n",
       "    </tr>\n",
       "    <tr>\n",
       "      <th>eeg3_Delta0</th>\n",
       "      <td>0.046716</td>\n",
       "    </tr>\n",
       "    <tr>\n",
       "      <th>eeg4_Alpha0</th>\n",
       "      <td>0.044054</td>\n",
       "    </tr>\n",
       "    <tr>\n",
       "      <th>eeg4_Theta0</th>\n",
       "      <td>0.043382</td>\n",
       "    </tr>\n",
       "    <tr>\n",
       "      <th>eeg4_Gamma0</th>\n",
       "      <td>0.043253</td>\n",
       "    </tr>\n",
       "    <tr>\n",
       "      <th>eeg4_Beta0</th>\n",
       "      <td>0.042988</td>\n",
       "    </tr>\n",
       "    <tr>\n",
       "      <th>eeg3_Gamma0</th>\n",
       "      <td>0.041942</td>\n",
       "    </tr>\n",
       "    <tr>\n",
       "      <th>eeg3_Alpha0</th>\n",
       "      <td>0.040002</td>\n",
       "    </tr>\n",
       "    <tr>\n",
       "      <th>eeg3_Theta0</th>\n",
       "      <td>0.039932</td>\n",
       "    </tr>\n",
       "    <tr>\n",
       "      <th>eeg3_Beta0</th>\n",
       "      <td>0.037295</td>\n",
       "    </tr>\n",
       "  </tbody>\n",
       "</table>\n",
       "</div>"
      ],
      "text/plain": [
       "             importance\n",
       "eeg1_Delta0    0.080099\n",
       "eeg2_Delta0    0.065535\n",
       "eeg1_Beta0     0.057204\n",
       "eeg2_Beta0     0.057018\n",
       "eeg1_Theta0    0.054848\n",
       "eeg1_Alpha0    0.054742\n",
       "eeg1_Gamma0    0.052833\n",
       "eeg2_Theta0    0.052266\n",
       "eeg2_Alpha0    0.049620\n",
       "eeg2_Gamma0    0.049418\n",
       "eeg4_Delta0    0.046853\n",
       "eeg3_Delta0    0.046716\n",
       "eeg4_Alpha0    0.044054\n",
       "eeg4_Theta0    0.043382\n",
       "eeg4_Gamma0    0.043253\n",
       "eeg4_Beta0     0.042988\n",
       "eeg3_Gamma0    0.041942\n",
       "eeg3_Alpha0    0.040002\n",
       "eeg3_Theta0    0.039932\n",
       "eeg3_Beta0     0.037295"
      ]
     },
     "execution_count": 46,
     "metadata": {},
     "output_type": "execute_result"
    }
   ],
   "source": [
    "importances = gbc.feature_importances_\n",
    "feature_importances = pd.DataFrame(importances, index = Xeeg.columns, \n",
    "                                   columns=['importance']).sort_values('importance', ascending=False)\n",
    "plt.bar(feature_importances.index, feature_importances[\"importance\"])\n",
    "plt.show()\n",
    "\n",
    "feature_importances.head(50)"
   ]
  },
  {
   "cell_type": "markdown",
   "metadata": {},
   "source": [
    "### EEG 2\n",
    "fourrier transformation on 2 seconds instead of 30 sec\n",
    "We run gradien boosting with same parameters than EEG 30.\n",
    "We get\n",
    "\n",
    "- for n_estimators=  50\n",
    "- log loss =  0.643\n",
    "- kappa =  0.663\n",
    "- accuracy =  0.763\n",
    "\n",
    "to be compared with EEG 30 \n",
    "\n",
    "- for n_estimators= 50\n",
    "- log loss = 0.643\n",
    "- kappa = 0.677\n",
    "- accuracy = 0.770\n",
    "\n",
    "so it is slightly less good !\n",
    "\n"
   ]
  },
  {
   "cell_type": "code",
   "execution_count": 47,
   "metadata": {},
   "outputs": [],
   "source": [
    "eeg = pd.read_excel('C:\\\\Users\\\\i053131\\\\Desktop\\\\Epilepsie\\\\Dreem\\\\data\\\\interim\\\\spectrogram_eeg_features2Train.xlsx')"
   ]
  },
  {
   "cell_type": "code",
   "execution_count": 48,
   "metadata": {},
   "outputs": [],
   "source": [
    "for i in range(15):\n",
    "    eeg.drop(columns=[\"eeg1_Above100Hz\"+str(i), \n",
    "                      \"eeg2_Above100Hz\"+str(i), \n",
    "                      \"eeg3_Above100Hz\"+str(i), \n",
    "                      \"eeg4_Above100Hz\"+str(i)], inplace=True)\n"
   ]
  },
  {
   "cell_type": "code",
   "execution_count": 49,
   "metadata": {},
   "outputs": [],
   "source": [
    "naif = pd.read_excel('C:\\\\Users\\\\i053131\\\\Desktop\\\\Epilepsie\\\\Dreem\\\\data\\\\interim\\\\featuresTrain.xlsx')\n",
    "acc = pd.read_excel('C:\\\\Users\\\\i053131\\\\Desktop\\\\Epilepsie\\\\Dreem\\\\data\\\\interim\\\\acc_featuresTrain.xlsx')\n",
    "pulse = pd.read_csv('C:\\\\Users\\\\i053131\\\\Desktop\\\\Epilepsie\\\\Dreem\\\\data\\\\interim\\\\pulse_featuresTrain.csv')"
   ]
  },
  {
   "cell_type": "code",
   "execution_count": 50,
   "metadata": {},
   "outputs": [],
   "source": [
    "df = pd.concat([eeg, acc, pulse, naif], axis=1)\n",
    "training, test  = train_test_split(df, test_size=0.2, random_state=42)\n",
    "X = training.iloc[:,:-1]\n",
    "y = training.iloc[:,-1]\n",
    "X_test = test.iloc[:,:-1]\n",
    "y_true = test.iloc[:,-1]\n",
    "L= list(naif.columns[:-1]) + list(acc.columns) + list(pulse.columns)\n",
    "Xeeg = X.drop(columns=L, inplace=False)\n",
    "X_testeeg = X_test.drop(columns=L, inplace=False)\n",
    "\n"
   ]
  },
  {
   "cell_type": "code",
   "execution_count": 51,
   "metadata": {},
   "outputs": [
    {
     "data": {
      "text/html": [
       "<div>\n",
       "<style scoped>\n",
       "    .dataframe tbody tr th:only-of-type {\n",
       "        vertical-align: middle;\n",
       "    }\n",
       "\n",
       "    .dataframe tbody tr th {\n",
       "        vertical-align: top;\n",
       "    }\n",
       "\n",
       "    .dataframe thead th {\n",
       "        text-align: right;\n",
       "    }\n",
       "</style>\n",
       "<table border=\"1\" class=\"dataframe\">\n",
       "  <thead>\n",
       "    <tr style=\"text-align: right;\">\n",
       "      <th></th>\n",
       "      <th>eeg1_Delta0</th>\n",
       "      <th>eeg1_Delta1</th>\n",
       "      <th>eeg1_Delta2</th>\n",
       "      <th>eeg1_Delta3</th>\n",
       "      <th>eeg1_Delta4</th>\n",
       "      <th>eeg1_Delta5</th>\n",
       "      <th>eeg1_Delta6</th>\n",
       "      <th>eeg1_Delta7</th>\n",
       "      <th>eeg1_Delta8</th>\n",
       "      <th>eeg1_Delta9</th>\n",
       "      <th>...</th>\n",
       "      <th>eeg4_Gamma5</th>\n",
       "      <th>eeg4_Gamma6</th>\n",
       "      <th>eeg4_Gamma7</th>\n",
       "      <th>eeg4_Gamma8</th>\n",
       "      <th>eeg4_Gamma9</th>\n",
       "      <th>eeg4_Gamma10</th>\n",
       "      <th>eeg4_Gamma11</th>\n",
       "      <th>eeg4_Gamma12</th>\n",
       "      <th>eeg4_Gamma13</th>\n",
       "      <th>eeg4_Gamma14</th>\n",
       "    </tr>\n",
       "  </thead>\n",
       "  <tbody>\n",
       "    <tr>\n",
       "      <th>5893</th>\n",
       "      <td>5.320132e+02</td>\n",
       "      <td>8.468122e+03</td>\n",
       "      <td>1.132002e+03</td>\n",
       "      <td>3.863802e+03</td>\n",
       "      <td>7.584245e+02</td>\n",
       "      <td>1.581040e+03</td>\n",
       "      <td>1.128094e+03</td>\n",
       "      <td>1.581492e+03</td>\n",
       "      <td>8.771071e+03</td>\n",
       "      <td>2.803468e+03</td>\n",
       "      <td>...</td>\n",
       "      <td>0.070719</td>\n",
       "      <td>0.096417</td>\n",
       "      <td>0.061366</td>\n",
       "      <td>0.104105</td>\n",
       "      <td>0.057201</td>\n",
       "      <td>0.085339</td>\n",
       "      <td>0.080706</td>\n",
       "      <td>0.063332</td>\n",
       "      <td>0.084062</td>\n",
       "      <td>0.084242</td>\n",
       "    </tr>\n",
       "    <tr>\n",
       "      <th>30655</th>\n",
       "      <td>6.243131e+03</td>\n",
       "      <td>7.405709e+03</td>\n",
       "      <td>3.411004e+03</td>\n",
       "      <td>6.335467e+03</td>\n",
       "      <td>2.079382e+03</td>\n",
       "      <td>2.919818e+03</td>\n",
       "      <td>3.971909e+02</td>\n",
       "      <td>2.790681e+03</td>\n",
       "      <td>8.696755e+03</td>\n",
       "      <td>3.021535e+04</td>\n",
       "      <td>...</td>\n",
       "      <td>0.169244</td>\n",
       "      <td>0.131790</td>\n",
       "      <td>0.089263</td>\n",
       "      <td>0.146979</td>\n",
       "      <td>0.106534</td>\n",
       "      <td>0.147993</td>\n",
       "      <td>0.121191</td>\n",
       "      <td>0.147792</td>\n",
       "      <td>0.162898</td>\n",
       "      <td>0.142825</td>\n",
       "    </tr>\n",
       "    <tr>\n",
       "      <th>26876</th>\n",
       "      <td>3.950311e+06</td>\n",
       "      <td>6.244127e+06</td>\n",
       "      <td>1.586868e+06</td>\n",
       "      <td>1.865611e+06</td>\n",
       "      <td>1.249526e+07</td>\n",
       "      <td>2.088012e+06</td>\n",
       "      <td>3.221711e+06</td>\n",
       "      <td>2.571789e+06</td>\n",
       "      <td>6.939601e+06</td>\n",
       "      <td>2.203957e+06</td>\n",
       "      <td>...</td>\n",
       "      <td>792.907098</td>\n",
       "      <td>382.495990</td>\n",
       "      <td>222.329493</td>\n",
       "      <td>9931.514311</td>\n",
       "      <td>289.700601</td>\n",
       "      <td>330.953637</td>\n",
       "      <td>258.608677</td>\n",
       "      <td>241.532249</td>\n",
       "      <td>628.344249</td>\n",
       "      <td>251.533789</td>\n",
       "    </tr>\n",
       "    <tr>\n",
       "      <th>35378</th>\n",
       "      <td>8.111320e+03</td>\n",
       "      <td>3.774252e+03</td>\n",
       "      <td>2.952485e+03</td>\n",
       "      <td>2.572026e+03</td>\n",
       "      <td>7.086189e+02</td>\n",
       "      <td>1.878845e+03</td>\n",
       "      <td>1.485150e+03</td>\n",
       "      <td>8.563586e+02</td>\n",
       "      <td>6.523599e+02</td>\n",
       "      <td>2.570270e+03</td>\n",
       "      <td>...</td>\n",
       "      <td>0.112227</td>\n",
       "      <td>0.099281</td>\n",
       "      <td>0.068986</td>\n",
       "      <td>0.057622</td>\n",
       "      <td>0.060030</td>\n",
       "      <td>0.067208</td>\n",
       "      <td>0.153101</td>\n",
       "      <td>0.088763</td>\n",
       "      <td>0.091776</td>\n",
       "      <td>0.071760</td>\n",
       "    </tr>\n",
       "    <tr>\n",
       "      <th>11933</th>\n",
       "      <td>3.232913e+02</td>\n",
       "      <td>4.612790e+02</td>\n",
       "      <td>1.479059e+02</td>\n",
       "      <td>3.653277e+02</td>\n",
       "      <td>2.392818e+03</td>\n",
       "      <td>4.994426e+03</td>\n",
       "      <td>2.086840e+03</td>\n",
       "      <td>3.594560e+02</td>\n",
       "      <td>1.785876e+02</td>\n",
       "      <td>6.689791e+03</td>\n",
       "      <td>...</td>\n",
       "      <td>6.308429</td>\n",
       "      <td>4.074933</td>\n",
       "      <td>3.235952</td>\n",
       "      <td>4.179114</td>\n",
       "      <td>4.275896</td>\n",
       "      <td>3.584981</td>\n",
       "      <td>3.903742</td>\n",
       "      <td>4.008789</td>\n",
       "      <td>4.897875</td>\n",
       "      <td>4.555130</td>\n",
       "    </tr>\n",
       "  </tbody>\n",
       "</table>\n",
       "<p>5 rows × 300 columns</p>\n",
       "</div>"
      ],
      "text/plain": [
       "        eeg1_Delta0   eeg1_Delta1   eeg1_Delta2   eeg1_Delta3   eeg1_Delta4  \\\n",
       "5893   5.320132e+02  8.468122e+03  1.132002e+03  3.863802e+03  7.584245e+02   \n",
       "30655  6.243131e+03  7.405709e+03  3.411004e+03  6.335467e+03  2.079382e+03   \n",
       "26876  3.950311e+06  6.244127e+06  1.586868e+06  1.865611e+06  1.249526e+07   \n",
       "35378  8.111320e+03  3.774252e+03  2.952485e+03  2.572026e+03  7.086189e+02   \n",
       "11933  3.232913e+02  4.612790e+02  1.479059e+02  3.653277e+02  2.392818e+03   \n",
       "\n",
       "        eeg1_Delta5   eeg1_Delta6   eeg1_Delta7   eeg1_Delta8   eeg1_Delta9  \\\n",
       "5893   1.581040e+03  1.128094e+03  1.581492e+03  8.771071e+03  2.803468e+03   \n",
       "30655  2.919818e+03  3.971909e+02  2.790681e+03  8.696755e+03  3.021535e+04   \n",
       "26876  2.088012e+06  3.221711e+06  2.571789e+06  6.939601e+06  2.203957e+06   \n",
       "35378  1.878845e+03  1.485150e+03  8.563586e+02  6.523599e+02  2.570270e+03   \n",
       "11933  4.994426e+03  2.086840e+03  3.594560e+02  1.785876e+02  6.689791e+03   \n",
       "\n",
       "           ...       eeg4_Gamma5  eeg4_Gamma6  eeg4_Gamma7  eeg4_Gamma8  \\\n",
       "5893       ...          0.070719     0.096417     0.061366     0.104105   \n",
       "30655      ...          0.169244     0.131790     0.089263     0.146979   \n",
       "26876      ...        792.907098   382.495990   222.329493  9931.514311   \n",
       "35378      ...          0.112227     0.099281     0.068986     0.057622   \n",
       "11933      ...          6.308429     4.074933     3.235952     4.179114   \n",
       "\n",
       "       eeg4_Gamma9  eeg4_Gamma10  eeg4_Gamma11  eeg4_Gamma12  eeg4_Gamma13  \\\n",
       "5893      0.057201      0.085339      0.080706      0.063332      0.084062   \n",
       "30655     0.106534      0.147993      0.121191      0.147792      0.162898   \n",
       "26876   289.700601    330.953637    258.608677    241.532249    628.344249   \n",
       "35378     0.060030      0.067208      0.153101      0.088763      0.091776   \n",
       "11933     4.275896      3.584981      3.903742      4.008789      4.897875   \n",
       "\n",
       "       eeg4_Gamma14  \n",
       "5893       0.084242  \n",
       "30655      0.142825  \n",
       "26876    251.533789  \n",
       "35378      0.071760  \n",
       "11933      4.555130  \n",
       "\n",
       "[5 rows x 300 columns]"
      ]
     },
     "execution_count": 51,
     "metadata": {},
     "output_type": "execute_result"
    }
   ],
   "source": [
    "X_testeeg.head()"
   ]
  },
  {
   "cell_type": "code",
   "execution_count": 52,
   "metadata": {},
   "outputs": [
    {
     "name": "stdout",
     "output_type": "stream",
     "text": [
      "for n_estimators=  50\n",
      "log loss =  0.6425063126769058\n",
      "kappa =  0.6627738572503876\n",
      "accuracy =  0.7627195984485512\n"
     ]
    }
   ],
   "source": [
    "\n",
    "i=50\n",
    "gbc = GradientBoostingClassifier(n_estimators = i, random_state=42, learning_rate= 0.1, max_depth= 15, \n",
    "                             min_samples_leaf= 1, min_samples_split= 2, subsample= 0.6)\n",
    "gbc.fit(Xeeg, y)\n",
    "ll = log_loss(y_true, gbc.predict_proba(X_testeeg))\n",
    "\n",
    "y_pred = gbc.predict(X_testeeg)\n",
    "k=cohen_kappa_score(y_true, y_pred)\n",
    "a= accuracy_score(y_true, y_pred)\n",
    "print(\"for n_estimators= \", i)\n",
    "print(\"log loss = \", ll)\n",
    "print(\"kappa = \", k)\n",
    "print(\"accuracy = \", a)"
   ]
  },
  {
   "cell_type": "markdown",
   "metadata": {},
   "source": [
    "# EEG with xgboost and non shuffle fold"
   ]
  },
  {
   "cell_type": "code",
   "execution_count": 7,
   "metadata": {},
   "outputs": [],
   "source": [
    "dataPath = \"C:\\\\Users\\\\i053131\\\\Desktop\\\\Epilepsie\\\\Dreem\\\\data\\\\raw\\\\\"\n",
    "eeg = pd.read_excel('C:\\\\Users\\\\i053131\\\\Desktop\\\\Epilepsie\\\\Dreem\\\\data\\\\interim\\\\spectrogram_eeg_features30Train.xlsx')\n",
    "trainOutput = pd.read_csv(dataPath + \"challenge_fichier_de_sortie_dentrainement_classification_en_stade_de_sommeil_a_laide_de_signaux_mesures_par_le_bandeau_dreem.csv\", sep=\";\")\n",
    "eeg.drop(columns=[\"eeg1_Above100Hz0\", \"eeg2_Above100Hz0\", \"eeg3_Above100Hz0\", \"eeg4_Above100Hz0\"], inplace=True)\n",
    "\n",
    "df = eeg\n",
    "df[\"Y\"] = trainOutput[\"label\"]\n",
    "\n",
    "train = df.iloc[0:int(df.shape[0]*0.8), :]\n",
    "test = df.iloc[int(df.shape[0]*0.8):, :]"
   ]
  },
  {
   "cell_type": "code",
   "execution_count": 8,
   "metadata": {},
   "outputs": [],
   "source": [
    "Xeeg = train.iloc[:,:-1]\n",
    "y = train.iloc[:,-1]\n",
    "X_testeeg = test.iloc[:,:-1]\n",
    "y_true = test.iloc[:,-1]\n",
    "\n"
   ]
  },
  {
   "cell_type": "code",
   "execution_count": 9,
   "metadata": {},
   "outputs": [
    {
     "name": "stdout",
     "output_type": "stream",
     "text": [
      "[0 1 2 3 4]\n"
     ]
    },
    {
     "data": {
      "text/plain": [
       "Index(['eeg1_Delta0', 'eeg1_Theta0', 'eeg1_Alpha0', 'eeg1_Beta0',\n",
       "       'eeg1_Gamma0', 'eeg2_Delta0', 'eeg2_Theta0', 'eeg2_Alpha0',\n",
       "       'eeg2_Beta0', 'eeg2_Gamma0', 'eeg3_Delta0', 'eeg3_Theta0',\n",
       "       'eeg3_Alpha0', 'eeg3_Beta0', 'eeg3_Gamma0', 'eeg4_Delta0',\n",
       "       'eeg4_Theta0', 'eeg4_Alpha0', 'eeg4_Beta0', 'eeg4_Gamma0'],\n",
       "      dtype='object')"
      ]
     },
     "execution_count": 9,
     "metadata": {},
     "output_type": "execute_result"
    }
   ],
   "source": [
    "print(y.unique())\n",
    "Xeeg.columns"
   ]
  },
  {
   "cell_type": "code",
   "execution_count": 12,
   "metadata": {
    "scrolled": true
   },
   "outputs": [
    {
     "name": "stdout",
     "output_type": "stream",
     "text": [
      "considering  30  epochs\n",
      "log loss =  0.8410558256331492\n",
      "kappa =  0.5831848417301376\n",
      "accuracy =  0.6925621720282912\n",
      "considering  40  epochs\n",
      "log loss =  0.812480413639026\n",
      "kappa =  0.5891611121363214\n",
      "accuracy =  0.6972393337896418\n",
      "considering  50  epochs\n",
      "log loss =  0.7979571118378409\n",
      "kappa =  0.5904573856175626\n",
      "accuracy =  0.6982660278348163\n",
      "considering  60  epochs\n",
      "log loss =  0.7922739838886375\n",
      "kappa =  0.5865515259107388\n",
      "accuracy =  0.6951859456992927\n",
      "considering  70  epochs\n",
      "log loss =  0.7886896295249445\n",
      "kappa =  0.5875715296169489\n",
      "accuracy =  0.6959844855122063\n",
      "considering  80  epochs\n",
      "log loss =  0.7881317211637695\n",
      "kappa =  0.5863051290271137\n",
      "accuracy =  0.6949577914670317\n",
      "considering  90  epochs\n",
      "log loss =  0.7862494815125664\n",
      "kappa =  0.5860014006315355\n",
      "accuracy =  0.6947296372347707\n",
      "considering  100  epochs\n",
      "log loss =  0.7861189567333629\n",
      "kappa =  0.5867906269643296\n",
      "accuracy =  0.6953000228154232\n",
      "considering  110  epochs\n",
      "log loss =  0.7879593657786416\n",
      "kappa =  0.5845906995539976\n",
      "accuracy =  0.6935888660734657\n",
      "considering  120  epochs\n",
      "log loss =  0.7880512408035362\n",
      "kappa =  0.5842207422730955\n",
      "accuracy =  0.6933607118412046\n",
      "considering  130  epochs\n",
      "log loss =  0.7896079775410786\n",
      "kappa =  0.5817338060278646\n",
      "accuracy =  0.6915354779831165\n",
      "considering  140  epochs\n",
      "log loss =  0.7929525410948184\n",
      "kappa =  0.5823743128428019\n",
      "accuracy =  0.6921058635637691\n",
      "considering  150  epochs\n",
      "log loss =  0.7943658505505807\n",
      "kappa =  0.5830443834748379\n",
      "accuracy =  0.6925621720282912\n",
      "considering  160  epochs\n",
      "log loss =  0.7961594110204235\n",
      "kappa =  0.5817272859555911\n",
      "accuracy =  0.6916495550992471\n",
      "considering  170  epochs\n",
      "log loss =  0.7988465753707947\n",
      "kappa =  0.5795635303983079\n",
      "accuracy =  0.6899383983572895\n",
      "considering  180  epochs\n",
      "log loss =  0.801779618299058\n",
      "kappa =  0.5757959091294247\n",
      "accuracy =  0.6870864704540269\n",
      "considering  190  epochs\n",
      "log loss =  0.8032054321011128\n",
      "kappa =  0.5786976320208337\n",
      "accuracy =  0.689368012776637\n",
      "considering  200  epochs\n",
      "log loss =  0.8039553131432583\n",
      "kappa =  0.5770503346626188\n",
      "accuracy =  0.6881131644992015\n",
      "Wall time: 6min 35s\n"
     ]
    }
   ],
   "source": [
    "%%time\n",
    "errors = []\n",
    "Lk = []\n",
    "La = []\n",
    "r = range(30, 210, 10)\n",
    "\n",
    "for i in r:       \n",
    "    xbc = xgb.XGBClassifier(n_estimators = i, random_state=42, learning_rate= 0.1, max_depth= 8,  subsample= 0.7, \n",
    "                            n_jobs=-2, reg_lambda=5)\n",
    "    xbc.fit(Xeeg, y)\n",
    "    ll = log_loss(y_true, xbc.predict_proba(X_testeeg))\n",
    "    errors.append(ll)\n",
    "    y_pred = xbc.predict(X_testeeg)\n",
    "    k=cohen_kappa_score(y_true, y_pred)\n",
    "    a= accuracy_score(y_true, y_pred)\n",
    "    print(\"considering \", i, \" epochs\")\n",
    "    print(\"log loss = \", ll)\n",
    "    print(\"kappa = \", k)\n",
    "    print(\"accuracy = \", a)\n",
    "    Lk.append(k)\n",
    "    La.append(a)"
   ]
  },
  {
   "cell_type": "code",
   "execution_count": 13,
   "metadata": {},
   "outputs": [
    {
     "data": {
      "image/png": "[encoded data removed]",
      "text/plain": [
       "<Figure size 432x288 with 1 Axes>"
      ]
     },
     "metadata": {},
     "output_type": "display_data"
    },
    {
     "data": {
      "image/png": "[encoded data removed]",
      "text/plain": [
       "<Figure size 432x288 with 1 Axes>"
      ]
     },
     "metadata": {},
     "output_type": "display_data"
    }
   ],
   "source": [
    "plt.plot(r, errors, label = \"log loss\")\n",
    "plt.legend(loc='upper right')\n",
    "plt.show()\n",
    "\n",
    "plt.plot(r, Lk, label = \"kappa\")\n",
    "plt.legend(loc='lower right')\n",
    "plt.show()"
   ]
  },
  {
   "cell_type": "code",
   "execution_count": null,
   "metadata": {},
   "outputs": [],
   "source": []
  },
  {
   "cell_type": "markdown",
   "metadata": {},
   "source": [
    "#### trying with decibel (log)\n",
    "- might be a tiny bit better but it could be luck"
   ]
  },
  {
   "cell_type": "code",
   "execution_count": 27,
   "metadata": {},
   "outputs": [],
   "source": [
    "df = np.log10(eeg)\n",
    "df[\"Y\"] = trainOutput[\"label\"]\n",
    "\n",
    "train = df.iloc[0:int(df.shape[0]*0.8), :]\n",
    "test = df.iloc[int(df.shape[0]*0.8):, :]"
   ]
  },
  {
   "cell_type": "code",
   "execution_count": 28,
   "metadata": {},
   "outputs": [],
   "source": [
    "Xeeg = train.iloc[:,:-1]\n",
    "y = train.iloc[:,-1]\n",
    "X_testeeg = test.iloc[:,:-1]\n",
    "y_true = test.iloc[:,-1]\n"
   ]
  },
  {
   "cell_type": "code",
   "execution_count": 29,
   "metadata": {
    "scrolled": true
   },
   "outputs": [
    {
     "name": "stdout",
     "output_type": "stream",
     "text": [
      "considering  30  epochs\n",
      "log loss =  0.8416125814092776\n",
      "kappa =  0.5841917692360029\n",
      "accuracy =  0.6932466347250742\n",
      "considering  40  epochs\n",
      "log loss =  0.8124196188625933\n",
      "kappa =  0.58645703378032\n",
      "accuracy =  0.6953000228154232\n",
      "considering  50  epochs\n",
      "log loss =  0.7957501932243431\n",
      "kappa =  0.5907471072985717\n",
      "accuracy =  0.6984941820670774\n",
      "considering  60  epochs\n",
      "log loss =  0.7898329085446877\n",
      "kappa =  0.587365035764195\n",
      "accuracy =  0.6958704083960757\n",
      "considering  70  epochs\n",
      "log loss =  0.786481326889075\n",
      "kappa =  0.5889048775427185\n",
      "accuracy =  0.6970111795573808\n",
      "considering  80  epochs\n",
      "log loss =  0.7835849449978222\n",
      "kappa =  0.588935077799043\n",
      "accuracy =  0.6968971024412502\n",
      "considering  90  epochs\n",
      "log loss =  0.7827824911168736\n",
      "kappa =  0.5845606517402822\n",
      "accuracy =  0.6934747889573352\n",
      "considering  100  epochs\n",
      "log loss =  0.7814877885817706\n",
      "kappa =  0.5838318338988877\n",
      "accuracy =  0.6930184804928131\n",
      "considering  110  epochs\n",
      "log loss =  0.7829698726912855\n",
      "kappa =  0.5842572680011046\n",
      "accuracy =  0.6933607118412046\n",
      "considering  120  epochs\n",
      "log loss =  0.7852167016996824\n",
      "kappa =  0.5836753311202694\n",
      "accuracy =  0.6929044033766827\n",
      "considering  130  epochs\n",
      "log loss =  0.7863910357941301\n",
      "kappa =  0.5833434591015795\n",
      "accuracy =  0.6926762491444216\n",
      "considering  140  epochs\n",
      "log loss =  0.7881460137356212\n",
      "kappa =  0.5811029805744707\n",
      "accuracy =  0.6909650924024641\n",
      "considering  150  epochs\n",
      "log loss =  0.7907709170418881\n",
      "kappa =  0.5807684774989705\n",
      "accuracy =  0.6907369381702031\n",
      "considering  160  epochs\n",
      "log loss =  0.7923103224735862\n",
      "kappa =  0.5790153596337391\n",
      "accuracy =  0.6894820898927675\n",
      "considering  170  epochs\n",
      "log loss =  0.7938298632862594\n",
      "kappa =  0.581129746229136\n",
      "accuracy =  0.691193246634725\n",
      "considering  180  epochs\n",
      "log loss =  0.795872905684356\n",
      "kappa =  0.5805343185516114\n",
      "accuracy =  0.6907369381702031\n",
      "considering  190  epochs\n",
      "log loss =  0.7979770797199656\n",
      "kappa =  0.5814467720853704\n",
      "accuracy =  0.6913073237508556\n",
      "considering  200  epochs\n",
      "log loss =  0.7994560683073476\n",
      "kappa =  0.5821419559898988\n",
      "accuracy =  0.6919917864476386\n",
      "Wall time: 6min 39s\n"
     ]
    }
   ],
   "source": [
    "%%time\n",
    "errors = []\n",
    "Lk = []\n",
    "La = []\n",
    "r = range(30, 210, 10)\n",
    "\n",
    "for i in r:       \n",
    "    xbc = xgb.XGBClassifier(n_estimators = i, random_state=42, learning_rate= 0.1, max_depth= 8,  subsample= 0.7, \n",
    "                            n_jobs=-2, reg_lambda=5)\n",
    "    xbc.fit(Xeeg, y)\n",
    "    ll = log_loss(y_true, xbc.predict_proba(X_testeeg))\n",
    "    errors.append(ll)\n",
    "    y_pred = xbc.predict(X_testeeg)\n",
    "    k=cohen_kappa_score(y_true, y_pred)\n",
    "    a= accuracy_score(y_true, y_pred)\n",
    "    print(\"considering \", i, \" epochs\")\n",
    "    print(\"log loss = \", ll)\n",
    "    print(\"kappa = \", k)\n",
    "    print(\"accuracy = \", a)\n",
    "    Lk.append(k)\n",
    "    La.append(a)"
   ]
  },
  {
   "cell_type": "code",
   "execution_count": 30,
   "metadata": {},
   "outputs": [
    {
     "data": {
      "image/png": "[encoded data removed]",
      "text/plain": [
       "<Figure size 432x288 with 1 Axes>"
      ]
     },
     "metadata": {},
     "output_type": "display_data"
    },
    {
     "data": {
      "image/png": "[encoded data removed]",
      "text/plain": [
       "<Figure size 432x288 with 1 Axes>"
      ]
     },
     "metadata": {},
     "output_type": "display_data"
    }
   ],
   "source": [
    "plt.plot(r, errors, label = \"log loss\")\n",
    "plt.legend(loc='upper right')\n",
    "plt.show()\n",
    "\n",
    "plt.plot(r, Lk, label = \"kappa\")\n",
    "plt.legend(loc='lower right')\n",
    "plt.show()"
   ]
  },
  {
   "cell_type": "code",
   "execution_count": null,
   "metadata": {},
   "outputs": [],
   "source": [
    "#### adding power sum"
   ]
  },
  {
   "cell_type": "code",
   "execution_count": 61,
   "metadata": {},
   "outputs": [],
   "source": [
    "dataPath = \"C:\\\\Users\\\\i053131\\\\Desktop\\\\Epilepsie\\\\Dreem\\\\data\\\\raw\\\\\"\n",
    "eeg = pd.read_excel('C:\\\\Users\\\\i053131\\\\Desktop\\\\Epilepsie\\\\Dreem\\\\data\\\\interim\\\\spectrogram_eeg_features30Train.xlsx')\n",
    "trainOutput = pd.read_csv(dataPath + \"challenge_fichier_de_sortie_dentrainement_classification_en_stade_de_sommeil_a_laide_de_signaux_mesures_par_le_bandeau_dreem.csv\", sep=\";\")\n",
    "eeg.drop(columns=[\"eeg1_Above100Hz0\", \"eeg2_Above100Hz0\", \"eeg3_Above100Hz0\", \"eeg4_Above100Hz0\"], inplace=True)\n"
   ]
  },
  {
   "cell_type": "code",
   "execution_count": 62,
   "metadata": {
    "scrolled": true
   },
   "outputs": [],
   "source": [
    "df = eeg\n",
    "df['eeg_energy']= eeg.sum(axis=1)\n",
    "#df['eeg1_energy'] = eeg.loc[:, 'eeg1_Delta0':'eeg1_Gamma0'].sum(axis=1)\n",
    "#df['eeg2_energy'] = eeg.loc[:, 'eeg2_Delta0':'eeg2_Gamma0'].sum(axis=1)\n",
    "#df['eeg3_energy'] = eeg.loc[:, 'eeg3_Delta0':'eeg3_Gamma0'].sum(axis=1)\n",
    "#df['eeg4_energy'] = eeg.loc[:, 'eeg4_Delta0':'eeg4_Gamma0'].sum(axis=1)"
   ]
  },
  {
   "cell_type": "code",
   "execution_count": 56,
   "metadata": {},
   "outputs": [
    {
     "data": {
      "text/plain": [
       "Index(['eeg1_Delta0', 'eeg1_Theta0', 'eeg1_Alpha0', 'eeg1_Beta0',\n",
       "       'eeg1_Gamma0'],\n",
       "      dtype='object')"
      ]
     },
     "execution_count": 56,
     "metadata": {},
     "output_type": "execute_result"
    }
   ],
   "source": [
    "eeg.loc[:, 'eeg1_Delta0':'eeg1_Gamma0'].columns"
   ]
  },
  {
   "cell_type": "code",
   "execution_count": 64,
   "metadata": {},
   "outputs": [],
   "source": [
    "df[\"Y\"] = trainOutput[\"label\"]\n",
    "\n",
    "train = df.iloc[0:int(df.shape[0]*0.8), :]\n",
    "test = df.iloc[int(df.shape[0]*0.8):, :]"
   ]
  },
  {
   "cell_type": "code",
   "execution_count": 65,
   "metadata": {},
   "outputs": [],
   "source": [
    "Xeeg = train.iloc[:,:-1]\n",
    "y = train.iloc[:,-1]\n",
    "X_testeeg = test.iloc[:,:-1]\n",
    "y_true = test.iloc[:,-1]"
   ]
  },
  {
   "cell_type": "code",
   "execution_count": 68,
   "metadata": {
    "scrolled": true
   },
   "outputs": [
    {
     "name": "stdout",
     "output_type": "stream",
     "text": [
      "considering  30  epochs\n",
      "log loss =  0.8404968839607063\n",
      "kappa =  0.5977933203881023\n",
      "accuracy =  0.704083960757472\n",
      "considering  40  epochs\n",
      "log loss =  0.8133727314935314\n",
      "kappa =  0.5991866960911022\n",
      "accuracy =  0.7051106548026466\n",
      "considering  50  epochs\n",
      "log loss =  0.7975292664665934\n",
      "kappa =  0.5965712950384446\n",
      "accuracy =  0.703171343828428\n",
      "considering  60  epochs\n",
      "log loss =  0.7866340602218795\n",
      "kappa =  0.5964106379850385\n",
      "accuracy =  0.702943189596167\n",
      "considering  70  epochs\n",
      "log loss =  0.7822896453321189\n",
      "kappa =  0.5992079234528738\n",
      "accuracy =  0.7049965776865161\n",
      "considering  80  epochs\n",
      "log loss =  0.7800389927757312\n",
      "kappa =  0.5946528550337143\n",
      "accuracy =  0.7016883413187315\n",
      "considering  90  epochs\n",
      "log loss =  0.77945033574466\n",
      "kappa =  0.5946586807397041\n",
      "accuracy =  0.7015742642026009\n",
      "considering  100  epochs\n",
      "log loss =  0.7800440651940672\n",
      "kappa =  0.5968134500091078\n",
      "accuracy =  0.703171343828428\n",
      "considering  110  epochs\n",
      "log loss =  0.7801716407057014\n",
      "kappa =  0.5939671730500187\n",
      "accuracy =  0.7011179557380789\n",
      "considering  120  epochs\n",
      "log loss =  0.7811187765172833\n",
      "kappa =  0.5934653205534719\n",
      "accuracy =  0.7008898015058179\n",
      "considering  130  epochs\n",
      "log loss =  0.781585812098541\n",
      "kappa =  0.5932081596607267\n",
      "accuracy =  0.700661647273557\n",
      "considering  140  epochs\n",
      "log loss =  0.7830890305684781\n",
      "kappa =  0.5922867662126452\n",
      "accuracy =  0.7000912616929044\n",
      "considering  150  epochs\n",
      "log loss =  0.7835941827928143\n",
      "kappa =  0.5912249922644337\n",
      "accuracy =  0.6992927218799909\n",
      "Wall time: 3min 58s\n"
     ]
    }
   ],
   "source": [
    "%%time\n",
    "# with energy per captors\n",
    "#log loss =  0.7856534234256973\n",
    "#kappa =  0.5922992953360089\n",
    "#with sum of energy of the captors\n",
    "#log loss =  0.7822896453321189\n",
    "#kappa =  0.5992079234528738\n",
    "\n",
    "errors = []\n",
    "Lk = []\n",
    "La = []\n",
    "r = range(30, 160, 10)\n",
    "\n",
    "for i in r:       \n",
    "    xbc = xgb.XGBClassifier(n_estimators = i, random_state=42, learning_rate= 0.1, max_depth= 8,  subsample= 0.7, \n",
    "                            n_jobs=-2, reg_lambda=5)\n",
    "    xbc.fit(Xeeg, y)\n",
    "    ll = log_loss(y_true, xbc.predict_proba(X_testeeg))\n",
    "    errors.append(ll)\n",
    "    y_pred = xbc.predict(X_testeeg)\n",
    "    k=cohen_kappa_score(y_true, y_pred)\n",
    "    a= accuracy_score(y_true, y_pred)\n",
    "    print(\"considering \", i, \" epochs\")\n",
    "    print(\"log loss = \", ll)\n",
    "    print(\"kappa = \", k)\n",
    "    print(\"accuracy = \", a)\n",
    "    Lk.append(k)\n",
    "    La.append(a)"
   ]
  },
  {
   "cell_type": "code",
   "execution_count": 70,
   "metadata": {},
   "outputs": [
    {
     "data": {
      "image/png": "[encoded data removed]",
      "text/plain": [
       "<Figure size 432x288 with 1 Axes>"
      ]
     },
     "metadata": {},
     "output_type": "display_data"
    },
    {
     "data": {
      "image/png": "[encoded data removed]",
      "text/plain": [
       "<Figure size 432x288 with 1 Axes>"
      ]
     },
     "metadata": {},
     "output_type": "display_data"
    }
   ],
   "source": [
    "plt.plot(r, errors, label = \"log loss\")\n",
    "plt.legend(loc='upper right')\n",
    "plt.show()\n",
    "\n",
    "plt.plot(r, Lk, label = \"kappa\")\n",
    "plt.legend(loc='lower right')\n",
    "plt.show()"
   ]
  },
  {
   "cell_type": "code",
   "execution_count": null,
   "metadata": {},
   "outputs": [],
   "source": []
  }
 ],
 "metadata": {
  "kernelspec": {
   "display_name": "Python 3",
   "language": "python",
   "name": "python3"
  },
  "language_info": {
   "codemirror_mode": {
    "name": "ipython",
    "version": 3
   },
   "file_extension": ".py",
   "mimetype": "text/x-python",
   "name": "python",
   "nbconvert_exporter": "python",
   "pygments_lexer": "ipython3",
   "version": "3.6.6"
  }
 },
 "nbformat": 4,
 "nbformat_minor": 2
}
