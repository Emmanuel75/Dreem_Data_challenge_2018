{
 "cells": [
  {
   "cell_type": "code",
   "execution_count": 1,
   "metadata": {},
   "outputs": [],
   "source": [
    "import pandas as pd\n",
    "import numpy as np\n",
    "import h5py\n"
   ]
  },
  {
   "cell_type": "code",
   "execution_count": 2,
   "metadata": {},
   "outputs": [],
   "source": [
    "\n",
    "def reshape_5(df):\n",
    "\t#df = d.copy()\n",
    "\tif (df.shape[0] <5): \n",
    "\t\treturn df\n",
    "\tr = df.shape[0]\n",
    "\tc = df.shape[1]\n",
    "\tnewColumns = []\n",
    "\tfor i in range(0, 5):\n",
    "\t\tfor colName in df.columns:\n",
    "\t\t\tnewColumns.append(str(colName) + \"_\" + str(i+1))\n",
    "\tresult = pd.DataFrame(columns = newColumns, data = np.zeros((r, c*5)))\n",
    "\tfor i in range(2, r-2):\n",
    "\t\tresult.iloc[i,0:c]= df.iloc[i-2, :].values\n",
    "\t\tresult.iloc[i,c:c*2]= df.iloc[i-1, :].values\n",
    "\t\tresult.iloc[i,c*2:c*3]= df.iloc[i, :].values\n",
    "\t\tresult.iloc[i,c*3:c*4]= df.iloc[i+1, :].values\n",
    "\t\tresult.iloc[i,c*4:c*5]= df.iloc[i+2, :].values\n",
    "\t\n",
    "\t\n",
    "\treturn result"
   ]
  },
  {
   "cell_type": "code",
   "execution_count": 3,
   "metadata": {},
   "outputs": [],
   "source": [
    "dataPath = \"C:\\\\Users\\\\i053131\\\\Desktop\\\\Epilepsie\\\\Dreem\\\\data\\\\raw\\\\\"\n",
    "filetrain= dataPath + \"train.h5\"\n",
    "filetest= dataPath + \"test.h5\""
   ]
  },
  {
   "cell_type": "code",
   "execution_count": 4,
   "metadata": {},
   "outputs": [],
   "source": [
    "h5 = h5py.File(filetrain, \"r\")\n",
    "\n",
    "eeg_1 = pd.DataFrame(h5['eeg_1'][:])\n",
    "eeg_2 = pd.DataFrame(h5['eeg_2'][:])\n",
    "eeg_3 = pd.DataFrame(h5['eeg_3'][:])\n",
    "eeg_4 = pd.DataFrame(h5['eeg_4'][:])\n",
    "po_ir = pd.DataFrame(h5['po_ir'][:])\n",
    "po_r = pd.DataFrame(h5['po_r'][:])\n",
    "accelerometer_x = pd.DataFrame(h5['accelerometer_x'][:])\n",
    "accelerometer_y = pd.DataFrame(h5['accelerometer_y'][:])\n",
    "accelerometer_z = pd.DataFrame(h5['accelerometer_z'][:])\n"
   ]
  },
  {
   "cell_type": "code",
   "execution_count": 5,
   "metadata": {},
   "outputs": [
    {
     "data": {
      "text/plain": [
       "(43830, 3750)"
      ]
     },
     "execution_count": 5,
     "metadata": {},
     "output_type": "execute_result"
    }
   ],
   "source": [
    "name = \"eeg_1\"\n",
    "toto = eval(name)\n",
    "toto.shape"
   ]
  },
  {
   "cell_type": "code",
   "execution_count": 6,
   "metadata": {},
   "outputs": [],
   "source": [
    "hf = h5py.File(\"C:\\\\Users\\\\i053131\\\\Desktop\\\\Epilepsie\\\\Dreem\\\\data\\\\interim\\\\mytestfile.hdf5\", \"w\")"
   ]
  },
  {
   "cell_type": "code",
   "execution_count": 7,
   "metadata": {},
   "outputs": [
    {
     "data": {
      "text/plain": [
       "<HDF5 dataset \"dataset_2\": shape (43830, 1500), type \"<f4\">"
      ]
     },
     "execution_count": 7,
     "metadata": {},
     "output_type": "execute_result"
    }
   ],
   "source": [
    "hf.create_dataset('dataset_1', data=po_ir)\n",
    "hf.create_dataset('dataset_2', data=po_r)"
   ]
  },
  {
   "cell_type": "code",
   "execution_count": 8,
   "metadata": {},
   "outputs": [],
   "source": [
    "hf.close()"
   ]
  },
  {
   "cell_type": "code",
   "execution_count": 9,
   "metadata": {},
   "outputs": [],
   "source": [
    "hf = h5py.File(\"C:\\\\Users\\\\i053131\\\\Desktop\\\\Epilepsie\\\\Dreem\\\\data\\\\interim\\\\mytestfile.hdf5\", 'r')"
   ]
  },
  {
   "cell_type": "code",
   "execution_count": 11,
   "metadata": {},
   "outputs": [],
   "source": [
    "n1 = hf.get('dataset_1')"
   ]
  },
  {
   "cell_type": "code",
   "execution_count": 12,
   "metadata": {},
   "outputs": [
    {
     "data": {
      "text/plain": [
       "(43830, 1500)"
      ]
     },
     "execution_count": 12,
     "metadata": {},
     "output_type": "execute_result"
    }
   ],
   "source": [
    "n1.shape\n",
    "eeg_train = np.empty(shape=(35064, 3750*5, 4))\n",
    "eeg_train[:, :, 0]= X_train[:, :3750*5] #eeg_1\n",
    "eeg_train[:, :, 1]= X_train[:, 3750*5:3750*5*2] #eeg_2\n",
    "eeg_train[:, :, 2]= X_train[:, 3750*5*2:3750*5*3] #eeg_3\n",
    "eeg_train[:, :, 3]= X_train[:, 3750*5*3:3750*5*4] #eeg_4"
   ]
  },
  {
   "cell_type": "code",
   "execution_count": 6,
   "metadata": {},
   "outputs": [
    {
     "name": "stdout",
     "output_type": "stream",
     "text": [
      "eeg_1 shape:  (43830, 18750)\n",
      "eeg_1 mem usage (GB):  6269.693954467773\n",
      "eeg_2 shape:  (43830, 18750)\n",
      "eeg_2 mem usage (GB):  6269.693954467773\n",
      "eeg_3 shape:  (43830, 18750)\n",
      "eeg_3 mem usage (GB):  6269.693954467773\n",
      "eeg_4 shape:  (43830, 18750)\n",
      "eeg_4 mem usage (GB):  6269.693954467773\n",
      "po_ir shape:  (43830, 7500)\n",
      "po_ir mem usage (GB):  2508.0782012939453\n",
      "po_r shape:  (43830, 7500)\n",
      "po_r mem usage (GB):  2508.0782012939453\n",
      "accelerometer_x shape:  (43830, 7500)\n",
      "accelerometer_x mem usage (GB):  2508.0782012939453\n",
      "accelerometer_y shape:  (43830, 7500)\n",
      "accelerometer_y mem usage (GB):  2508.0782012939453\n",
      "accelerometer_z shape:  (43830, 7500)\n",
      "accelerometer_z mem usage (GB):  2508.0782012939453\n"
     ]
    }
   ],
   "source": [
    "for name in [\"eeg_1\", \"eeg_2\", \"eeg_3\", \"eeg_4\", \"po_ir\", \"po_r\", \"accelerometer_x\", \"accelerometer_y\", \"accelerometer_z\"]:\n",
    "    df = eval(name)\n",
    "    temp = reshape_5(df)\n",
    "    print(name + \" shape: \", temp.shape)\n",
    "    temp.drop([0, 1], inplace=True)\n",
    "    temp.drop([temp.shape[0]-1, temp.shape[0]-2], inplace=True)\n",
    "    print(name + \" mem usage (MB): \", temp.memory_usage().sum()/(1024*1024))\n",
    "    temp.to_csv('C:\\\\Users\\\\i053131\\\\Desktop\\\\Epilepsie\\\\Dreem\\\\data\\\\interim\\\\raw5Epochs' + name + '.csv', \n",
    "                  index=False)"
   ]
  },
  {
   "cell_type": "code",
   "execution_count": 7,
   "metadata": {},
   "outputs": [
    {
     "data": {
      "text/plain": [
       "2508.0782012939453"
      ]
     },
     "execution_count": 7,
     "metadata": {},
     "output_type": "execute_result"
    }
   ],
   "source": [
    "temp.memory_usage().sum()/(1024*1024)"
   ]
  },
  {
   "cell_type": "code",
   "execution_count": 4,
   "metadata": {},
   "outputs": [],
   "source": [
    "train5= None \n",
    "h5 = h5py.File(filetest, \"r\")\n",
    "\n",
    "eeg_1 = pd.DataFrame(h5['eeg_1'][:])\n",
    "eeg_2 = pd.DataFrame(h5['eeg_2'][:])\n",
    "eeg_3 = pd.DataFrame(h5['eeg_3'][:])\n",
    "eeg_4 = pd.DataFrame(h5['eeg_4'][:])\n",
    "po_ir = pd.DataFrame(h5['po_ir'][:])\n",
    "po_r = pd.DataFrame(h5['po_r'][:])\n",
    "accelerometer_x = pd.DataFrame(h5['accelerometer_x'][:])\n",
    "accelerometer_y = pd.DataFrame(h5['accelerometer_y'][:])\n",
    "accelerometer_z = pd.DataFrame(h5['accelerometer_z'][:])"
   ]
  },
  {
   "cell_type": "code",
   "execution_count": 6,
   "metadata": {},
   "outputs": [
    {
     "name": "stdout",
     "output_type": "stream",
     "text": [
      "eeg_3 mem usage (MB):  2945.7093048095703\n",
      "eeg_3 shape:  (20592, 18750)\n",
      "eeg_4 mem usage (MB):  2945.7093048095703\n",
      "eeg_4 shape:  (20592, 18750)\n",
      "po_ir mem usage (MB):  1178.2837677001953\n",
      "po_ir shape:  (20592, 7500)\n",
      "po_r mem usage (MB):  1178.2837677001953\n",
      "po_r shape:  (20592, 7500)\n",
      "accelerometer_x mem usage (MB):  1178.2837677001953\n",
      "accelerometer_x shape:  (20592, 7500)\n",
      "accelerometer_y mem usage (MB):  1178.2837677001953\n",
      "accelerometer_y shape:  (20592, 7500)\n",
      "accelerometer_z mem usage (MB):  1178.2837677001953\n",
      "accelerometer_z shape:  (20592, 7500)\n"
     ]
    }
   ],
   "source": [
    "for name in [\"eeg_1\", \"eeg_2\", \"eeg_3\", \"eeg_4\", \"po_ir\", \"po_r\", \"accelerometer_x\", \"accelerometer_y\", \"accelerometer_z\"]:\n",
    "#for name in [\"eeg_3\", \"eeg_4\", \"po_ir\", \"po_r\", \"accelerometer_x\", \"accelerometer_y\", \"accelerometer_z\"]:    \n",
    "    df = eval(name)\n",
    "    temp = reshape_5(df)\n",
    "    print(name + \" mem usage (MB): \", temp.memory_usage().sum()/(1024*1024))\n",
    "    print(name + \" shape: \", temp.shape)\n",
    "    temp.to_csv('C:\\\\Users\\\\i053131\\\\Desktop\\\\Epilepsie\\\\Dreem\\\\data\\\\interim\\\\raw5Epochs' + name + 'Test.csv', \n",
    "                  index=False)"
   ]
  },
  {
   "cell_type": "code",
   "execution_count": null,
   "metadata": {},
   "outputs": [],
   "source": []
  },
  {
   "cell_type": "code",
   "execution_count": null,
   "metadata": {},
   "outputs": [],
   "source": []
  }
 ],
 "metadata": {
  "kernelspec": {
   "display_name": "Python 3",
   "language": "python",
   "name": "python3"
  },
  "language_info": {
   "codemirror_mode": {
    "name": "ipython",
    "version": 3
   },
   "file_extension": ".py",
   "mimetype": "text/x-python",
   "name": "python",
   "nbconvert_exporter": "python",
   "pygments_lexer": "ipython3",
   "version": "3.6.6"
  }
 },
 "nbformat": 4,
 "nbformat_minor": 2
}
