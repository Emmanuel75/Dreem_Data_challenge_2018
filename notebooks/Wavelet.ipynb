{
 "cells": [
  {
   "cell_type": "code",
   "execution_count": 150,
   "metadata": {},
   "outputs": [],
   "source": [
    "import h5py\n",
    "from sklearn.metrics import accuracy_score\n",
    "from sklearn.linear_model import LogisticRegression\n",
    "from sklearn.metrics import confusion_matrix\n",
    "from sklearn.metrics import precision_score, recall_score\n",
    "from sklearn.metrics import cohen_kappa_score\n",
    "from sklearn import preprocessing\n",
    "from sklearn.preprocessing import StandardScaler\n",
    "from sklearn.preprocessing import PolynomialFeatures\n",
    "from sklearn.model_selection import train_test_split\n",
    "from sklearn.svm import LinearSVC\n",
    "from sklearn.svm import SVC\n",
    "from sklearn.tree import DecisionTreeClassifier\n",
    "from sklearn.tree import export_graphviz\n",
    "from sklearn.ensemble import BaggingClassifier\n",
    "from sklearn.tree import DecisionTreeClassifier\n",
    "from sklearn.ensemble import RandomForestClassifier\n",
    "from sklearn.model_selection import GridSearchCV\n",
    "from sklearn.metrics import make_scorer\n",
    "from sklearn.ensemble import GradientBoostingClassifier\n",
    "from sklearn.metrics import log_loss \n",
    "from sklearn.model_selection import cross_val_score\n",
    "    \n",
    "import statsmodels.api as sm\n",
    "import itertools\n",
    "\n",
    "from scipy.stats import mode\n",
    "from scipy.stats import pearsonr\n",
    "\n",
    "import random\n",
    " \n",
    "import matplotlib.pyplot as plt\n",
    "plt.style.use('classic')\n",
    "%matplotlib inline\n",
    "import seaborn as sns\n",
    "sns.set()\n",
    "\n",
    "import xgboost as xgb\n",
    "import pandas as pd\n",
    "\n",
    "import numpy as np\n",
    "from scipy import signal\n",
    "from intervals import FloatInterval"
   ]
  },
  {
   "cell_type": "code",
   "execution_count": 2,
   "metadata": {},
   "outputs": [],
   "source": [
    "from wonambi import Dataset\n",
    "import pywt\n",
    "import numpy as np\n",
    "import matplotlib.pyplot as plt"
   ]
  },
  {
   "cell_type": "code",
   "execution_count": 3,
   "metadata": {},
   "outputs": [
    {
     "data": {
      "text/plain": [
       "'1.0.1'"
      ]
     },
     "execution_count": 3,
     "metadata": {},
     "output_type": "execute_result"
    }
   ],
   "source": [
    "pywt.__version__"
   ]
  },
  {
   "cell_type": "code",
   "execution_count": 128,
   "metadata": {},
   "outputs": [],
   "source": [
    "dataPath=\"C:\\\\Users\\\\i053131\\\\Desktop\\\\Epilepsie\\\\Dreem\\\\data\\\\raw\\\\\"\n",
    "h5filename=\"train.h5\"\n",
    "h5file= dataPath + h5filename\n",
    "h5 = h5py.File(h5file, \"r\")\n",
    "eeg_1 = pd.DataFrame(h5['eeg_1'][:])\n",
    "eeg_2 = pd.DataFrame(h5['eeg_2'][:])\n",
    "eeg_3 = pd.DataFrame(h5['eeg_3'][:])\n",
    "eeg_4 = pd.DataFrame(h5['eeg_4'][:])\n",
    "output = pd.read_csv('C:\\\\Users\\\\i053131\\\\Desktop\\\\Epilepsie\\\\Dreem\\\\data\\\\raw\\\\challenge_fichier_de_sortie_dentrainement_classification_en_stade_de_sommeil_a_laide_de_signaux_mesures_par_le_bandeau_dreem.csv', sep=';')\n",
    "y = output[\"label\"]"
   ]
  },
  {
   "cell_type": "code",
   "execution_count": 98,
   "metadata": {},
   "outputs": [],
   "source": [
    "#cmorB-C\"\n",
    "# 𝐵 is the bandwidth and 𝐶 is the center frequency (peak frequency)\n",
    "\n",
    "waveletsParams = {\"slow1\": (0.7, 3.0), \"slow2\": (1.0, 3.0), \"slow3\": (1.5, 3.0), \"slow4\": (2.0, 3.0),\n",
    "                 \"K1\": (2.0, 3.0), \"K2\":(3.2, 3.0), \"DeltaTheta1\" : (3.0, 5.0), \n",
    "                  \"DeltaTheta2\" : (4.0, 5.0), \"DeltaTheta3\" : (5.0, 5.0), \n",
    "                  \"DeltaTheta4\" : (6.0, 5.0), \"Alpha1\": (8.0, 10.0), \"Alpha2\": (10.0, 10.0),\n",
    "                  \"Alpha3\": (12.0, 10.0), \"Spindle1\": (12.0, 3.0), \"Spindle2\": (13.0, 3.0),\n",
    "                  \"Spindle3\": (14.0, 3.0), \"Spindle4\": (15.0, 3.0),\n",
    "                  \"Beta1\" : (16.0, 3.0), \"Beta2\" : (18.0, 3.0), \"Beta3\" : (20.0, 5.0),\n",
    "                  \"Gamma\" : (40.0, 5.0)\n",
    "                 }\n",
    "\n",
    "waveletsNames = {}\n",
    "\n",
    "for k in waveletsParams.keys():\n",
    "    waveletsNames[k] = 'cmor' + str(waveletsParams[k][1]) + '-'+ str(waveletsParams[k][0])\n",
    "    \n",
    "#vars()[k] = pywt.ContinuousWavelet('cmor' + str(wavelets[k][1]) + '-'+ str(wavelets[k][0]))\n"
   ]
  },
  {
   "cell_type": "code",
   "execution_count": 99,
   "metadata": {},
   "outputs": [
    {
     "data": {
      "text/plain": [
       "{'slow1': 'cmor3.0-0.7',\n",
       " 'slow2': 'cmor3.0-1.0',\n",
       " 'slow3': 'cmor3.0-1.5',\n",
       " 'slow4': 'cmor3.0-2.0',\n",
       " 'K1': 'cmor3.0-2.0',\n",
       " 'K2': 'cmor3.0-3.2',\n",
       " 'DeltaTheta1': 'cmor5.0-3.0',\n",
       " 'DeltaTheta2': 'cmor5.0-4.0',\n",
       " 'DeltaTheta3': 'cmor5.0-5.0',\n",
       " 'DeltaTheta4': 'cmor5.0-6.0',\n",
       " 'Alpha1': 'cmor10.0-8.0',\n",
       " 'Alpha2': 'cmor10.0-10.0',\n",
       " 'Alpha3': 'cmor10.0-12.0',\n",
       " 'Spindle1': 'cmor3.0-12.0',\n",
       " 'Spindle2': 'cmor3.0-13.0',\n",
       " 'Spindle3': 'cmor3.0-14.0',\n",
       " 'Spindle4': 'cmor3.0-15.0',\n",
       " 'Beta1': 'cmor3.0-16.0',\n",
       " 'Beta2': 'cmor3.0-18.0',\n",
       " 'Beta3': 'cmor5.0-20.0',\n",
       " 'Gamma': 'cmor5.0-40.0'}"
      ]
     },
     "execution_count": 99,
     "metadata": {},
     "output_type": "execute_result"
    }
   ],
   "source": [
    "waveletsNames"
   ]
  },
  {
   "cell_type": "code",
   "execution_count": 100,
   "metadata": {},
   "outputs": [
    {
     "name": "stdout",
     "output_type": "stream",
     "text": [
      "slow1 [0.6875]\n",
      "slow2 [1.]\n",
      "slow3 [1.5]\n",
      "slow4 [2.]\n",
      "K1 [2.]\n",
      "K2 [3.1875]\n",
      "DeltaTheta1 [3.]\n",
      "DeltaTheta2 [4.]\n",
      "DeltaTheta3 [5.]\n",
      "DeltaTheta4 [6.]\n",
      "Alpha1 [7.9375]\n",
      "Alpha2 [5.9375]\n",
      "Alpha3 [3.9375]\n",
      "Spindle1 [3.9375]\n",
      "Spindle2 [2.9375]\n",
      "Spindle3 [1.9375]\n",
      "Spindle4 [0.9375]\n",
      "Beta1 [0.0625]\n",
      "Beta2 [2.0625]\n",
      "Beta3 [4.0625]\n",
      "Gamma [7.8125]\n"
     ]
    }
   ],
   "source": [
    "for w in waveletsNames.keys():\n",
    "    frequencies = pywt.scale2frequency(waveletsNames[w], [125]) * 125\n",
    "    print(w, frequencies)"
   ]
  },
  {
   "cell_type": "code",
   "execution_count": 112,
   "metadata": {},
   "outputs": [
    {
     "data": {
      "text/plain": [
       "21"
      ]
     },
     "execution_count": 112,
     "metadata": {},
     "output_type": "execute_result"
    }
   ],
   "source": [
    "len(waveletsNames)"
   ]
  },
  {
   "cell_type": "code",
   "execution_count": null,
   "metadata": {},
   "outputs": [],
   "source": []
  },
  {
   "cell_type": "code",
   "execution_count": 101,
   "metadata": {},
   "outputs": [
    {
     "data": {
      "text/plain": [
       "array([250.        , 125.        ,  83.33333333,  62.5       ,\n",
       "        25.        ,   2.        ])"
      ]
     },
     "execution_count": 101,
     "metadata": {},
     "output_type": "execute_result"
    }
   ],
   "source": [
    "dt = 1/125  # 125 Hz sampling\n",
    "frequencies = pywt.scale2frequency('cmor1.5-2.0', [1, 2, 3, 4, 10, 125]) / dt\n",
    "frequencies"
   ]
  },
  {
   "cell_type": "markdown",
   "metadata": {},
   "source": [
    "features:\n",
    "- the power of the frequency- band power signal, \n",
    "- power of the time-domain signal, \n",
    "- power of the int\n",
    "- the Pearson correlation coefficient between each pair of frequency-band power signals\n",
    "- the autocorrelation in the time-domain signal for 50 time lags (i.e., up to 0.5 s).\n",
    "\n",
    "\n",
    "It is also very common to report the ratios between two frequency bands. For instance, the delta / beta ratio is a well-known index of slow-wave sleep quality."
   ]
  },
  {
   "cell_type": "code",
   "execution_count": 110,
   "metadata": {},
   "outputs": [
    {
     "data": {
      "text/plain": [
       "array([[0., 0., 0., ..., 0., 0., 0.],\n",
       "       [0., 0., 0., ..., 0., 0., 0.],\n",
       "       [0., 0., 0., ..., 0., 0., 0.],\n",
       "       ...,\n",
       "       [0., 0., 0., ..., 0., 0., 0.],\n",
       "       [0., 0., 0., ..., 0., 0., 0.],\n",
       "       [0., 0., 0., ..., 0., 0., 0.]])"
      ]
     },
     "execution_count": 110,
     "metadata": {},
     "output_type": "execute_result"
    }
   ],
   "source": [
    "np.reshape(np.zeros(eeg_1.shape[0]*eeg_1.shape[1]), eeg_1.shape)"
   ]
  },
  {
   "cell_type": "code",
   "execution_count": 102,
   "metadata": {
    "scrolled": false
   },
   "outputs": [],
   "source": [
    "coef, freqs=pywt.cwt(eeg_1.iloc[0, :],[125],'cmor3.0-1.0', sampling_period=1/125)\n",
    " "
   ]
  },
  {
   "cell_type": "code",
   "execution_count": 111,
   "metadata": {},
   "outputs": [
    {
     "name": "stdout",
     "output_type": "stream",
     "text": [
      "Wall time: 2min 33s\n"
     ]
    }
   ],
   "source": [
    "%%time\n",
    "df = pd.DataFrame(data=np.reshape(np.zeros(eeg_1.shape[0]*eeg_1.shape[1]), eeg_1.shape))\n",
    "for i in range(eeg_1.shape[0]):\n",
    "    coef, freqs=pywt.cwt(eeg_1.iloc[i, :],[125],'cmor3.0-1.0', sampling_period=1/125)\n",
    "    #slow2\n",
    "    df.iloc[i,:]= np.absolute(coef)\n",
    "df.head()    "
   ]
  },
  {
   "cell_type": "code",
   "execution_count": null,
   "metadata": {},
   "outputs": [],
   "source": [
    "output[output.label==2]"
   ]
  },
  {
   "cell_type": "code",
   "execution_count": 137,
   "metadata": {},
   "outputs": [
    {
     "name": "stdout",
     "output_type": "stream",
     "text": [
      "817934\n",
      "4118142\n"
     ]
    }
   ],
   "source": [
    "slow2_energy = df.sum(axis=1)\n",
    "tmp = slow2_energy[output.label==2].mean()\n",
    "print(round(tmp))\n",
    "print(round(slow2_energy[output.label!=2].mean()))"
   ]
  },
  {
   "cell_type": "code",
   "execution_count": 145,
   "metadata": {},
   "outputs": [
    {
     "name": "stdout",
     "output_type": "stream",
     "text": [
      "(43830, 3690)\n",
      "(43830, 3690)\n"
     ]
    }
   ],
   "source": [
    "print(df.iloc[:, 60:].shape)\n",
    "print(df.iloc[:, :-60].shape)"
   ]
  },
  {
   "cell_type": "code",
   "execution_count": 157,
   "metadata": {},
   "outputs": [
    {
     "name": "stdout",
     "output_type": "stream",
     "text": [
      "Wall time: 16.9 s\n"
     ]
    }
   ],
   "source": [
    "%%time\n",
    "L = []\n",
    "for i in range(df.shape[0]):\n",
    "    cor = pearsonr(df.iloc[i, 60:], df.iloc[i, :-60])[0]\n",
    "    L.append(cor)\n"
   ]
  },
  {
   "cell_type": "code",
   "execution_count": 162,
   "metadata": {},
   "outputs": [],
   "source": [
    "Sl = pd.Series(data=L)"
   ]
  },
  {
   "cell_type": "code",
   "execution_count": 165,
   "metadata": {},
   "outputs": [
    {
     "data": {
      "text/plain": [
       "309"
      ]
     },
     "execution_count": 165,
     "metadata": {},
     "output_type": "execute_result"
    }
   ],
   "source": [
    "len(Sl[Sl<0.8])"
   ]
  },
  {
   "cell_type": "code",
   "execution_count": 56,
   "metadata": {},
   "outputs": [
    {
     "data": {
      "text/plain": [
       "array([[4.6093805 , 4.6385601 , 4.64574815, ..., 7.57397567, 8.0222775 ,\n",
       "        8.25873899]])"
      ]
     },
     "execution_count": 56,
     "metadata": {},
     "output_type": "execute_result"
    }
   ],
   "source": [
    "np.absolute(coef)"
   ]
  },
  {
   "cell_type": "code",
   "execution_count": 55,
   "metadata": {},
   "outputs": [
    {
     "name": "stdout",
     "output_type": "stream",
     "text": [
      "1\n",
      "3750\n"
     ]
    },
    {
     "data": {
      "text/plain": [
       "array([ 0.42565298-4.58968497j, -2.1557035 -4.10721101j,\n",
       "       -4.17608752-2.03550213j, ...,  6.69861889+3.53463046j,\n",
       "        7.97446492-0.87455443j,  5.53321728-6.13109094j])"
      ]
     },
     "execution_count": 55,
     "metadata": {},
     "output_type": "execute_result"
    }
   ],
   "source": [
    "print(len(coef))\n",
    "print(len(coef[0]))\n",
    "coef[0]\n",
    "b"
   ]
  },
  {
   "cell_type": "code",
   "execution_count": 16,
   "metadata": {},
   "outputs": [],
   "source": [
    "import numpy as np\n",
    "import pywt\n",
    "import matplotlib.pyplot as plt\n",
    "\n",
    "wav = pywt.ContinuousWavelet('cmor1.5-1.0')"
   ]
  },
  {
   "cell_type": "code",
   "execution_count": 97,
   "metadata": {},
   "outputs": [
    {
     "name": "stdout",
     "output_type": "stream",
     "text": [
      "Continuous wavelet will be evaluated over the range [-8.0, 8.0]\n"
     ]
    },
    {
     "name": "stderr",
     "output_type": "stream",
     "text": [
      "C:\\Anaconda3\\lib\\site-packages\\mkl_fft\\_numpy_fft.py:158: FutureWarning: Using a non-tuple sequence for multidimensional indexing is deprecated; use `arr[tuple(seq)]` instead of `arr[seq]`. In the future this will be interpreted as an array index, `arr[np.array(seq)]`, which will result either in an error or a different result.\n",
      "  output = mkl_fft.fft(a, n, axis)\n"
     ]
    },
    {
     "data": {
      "text/plain": [
       "Text(0.5,1,'|FFT(filter)|$^2$')"
      ]
     },
     "execution_count": 97,
     "metadata": {},
     "output_type": "execute_result"
    },
    {
     "data": {
      "image/png": "[encoded data removed]",
      "text/plain": [
       "<Figure size 864x432 with 12 Axes>"
      ]
     },
     "metadata": {},
     "output_type": "display_data"
    }
   ],
   "source": [
    "import numpy as np\n",
    "import pywt\n",
    "import matplotlib.pyplot as plt\n",
    "\n",
    "#cmorB-C\"\n",
    "# 𝐵 is the bandwidth and 𝐶 is the center frequency (peak frequency)\n",
    "wav = pywt.ContinuousWavelet('cmor5.0-40.0')\n",
    "#pywt.ContinuousWavelet('cmor1.5-2.0')\n",
    "\n",
    "# print the range over which the wavelet will be evaluated\n",
    "print(\"Continuous wavelet will be evaluated over the range [{}, {}]\".format(\n",
    "    wav.lower_bound, wav.upper_bound))\n",
    "\n",
    "width = wav.upper_bound - wav.lower_bound\n",
    "\n",
    "#scales = [ 10, 15]\n",
    "scales = [1, 2, 3, 4, 10, 15]\n",
    "\n",
    "max_len = int(np.max(scales)*width + 1)\n",
    "t = np.arange(max_len)\n",
    "fig, axes = plt.subplots(len(scales), 2, figsize=(12, 6))\n",
    "for n, scale in enumerate(scales):\n",
    "\n",
    "    # The following code is adapted from the internals of cwt\n",
    "    int_psi, x = pywt.integrate_wavelet(wav, precision=10)\n",
    "    step = x[1] - x[0]\n",
    "    j = np.floor(\n",
    "        np.arange(scale * width + 1) / (scale * step))\n",
    "    if np.max(j) >= np.size(int_psi):\n",
    "        j = np.delete(j, np.where((j >= np.size(int_psi)))[0])\n",
    "    j = j.astype(np.int)\n",
    "\n",
    "    # normalize int_psi for easier plotting\n",
    "    int_psi /= np.abs(int_psi).max()\n",
    "\n",
    "    # discrete samples of the integrated wavelet\n",
    "    filt = int_psi[j][::-1]\n",
    "\n",
    "    # The CWT consists of convolution of filt with the signal at this scale\n",
    "    # Here we plot this discrete convolution kernel at each scale.\n",
    "\n",
    "    nt = len(filt)\n",
    "    t = np.linspace(-nt//2, nt//2, nt)\n",
    "    axes[n, 0].plot(t, filt.real, t, filt.imag)\n",
    "    axes[n, 0].set_xlim([-max_len//2, max_len//2])\n",
    "    axes[n, 0].set_ylim([-1, 1])\n",
    "    axes[n, 0].text(50, 0.35, 'scale = {}'.format(scale))\n",
    "\n",
    "    f = np.linspace(-np.pi, np.pi, max_len)\n",
    "    filt_fft = np.fft.fftshift(np.fft.fft(filt, n=max_len))\n",
    "    filt_fft /= np.abs(filt_fft).max()\n",
    "    axes[n, 1].plot(f, np.abs(filt_fft)**2)\n",
    "    axes[n, 1].set_xlim([-np.pi, np.pi])\n",
    "    axes[n, 1].set_ylim([0, 1])\n",
    "    axes[n, 1].set_xticks([-np.pi, 0, np.pi])\n",
    "    axes[n, 1].set_xticklabels([r'$-\\pi$', '0', r'$\\pi$'])\n",
    "    axes[n, 1].grid(True, axis='x')\n",
    "    axes[n, 1].text(np.pi/2, 0.5, 'scale = {}'.format(scale))\n",
    "\n",
    "axes[n, 0].set_xlabel('time (samples)')\n",
    "axes[n, 1].set_xlabel('frequency (radians)')\n",
    "axes[0, 0].legend(['real', 'imaginary'], loc='upper left')\n",
    "axes[0, 1].legend(['Power'], loc='upper left')\n",
    "axes[0, 0].set_title('filter')\n",
    "axes[0, 1].set_title(r'|FFT(filter)|$^2$')"
   ]
  },
  {
   "cell_type": "code",
   "execution_count": 13,
   "metadata": {},
   "outputs": [],
   "source": [
    "dt = 1/125  # 125 Hz sampling"
   ]
  },
  {
   "cell_type": "code",
   "execution_count": 23,
   "metadata": {},
   "outputs": [
    {
     "data": {
      "text/plain": [
       "array([125.        ,  62.5       ,  41.66666667,  31.25      ,\n",
       "        12.5       ,   1.        ])"
      ]
     },
     "execution_count": 23,
     "metadata": {},
     "output_type": "execute_result"
    }
   ],
   "source": [
    "frequencies = pywt.scale2frequency('cmor1.5-1.0', [1, 2, 3, 4, 10, 125]) / dt\n",
    "frequencies"
   ]
  },
  {
   "cell_type": "code",
   "execution_count": null,
   "metadata": {},
   "outputs": [],
   "source": []
  },
  {
   "cell_type": "code",
   "execution_count": null,
   "metadata": {},
   "outputs": [],
   "source": []
  },
  {
   "cell_type": "code",
   "execution_count": null,
   "metadata": {},
   "outputs": [],
   "source": []
  },
  {
   "cell_type": "code",
   "execution_count": null,
   "metadata": {},
   "outputs": [],
   "source": []
  },
  {
   "cell_type": "code",
   "execution_count": null,
   "metadata": {},
   "outputs": [],
   "source": []
  },
  {
   "cell_type": "code",
   "execution_count": null,
   "metadata": {},
   "outputs": [],
   "source": []
  },
  {
   "cell_type": "code",
   "execution_count": null,
   "metadata": {},
   "outputs": [],
   "source": []
  },
  {
   "cell_type": "code",
   "execution_count": null,
   "metadata": {},
   "outputs": [],
   "source": []
  },
  {
   "cell_type": "code",
   "execution_count": null,
   "metadata": {},
   "outputs": [],
   "source": []
  },
  {
   "cell_type": "code",
   "execution_count": null,
   "metadata": {},
   "outputs": [],
   "source": []
  },
  {
   "cell_type": "code",
   "execution_count": null,
   "metadata": {},
   "outputs": [],
   "source": []
  },
  {
   "cell_type": "code",
   "execution_count": null,
   "metadata": {},
   "outputs": [],
   "source": []
  },
  {
   "cell_type": "code",
   "execution_count": null,
   "metadata": {},
   "outputs": [],
   "source": []
  },
  {
   "cell_type": "code",
   "execution_count": null,
   "metadata": {},
   "outputs": [],
   "source": []
  },
  {
   "cell_type": "code",
   "execution_count": null,
   "metadata": {},
   "outputs": [],
   "source": []
  },
  {
   "cell_type": "code",
   "execution_count": null,
   "metadata": {},
   "outputs": [],
   "source": []
  },
  {
   "cell_type": "code",
   "execution_count": null,
   "metadata": {},
   "outputs": [],
   "source": []
  },
  {
   "cell_type": "code",
   "execution_count": null,
   "metadata": {},
   "outputs": [],
   "source": []
  },
  {
   "cell_type": "code",
   "execution_count": null,
   "metadata": {},
   "outputs": [],
   "source": []
  },
  {
   "cell_type": "code",
   "execution_count": null,
   "metadata": {},
   "outputs": [],
   "source": []
  },
  {
   "cell_type": "code",
   "execution_count": null,
   "metadata": {},
   "outputs": [],
   "source": []
  },
  {
   "cell_type": "code",
   "execution_count": null,
   "metadata": {},
   "outputs": [],
   "source": []
  },
  {
   "cell_type": "code",
   "execution_count": null,
   "metadata": {},
   "outputs": [],
   "source": []
  },
  {
   "cell_type": "code",
   "execution_count": null,
   "metadata": {},
   "outputs": [],
   "source": []
  },
  {
   "cell_type": "code",
   "execution_count": null,
   "metadata": {},
   "outputs": [],
   "source": []
  },
  {
   "cell_type": "code",
   "execution_count": null,
   "metadata": {},
   "outputs": [],
   "source": []
  },
  {
   "cell_type": "code",
   "execution_count": null,
   "metadata": {},
   "outputs": [],
   "source": []
  },
  {
   "cell_type": "code",
   "execution_count": null,
   "metadata": {},
   "outputs": [],
   "source": []
  },
  {
   "cell_type": "code",
   "execution_count": null,
   "metadata": {},
   "outputs": [],
   "source": []
  },
  {
   "cell_type": "code",
   "execution_count": null,
   "metadata": {},
   "outputs": [],
   "source": []
  },
  {
   "cell_type": "code",
   "execution_count": null,
   "metadata": {},
   "outputs": [],
   "source": []
  },
  {
   "cell_type": "code",
   "execution_count": null,
   "metadata": {},
   "outputs": [],
   "source": []
  },
  {
   "cell_type": "code",
   "execution_count": null,
   "metadata": {},
   "outputs": [],
   "source": []
  },
  {
   "cell_type": "code",
   "execution_count": null,
   "metadata": {},
   "outputs": [],
   "source": []
  },
  {
   "cell_type": "code",
   "execution_count": null,
   "metadata": {},
   "outputs": [],
   "source": []
  },
  {
   "cell_type": "code",
   "execution_count": null,
   "metadata": {},
   "outputs": [],
   "source": []
  },
  {
   "cell_type": "code",
   "execution_count": null,
   "metadata": {},
   "outputs": [],
   "source": []
  },
  {
   "cell_type": "code",
   "execution_count": null,
   "metadata": {},
   "outputs": [],
   "source": []
  },
  {
   "cell_type": "code",
   "execution_count": null,
   "metadata": {},
   "outputs": [],
   "source": []
  },
  {
   "cell_type": "code",
   "execution_count": null,
   "metadata": {},
   "outputs": [],
   "source": []
  },
  {
   "cell_type": "code",
   "execution_count": null,
   "metadata": {},
   "outputs": [],
   "source": []
  },
  {
   "cell_type": "code",
   "execution_count": null,
   "metadata": {},
   "outputs": [],
   "source": []
  },
  {
   "cell_type": "code",
   "execution_count": null,
   "metadata": {},
   "outputs": [],
   "source": []
  },
  {
   "cell_type": "code",
   "execution_count": null,
   "metadata": {},
   "outputs": [],
   "source": []
  }
 ],
 "metadata": {
  "kernelspec": {
   "display_name": "Python 3",
   "language": "python",
   "name": "python3"
  },
  "language_info": {
   "codemirror_mode": {
    "name": "ipython",
    "version": 3
   },
   "file_extension": ".py",
   "mimetype": "text/x-python",
   "name": "python",
   "nbconvert_exporter": "python",
   "pygments_lexer": "ipython3",
   "version": "3.6.6"
  }
 },
 "nbformat": 4,
 "nbformat_minor": 2
}
